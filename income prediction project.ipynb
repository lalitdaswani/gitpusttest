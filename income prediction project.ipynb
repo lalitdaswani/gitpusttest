{
 "cells": [
  {
   "cell_type": "code",
   "execution_count": 97,
   "metadata": {},
   "outputs": [],
   "source": [
    "import pandas as pd\n",
    "import numpy as np\n",
    "import seaborn as sns\n",
    "import matplotlib.pyplot as plt\n",
    "import math\n",
    "from pandas .plotting import scatter_matrix\n",
    "%matplotlib inline"
   ]
  },
  {
   "cell_type": "code",
   "execution_count": 98,
   "metadata": {},
   "outputs": [],
   "source": [
    "train_set = pd.read_csv('http://archive.ics.uci.edu/ml/machine-learning-databases/adult/adult.data',na_values=\"?\")\n",
    "\n",
    "test_set = pd.read_csv('http://archive.ics.uci.edu/ml/machine-learning-databases/adult/adult.test', skiprows = 1,na_values=\"?\")\n",
    "\n",
    "# extracting  the column names\n",
    "col_labels = ['age', 'workclass', 'fnlwgt', 'education', 'education_num', 'marital_status',\n",
    "'occupation','relationship', 'race', 'sex', 'capital_gain', 'capital_loss', 'hours_per_week',\n",
    "'native_country', 'wage_class']\n",
    "train_set.columns = col_labels\n",
    "test_set.columns = col_labels"
   ]
  },
  {
   "cell_type": "code",
   "execution_count": 99,
   "metadata": {},
   "outputs": [
    {
     "data": {
      "text/plain": [
       "Index(['age', 'workclass', 'fnlwgt', 'education', 'education_num',\n",
       "       'marital_status', 'occupation', 'relationship', 'race', 'sex',\n",
       "       'capital_gain', 'capital_loss', 'hours_per_week', 'native_country',\n",
       "       'wage_class'],\n",
       "      dtype='object')"
      ]
     },
     "execution_count": 99,
     "metadata": {},
     "output_type": "execute_result"
    }
   ],
   "source": [
    "test_set.columns"
   ]
  },
  {
   "cell_type": "code",
   "execution_count": 100,
   "metadata": {},
   "outputs": [],
   "source": [
    "col_labels = ['age', 'workclass', 'fnlwgt', 'education', 'education_num', 'marital_status',\n",
    "              'occupation', 'relationship', 'race', 'sex', 'capital_gain', 'capital_loss', \n",
    "              'hours_per_week', 'native_country', 'wage_class']\n",
    "train_set.columns = col_labels\n",
    "test_set.columns = col_labels"
   ]
  },
  {
   "cell_type": "code",
   "execution_count": 101,
   "metadata": {},
   "outputs": [
    {
     "data": {
      "text/plain": [
       "((32560, 15), (16280, 15))"
      ]
     },
     "execution_count": 101,
     "metadata": {},
     "output_type": "execute_result"
    }
   ],
   "source": [
    "train_set.shape, test_set.shape"
   ]
  },
  {
   "cell_type": "code",
   "execution_count": 102,
   "metadata": {},
   "outputs": [
    {
     "data": {
      "application/vnd.microsoft.datawrangler.viewer.v0+json": {
       "columns": [
        {
         "name": "index",
         "rawType": "int64",
         "type": "integer"
        },
        {
         "name": "age",
         "rawType": "int64",
         "type": "integer"
        },
        {
         "name": "workclass",
         "rawType": "object",
         "type": "string"
        },
        {
         "name": "fnlwgt",
         "rawType": "int64",
         "type": "integer"
        },
        {
         "name": "education",
         "rawType": "object",
         "type": "string"
        },
        {
         "name": "education_num",
         "rawType": "int64",
         "type": "integer"
        },
        {
         "name": "marital_status",
         "rawType": "object",
         "type": "string"
        },
        {
         "name": "occupation",
         "rawType": "object",
         "type": "string"
        },
        {
         "name": "relationship",
         "rawType": "object",
         "type": "string"
        },
        {
         "name": "race",
         "rawType": "object",
         "type": "string"
        },
        {
         "name": "sex",
         "rawType": "object",
         "type": "string"
        },
        {
         "name": "capital_gain",
         "rawType": "int64",
         "type": "integer"
        },
        {
         "name": "capital_loss",
         "rawType": "int64",
         "type": "integer"
        },
        {
         "name": "hours_per_week",
         "rawType": "int64",
         "type": "integer"
        },
        {
         "name": "native_country",
         "rawType": "object",
         "type": "string"
        },
        {
         "name": "wage_class",
         "rawType": "object",
         "type": "string"
        }
       ],
       "conversionMethod": "pd.DataFrame",
       "ref": "38a23233-0e95-4772-83ee-36cc85cb7968",
       "rows": [
        [
         "14160",
         "38",
         " Private",
         "680390",
         " HS-grad",
         "9",
         " Divorced",
         " Adm-clerical",
         " Unmarried",
         " White",
         " Female",
         "0",
         "0",
         "20",
         " United-States",
         " <=50K"
        ],
        [
         "27047",
         "45",
         " State-gov",
         "50567",
         " HS-grad",
         "9",
         " Married-civ-spouse",
         " Exec-managerial",
         " Wife",
         " White",
         " Female",
         "0",
         "0",
         "40",
         " United-States",
         " <=50K"
        ],
        [
         "28867",
         "29",
         " Private",
         "185908",
         " Bachelors",
         "13",
         " Married-civ-spouse",
         " Exec-managerial",
         " Husband",
         " Black",
         " Male",
         "0",
         "0",
         "55",
         " United-States",
         " >50K"
        ],
        [
         "5667",
         "51",
         " Private",
         "306108",
         " Doctorate",
         "16",
         " Never-married",
         " Prof-specialty",
         " Not-in-family",
         " White",
         " Male",
         "0",
         "0",
         "40",
         " United-States",
         " >50K"
        ]
       ],
       "shape": {
        "columns": 15,
        "rows": 4
       }
      },
      "text/html": [
       "<div>\n",
       "<style scoped>\n",
       "    .dataframe tbody tr th:only-of-type {\n",
       "        vertical-align: middle;\n",
       "    }\n",
       "\n",
       "    .dataframe tbody tr th {\n",
       "        vertical-align: top;\n",
       "    }\n",
       "\n",
       "    .dataframe thead th {\n",
       "        text-align: right;\n",
       "    }\n",
       "</style>\n",
       "<table border=\"1\" class=\"dataframe\">\n",
       "  <thead>\n",
       "    <tr style=\"text-align: right;\">\n",
       "      <th></th>\n",
       "      <th>age</th>\n",
       "      <th>workclass</th>\n",
       "      <th>fnlwgt</th>\n",
       "      <th>education</th>\n",
       "      <th>education_num</th>\n",
       "      <th>marital_status</th>\n",
       "      <th>occupation</th>\n",
       "      <th>relationship</th>\n",
       "      <th>race</th>\n",
       "      <th>sex</th>\n",
       "      <th>capital_gain</th>\n",
       "      <th>capital_loss</th>\n",
       "      <th>hours_per_week</th>\n",
       "      <th>native_country</th>\n",
       "      <th>wage_class</th>\n",
       "    </tr>\n",
       "  </thead>\n",
       "  <tbody>\n",
       "    <tr>\n",
       "      <th>14160</th>\n",
       "      <td>38</td>\n",
       "      <td>Private</td>\n",
       "      <td>680390</td>\n",
       "      <td>HS-grad</td>\n",
       "      <td>9</td>\n",
       "      <td>Divorced</td>\n",
       "      <td>Adm-clerical</td>\n",
       "      <td>Unmarried</td>\n",
       "      <td>White</td>\n",
       "      <td>Female</td>\n",
       "      <td>0</td>\n",
       "      <td>0</td>\n",
       "      <td>20</td>\n",
       "      <td>United-States</td>\n",
       "      <td>&lt;=50K</td>\n",
       "    </tr>\n",
       "    <tr>\n",
       "      <th>27047</th>\n",
       "      <td>45</td>\n",
       "      <td>State-gov</td>\n",
       "      <td>50567</td>\n",
       "      <td>HS-grad</td>\n",
       "      <td>9</td>\n",
       "      <td>Married-civ-spouse</td>\n",
       "      <td>Exec-managerial</td>\n",
       "      <td>Wife</td>\n",
       "      <td>White</td>\n",
       "      <td>Female</td>\n",
       "      <td>0</td>\n",
       "      <td>0</td>\n",
       "      <td>40</td>\n",
       "      <td>United-States</td>\n",
       "      <td>&lt;=50K</td>\n",
       "    </tr>\n",
       "    <tr>\n",
       "      <th>28867</th>\n",
       "      <td>29</td>\n",
       "      <td>Private</td>\n",
       "      <td>185908</td>\n",
       "      <td>Bachelors</td>\n",
       "      <td>13</td>\n",
       "      <td>Married-civ-spouse</td>\n",
       "      <td>Exec-managerial</td>\n",
       "      <td>Husband</td>\n",
       "      <td>Black</td>\n",
       "      <td>Male</td>\n",
       "      <td>0</td>\n",
       "      <td>0</td>\n",
       "      <td>55</td>\n",
       "      <td>United-States</td>\n",
       "      <td>&gt;50K</td>\n",
       "    </tr>\n",
       "    <tr>\n",
       "      <th>5667</th>\n",
       "      <td>51</td>\n",
       "      <td>Private</td>\n",
       "      <td>306108</td>\n",
       "      <td>Doctorate</td>\n",
       "      <td>16</td>\n",
       "      <td>Never-married</td>\n",
       "      <td>Prof-specialty</td>\n",
       "      <td>Not-in-family</td>\n",
       "      <td>White</td>\n",
       "      <td>Male</td>\n",
       "      <td>0</td>\n",
       "      <td>0</td>\n",
       "      <td>40</td>\n",
       "      <td>United-States</td>\n",
       "      <td>&gt;50K</td>\n",
       "    </tr>\n",
       "  </tbody>\n",
       "</table>\n",
       "</div>"
      ],
      "text/plain": [
       "       age   workclass  fnlwgt   education  education_num  \\\n",
       "14160   38     Private  680390     HS-grad              9   \n",
       "27047   45   State-gov   50567     HS-grad              9   \n",
       "28867   29     Private  185908   Bachelors             13   \n",
       "5667    51     Private  306108   Doctorate             16   \n",
       "\n",
       "            marital_status        occupation    relationship    race      sex  \\\n",
       "14160             Divorced      Adm-clerical       Unmarried   White   Female   \n",
       "27047   Married-civ-spouse   Exec-managerial            Wife   White   Female   \n",
       "28867   Married-civ-spouse   Exec-managerial         Husband   Black     Male   \n",
       "5667         Never-married    Prof-specialty   Not-in-family   White     Male   \n",
       "\n",
       "       capital_gain  capital_loss  hours_per_week  native_country wage_class  \n",
       "14160             0             0              20   United-States      <=50K  \n",
       "27047             0             0              40   United-States      <=50K  \n",
       "28867             0             0              55   United-States       >50K  \n",
       "5667              0             0              40   United-States       >50K  "
      ]
     },
     "execution_count": 102,
     "metadata": {},
     "output_type": "execute_result"
    }
   ],
   "source": [
    "train_set.sample(4,random_state=42 )"
   ]
  },
  {
   "cell_type": "code",
   "execution_count": 103,
   "metadata": {},
   "outputs": [
    {
     "data": {
      "application/vnd.microsoft.datawrangler.viewer.v0+json": {
       "columns": [
        {
         "name": "index",
         "rawType": "int64",
         "type": "integer"
        },
        {
         "name": "age",
         "rawType": "int64",
         "type": "integer"
        },
        {
         "name": "workclass",
         "rawType": "object",
         "type": "string"
        },
        {
         "name": "fnlwgt",
         "rawType": "int64",
         "type": "integer"
        },
        {
         "name": "education",
         "rawType": "object",
         "type": "string"
        },
        {
         "name": "education_num",
         "rawType": "int64",
         "type": "integer"
        },
        {
         "name": "marital_status",
         "rawType": "object",
         "type": "string"
        },
        {
         "name": "occupation",
         "rawType": "object",
         "type": "string"
        },
        {
         "name": "relationship",
         "rawType": "object",
         "type": "string"
        },
        {
         "name": "race",
         "rawType": "object",
         "type": "string"
        },
        {
         "name": "sex",
         "rawType": "object",
         "type": "string"
        },
        {
         "name": "capital_gain",
         "rawType": "int64",
         "type": "integer"
        },
        {
         "name": "capital_loss",
         "rawType": "int64",
         "type": "integer"
        },
        {
         "name": "hours_per_week",
         "rawType": "int64",
         "type": "integer"
        },
        {
         "name": "native_country",
         "rawType": "object",
         "type": "string"
        },
        {
         "name": "wage_class",
         "rawType": "object",
         "type": "string"
        }
       ],
       "conversionMethod": "pd.DataFrame",
       "ref": "6e36eec5-256f-40b8-91f1-9ef1bf9af445",
       "rows": [
        [
         "13633",
         "39",
         " Private",
         "82726",
         " Some-college",
         "10",
         " Married-civ-spouse",
         " Sales",
         " Wife",
         " White",
         " Female",
         "0",
         "0",
         "40",
         " United-States",
         " <=50K."
        ],
        [
         "1921",
         "20",
         " Private",
         "223811",
         " HS-grad",
         "9",
         " Never-married",
         " Other-service",
         " Own-child",
         " White",
         " Male",
         "0",
         "0",
         "23",
         " United-States",
         " <=50K."
        ],
        [
         "12140",
         "35",
         " Private",
         "111635",
         " HS-grad",
         "9",
         " Married-civ-spouse",
         " Other-service",
         " Husband",
         " White",
         " Male",
         "0",
         "0",
         "40",
         " United-States",
         " <=50K."
        ],
        [
         "9933",
         "25",
         " Private",
         "121789",
         " Some-college",
         "10",
         " Never-married",
         " Sales",
         " Not-in-family",
         " White",
         " Male",
         "0",
         "0",
         "38",
         " United-States",
         " <=50K."
        ]
       ],
       "shape": {
        "columns": 15,
        "rows": 4
       }
      },
      "text/html": [
       "<div>\n",
       "<style scoped>\n",
       "    .dataframe tbody tr th:only-of-type {\n",
       "        vertical-align: middle;\n",
       "    }\n",
       "\n",
       "    .dataframe tbody tr th {\n",
       "        vertical-align: top;\n",
       "    }\n",
       "\n",
       "    .dataframe thead th {\n",
       "        text-align: right;\n",
       "    }\n",
       "</style>\n",
       "<table border=\"1\" class=\"dataframe\">\n",
       "  <thead>\n",
       "    <tr style=\"text-align: right;\">\n",
       "      <th></th>\n",
       "      <th>age</th>\n",
       "      <th>workclass</th>\n",
       "      <th>fnlwgt</th>\n",
       "      <th>education</th>\n",
       "      <th>education_num</th>\n",
       "      <th>marital_status</th>\n",
       "      <th>occupation</th>\n",
       "      <th>relationship</th>\n",
       "      <th>race</th>\n",
       "      <th>sex</th>\n",
       "      <th>capital_gain</th>\n",
       "      <th>capital_loss</th>\n",
       "      <th>hours_per_week</th>\n",
       "      <th>native_country</th>\n",
       "      <th>wage_class</th>\n",
       "    </tr>\n",
       "  </thead>\n",
       "  <tbody>\n",
       "    <tr>\n",
       "      <th>13633</th>\n",
       "      <td>39</td>\n",
       "      <td>Private</td>\n",
       "      <td>82726</td>\n",
       "      <td>Some-college</td>\n",
       "      <td>10</td>\n",
       "      <td>Married-civ-spouse</td>\n",
       "      <td>Sales</td>\n",
       "      <td>Wife</td>\n",
       "      <td>White</td>\n",
       "      <td>Female</td>\n",
       "      <td>0</td>\n",
       "      <td>0</td>\n",
       "      <td>40</td>\n",
       "      <td>United-States</td>\n",
       "      <td>&lt;=50K.</td>\n",
       "    </tr>\n",
       "    <tr>\n",
       "      <th>1921</th>\n",
       "      <td>20</td>\n",
       "      <td>Private</td>\n",
       "      <td>223811</td>\n",
       "      <td>HS-grad</td>\n",
       "      <td>9</td>\n",
       "      <td>Never-married</td>\n",
       "      <td>Other-service</td>\n",
       "      <td>Own-child</td>\n",
       "      <td>White</td>\n",
       "      <td>Male</td>\n",
       "      <td>0</td>\n",
       "      <td>0</td>\n",
       "      <td>23</td>\n",
       "      <td>United-States</td>\n",
       "      <td>&lt;=50K.</td>\n",
       "    </tr>\n",
       "    <tr>\n",
       "      <th>12140</th>\n",
       "      <td>35</td>\n",
       "      <td>Private</td>\n",
       "      <td>111635</td>\n",
       "      <td>HS-grad</td>\n",
       "      <td>9</td>\n",
       "      <td>Married-civ-spouse</td>\n",
       "      <td>Other-service</td>\n",
       "      <td>Husband</td>\n",
       "      <td>White</td>\n",
       "      <td>Male</td>\n",
       "      <td>0</td>\n",
       "      <td>0</td>\n",
       "      <td>40</td>\n",
       "      <td>United-States</td>\n",
       "      <td>&lt;=50K.</td>\n",
       "    </tr>\n",
       "    <tr>\n",
       "      <th>9933</th>\n",
       "      <td>25</td>\n",
       "      <td>Private</td>\n",
       "      <td>121789</td>\n",
       "      <td>Some-college</td>\n",
       "      <td>10</td>\n",
       "      <td>Never-married</td>\n",
       "      <td>Sales</td>\n",
       "      <td>Not-in-family</td>\n",
       "      <td>White</td>\n",
       "      <td>Male</td>\n",
       "      <td>0</td>\n",
       "      <td>0</td>\n",
       "      <td>38</td>\n",
       "      <td>United-States</td>\n",
       "      <td>&lt;=50K.</td>\n",
       "    </tr>\n",
       "  </tbody>\n",
       "</table>\n",
       "</div>"
      ],
      "text/plain": [
       "       age workclass  fnlwgt      education  education_num  \\\n",
       "13633   39   Private   82726   Some-college             10   \n",
       "1921    20   Private  223811        HS-grad              9   \n",
       "12140   35   Private  111635        HS-grad              9   \n",
       "9933    25   Private  121789   Some-college             10   \n",
       "\n",
       "            marital_status      occupation    relationship    race      sex  \\\n",
       "13633   Married-civ-spouse           Sales            Wife   White   Female   \n",
       "1921         Never-married   Other-service       Own-child   White     Male   \n",
       "12140   Married-civ-spouse   Other-service         Husband   White     Male   \n",
       "9933         Never-married           Sales   Not-in-family   White     Male   \n",
       "\n",
       "       capital_gain  capital_loss  hours_per_week  native_country wage_class  \n",
       "13633             0             0              40   United-States     <=50K.  \n",
       "1921              0             0              23   United-States     <=50K.  \n",
       "12140             0             0              40   United-States     <=50K.  \n",
       "9933              0             0              38   United-States     <=50K.  "
      ]
     },
     "execution_count": 103,
     "metadata": {},
     "output_type": "execute_result"
    }
   ],
   "source": [
    "test_set.sample(4,random_state=42 )"
   ]
  },
  {
   "cell_type": "code",
   "execution_count": 104,
   "metadata": {},
   "outputs": [
    {
     "data": {
      "text/plain": [
       "age               0\n",
       "workclass         0\n",
       "fnlwgt            0\n",
       "education         0\n",
       "education_num     0\n",
       "marital_status    0\n",
       "occupation        0\n",
       "relationship      0\n",
       "race              0\n",
       "sex               0\n",
       "capital_gain      0\n",
       "capital_loss      0\n",
       "hours_per_week    0\n",
       "native_country    0\n",
       "wage_class        0\n",
       "dtype: int64"
      ]
     },
     "execution_count": 104,
     "metadata": {},
     "output_type": "execute_result"
    }
   ],
   "source": [
    "\n",
    "train_set.isnull().sum()"
   ]
  },
  {
   "cell_type": "code",
   "execution_count": 105,
   "metadata": {},
   "outputs": [
    {
     "data": {
      "application/vnd.microsoft.datawrangler.viewer.v0+json": {
       "columns": [
        {
         "name": "index",
         "rawType": "object",
         "type": "string"
        },
        {
         "name": "train_set",
         "rawType": "object",
         "type": "string"
        },
        {
         "name": "test_set",
         "rawType": "object",
         "type": "string"
        }
       ],
       "conversionMethod": "pd.DataFrame",
       "ref": "97a2722e-fde4-435b-a11a-9023af3853fd",
       "rows": [
        [
         "age",
         "int64",
         "int64"
        ],
        [
         "workclass",
         "object",
         "object"
        ],
        [
         "fnlwgt",
         "int64",
         "int64"
        ],
        [
         "education",
         "object",
         "object"
        ],
        [
         "education_num",
         "int64",
         "int64"
        ],
        [
         "marital_status",
         "object",
         "object"
        ],
        [
         "occupation",
         "object",
         "object"
        ],
        [
         "relationship",
         "object",
         "object"
        ],
        [
         "race",
         "object",
         "object"
        ],
        [
         "sex",
         "object",
         "object"
        ],
        [
         "capital_gain",
         "int64",
         "int64"
        ],
        [
         "capital_loss",
         "int64",
         "int64"
        ],
        [
         "hours_per_week",
         "int64",
         "int64"
        ],
        [
         "native_country",
         "object",
         "object"
        ],
        [
         "wage_class",
         "object",
         "object"
        ]
       ],
       "shape": {
        "columns": 2,
        "rows": 15
       }
      },
      "text/html": [
       "<div>\n",
       "<style scoped>\n",
       "    .dataframe tbody tr th:only-of-type {\n",
       "        vertical-align: middle;\n",
       "    }\n",
       "\n",
       "    .dataframe tbody tr th {\n",
       "        vertical-align: top;\n",
       "    }\n",
       "\n",
       "    .dataframe thead th {\n",
       "        text-align: right;\n",
       "    }\n",
       "</style>\n",
       "<table border=\"1\" class=\"dataframe\">\n",
       "  <thead>\n",
       "    <tr style=\"text-align: right;\">\n",
       "      <th></th>\n",
       "      <th>train_set</th>\n",
       "      <th>test_set</th>\n",
       "    </tr>\n",
       "  </thead>\n",
       "  <tbody>\n",
       "    <tr>\n",
       "      <th>age</th>\n",
       "      <td>int64</td>\n",
       "      <td>int64</td>\n",
       "    </tr>\n",
       "    <tr>\n",
       "      <th>workclass</th>\n",
       "      <td>object</td>\n",
       "      <td>object</td>\n",
       "    </tr>\n",
       "    <tr>\n",
       "      <th>fnlwgt</th>\n",
       "      <td>int64</td>\n",
       "      <td>int64</td>\n",
       "    </tr>\n",
       "    <tr>\n",
       "      <th>education</th>\n",
       "      <td>object</td>\n",
       "      <td>object</td>\n",
       "    </tr>\n",
       "    <tr>\n",
       "      <th>education_num</th>\n",
       "      <td>int64</td>\n",
       "      <td>int64</td>\n",
       "    </tr>\n",
       "    <tr>\n",
       "      <th>marital_status</th>\n",
       "      <td>object</td>\n",
       "      <td>object</td>\n",
       "    </tr>\n",
       "    <tr>\n",
       "      <th>occupation</th>\n",
       "      <td>object</td>\n",
       "      <td>object</td>\n",
       "    </tr>\n",
       "    <tr>\n",
       "      <th>relationship</th>\n",
       "      <td>object</td>\n",
       "      <td>object</td>\n",
       "    </tr>\n",
       "    <tr>\n",
       "      <th>race</th>\n",
       "      <td>object</td>\n",
       "      <td>object</td>\n",
       "    </tr>\n",
       "    <tr>\n",
       "      <th>sex</th>\n",
       "      <td>object</td>\n",
       "      <td>object</td>\n",
       "    </tr>\n",
       "    <tr>\n",
       "      <th>capital_gain</th>\n",
       "      <td>int64</td>\n",
       "      <td>int64</td>\n",
       "    </tr>\n",
       "    <tr>\n",
       "      <th>capital_loss</th>\n",
       "      <td>int64</td>\n",
       "      <td>int64</td>\n",
       "    </tr>\n",
       "    <tr>\n",
       "      <th>hours_per_week</th>\n",
       "      <td>int64</td>\n",
       "      <td>int64</td>\n",
       "    </tr>\n",
       "    <tr>\n",
       "      <th>native_country</th>\n",
       "      <td>object</td>\n",
       "      <td>object</td>\n",
       "    </tr>\n",
       "    <tr>\n",
       "      <th>wage_class</th>\n",
       "      <td>object</td>\n",
       "      <td>object</td>\n",
       "    </tr>\n",
       "  </tbody>\n",
       "</table>\n",
       "</div>"
      ],
      "text/plain": [
       "               train_set test_set\n",
       "age                int64    int64\n",
       "workclass         object   object\n",
       "fnlwgt             int64    int64\n",
       "education         object   object\n",
       "education_num      int64    int64\n",
       "marital_status    object   object\n",
       "occupation        object   object\n",
       "relationship      object   object\n",
       "race              object   object\n",
       "sex               object   object\n",
       "capital_gain       int64    int64\n",
       "capital_loss       int64    int64\n",
       "hours_per_week     int64    int64\n",
       "native_country    object   object\n",
       "wage_class        object   object"
      ]
     },
     "execution_count": 105,
     "metadata": {},
     "output_type": "execute_result"
    }
   ],
   "source": [
    "pd.DataFrame([train_set.dtypes,test_set.dtypes],index=[\"train_set\",\"test_set\"]).T"
   ]
  },
  {
   "cell_type": "code",
   "execution_count": 106,
   "metadata": {},
   "outputs": [
    {
     "name": "stdout",
     "output_type": "stream",
     "text": [
      "workclass\n",
      "education\n",
      "marital_status\n",
      "occupation\n",
      "relationship\n",
      "race\n",
      "sex\n",
      "native_country\n",
      "wage_class\n"
     ]
    }
   ],
   "source": [
    "for i in train_set.columns:\n",
    "    if train_set[i].dtypes==\"object\" :\n",
    "        print(i)\n",
    "        "
   ]
  },
  {
   "cell_type": "code",
   "execution_count": 107,
   "metadata": {},
   "outputs": [
    {
     "data": {
      "text/plain": [
       " Private             22696\n",
       " Self-emp-not-inc     2541\n",
       " Local-gov            2093\n",
       " ?                    1836\n",
       " State-gov            1297\n",
       " Self-emp-inc         1116\n",
       " Federal-gov           960\n",
       " Without-pay            14\n",
       " Never-worked            7\n",
       "Name: workclass, dtype: int64"
      ]
     },
     "execution_count": 107,
     "metadata": {},
     "output_type": "execute_result"
    }
   ],
   "source": [
    "\n",
    "train_set.workclass.value_counts()"
   ]
  },
  {
   "cell_type": "code",
   "execution_count": 108,
   "metadata": {},
   "outputs": [
    {
     "data": {
      "text/plain": [
       " Private             22696\n",
       " Self-emp-not-inc     2541\n",
       " Local-gov            2093\n",
       " ?                    1836\n",
       " State-gov            1297\n",
       " Self-emp-inc         1116\n",
       " Federal-gov           960\n",
       " Without-pay            14\n",
       " Never-worked            7\n",
       "Name: workclass, dtype: int64"
      ]
     },
     "execution_count": 108,
     "metadata": {},
     "output_type": "execute_result"
    }
   ],
   "source": [
    "# will? will create issue\n",
    "\n",
    "train_set.workclass.value_counts()"
   ]
  },
  {
   "cell_type": "code",
   "execution_count": 109,
   "metadata": {},
   "outputs": [
    {
     "ename": "SyntaxError",
     "evalue": "invalid syntax (2315648373.py, line 1)",
     "output_type": "error",
     "traceback": [
      "\u001b[1;36m  Input \u001b[1;32mIn [109]\u001b[1;36m\u001b[0m\n\u001b[1;33m    train_set.native_cou                                                                                                                                                                                                                                                                                                                                                                                                                                                                                                                                                                                                                                                                                                                                                                                                                                                                                                                                                                                    ntry.value_counts()\u001b[0m\n\u001b[1;37m                                                                                                                                                                                                                                                                                                                                                                                                                                                                                                                                                                                                                                                                                                                                                                                                                                                                                                                                                                                                            ^\u001b[0m\n\u001b[1;31mSyntaxError\u001b[0m\u001b[1;31m:\u001b[0m invalid syntax\n"
     ]
    }
   ],
   "source": [
    "train_set.native_cou                                                                                                                                                                                                                                                                                                                                                                                                                                                                                                                                                                                                                                                                                                                                                                                                                                                                                                                                                                                    ntry.value_counts()"
   ]
  },
  {
   "cell_type": "code",
   "execution_count": null,
   "metadata": {},
   "outputs": [
    {
     "data": {
      "text/plain": [
       "age               0\n",
       "workclass         0\n",
       "fnlwgt            0\n",
       "education         0\n",
       "education_num     0\n",
       "marital_status    0\n",
       "occupation        0\n",
       "relationship      0\n",
       "race              0\n",
       "sex               0\n",
       "capital_gain      0\n",
       "capital_loss      0\n",
       "hours_per_week    0\n",
       "native_country    0\n",
       "wage_class        0\n",
       "dtype: int64"
      ]
     },
     "execution_count": 67,
     "metadata": {},
     "output_type": "execute_result"
    }
   ],
   "source": [
    "train_set.isnull().sum()"
   ]
  },
  {
   "cell_type": "code",
   "execution_count": null,
   "metadata": {},
   "outputs": [
    {
     "data": {
      "text/plain": [
       " Husband           13193\n",
       " Not-in-family      8304\n",
       " Own-child          5068\n",
       " Unmarried          3446\n",
       " Wife               1568\n",
       " Other-relative      981\n",
       "Name: relationship, dtype: int64"
      ]
     },
     "execution_count": 14,
     "metadata": {},
     "output_type": "execute_result"
    }
   ],
   "source": [
    "train_set.relationship.value_counts()"
   ]
  },
  {
   "cell_type": "code",
   "execution_count": null,
   "metadata": {},
   "outputs": [],
   "source": [
    "# #yeh dekhne ke liye ki kaunsi category zyada common hai dataset mein.\n",
    "# Agar dataset imbalanced hai, toh model biased ho sakta hai.\n",
    "# Feature engineering ya encoding se pehle categorical distribution samajhna zaroori hota hai."
   ]
  },
  {
   "cell_type": "code",
   "execution_count": null,
   "metadata": {},
   "outputs": [
    {
     "data": {
      "text/plain": [
       "(9, 16, 7, 42)"
      ]
     },
     "execution_count": 16,
     "metadata": {},
     "output_type": "execute_result"
    }
   ],
   "source": [
    "train_set.workclass.nunique(),train_set.education.nunique(),train_set.marital_status.nunique(),train_set.native_country.nunique()\n",
    "# # categorical columns ki unique values count karta hai.\n",
    "\n",
    "# 🔹 Purpose:\n",
    "\n",
    "# Yeh dekhne ke liye ki kitni unique categories hain har column mein.\n",
    "# Yeh decide karne ke liye ki feature encoding kaise karein (One-Hot Encoding ya Label Encoding)"
   ]
  },
  {
   "cell_type": "code",
   "execution_count": null,
   "metadata": {},
   "outputs": [],
   "source": [
    "# Encoding categorical variables (One-Hot Encoding ya Label Encoding)"
   ]
  },
  {
   "cell_type": "code",
   "execution_count": null,
   "metadata": {},
   "outputs": [],
   "source": [
    "X_train = train_set.copy()\n",
    "X_test = test_set.copy()"
   ]
  },
  {
   "cell_type": "code",
   "execution_count": null,
   "metadata": {},
   "outputs": [
    {
     "data": {
      "text/plain": [
       "Index(['age', 'workclass', 'fnlwgt', 'education', 'education_num',\n",
       "       'marital_status', 'occupation', 'relationship', 'race', 'sex',\n",
       "       'capital_gain', 'capital_loss', 'hours_per_week', 'native_country',\n",
       "       'wage_class'],\n",
       "      dtype='object')"
      ]
     },
     "execution_count": 19,
     "metadata": {},
     "output_type": "execute_result"
    }
   ],
   "source": [
    "X_train.columns"
   ]
  },
  {
   "cell_type": "code",
   "execution_count": null,
   "metadata": {},
   "outputs": [
    {
     "name": "stderr",
     "output_type": "stream",
     "text": [
      "C:\\Users\\lalit\\AppData\\Local\\Temp\\ipykernel_10172\\2024241424.py:1: FutureWarning: The frame.append method is deprecated and will be removed from pandas in a future version. Use pandas.concat instead.\n",
      "  Sample = X_train.append(X_test)\n"
     ]
    },
    {
     "data": {
      "text/plain": [
       "Index(['age', 'workclass', 'fnlwgt', 'education', 'education_num',\n",
       "       'marital_status', 'occupation', 'relationship', 'race', 'sex',\n",
       "       'capital_gain', 'capital_loss', 'hours_per_week', 'native_country',\n",
       "       'wage_class'],\n",
       "      dtype='object')"
      ]
     },
     "execution_count": 20,
     "metadata": {},
     "output_type": "execute_result"
    }
   ],
   "source": [
    "Sample = X_train.append(X_test)\n",
    "Sample.columns\n",
    "# Why Was This Done?\n",
    "# 🔹 1. Data Preprocessing aur Encoding ke liye\n",
    "\n",
    "# Train aur test set ko alag-alag encode karne se problem ho sakti hai.\n",
    "# Example: Agar train set mein workclass column ke sirf 7 categories hain, aur test set mein ek naya category hai (e.g., \"Without-pay\"), toh model issue de sakta hai.\n",
    "# Isliye, pura dataset ek saath preprocess karna better hota hai.\n",
    "# 🔹 2. Feature Scaling ke liye\n",
    "\n",
    "# StandardScaler, MinMaxScaler, RobustScaler ka use karne se pehle poora dataset normalize karna hota hai.\n",
    "# Agar alag-alag scaling ho toh train aur test sets ke values ka scale mismatch ho sakta hai, jo prediction ko affect karega.\n",
    "# 🔹 3. Feature Engineering aur Transformation ke liye\n",
    "\n",
    "# Missing values fill karna, outliers handle karna, feature extraction karne ke liye ek saath data lena useful hota hai."
   ]
  },
  {
   "cell_type": "code",
   "execution_count": null,
   "metadata": {},
   "outputs": [
    {
     "data": {
      "application/vnd.microsoft.datawrangler.viewer.v0+json": {
       "columns": [
        {
         "name": "index",
         "rawType": "object",
         "type": "string"
        },
        {
         "name": "age",
         "rawType": "float64",
         "type": "float"
        },
        {
         "name": "fnlwgt",
         "rawType": "float64",
         "type": "float"
        },
        {
         "name": "education_num",
         "rawType": "float64",
         "type": "float"
        },
        {
         "name": "capital_gain",
         "rawType": "float64",
         "type": "float"
        },
        {
         "name": "capital_loss",
         "rawType": "float64",
         "type": "float"
        },
        {
         "name": "hours_per_week",
         "rawType": "float64",
         "type": "float"
        }
       ],
       "conversionMethod": "pd.DataFrame",
       "ref": "08b12114-eafb-4073-b272-cc1549ac0d89",
       "rows": [
        [
         "count",
         "48840.0",
         "48840.0",
         "48840.0",
         "48840.0",
         "48840.0",
         "48840.0"
        ],
        [
         "mean",
         "38.643857493857496",
         "189665.67043407043",
         "10.078091728091728",
         "1079.0673013923015",
         "87.50589680589681",
         "40.42239967239967"
        ],
        [
         "std",
         "13.710651567481607",
         "105604.834700354",
         "2.570953672008749",
         "7452.168392829424",
         "403.01241471565004",
         "12.391697447119721"
        ],
        [
         "min",
         "17.0",
         "12285.0",
         "1.0",
         "0.0",
         "0.0",
         "1.0"
        ],
        [
         "25%",
         "28.0",
         "117553.5",
         "9.0",
         "0.0",
         "0.0",
         "40.0"
        ],
        [
         "50%",
         "37.0",
         "178144.5",
         "10.0",
         "0.0",
         "0.0",
         "40.0"
        ],
        [
         "75%",
         "48.0",
         "237647.25",
         "12.0",
         "0.0",
         "0.0",
         "45.0"
        ],
        [
         "max",
         "90.0",
         "1490400.0",
         "16.0",
         "99999.0",
         "4356.0",
         "99.0"
        ]
       ],
       "shape": {
        "columns": 6,
        "rows": 8
       }
      },
      "text/html": [
       "<div>\n",
       "<style scoped>\n",
       "    .dataframe tbody tr th:only-of-type {\n",
       "        vertical-align: middle;\n",
       "    }\n",
       "\n",
       "    .dataframe tbody tr th {\n",
       "        vertical-align: top;\n",
       "    }\n",
       "\n",
       "    .dataframe thead th {\n",
       "        text-align: right;\n",
       "    }\n",
       "</style>\n",
       "<table border=\"1\" class=\"dataframe\">\n",
       "  <thead>\n",
       "    <tr style=\"text-align: right;\">\n",
       "      <th></th>\n",
       "      <th>age</th>\n",
       "      <th>fnlwgt</th>\n",
       "      <th>education_num</th>\n",
       "      <th>capital_gain</th>\n",
       "      <th>capital_loss</th>\n",
       "      <th>hours_per_week</th>\n",
       "    </tr>\n",
       "  </thead>\n",
       "  <tbody>\n",
       "    <tr>\n",
       "      <th>count</th>\n",
       "      <td>48840.000000</td>\n",
       "      <td>4.884000e+04</td>\n",
       "      <td>48840.000000</td>\n",
       "      <td>48840.000000</td>\n",
       "      <td>48840.000000</td>\n",
       "      <td>48840.000000</td>\n",
       "    </tr>\n",
       "    <tr>\n",
       "      <th>mean</th>\n",
       "      <td>38.643857</td>\n",
       "      <td>1.896657e+05</td>\n",
       "      <td>10.078092</td>\n",
       "      <td>1079.067301</td>\n",
       "      <td>87.505897</td>\n",
       "      <td>40.422400</td>\n",
       "    </tr>\n",
       "    <tr>\n",
       "      <th>std</th>\n",
       "      <td>13.710652</td>\n",
       "      <td>1.056048e+05</td>\n",
       "      <td>2.570954</td>\n",
       "      <td>7452.168393</td>\n",
       "      <td>403.012415</td>\n",
       "      <td>12.391697</td>\n",
       "    </tr>\n",
       "    <tr>\n",
       "      <th>min</th>\n",
       "      <td>17.000000</td>\n",
       "      <td>1.228500e+04</td>\n",
       "      <td>1.000000</td>\n",
       "      <td>0.000000</td>\n",
       "      <td>0.000000</td>\n",
       "      <td>1.000000</td>\n",
       "    </tr>\n",
       "    <tr>\n",
       "      <th>25%</th>\n",
       "      <td>28.000000</td>\n",
       "      <td>1.175535e+05</td>\n",
       "      <td>9.000000</td>\n",
       "      <td>0.000000</td>\n",
       "      <td>0.000000</td>\n",
       "      <td>40.000000</td>\n",
       "    </tr>\n",
       "    <tr>\n",
       "      <th>50%</th>\n",
       "      <td>37.000000</td>\n",
       "      <td>1.781445e+05</td>\n",
       "      <td>10.000000</td>\n",
       "      <td>0.000000</td>\n",
       "      <td>0.000000</td>\n",
       "      <td>40.000000</td>\n",
       "    </tr>\n",
       "    <tr>\n",
       "      <th>75%</th>\n",
       "      <td>48.000000</td>\n",
       "      <td>2.376472e+05</td>\n",
       "      <td>12.000000</td>\n",
       "      <td>0.000000</td>\n",
       "      <td>0.000000</td>\n",
       "      <td>45.000000</td>\n",
       "    </tr>\n",
       "    <tr>\n",
       "      <th>max</th>\n",
       "      <td>90.000000</td>\n",
       "      <td>1.490400e+06</td>\n",
       "      <td>16.000000</td>\n",
       "      <td>99999.000000</td>\n",
       "      <td>4356.000000</td>\n",
       "      <td>99.000000</td>\n",
       "    </tr>\n",
       "  </tbody>\n",
       "</table>\n",
       "</div>"
      ],
      "text/plain": [
       "                age        fnlwgt  education_num  capital_gain  capital_loss  \\\n",
       "count  48840.000000  4.884000e+04   48840.000000  48840.000000  48840.000000   \n",
       "mean      38.643857  1.896657e+05      10.078092   1079.067301     87.505897   \n",
       "std       13.710652  1.056048e+05       2.570954   7452.168393    403.012415   \n",
       "min       17.000000  1.228500e+04       1.000000      0.000000      0.000000   \n",
       "25%       28.000000  1.175535e+05       9.000000      0.000000      0.000000   \n",
       "50%       37.000000  1.781445e+05      10.000000      0.000000      0.000000   \n",
       "75%       48.000000  2.376472e+05      12.000000      0.000000      0.000000   \n",
       "max       90.000000  1.490400e+06      16.000000  99999.000000   4356.000000   \n",
       "\n",
       "       hours_per_week  \n",
       "count    48840.000000  \n",
       "mean        40.422400  \n",
       "std         12.391697  \n",
       "min          1.000000  \n",
       "25%         40.000000  \n",
       "50%         40.000000  \n",
       "75%         45.000000  \n",
       "max         99.000000  "
      ]
     },
     "execution_count": 21,
     "metadata": {},
     "output_type": "execute_result"
    }
   ],
   "source": [
    "\n",
    "Sample.describe() #Generate descriptive statistics that summarize the central tendency, dispersion and shape of a dataset's distribution"
   ]
  },
  {
   "cell_type": "code",
   "execution_count": null,
   "metadata": {},
   "outputs": [],
   "source": [
    "X_test[\"wage_class\"] = X_test[\"wage_class\"].str.replace(\".\", \"\", regex=False)\n",
    "#X_test[\"wage_class\"]=X_test[\"wage_class\"].apply[lambd\n",
    "# ax :x.replace(\".\",\"\")]"
   ]
  },
  {
   "cell_type": "code",
   "execution_count": null,
   "metadata": {},
   "outputs": [],
   "source": [
    "#  Key Observations from Numerical Data:\n",
    "# ✅ Age Distribution:\n",
    "\n",
    "# Mean age ≈ 38.6 years, with a wide range (min = 17, max = 90).\n",
    "# Most people are between 28 and 48 years (IQR range).\n",
    "# ✅ fnlwgt (Final Weight):\n",
    "\n",
    "# Mean ≈ 189,665, but max value is 1,490,400, showing high variance.\n",
    "# Need to check if scaling or normalization is required.\n",
    "# ✅ Education (education_num):\n",
    "\n",
    "# Mean ≈ 10 years of education, median = 10 years.\n",
    "# Max = 16 years (likely PhD or higher degrees).\n",
    "# ✅ Capital Gain & Loss:\n",
    "\n",
    "# High Skewness: Median = 0, but max capital_gain = 99,999 and capital_loss = 4,356.\n",
    "# Majority of values are zero.\n",
    "# Consider log transformation to reduce skewness.\n",
    "# ✅ Hours Per Week:\n",
    "\n",
    "# Median = 40 hours (typical full-time work).\n",
    "# Some people work 99 hours per week, which seems like an outlier."
   ]
  },
  {
   "cell_type": "code",
   "execution_count": null,
   "metadata": {},
   "outputs": [
    {
     "data": {
      "application/vnd.microsoft.datawrangler.viewer.v0+json": {
       "columns": [
        {
         "name": "index",
         "rawType": "object",
         "type": "string"
        },
        {
         "name": "workclass",
         "rawType": "object",
         "type": "string"
        },
        {
         "name": "education",
         "rawType": "object",
         "type": "string"
        },
        {
         "name": "marital_status",
         "rawType": "object",
         "type": "string"
        },
        {
         "name": "occupation",
         "rawType": "object",
         "type": "string"
        },
        {
         "name": "relationship",
         "rawType": "object",
         "type": "string"
        },
        {
         "name": "race",
         "rawType": "object",
         "type": "string"
        },
        {
         "name": "sex",
         "rawType": "object",
         "type": "string"
        },
        {
         "name": "native_country",
         "rawType": "object",
         "type": "string"
        },
        {
         "name": "wage_class",
         "rawType": "object",
         "type": "string"
        }
       ],
       "conversionMethod": "pd.DataFrame",
       "ref": "11c1268f-334c-447a-95a6-9a49d94d3faa",
       "rows": [
        [
         "count",
         "48840",
         "48840",
         "48840",
         "48840",
         "48840",
         "48840",
         "48840",
         "48840",
         "48840"
        ],
        [
         "unique",
         "9",
         "16",
         "7",
         "15",
         "6",
         "5",
         "2",
         "42",
         "4"
        ],
        [
         "top",
         " Private",
         " HS-grad",
         " Married-civ-spouse",
         " Prof-specialty",
         " Husband",
         " White",
         " Male",
         " United-States",
         " <=50K"
        ],
        [
         "freq",
         "33905",
         "15784",
         "22379",
         "6172",
         "19716",
         "41761",
         "32648",
         "43830",
         "24719"
        ]
       ],
       "shape": {
        "columns": 9,
        "rows": 4
       }
      },
      "text/html": [
       "<div>\n",
       "<style scoped>\n",
       "    .dataframe tbody tr th:only-of-type {\n",
       "        vertical-align: middle;\n",
       "    }\n",
       "\n",
       "    .dataframe tbody tr th {\n",
       "        vertical-align: top;\n",
       "    }\n",
       "\n",
       "    .dataframe thead th {\n",
       "        text-align: right;\n",
       "    }\n",
       "</style>\n",
       "<table border=\"1\" class=\"dataframe\">\n",
       "  <thead>\n",
       "    <tr style=\"text-align: right;\">\n",
       "      <th></th>\n",
       "      <th>workclass</th>\n",
       "      <th>education</th>\n",
       "      <th>marital_status</th>\n",
       "      <th>occupation</th>\n",
       "      <th>relationship</th>\n",
       "      <th>race</th>\n",
       "      <th>sex</th>\n",
       "      <th>native_country</th>\n",
       "      <th>wage_class</th>\n",
       "    </tr>\n",
       "  </thead>\n",
       "  <tbody>\n",
       "    <tr>\n",
       "      <th>count</th>\n",
       "      <td>48840</td>\n",
       "      <td>48840</td>\n",
       "      <td>48840</td>\n",
       "      <td>48840</td>\n",
       "      <td>48840</td>\n",
       "      <td>48840</td>\n",
       "      <td>48840</td>\n",
       "      <td>48840</td>\n",
       "      <td>48840</td>\n",
       "    </tr>\n",
       "    <tr>\n",
       "      <th>unique</th>\n",
       "      <td>9</td>\n",
       "      <td>16</td>\n",
       "      <td>7</td>\n",
       "      <td>15</td>\n",
       "      <td>6</td>\n",
       "      <td>5</td>\n",
       "      <td>2</td>\n",
       "      <td>42</td>\n",
       "      <td>4</td>\n",
       "    </tr>\n",
       "    <tr>\n",
       "      <th>top</th>\n",
       "      <td>Private</td>\n",
       "      <td>HS-grad</td>\n",
       "      <td>Married-civ-spouse</td>\n",
       "      <td>Prof-specialty</td>\n",
       "      <td>Husband</td>\n",
       "      <td>White</td>\n",
       "      <td>Male</td>\n",
       "      <td>United-States</td>\n",
       "      <td>&lt;=50K</td>\n",
       "    </tr>\n",
       "    <tr>\n",
       "      <th>freq</th>\n",
       "      <td>33905</td>\n",
       "      <td>15784</td>\n",
       "      <td>22379</td>\n",
       "      <td>6172</td>\n",
       "      <td>19716</td>\n",
       "      <td>41761</td>\n",
       "      <td>32648</td>\n",
       "      <td>43830</td>\n",
       "      <td>24719</td>\n",
       "    </tr>\n",
       "  </tbody>\n",
       "</table>\n",
       "</div>"
      ],
      "text/plain": [
       "       workclass education       marital_status       occupation relationship  \\\n",
       "count      48840     48840                48840            48840        48840   \n",
       "unique         9        16                    7               15            6   \n",
       "top      Private   HS-grad   Married-civ-spouse   Prof-specialty      Husband   \n",
       "freq       33905     15784                22379             6172        19716   \n",
       "\n",
       "          race    sex  native_country wage_class  \n",
       "count    48840  48840           48840      48840  \n",
       "unique       5      2              42          4  \n",
       "top      White   Male   United-States      <=50K  \n",
       "freq     41761  32648           43830      24719  "
      ]
     },
     "execution_count": 24,
     "metadata": {},
     "output_type": "execute_result"
    }
   ],
   "source": [
    "Sample.describe(include=\"object\")"
   ]
  },
  {
   "cell_type": "code",
   "execution_count": null,
   "metadata": {},
   "outputs": [],
   "source": [
    "#  Key Observations from Categorical Data:\n",
    "# ✅ Workclass:\n",
    "\n",
    "# 9 unique categories, but Private dominates (33,905 out of 48,840).\n",
    "# Government jobs (Federal-gov, Local-gov, State-gov) are fewer.\n",
    "# ✅ Education:\n",
    "\n",
    "# HS-grad is most common (15,784 people).\n",
    "# Higher education (Bachelors, Masters, Doctorate) is relatively lower.\n",
    "# ✅ Marital Status:\n",
    "\n",
    "# Married-civ-spouse dominates (22,379 people).\n",
    "# Never-married, Divorced, and Widowed groups are significant too.\n",
    "# ✅ Occupation:\n",
    "\n",
    "# 15 categories in total.\n",
    "# Prof-specialty (like doctors, engineers) is the most common occupation (6,172 people).\n",
    "# ✅ Race & Gender Distribution:\n",
    "\n",
    "# White race dominates (41,761 people).\n",
    "# Male representation is higher (32,648 males vs. fewer females).\n",
    "# ✅ Native Country:\n",
    "\n",
    "# 42 unique countries, but USA dominates (43,830 people).\n",
    "# Very few from other countries (like India, Japan, Canada).\n",
    "# ✅ Wage Class (Income >50K or <=50K):\n",
    "\n",
    "# <=50K category is most common (24,719 people).\n",
    "# Possible class imbalance, meaning more people earn ≤50K than >50K."
   ]
  },
  {
   "cell_type": "code",
   "execution_count": null,
   "metadata": {},
   "outputs": [],
   "source": [
    "# Final EDA Insights & Next Steps\n",
    "# 📌 1. Data Imbalance:\n",
    "\n",
    "# Wage class (<=50K is dominant) → Consider balancing techniques (oversampling or undersampling).\n",
    "# 📌 2. Outliers in Numerical Features:\n",
    "\n",
    "# capital_gain and capital_loss are highly skewed → Apply log transformation.\n",
    "# hours_per_week has extreme values (some working 99 hours).\n",
    "# 📌 3. Encoding Categorical Variables:\n",
    "\n",
    "# One-Hot Encoding (for workclass, education, occupation, etc.).\n",
    "# Label Encoding (for wage_class, sex).\n",
    "# 📌 4. Feature Engineering Ideas:\n",
    "\n",
    "# Create a new feature combining capital_gain and capital_loss.\n",
    "# Group education levels into broader categories (e.g., Low, Medium, High)."
   ]
  },
  {
   "cell_type": "code",
   "execution_count": null,
   "metadata": {},
   "outputs": [],
   "source": [
    "# Feature\t       Data Type\t                   Unique Values\tEncoding Method\t    Why?\n",
    "# workclass\t   Categorical (Nominal)\t     9           \tOne-Hot Encoding\tNo order among categories\n",
    "# education\t    Categorical (Nominal)\t     16\t            One-Hot Encoding\tNo order among categories\n",
    "# marital_status\tCategorical (Nominal)\t 7\t            One-Hot Encoding\tNo order among categories\n",
    "# occupation\t Categorical (Nominal)\t    15\t            One-Hot Encoding\tNo order among categories\n",
    "# relationship\tCategorical (Nominal)    6               One-Hot Encoding\tNo order among categories\n",
    "# race\tCategorical (Nominal)\t         5\t            One-Hot Encoding\tNo order among categories\n",
    "# native_country\tCategorical (Nominal)\t42\t           One-Hot Encoding\t   Too many categories, but needed for country-based analysis\n",
    "# wage_class\tCategorical (Binary)\t    2\t           Label Encoding\t   Only two categories, 0 or 1 is enough\n",
    "# sex\tCategorical (Binary)\t            2\t          Label Encoding\t   Only two categories, 0 or 1 is enough\n"
   ]
  },
  {
   "cell_type": "code",
   "execution_count": null,
   "metadata": {},
   "outputs": [],
   "source": [
    "import matplotlib.pyplot as plt\n",
    "import seaborn as sns\n",
    "import numpy as np\n",
    "import math\n",
    "import pandas as pd\n",
    "\n",
    "def plot_distribution(dataset, cols=5, width=20, height=30, hspace=0.2, wspace=0.5):\n",
    "    plt.style.use('fivethirtyeight')  # Use a specific style for better visuals\n",
    "    fig = plt.figure(figsize=(width, height))  # Create a figure\n",
    "    fig.subplots_adjust(wspace=wspace, hspace=hspace)  # Adjust subplot spacing\n",
    "\n",
    "    rows = math.ceil(dataset.shape[1] / cols)  # Calculate number of rows\n",
    "\n",
    "    # Iterate over columns to plot distributions\n",
    "    for i, column in enumerate(dataset.columns):\n",
    "        ax = fig.add_subplot(rows, cols, i + 1)  # Create subplot for each column\n",
    "        ax.set_title(column)\n",
    "\n",
    "        # Check if column is categorical\n",
    "        if pd.api.types.is_object_dtype(dataset[column]):  \n",
    "            g = sns.countplot(y=dataset[column], ax=ax)  # Assign plot to ax\n",
    "            substrings = [s.get_text()[:18] for s in ax.get_yticklabels()]\n",
    "            ax.set_yticklabels(substrings)  # Set y-tick labels\n",
    "            ax.set_xticklabels(ax.get_xticks(), rotation=25)  # Rotate x-ticks\n",
    "        else:\n",
    "            sns.histplot(dataset[column], kde=True, ax=ax)  # Assign histogram to ax\n",
    "            ax.set_xticklabels(ax.get_xticks(), rotation=25)  # Rotate x-ticks\n",
    "\n",
    "    plt.show()  # Show all subplots\n"
   ]
  },
  {
   "cell_type": "code",
   "execution_count": null,
   "metadata": {},
   "outputs": [
    {
     "name": "stderr",
     "output_type": "stream",
     "text": [
      "C:\\Users\\lalit\\AppData\\Local\\Temp\\ipykernel_10172\\1573956595.py:27: UserWarning: FixedFormatter should only be used together with FixedLocator\n",
      "  ax.set_xticklabels(ax.get_xticks(), rotation=25)  # Rotate x-ticks\n",
      "C:\\Users\\lalit\\AppData\\Local\\Temp\\ipykernel_10172\\1573956595.py:24: UserWarning: FixedFormatter should only be used together with FixedLocator\n",
      "  ax.set_xticklabels(ax.get_xticks(), rotation=25)  # Rotate x-ticks\n",
      "C:\\Users\\lalit\\AppData\\Local\\Temp\\ipykernel_10172\\1573956595.py:27: UserWarning: FixedFormatter should only be used together with FixedLocator\n",
      "  ax.set_xticklabels(ax.get_xticks(), rotation=25)  # Rotate x-ticks\n",
      "C:\\Users\\lalit\\AppData\\Local\\Temp\\ipykernel_10172\\1573956595.py:24: UserWarning: FixedFormatter should only be used together with FixedLocator\n",
      "  ax.set_xticklabels(ax.get_xticks(), rotation=25)  # Rotate x-ticks\n",
      "C:\\Users\\lalit\\AppData\\Local\\Temp\\ipykernel_10172\\1573956595.py:27: UserWarning: FixedFormatter should only be used together with FixedLocator\n",
      "  ax.set_xticklabels(ax.get_xticks(), rotation=25)  # Rotate x-ticks\n",
      "C:\\Users\\lalit\\AppData\\Local\\Temp\\ipykernel_10172\\1573956595.py:24: UserWarning: FixedFormatter should only be used together with FixedLocator\n",
      "  ax.set_xticklabels(ax.get_xticks(), rotation=25)  # Rotate x-ticks\n",
      "C:\\Users\\lalit\\AppData\\Local\\Temp\\ipykernel_10172\\1573956595.py:24: UserWarning: FixedFormatter should only be used together with FixedLocator\n",
      "  ax.set_xticklabels(ax.get_xticks(), rotation=25)  # Rotate x-ticks\n",
      "C:\\Users\\lalit\\AppData\\Local\\Temp\\ipykernel_10172\\1573956595.py:24: UserWarning: FixedFormatter should only be used together with FixedLocator\n",
      "  ax.set_xticklabels(ax.get_xticks(), rotation=25)  # Rotate x-ticks\n",
      "C:\\Users\\lalit\\AppData\\Local\\Temp\\ipykernel_10172\\1573956595.py:24: UserWarning: FixedFormatter should only be used together with FixedLocator\n",
      "  ax.set_xticklabels(ax.get_xticks(), rotation=25)  # Rotate x-ticks\n",
      "C:\\Users\\lalit\\AppData\\Local\\Temp\\ipykernel_10172\\1573956595.py:24: UserWarning: FixedFormatter should only be used together with FixedLocator\n",
      "  ax.set_xticklabels(ax.get_xticks(), rotation=25)  # Rotate x-ticks\n",
      "C:\\Users\\lalit\\AppData\\Local\\Temp\\ipykernel_10172\\1573956595.py:27: UserWarning: FixedFormatter should only be used together with FixedLocator\n",
      "  ax.set_xticklabels(ax.get_xticks(), rotation=25)  # Rotate x-ticks\n",
      "C:\\Users\\lalit\\AppData\\Local\\Temp\\ipykernel_10172\\1573956595.py:27: UserWarning: FixedFormatter should only be used together with FixedLocator\n",
      "  ax.set_xticklabels(ax.get_xticks(), rotation=25)  # Rotate x-ticks\n",
      "C:\\Users\\lalit\\AppData\\Local\\Temp\\ipykernel_10172\\1573956595.py:27: UserWarning: FixedFormatter should only be used together with FixedLocator\n",
      "  ax.set_xticklabels(ax.get_xticks(), rotation=25)  # Rotate x-ticks\n",
      "C:\\Users\\lalit\\AppData\\Local\\Temp\\ipykernel_10172\\1573956595.py:24: UserWarning: FixedFormatter should only be used together with FixedLocator\n",
      "  ax.set_xticklabels(ax.get_xticks(), rotation=25)  # Rotate x-ticks\n",
      "C:\\Users\\lalit\\AppData\\Local\\Temp\\ipykernel_10172\\1573956595.py:24: UserWarning: FixedFormatter should only be used together with FixedLocator\n",
      "  ax.set_xticklabels(ax.get_xticks(), rotation=25)  # Rotate x-ticks\n"
     ]
    },
    {
     "data": {
      "image/png": "[encoded data removed]",
      "text/plain": [
       "<Figure size 1440x2520 with 15 Axes>"
      ]
     },
     "metadata": {},
     "output_type": "display_data"
    }
   ],
   "source": [
    "#  creating  columnwise histograms\n",
    "plot_distribution(Sample, cols=2, width=20, height=35, hspace=0.8, wspace=0.8)"
   ]
  },
  {
   "cell_type": "code",
   "execution_count": null,
   "metadata": {},
   "outputs": [
    {
     "data": {
      "image/png": "[encoded data removed]",
      "text/plain": [
       "<Figure size 1440x576 with 1 Axes>"
      ]
     },
     "metadata": {
      "needs_background": "light"
     },
     "output_type": "display_data"
    }
   ],
   "source": [
    "sns.set_style('whitegrid') #Use matplotlib style settings from a style specification.\n",
    "%matplotlib inline\n",
    "plt.figure(figsize=(20,8)) #Create a new figure\n",
    "g = sns.countplot(y='native_country',data=Sample) # plotting the counts for native country\n",
    "\n",
    "g.set_yticklabels(g.get_yticklabels(), rotation = 0, fontsize = 12) # Set the y-tick labels with list of strings labels.\n",
    "plt.show()"
   ]
  },
  {
   "cell_type": "code",
   "execution_count": null,
   "metadata": {},
   "outputs": [],
   "source": [
    "# Replacing the '?' in the dataset with NaN\n",
    "# Replacing the '?' in the dataset with NaN\n",
    "train_set = train_set.apply(lambda x : x.replace('?', np.nan))\n",
    "test_set = test_set.apply(lambda x : x.replace('?', np.nan))"
   ]
  },
  {
   "cell_type": "code",
   "execution_count": 110,
   "metadata": {},
   "outputs": [
    {
     "data": {
      "text/plain": [
       " Private             22696\n",
       " Self-emp-not-inc     2541\n",
       " Local-gov            2093\n",
       " ?                    1836\n",
       " State-gov            1297\n",
       " Self-emp-inc         1116\n",
       " Federal-gov           960\n",
       " Without-pay            14\n",
       " Never-worked            7\n",
       "Name: workclass, dtype: int64"
      ]
     },
     "execution_count": 110,
     "metadata": {},
     "output_type": "execute_result"
    }
   ],
   "source": [
    "#what is imputation approach here\n",
    "train_set.workclass.value_counts()"
   ]
  },
  {
   "cell_type": "code",
   "execution_count": null,
   "metadata": {},
   "outputs": [
    {
     "data": {
      "text/plain": [
       "age               0\n",
       "workclass         0\n",
       "fnlwgt            0\n",
       "education         0\n",
       "education_num     0\n",
       "marital_status    0\n",
       "occupation        0\n",
       "relationship      0\n",
       "race              0\n",
       "sex               0\n",
       "capital_gain      0\n",
       "capital_loss      0\n",
       "hours_per_week    0\n",
       "native_country    0\n",
       "wage_class        0\n",
       "dtype: int64"
      ]
     },
     "execution_count": 32,
     "metadata": {},
     "output_type": "execute_result"
    }
   ],
   "source": [
    "# checking the frequency of NaN in different columns in the training set\n",
    "train_set.isnull().sum()"
   ]
  },
  {
   "cell_type": "code",
   "execution_count": null,
   "metadata": {},
   "outputs": [
    {
     "data": {
      "text/plain": [
       "age               0\n",
       "workclass         0\n",
       "fnlwgt            0\n",
       "education         0\n",
       "education_num     0\n",
       "marital_status    0\n",
       "occupation        0\n",
       "relationship      0\n",
       "race              0\n",
       "sex               0\n",
       "capital_gain      0\n",
       "capital_loss      0\n",
       "hours_per_week    0\n",
       "native_country    0\n",
       "wage_class        0\n",
       "dtype: int64"
      ]
     },
     "execution_count": 33,
     "metadata": {},
     "output_type": "execute_result"
    }
   ],
   "source": [
    "# checking the frequency of NaN in different columns in the test set\n",
    "test_set.isnull().sum()"
   ]
  },
  {
   "cell_type": "code",
   "execution_count": null,
   "metadata": {},
   "outputs": [],
   "source": [
    "# Dropping the NaN values from training and test sets\n",
    "test_set.dropna(inplace=True)\n",
    "train_set.dropna(inplace=True)"
   ]
  },
  {
   "cell_type": "code",
   "execution_count": null,
   "metadata": {},
   "outputs": [
    {
     "data": {
      "text/plain": [
       "(age               0\n",
       " workclass         0\n",
       " fnlwgt            0\n",
       " education         0\n",
       " education_num     0\n",
       " marital_status    0\n",
       " occupation        0\n",
       " relationship      0\n",
       " race              0\n",
       " sex               0\n",
       " capital_gain      0\n",
       " capital_loss      0\n",
       " hours_per_week    0\n",
       " native_country    0\n",
       " wage_class        0\n",
       " dtype: int64,\n",
       " age               0\n",
       " workclass         0\n",
       " fnlwgt            0\n",
       " education         0\n",
       " education_num     0\n",
       " marital_status    0\n",
       " occupation        0\n",
       " relationship      0\n",
       " race              0\n",
       " sex               0\n",
       " capital_gain      0\n",
       " capital_loss      0\n",
       " hours_per_week    0\n",
       " native_country    0\n",
       " wage_class        0\n",
       " dtype: int64)"
      ]
     },
     "execution_count": 35,
     "metadata": {},
     "output_type": "execute_result"
    }
   ],
   "source": [
    "# checking the training and test datsets after dropping the NaN values\n",
    "test_set.isnull().sum(),train_set.isnull().sum()"
   ]
  },
  {
   "cell_type": "code",
   "execution_count": null,
   "metadata": {},
   "outputs": [
    {
     "data": {
      "text/plain": [
       "{' Male': 0, ' Female': 1}"
      ]
     },
     "execution_count": 36,
     "metadata": {},
     "output_type": "execute_result"
    }
   ],
   "source": [
    "# function to encode sex\n",
    "dict_sex = {}\n",
    "count = 0\n",
    "for i in X_train.sex.unique()  :\n",
    "\tdict_sex[i] = count\n",
    "\tcount += 1\n",
    "\n",
    "dict_sex\n",
    " \n",
    " "
   ]
  },
  {
   "cell_type": "code",
   "execution_count": null,
   "metadata": {},
   "outputs": [
    {
     "data": {
      "text/plain": [
       "{' Self-emp-not-inc': 0,\n",
       " ' Private': 1,\n",
       " ' State-gov': 2,\n",
       " ' Federal-gov': 3,\n",
       " ' Local-gov': 4,\n",
       " ' ?': 5,\n",
       " ' Self-emp-inc': 6,\n",
       " ' Without-pay': 7,\n",
       " ' Never-worked': 8}"
      ]
     },
     "execution_count": 37,
     "metadata": {},
     "output_type": "execute_result"
    }
   ],
   "source": [
    "# function to encode workclass\n",
    "dict_workclass ={}\n",
    "count =0\n",
    "for i  in X_train.workclass.unique():\n",
    "    dict_workclass[i] =count\n",
    "    count= count+1\n",
    "\n",
    "dict_workclass\n",
    " \n",
    "   "
   ]
  },
  {
   "cell_type": "code",
   "execution_count": null,
   "metadata": {},
   "outputs": [
    {
     "data": {
      "text/plain": [
       "{' Bachelors': 0,\n",
       " ' HS-grad': 1,\n",
       " ' 11th': 2,\n",
       " ' Masters': 3,\n",
       " ' 9th': 4,\n",
       " ' Some-college': 5,\n",
       " ' Assoc-acdm': 6,\n",
       " ' Assoc-voc': 7,\n",
       " ' 7th-8th': 8,\n",
       " ' Doctorate': 9,\n",
       " ' Prof-school': 10,\n",
       " ' 5th-6th': 11,\n",
       " ' 10th': 12,\n",
       " ' 1st-4th': 13,\n",
       " ' Preschool': 14,\n",
       " ' 12th': 15}"
      ]
     },
     "execution_count": 38,
     "metadata": {},
     "output_type": "execute_result"
    }
   ],
   "source": [
    "# function to encode Education\n",
    "dict_education = {}\n",
    "count = 0\n",
    "for i in X_train.education.unique():\n",
    "    dict_education[i] = count\n",
    "    count +=1\n",
    "    \n",
    "dict_education"
   ]
  },
  {
   "cell_type": "code",
   "execution_count": null,
   "metadata": {},
   "outputs": [
    {
     "data": {
      "text/plain": [
       "{' Married-civ-spouse': 0,\n",
       " ' Divorced': 1,\n",
       " ' Married-spouse-absent': 2,\n",
       " ' Never-married': 3,\n",
       " ' Separated': 4,\n",
       " ' Married-AF-spouse': 5,\n",
       " ' Widowed': 6}"
      ]
     },
     "execution_count": 39,
     "metadata": {},
     "output_type": "execute_result"
    }
   ],
   "source": [
    "# function to encode Marital Status\n",
    "dict_marital_status = {}\n",
    "count = 0\n",
    "for i in X_train.marital_status.unique():\n",
    "    dict_marital_status[i] = count\n",
    "    count +=1\n",
    "    \n",
    "dict_marital_status"
   ]
  },
  {
   "cell_type": "code",
   "execution_count": null,
   "metadata": {},
   "outputs": [
    {
     "data": {
      "text/plain": [
       "{' Exec-managerial': 0,\n",
       " ' Handlers-cleaners': 1,\n",
       " ' Prof-specialty': 2,\n",
       " ' Other-service': 3,\n",
       " ' Adm-clerical': 4,\n",
       " ' Sales': 5,\n",
       " ' Craft-repair': 6,\n",
       " ' Transport-moving': 7,\n",
       " ' Farming-fishing': 8,\n",
       " ' Machine-op-inspct': 9,\n",
       " ' Tech-support': 10,\n",
       " ' ?': 11,\n",
       " ' Protective-serv': 12,\n",
       " ' Armed-Forces': 13,\n",
       " ' Priv-house-serv': 14}"
      ]
     },
     "execution_count": 40,
     "metadata": {},
     "output_type": "execute_result"
    }
   ],
   "source": [
    "# function to encode Occupation\n",
    "dict_occupation = {}\n",
    "count = 0\n",
    "for i in X_train.occupation.unique():\n",
    "    dict_occupation[i] = count\n",
    "    count +=1\n",
    "    \n",
    "dict_occupation"
   ]
  },
  {
   "cell_type": "code",
   "execution_count": null,
   "metadata": {},
   "outputs": [
    {
     "data": {
      "text/plain": [
       "{' Husband': 0,\n",
       " ' Not-in-family': 1,\n",
       " ' Wife': 2,\n",
       " ' Own-child': 3,\n",
       " ' Unmarried': 4,\n",
       " ' Other-relative': 5}"
      ]
     },
     "execution_count": 41,
     "metadata": {},
     "output_type": "execute_result"
    }
   ],
   "source": [
    "   \n",
    "# function to encode Relationship\n",
    "dict_relationship = {}\n",
    "count = 0\n",
    "for i in X_train.relationship.unique():\n",
    "    dict_relationship[i] = count\n",
    "    count +=1\n",
    "    \n",
    "dict_relationship"
   ]
  },
  {
   "cell_type": "code",
   "execution_count": null,
   "metadata": {},
   "outputs": [
    {
     "data": {
      "text/plain": [
       "{' White': 0,\n",
       " ' Black': 1,\n",
       " ' Asian-Pac-Islander': 2,\n",
       " ' Amer-Indian-Eskimo': 3,\n",
       " ' Other': 4}"
      ]
     },
     "execution_count": 42,
     "metadata": {},
     "output_type": "execute_result"
    }
   ],
   "source": [
    "# function to encode Race\n",
    "dict_race = {}\n",
    "count = 0\n",
    "for i in X_train.race.unique():\n",
    "    dict_race[i] = count\n",
    "    count +=1\n",
    "    \n",
    "dict_race"
   ]
  },
  {
   "cell_type": "code",
   "execution_count": null,
   "metadata": {},
   "outputs": [
    {
     "data": {
      "text/plain": [
       "{' United-States': 0,\n",
       " ' Cuba': 1,\n",
       " ' Jamaica': 2,\n",
       " ' India': 3,\n",
       " ' ?': 4,\n",
       " ' Mexico': 5,\n",
       " ' South': 6,\n",
       " ' Puerto-Rico': 7,\n",
       " ' Honduras': 8,\n",
       " ' England': 9,\n",
       " ' Canada': 10,\n",
       " ' Germany': 11,\n",
       " ' Iran': 12,\n",
       " ' Philippines': 13,\n",
       " ' Italy': 14,\n",
       " ' Poland': 15,\n",
       " ' Columbia': 16,\n",
       " ' Cambodia': 17,\n",
       " ' Thailand': 18,\n",
       " ' Ecuador': 19,\n",
       " ' Laos': 20,\n",
       " ' Taiwan': 21,\n",
       " ' Haiti': 22,\n",
       " ' Portugal': 23,\n",
       " ' Dominican-Republic': 24,\n",
       " ' El-Salvador': 25,\n",
       " ' France': 26,\n",
       " ' Guatemala': 27,\n",
       " ' China': 28,\n",
       " ' Japan': 29,\n",
       " ' Yugoslavia': 30,\n",
       " ' Peru': 31,\n",
       " ' Outlying-US(Guam-USVI-etc)': 32,\n",
       " ' Scotland': 33,\n",
       " ' Trinadad&Tobago': 34,\n",
       " ' Greece': 35,\n",
       " ' Nicaragua': 36,\n",
       " ' Vietnam': 37,\n",
       " ' Hong': 38,\n",
       " ' Ireland': 39,\n",
       " ' Hungary': 40,\n",
       " ' Holand-Netherlands': 41}"
      ]
     },
     "execution_count": 43,
     "metadata": {},
     "output_type": "execute_result"
    }
   ],
   "source": [
    "# function to encode Native Country\n",
    "dict_native_country ={}\n",
    "count = 0\n",
    "for i in X_train.native_country.unique():\n",
    "    dict_native_country[i] = count\n",
    "    count +=1\n",
    "    \n",
    "dict_native_country"
   ]
  },
  {
   "cell_type": "code",
   "execution_count": null,
   "metadata": {},
   "outputs": [
    {
     "data": {
      "application/vnd.microsoft.datawrangler.viewer.v0+json": {
       "columns": [
        {
         "name": "index",
         "rawType": "int64",
         "type": "integer"
        },
        {
         "name": "age",
         "rawType": "int64",
         "type": "integer"
        },
        {
         "name": "workclass",
         "rawType": "object",
         "type": "string"
        },
        {
         "name": "fnlwgt",
         "rawType": "int64",
         "type": "integer"
        },
        {
         "name": "education",
         "rawType": "object",
         "type": "string"
        },
        {
         "name": "education_num",
         "rawType": "int64",
         "type": "integer"
        },
        {
         "name": "marital_status",
         "rawType": "object",
         "type": "string"
        },
        {
         "name": "occupation",
         "rawType": "object",
         "type": "string"
        },
        {
         "name": "relationship",
         "rawType": "object",
         "type": "string"
        },
        {
         "name": "race",
         "rawType": "object",
         "type": "string"
        },
        {
         "name": "sex",
         "rawType": "object",
         "type": "string"
        },
        {
         "name": "capital_gain",
         "rawType": "int64",
         "type": "integer"
        },
        {
         "name": "capital_loss",
         "rawType": "int64",
         "type": "integer"
        },
        {
         "name": "hours_per_week",
         "rawType": "int64",
         "type": "integer"
        },
        {
         "name": "native_country",
         "rawType": "object",
         "type": "string"
        },
        {
         "name": "wage_class",
         "rawType": "object",
         "type": "string"
        }
       ],
       "conversionMethod": "pd.DataFrame",
       "ref": "634426b8-19cd-459c-adeb-29d7cc141aa7",
       "rows": [
        [
         "0",
         "50",
         " Self-emp-not-inc",
         "83311",
         " Bachelors",
         "13",
         " Married-civ-spouse",
         " Exec-managerial",
         " Husband",
         " White",
         " Male",
         "0",
         "0",
         "13",
         " United-States",
         " <=50K"
        ],
        [
         "1",
         "38",
         " Private",
         "215646",
         " HS-grad",
         "9",
         " Divorced",
         " Handlers-cleaners",
         " Not-in-family",
         " White",
         " Male",
         "0",
         "0",
         "40",
         " United-States",
         " <=50K"
        ],
        [
         "2",
         "53",
         " Private",
         "234721",
         " 11th",
         "7",
         " Married-civ-spouse",
         " Handlers-cleaners",
         " Husband",
         " Black",
         " Male",
         "0",
         "0",
         "40",
         " United-States",
         " <=50K"
        ],
        [
         "3",
         "28",
         " Private",
         "338409",
         " Bachelors",
         "13",
         " Married-civ-spouse",
         " Prof-specialty",
         " Wife",
         " Black",
         " Female",
         "0",
         "0",
         "40",
         " Cuba",
         " <=50K"
        ],
        [
         "4",
         "37",
         " Private",
         "284582",
         " Masters",
         "14",
         " Married-civ-spouse",
         " Exec-managerial",
         " Wife",
         " White",
         " Female",
         "0",
         "0",
         "40",
         " United-States",
         " <=50K"
        ]
       ],
       "shape": {
        "columns": 15,
        "rows": 5
       }
      },
      "text/html": [
       "<div>\n",
       "<style scoped>\n",
       "    .dataframe tbody tr th:only-of-type {\n",
       "        vertical-align: middle;\n",
       "    }\n",
       "\n",
       "    .dataframe tbody tr th {\n",
       "        vertical-align: top;\n",
       "    }\n",
       "\n",
       "    .dataframe thead th {\n",
       "        text-align: right;\n",
       "    }\n",
       "</style>\n",
       "<table border=\"1\" class=\"dataframe\">\n",
       "  <thead>\n",
       "    <tr style=\"text-align: right;\">\n",
       "      <th></th>\n",
       "      <th>age</th>\n",
       "      <th>workclass</th>\n",
       "      <th>fnlwgt</th>\n",
       "      <th>education</th>\n",
       "      <th>education_num</th>\n",
       "      <th>marital_status</th>\n",
       "      <th>occupation</th>\n",
       "      <th>relationship</th>\n",
       "      <th>race</th>\n",
       "      <th>sex</th>\n",
       "      <th>capital_gain</th>\n",
       "      <th>capital_loss</th>\n",
       "      <th>hours_per_week</th>\n",
       "      <th>native_country</th>\n",
       "      <th>wage_class</th>\n",
       "    </tr>\n",
       "  </thead>\n",
       "  <tbody>\n",
       "    <tr>\n",
       "      <th>0</th>\n",
       "      <td>50</td>\n",
       "      <td>Self-emp-not-inc</td>\n",
       "      <td>83311</td>\n",
       "      <td>Bachelors</td>\n",
       "      <td>13</td>\n",
       "      <td>Married-civ-spouse</td>\n",
       "      <td>Exec-managerial</td>\n",
       "      <td>Husband</td>\n",
       "      <td>White</td>\n",
       "      <td>Male</td>\n",
       "      <td>0</td>\n",
       "      <td>0</td>\n",
       "      <td>13</td>\n",
       "      <td>United-States</td>\n",
       "      <td>&lt;=50K</td>\n",
       "    </tr>\n",
       "    <tr>\n",
       "      <th>1</th>\n",
       "      <td>38</td>\n",
       "      <td>Private</td>\n",
       "      <td>215646</td>\n",
       "      <td>HS-grad</td>\n",
       "      <td>9</td>\n",
       "      <td>Divorced</td>\n",
       "      <td>Handlers-cleaners</td>\n",
       "      <td>Not-in-family</td>\n",
       "      <td>White</td>\n",
       "      <td>Male</td>\n",
       "      <td>0</td>\n",
       "      <td>0</td>\n",
       "      <td>40</td>\n",
       "      <td>United-States</td>\n",
       "      <td>&lt;=50K</td>\n",
       "    </tr>\n",
       "    <tr>\n",
       "      <th>2</th>\n",
       "      <td>53</td>\n",
       "      <td>Private</td>\n",
       "      <td>234721</td>\n",
       "      <td>11th</td>\n",
       "      <td>7</td>\n",
       "      <td>Married-civ-spouse</td>\n",
       "      <td>Handlers-cleaners</td>\n",
       "      <td>Husband</td>\n",
       "      <td>Black</td>\n",
       "      <td>Male</td>\n",
       "      <td>0</td>\n",
       "      <td>0</td>\n",
       "      <td>40</td>\n",
       "      <td>United-States</td>\n",
       "      <td>&lt;=50K</td>\n",
       "    </tr>\n",
       "    <tr>\n",
       "      <th>3</th>\n",
       "      <td>28</td>\n",
       "      <td>Private</td>\n",
       "      <td>338409</td>\n",
       "      <td>Bachelors</td>\n",
       "      <td>13</td>\n",
       "      <td>Married-civ-spouse</td>\n",
       "      <td>Prof-specialty</td>\n",
       "      <td>Wife</td>\n",
       "      <td>Black</td>\n",
       "      <td>Female</td>\n",
       "      <td>0</td>\n",
       "      <td>0</td>\n",
       "      <td>40</td>\n",
       "      <td>Cuba</td>\n",
       "      <td>&lt;=50K</td>\n",
       "    </tr>\n",
       "    <tr>\n",
       "      <th>4</th>\n",
       "      <td>37</td>\n",
       "      <td>Private</td>\n",
       "      <td>284582</td>\n",
       "      <td>Masters</td>\n",
       "      <td>14</td>\n",
       "      <td>Married-civ-spouse</td>\n",
       "      <td>Exec-managerial</td>\n",
       "      <td>Wife</td>\n",
       "      <td>White</td>\n",
       "      <td>Female</td>\n",
       "      <td>0</td>\n",
       "      <td>0</td>\n",
       "      <td>40</td>\n",
       "      <td>United-States</td>\n",
       "      <td>&lt;=50K</td>\n",
       "    </tr>\n",
       "  </tbody>\n",
       "</table>\n",
       "</div>"
      ],
      "text/plain": [
       "   age          workclass  fnlwgt   education  education_num  \\\n",
       "0   50   Self-emp-not-inc   83311   Bachelors             13   \n",
       "1   38            Private  215646     HS-grad              9   \n",
       "2   53            Private  234721        11th              7   \n",
       "3   28            Private  338409   Bachelors             13   \n",
       "4   37            Private  284582     Masters             14   \n",
       "\n",
       "        marital_status          occupation    relationship    race      sex  \\\n",
       "0   Married-civ-spouse     Exec-managerial         Husband   White     Male   \n",
       "1             Divorced   Handlers-cleaners   Not-in-family   White     Male   \n",
       "2   Married-civ-spouse   Handlers-cleaners         Husband   Black     Male   \n",
       "3   Married-civ-spouse      Prof-specialty            Wife   Black   Female   \n",
       "4   Married-civ-spouse     Exec-managerial            Wife   White   Female   \n",
       "\n",
       "   capital_gain  capital_loss  hours_per_week  native_country wage_class  \n",
       "0             0             0              13   United-States      <=50K  \n",
       "1             0             0              40   United-States      <=50K  \n",
       "2             0             0              40   United-States      <=50K  \n",
       "3             0             0              40            Cuba      <=50K  \n",
       "4             0             0              40   United-States      <=50K  "
      ]
     },
     "execution_count": 44,
     "metadata": {},
     "output_type": "execute_result"
    }
   ],
   "source": [
    "X_train.head()"
   ]
  },
  {
   "cell_type": "code",
   "execution_count": null,
   "metadata": {},
   "outputs": [
    {
     "data": {
      "text/plain": [
       "{' <=50K': 0, ' >50K': 1}"
      ]
     },
     "execution_count": 45,
     "metadata": {},
     "output_type": "execute_result"
    }
   ],
   "source": [
    "# function to encode Wage Class\n",
    "dict_wage_class = {}\n",
    "count = 0\n",
    "for i in X_train.wage_class.unique():\n",
    "    dict_wage_class[i] = count\n",
    "    count +=1\n",
    "    \n",
    "dict_wage_class"
   ]
  },
  {
   "cell_type": "code",
   "execution_count": null,
   "metadata": {},
   "outputs": [],
   "source": [
    "\n",
    "# Mapping the categorical values against the corresponding numeric values for the respective columns for training dataset \n",
    "\n",
    "X_train['sex'] = X_train['sex'].map(dict_sex)\n",
    "X_train['education'] = X_train['education'].map(dict_education)\n",
    "X_train['wage_class'] = X_train['wage_class'].map(dict_wage_class)\n",
    "X_train['native_country'] = X_train['native_country'].map(dict_native_country)\n",
    "X_train['race'] = X_train['race'].map(dict_race)\n",
    "X_train['occupation']=X_train['occupation'].map(dict_occupation)\n",
    "X_train['marital_status'] = X_train['marital_status'].map(dict_marital_status)\n",
    "X_train['workclass'] = X_train['workclass'].map(dict_workclass)\n",
    "X_train['relationship'] = X_train['relationship'].map(dict_relationship)"
   ]
  },
  {
   "cell_type": "code",
   "execution_count": null,
   "metadata": {},
   "outputs": [
    {
     "data": {
      "application/vnd.microsoft.datawrangler.viewer.v0+json": {
       "columns": [
        {
         "name": "index",
         "rawType": "int64",
         "type": "integer"
        },
        {
         "name": "age",
         "rawType": "int64",
         "type": "integer"
        },
        {
         "name": "workclass",
         "rawType": "int64",
         "type": "integer"
        },
        {
         "name": "fnlwgt",
         "rawType": "int64",
         "type": "integer"
        },
        {
         "name": "education",
         "rawType": "int64",
         "type": "integer"
        },
        {
         "name": "education_num",
         "rawType": "int64",
         "type": "integer"
        },
        {
         "name": "marital_status",
         "rawType": "int64",
         "type": "integer"
        },
        {
         "name": "occupation",
         "rawType": "int64",
         "type": "integer"
        },
        {
         "name": "relationship",
         "rawType": "int64",
         "type": "integer"
        },
        {
         "name": "race",
         "rawType": "int64",
         "type": "integer"
        },
        {
         "name": "sex",
         "rawType": "int64",
         "type": "integer"
        },
        {
         "name": "capital_gain",
         "rawType": "int64",
         "type": "integer"
        },
        {
         "name": "capital_loss",
         "rawType": "int64",
         "type": "integer"
        },
        {
         "name": "hours_per_week",
         "rawType": "int64",
         "type": "integer"
        },
        {
         "name": "native_country",
         "rawType": "int64",
         "type": "integer"
        },
        {
         "name": "wage_class",
         "rawType": "int64",
         "type": "integer"
        }
       ],
       "conversionMethod": "pd.DataFrame",
       "ref": "363e58c9-83fb-4827-827a-8aa43016da7e",
       "rows": [
        [
         "0",
         "50",
         "0",
         "83311",
         "0",
         "13",
         "0",
         "0",
         "0",
         "0",
         "0",
         "0",
         "0",
         "13",
         "0",
         "0"
        ],
        [
         "1",
         "38",
         "1",
         "215646",
         "1",
         "9",
         "1",
         "1",
         "1",
         "0",
         "0",
         "0",
         "0",
         "40",
         "0",
         "0"
        ],
        [
         "2",
         "53",
         "1",
         "234721",
         "2",
         "7",
         "0",
         "1",
         "0",
         "1",
         "0",
         "0",
         "0",
         "40",
         "0",
         "0"
        ],
        [
         "3",
         "28",
         "1",
         "338409",
         "0",
         "13",
         "0",
         "2",
         "2",
         "1",
         "1",
         "0",
         "0",
         "40",
         "1",
         "0"
        ],
        [
         "4",
         "37",
         "1",
         "284582",
         "3",
         "14",
         "0",
         "0",
         "2",
         "0",
         "1",
         "0",
         "0",
         "40",
         "0",
         "0"
        ]
       ],
       "shape": {
        "columns": 15,
        "rows": 5
       }
      },
      "text/html": [
       "<div>\n",
       "<style scoped>\n",
       "    .dataframe tbody tr th:only-of-type {\n",
       "        vertical-align: middle;\n",
       "    }\n",
       "\n",
       "    .dataframe tbody tr th {\n",
       "        vertical-align: top;\n",
       "    }\n",
       "\n",
       "    .dataframe thead th {\n",
       "        text-align: right;\n",
       "    }\n",
       "</style>\n",
       "<table border=\"1\" class=\"dataframe\">\n",
       "  <thead>\n",
       "    <tr style=\"text-align: right;\">\n",
       "      <th></th>\n",
       "      <th>age</th>\n",
       "      <th>workclass</th>\n",
       "      <th>fnlwgt</th>\n",
       "      <th>education</th>\n",
       "      <th>education_num</th>\n",
       "      <th>marital_status</th>\n",
       "      <th>occupation</th>\n",
       "      <th>relationship</th>\n",
       "      <th>race</th>\n",
       "      <th>sex</th>\n",
       "      <th>capital_gain</th>\n",
       "      <th>capital_loss</th>\n",
       "      <th>hours_per_week</th>\n",
       "      <th>native_country</th>\n",
       "      <th>wage_class</th>\n",
       "    </tr>\n",
       "  </thead>\n",
       "  <tbody>\n",
       "    <tr>\n",
       "      <th>0</th>\n",
       "      <td>50</td>\n",
       "      <td>0</td>\n",
       "      <td>83311</td>\n",
       "      <td>0</td>\n",
       "      <td>13</td>\n",
       "      <td>0</td>\n",
       "      <td>0</td>\n",
       "      <td>0</td>\n",
       "      <td>0</td>\n",
       "      <td>0</td>\n",
       "      <td>0</td>\n",
       "      <td>0</td>\n",
       "      <td>13</td>\n",
       "      <td>0</td>\n",
       "      <td>0</td>\n",
       "    </tr>\n",
       "    <tr>\n",
       "      <th>1</th>\n",
       "      <td>38</td>\n",
       "      <td>1</td>\n",
       "      <td>215646</td>\n",
       "      <td>1</td>\n",
       "      <td>9</td>\n",
       "      <td>1</td>\n",
       "      <td>1</td>\n",
       "      <td>1</td>\n",
       "      <td>0</td>\n",
       "      <td>0</td>\n",
       "      <td>0</td>\n",
       "      <td>0</td>\n",
       "      <td>40</td>\n",
       "      <td>0</td>\n",
       "      <td>0</td>\n",
       "    </tr>\n",
       "    <tr>\n",
       "      <th>2</th>\n",
       "      <td>53</td>\n",
       "      <td>1</td>\n",
       "      <td>234721</td>\n",
       "      <td>2</td>\n",
       "      <td>7</td>\n",
       "      <td>0</td>\n",
       "      <td>1</td>\n",
       "      <td>0</td>\n",
       "      <td>1</td>\n",
       "      <td>0</td>\n",
       "      <td>0</td>\n",
       "      <td>0</td>\n",
       "      <td>40</td>\n",
       "      <td>0</td>\n",
       "      <td>0</td>\n",
       "    </tr>\n",
       "    <tr>\n",
       "      <th>3</th>\n",
       "      <td>28</td>\n",
       "      <td>1</td>\n",
       "      <td>338409</td>\n",
       "      <td>0</td>\n",
       "      <td>13</td>\n",
       "      <td>0</td>\n",
       "      <td>2</td>\n",
       "      <td>2</td>\n",
       "      <td>1</td>\n",
       "      <td>1</td>\n",
       "      <td>0</td>\n",
       "      <td>0</td>\n",
       "      <td>40</td>\n",
       "      <td>1</td>\n",
       "      <td>0</td>\n",
       "    </tr>\n",
       "    <tr>\n",
       "      <th>4</th>\n",
       "      <td>37</td>\n",
       "      <td>1</td>\n",
       "      <td>284582</td>\n",
       "      <td>3</td>\n",
       "      <td>14</td>\n",
       "      <td>0</td>\n",
       "      <td>0</td>\n",
       "      <td>2</td>\n",
       "      <td>0</td>\n",
       "      <td>1</td>\n",
       "      <td>0</td>\n",
       "      <td>0</td>\n",
       "      <td>40</td>\n",
       "      <td>0</td>\n",
       "      <td>0</td>\n",
       "    </tr>\n",
       "  </tbody>\n",
       "</table>\n",
       "</div>"
      ],
      "text/plain": [
       "   age  workclass  fnlwgt  education  education_num  marital_status  \\\n",
       "0   50          0   83311          0             13               0   \n",
       "1   38          1  215646          1              9               1   \n",
       "2   53          1  234721          2              7               0   \n",
       "3   28          1  338409          0             13               0   \n",
       "4   37          1  284582          3             14               0   \n",
       "\n",
       "   occupation  relationship  race  sex  capital_gain  capital_loss  \\\n",
       "0           0             0     0    0             0             0   \n",
       "1           1             1     0    0             0             0   \n",
       "2           1             0     1    0             0             0   \n",
       "3           2             2     1    1             0             0   \n",
       "4           0             2     0    1             0             0   \n",
       "\n",
       "   hours_per_week  native_country  wage_class  \n",
       "0              13               0           0  \n",
       "1              40               0           0  \n",
       "2              40               0           0  \n",
       "3              40               1           0  \n",
       "4              40               0           0  "
      ]
     },
     "execution_count": 47,
     "metadata": {},
     "output_type": "execute_result"
    }
   ],
   "source": [
    "# looking at the data after converting categorical columns to numerical ones\n",
    "X_train.head()"
   ]
  },
  {
   "cell_type": "code",
   "execution_count": null,
   "metadata": {},
   "outputs": [
    {
     "data": {
      "text/plain": [
       "age               0\n",
       "workclass         0\n",
       "fnlwgt            0\n",
       "education         0\n",
       "education_num     0\n",
       "marital_status    0\n",
       "occupation        0\n",
       "relationship      0\n",
       "race              0\n",
       "sex               0\n",
       "capital_gain      0\n",
       "capital_loss      0\n",
       "hours_per_week    0\n",
       "native_country    0\n",
       "wage_class        0\n",
       "dtype: int64"
      ]
     },
     "execution_count": 48,
     "metadata": {},
     "output_type": "execute_result"
    }
   ],
   "source": [
    "# checking the training set for null values\n",
    "X_train.isnull().sum()  "
   ]
  },
  {
   "cell_type": "code",
   "execution_count": null,
   "metadata": {},
   "outputs": [
    {
     "data": {
      "application/vnd.microsoft.datawrangler.viewer.v0+json": {
       "columns": [
        {
         "name": "index",
         "rawType": "object",
         "type": "string"
        },
        {
         "name": "age",
         "rawType": "float64",
         "type": "float"
        },
        {
         "name": "workclass",
         "rawType": "float64",
         "type": "float"
        },
        {
         "name": "fnlwgt",
         "rawType": "float64",
         "type": "float"
        },
        {
         "name": "education",
         "rawType": "float64",
         "type": "float"
        },
        {
         "name": "education_num",
         "rawType": "float64",
         "type": "float"
        },
        {
         "name": "marital_status",
         "rawType": "float64",
         "type": "float"
        },
        {
         "name": "occupation",
         "rawType": "float64",
         "type": "float"
        },
        {
         "name": "relationship",
         "rawType": "float64",
         "type": "float"
        },
        {
         "name": "race",
         "rawType": "float64",
         "type": "float"
        },
        {
         "name": "sex",
         "rawType": "float64",
         "type": "float"
        },
        {
         "name": "capital_gain",
         "rawType": "float64",
         "type": "float"
        },
        {
         "name": "capital_loss",
         "rawType": "float64",
         "type": "float"
        },
        {
         "name": "hours_per_week",
         "rawType": "float64",
         "type": "float"
        },
        {
         "name": "native_country",
         "rawType": "float64",
         "type": "float"
        },
        {
         "name": "wage_class",
         "rawType": "float64",
         "type": "float"
        }
       ],
       "conversionMethod": "pd.DataFrame",
       "ref": "df8fb4e3-bc3d-4e1f-a89a-207db8044adc",
       "rows": [
        [
         "count",
         "32560.0",
         "32560.0",
         "32560.0",
         "32560.0",
         "32560.0",
         "32560.0",
         "32560.0",
         "32560.0",
         "32560.0",
         "32560.0",
         "32560.0",
         "32560.0",
         "32560.0",
         "32560.0",
         "32560.0"
        ],
        [
         "mean",
         "38.581633906633904",
         "1.6146191646191645",
         "189781.81437346438",
         "3.4245700245700244",
         "10.08058968058968",
         "1.4587837837837838",
         "4.734275184275185",
         "1.3922911547911547",
         "0.22171375921375922",
         "0.3308046683046683",
         "1077.615171990172",
         "87.30651105651106",
         "40.437469287469284",
         "1.2903562653562655",
         "0.24081695331695332"
        ],
        [
         "std",
         "13.640641827464046",
         "1.4905565043844304",
         "105549.76492437706",
         "3.4535824757545552",
         "2.572708968105275",
         "1.6222625740435102",
         "3.3295178363886815",
         "1.5351594147093197",
         "0.6273565389141328",
         "0.47051008370131553",
         "7385.402998549865",
         "402.96611627966286",
         "12.347618058480544",
         "5.045445888473466",
         "0.42758597202988197"
        ],
        [
         "min",
         "17.0",
         "0.0",
         "12285.0",
         "0.0",
         "1.0",
         "0.0",
         "0.0",
         "0.0",
         "0.0",
         "0.0",
         "0.0",
         "0.0",
         "1.0",
         "0.0",
         "0.0"
        ],
        [
         "25%",
         "28.0",
         "1.0",
         "117831.5",
         "1.0",
         "9.0",
         "0.0",
         "2.0",
         "0.0",
         "0.0",
         "0.0",
         "0.0",
         "0.0",
         "40.0",
         "0.0",
         "0.0"
        ],
        [
         "50%",
         "37.0",
         "1.0",
         "178363.0",
         "2.0",
         "10.0",
         "1.0",
         "4.0",
         "1.0",
         "0.0",
         "0.0",
         "0.0",
         "0.0",
         "40.0",
         "0.0",
         "0.0"
        ],
        [
         "75%",
         "48.0",
         "1.0",
         "237054.5",
         "5.0",
         "12.0",
         "3.0",
         "7.0",
         "3.0",
         "0.0",
         "1.0",
         "0.0",
         "0.0",
         "45.0",
         "0.0",
         "0.0"
        ],
        [
         "max",
         "90.0",
         "8.0",
         "1484705.0",
         "15.0",
         "16.0",
         "6.0",
         "14.0",
         "5.0",
         "4.0",
         "1.0",
         "99999.0",
         "4356.0",
         "99.0",
         "41.0",
         "1.0"
        ]
       ],
       "shape": {
        "columns": 15,
        "rows": 8
       }
      },
      "text/html": [
       "<div>\n",
       "<style scoped>\n",
       "    .dataframe tbody tr th:only-of-type {\n",
       "        vertical-align: middle;\n",
       "    }\n",
       "\n",
       "    .dataframe tbody tr th {\n",
       "        vertical-align: top;\n",
       "    }\n",
       "\n",
       "    .dataframe thead th {\n",
       "        text-align: right;\n",
       "    }\n",
       "</style>\n",
       "<table border=\"1\" class=\"dataframe\">\n",
       "  <thead>\n",
       "    <tr style=\"text-align: right;\">\n",
       "      <th></th>\n",
       "      <th>age</th>\n",
       "      <th>workclass</th>\n",
       "      <th>fnlwgt</th>\n",
       "      <th>education</th>\n",
       "      <th>education_num</th>\n",
       "      <th>marital_status</th>\n",
       "      <th>occupation</th>\n",
       "      <th>relationship</th>\n",
       "      <th>race</th>\n",
       "      <th>sex</th>\n",
       "      <th>capital_gain</th>\n",
       "      <th>capital_loss</th>\n",
       "      <th>hours_per_week</th>\n",
       "      <th>native_country</th>\n",
       "      <th>wage_class</th>\n",
       "    </tr>\n",
       "  </thead>\n",
       "  <tbody>\n",
       "    <tr>\n",
       "      <th>count</th>\n",
       "      <td>32560.000000</td>\n",
       "      <td>32560.000000</td>\n",
       "      <td>3.256000e+04</td>\n",
       "      <td>32560.000000</td>\n",
       "      <td>32560.000000</td>\n",
       "      <td>32560.000000</td>\n",
       "      <td>32560.000000</td>\n",
       "      <td>32560.000000</td>\n",
       "      <td>32560.000000</td>\n",
       "      <td>32560.000000</td>\n",
       "      <td>32560.000000</td>\n",
       "      <td>32560.000000</td>\n",
       "      <td>32560.000000</td>\n",
       "      <td>32560.000000</td>\n",
       "      <td>32560.000000</td>\n",
       "    </tr>\n",
       "    <tr>\n",
       "      <th>mean</th>\n",
       "      <td>38.581634</td>\n",
       "      <td>1.614619</td>\n",
       "      <td>1.897818e+05</td>\n",
       "      <td>3.424570</td>\n",
       "      <td>10.080590</td>\n",
       "      <td>1.458784</td>\n",
       "      <td>4.734275</td>\n",
       "      <td>1.392291</td>\n",
       "      <td>0.221714</td>\n",
       "      <td>0.330805</td>\n",
       "      <td>1077.615172</td>\n",
       "      <td>87.306511</td>\n",
       "      <td>40.437469</td>\n",
       "      <td>1.290356</td>\n",
       "      <td>0.240817</td>\n",
       "    </tr>\n",
       "    <tr>\n",
       "      <th>std</th>\n",
       "      <td>13.640642</td>\n",
       "      <td>1.490557</td>\n",
       "      <td>1.055498e+05</td>\n",
       "      <td>3.453582</td>\n",
       "      <td>2.572709</td>\n",
       "      <td>1.622263</td>\n",
       "      <td>3.329518</td>\n",
       "      <td>1.535159</td>\n",
       "      <td>0.627357</td>\n",
       "      <td>0.470510</td>\n",
       "      <td>7385.402999</td>\n",
       "      <td>402.966116</td>\n",
       "      <td>12.347618</td>\n",
       "      <td>5.045446</td>\n",
       "      <td>0.427586</td>\n",
       "    </tr>\n",
       "    <tr>\n",
       "      <th>min</th>\n",
       "      <td>17.000000</td>\n",
       "      <td>0.000000</td>\n",
       "      <td>1.228500e+04</td>\n",
       "      <td>0.000000</td>\n",
       "      <td>1.000000</td>\n",
       "      <td>0.000000</td>\n",
       "      <td>0.000000</td>\n",
       "      <td>0.000000</td>\n",
       "      <td>0.000000</td>\n",
       "      <td>0.000000</td>\n",
       "      <td>0.000000</td>\n",
       "      <td>0.000000</td>\n",
       "      <td>1.000000</td>\n",
       "      <td>0.000000</td>\n",
       "      <td>0.000000</td>\n",
       "    </tr>\n",
       "    <tr>\n",
       "      <th>25%</th>\n",
       "      <td>28.000000</td>\n",
       "      <td>1.000000</td>\n",
       "      <td>1.178315e+05</td>\n",
       "      <td>1.000000</td>\n",
       "      <td>9.000000</td>\n",
       "      <td>0.000000</td>\n",
       "      <td>2.000000</td>\n",
       "      <td>0.000000</td>\n",
       "      <td>0.000000</td>\n",
       "      <td>0.000000</td>\n",
       "      <td>0.000000</td>\n",
       "      <td>0.000000</td>\n",
       "      <td>40.000000</td>\n",
       "      <td>0.000000</td>\n",
       "      <td>0.000000</td>\n",
       "    </tr>\n",
       "    <tr>\n",
       "      <th>50%</th>\n",
       "      <td>37.000000</td>\n",
       "      <td>1.000000</td>\n",
       "      <td>1.783630e+05</td>\n",
       "      <td>2.000000</td>\n",
       "      <td>10.000000</td>\n",
       "      <td>1.000000</td>\n",
       "      <td>4.000000</td>\n",
       "      <td>1.000000</td>\n",
       "      <td>0.000000</td>\n",
       "      <td>0.000000</td>\n",
       "      <td>0.000000</td>\n",
       "      <td>0.000000</td>\n",
       "      <td>40.000000</td>\n",
       "      <td>0.000000</td>\n",
       "      <td>0.000000</td>\n",
       "    </tr>\n",
       "    <tr>\n",
       "      <th>75%</th>\n",
       "      <td>48.000000</td>\n",
       "      <td>1.000000</td>\n",
       "      <td>2.370545e+05</td>\n",
       "      <td>5.000000</td>\n",
       "      <td>12.000000</td>\n",
       "      <td>3.000000</td>\n",
       "      <td>7.000000</td>\n",
       "      <td>3.000000</td>\n",
       "      <td>0.000000</td>\n",
       "      <td>1.000000</td>\n",
       "      <td>0.000000</td>\n",
       "      <td>0.000000</td>\n",
       "      <td>45.000000</td>\n",
       "      <td>0.000000</td>\n",
       "      <td>0.000000</td>\n",
       "    </tr>\n",
       "    <tr>\n",
       "      <th>max</th>\n",
       "      <td>90.000000</td>\n",
       "      <td>8.000000</td>\n",
       "      <td>1.484705e+06</td>\n",
       "      <td>15.000000</td>\n",
       "      <td>16.000000</td>\n",
       "      <td>6.000000</td>\n",
       "      <td>14.000000</td>\n",
       "      <td>5.000000</td>\n",
       "      <td>4.000000</td>\n",
       "      <td>1.000000</td>\n",
       "      <td>99999.000000</td>\n",
       "      <td>4356.000000</td>\n",
       "      <td>99.000000</td>\n",
       "      <td>41.000000</td>\n",
       "      <td>1.000000</td>\n",
       "    </tr>\n",
       "  </tbody>\n",
       "</table>\n",
       "</div>"
      ],
      "text/plain": [
       "                age     workclass        fnlwgt     education  education_num  \\\n",
       "count  32560.000000  32560.000000  3.256000e+04  32560.000000   32560.000000   \n",
       "mean      38.581634      1.614619  1.897818e+05      3.424570      10.080590   \n",
       "std       13.640642      1.490557  1.055498e+05      3.453582       2.572709   \n",
       "min       17.000000      0.000000  1.228500e+04      0.000000       1.000000   \n",
       "25%       28.000000      1.000000  1.178315e+05      1.000000       9.000000   \n",
       "50%       37.000000      1.000000  1.783630e+05      2.000000      10.000000   \n",
       "75%       48.000000      1.000000  2.370545e+05      5.000000      12.000000   \n",
       "max       90.000000      8.000000  1.484705e+06     15.000000      16.000000   \n",
       "\n",
       "       marital_status    occupation  relationship          race           sex  \\\n",
       "count    32560.000000  32560.000000  32560.000000  32560.000000  32560.000000   \n",
       "mean         1.458784      4.734275      1.392291      0.221714      0.330805   \n",
       "std          1.622263      3.329518      1.535159      0.627357      0.470510   \n",
       "min          0.000000      0.000000      0.000000      0.000000      0.000000   \n",
       "25%          0.000000      2.000000      0.000000      0.000000      0.000000   \n",
       "50%          1.000000      4.000000      1.000000      0.000000      0.000000   \n",
       "75%          3.000000      7.000000      3.000000      0.000000      1.000000   \n",
       "max          6.000000     14.000000      5.000000      4.000000      1.000000   \n",
       "\n",
       "       capital_gain  capital_loss  hours_per_week  native_country  \\\n",
       "count  32560.000000  32560.000000    32560.000000    32560.000000   \n",
       "mean    1077.615172     87.306511       40.437469        1.290356   \n",
       "std     7385.402999    402.966116       12.347618        5.045446   \n",
       "min        0.000000      0.000000        1.000000        0.000000   \n",
       "25%        0.000000      0.000000       40.000000        0.000000   \n",
       "50%        0.000000      0.000000       40.000000        0.000000   \n",
       "75%        0.000000      0.000000       45.000000        0.000000   \n",
       "max    99999.000000   4356.000000       99.000000       41.000000   \n",
       "\n",
       "         wage_class  \n",
       "count  32560.000000  \n",
       "mean       0.240817  \n",
       "std        0.427586  \n",
       "min        0.000000  \n",
       "25%        0.000000  \n",
       "50%        0.000000  \n",
       "75%        0.000000  \n",
       "max        1.000000  "
      ]
     },
     "execution_count": 49,
     "metadata": {},
     "output_type": "execute_result"
    }
   ],
   "source": [
    "X_train.describe() #Generate descriptive statistics that summarize the central tendency,dispersion and shape of a dataset's distribution, excluding ``NaN`` values."
   ]
  },
  {
   "cell_type": "code",
   "execution_count": null,
   "metadata": {},
   "outputs": [
    {
     "name": "stdout",
     "output_type": "stream",
     "text": [
      "0    24719\n",
      "1     7841\n",
      "Name: wage_class, dtype: int64\n",
      " <=50K    12434\n",
      " >50K      3846\n",
      "Name: wage_class, dtype: int64\n"
     ]
    }
   ],
   "source": [
    "# Printing the counts of the individual values in the 'wage_class' column\n",
    "print(X_train.wage_class.value_counts())\n",
    "print(X_test.wage_class.value_counts())"
   ]
  },
  {
   "cell_type": "code",
   "execution_count": null,
   "metadata": {},
   "outputs": [
    {
     "data": {
      "application/vnd.microsoft.datawrangler.viewer.v0+json": {
       "columns": [
        {
         "name": "index",
         "rawType": "int64",
         "type": "integer"
        },
        {
         "name": "age",
         "rawType": "int64",
         "type": "integer"
        },
        {
         "name": "workclass",
         "rawType": "object",
         "type": "string"
        },
        {
         "name": "fnlwgt",
         "rawType": "int64",
         "type": "integer"
        },
        {
         "name": "education",
         "rawType": "object",
         "type": "string"
        },
        {
         "name": "education_num",
         "rawType": "int64",
         "type": "integer"
        },
        {
         "name": "marital_status",
         "rawType": "object",
         "type": "string"
        },
        {
         "name": "occupation",
         "rawType": "object",
         "type": "string"
        },
        {
         "name": "relationship",
         "rawType": "object",
         "type": "string"
        },
        {
         "name": "race",
         "rawType": "object",
         "type": "string"
        },
        {
         "name": "sex",
         "rawType": "object",
         "type": "string"
        },
        {
         "name": "capital_gain",
         "rawType": "int64",
         "type": "integer"
        },
        {
         "name": "capital_loss",
         "rawType": "int64",
         "type": "integer"
        },
        {
         "name": "hours_per_week",
         "rawType": "int64",
         "type": "integer"
        },
        {
         "name": "native_country",
         "rawType": "object",
         "type": "string"
        },
        {
         "name": "wage_class",
         "rawType": "object",
         "type": "string"
        }
       ],
       "conversionMethod": "pd.DataFrame",
       "ref": "e9dd9861-68a4-4390-8111-6542f94ee175",
       "rows": [
        [
         "0",
         "38",
         " Private",
         "89814",
         " HS-grad",
         "9",
         " Married-civ-spouse",
         " Farming-fishing",
         " Husband",
         " White",
         " Male",
         "0",
         "0",
         "50",
         " United-States",
         " <=50K"
        ],
        [
         "1",
         "28",
         " Local-gov",
         "336951",
         " Assoc-acdm",
         "12",
         " Married-civ-spouse",
         " Protective-serv",
         " Husband",
         " White",
         " Male",
         "0",
         "0",
         "40",
         " United-States",
         " >50K"
        ],
        [
         "2",
         "44",
         " Private",
         "160323",
         " Some-college",
         "10",
         " Married-civ-spouse",
         " Machine-op-inspct",
         " Husband",
         " Black",
         " Male",
         "7688",
         "0",
         "40",
         " United-States",
         " >50K"
        ],
        [
         "3",
         "18",
         " ?",
         "103497",
         " Some-college",
         "10",
         " Never-married",
         " ?",
         " Own-child",
         " White",
         " Female",
         "0",
         "0",
         "30",
         " United-States",
         " <=50K"
        ],
        [
         "4",
         "34",
         " Private",
         "198693",
         " 10th",
         "6",
         " Never-married",
         " Other-service",
         " Not-in-family",
         " White",
         " Male",
         "0",
         "0",
         "30",
         " United-States",
         " <=50K"
        ]
       ],
       "shape": {
        "columns": 15,
        "rows": 5
       }
      },
      "text/html": [
       "<div>\n",
       "<style scoped>\n",
       "    .dataframe tbody tr th:only-of-type {\n",
       "        vertical-align: middle;\n",
       "    }\n",
       "\n",
       "    .dataframe tbody tr th {\n",
       "        vertical-align: top;\n",
       "    }\n",
       "\n",
       "    .dataframe thead th {\n",
       "        text-align: right;\n",
       "    }\n",
       "</style>\n",
       "<table border=\"1\" class=\"dataframe\">\n",
       "  <thead>\n",
       "    <tr style=\"text-align: right;\">\n",
       "      <th></th>\n",
       "      <th>age</th>\n",
       "      <th>workclass</th>\n",
       "      <th>fnlwgt</th>\n",
       "      <th>education</th>\n",
       "      <th>education_num</th>\n",
       "      <th>marital_status</th>\n",
       "      <th>occupation</th>\n",
       "      <th>relationship</th>\n",
       "      <th>race</th>\n",
       "      <th>sex</th>\n",
       "      <th>capital_gain</th>\n",
       "      <th>capital_loss</th>\n",
       "      <th>hours_per_week</th>\n",
       "      <th>native_country</th>\n",
       "      <th>wage_class</th>\n",
       "    </tr>\n",
       "  </thead>\n",
       "  <tbody>\n",
       "    <tr>\n",
       "      <th>0</th>\n",
       "      <td>38</td>\n",
       "      <td>Private</td>\n",
       "      <td>89814</td>\n",
       "      <td>HS-grad</td>\n",
       "      <td>9</td>\n",
       "      <td>Married-civ-spouse</td>\n",
       "      <td>Farming-fishing</td>\n",
       "      <td>Husband</td>\n",
       "      <td>White</td>\n",
       "      <td>Male</td>\n",
       "      <td>0</td>\n",
       "      <td>0</td>\n",
       "      <td>50</td>\n",
       "      <td>United-States</td>\n",
       "      <td>&lt;=50K</td>\n",
       "    </tr>\n",
       "    <tr>\n",
       "      <th>1</th>\n",
       "      <td>28</td>\n",
       "      <td>Local-gov</td>\n",
       "      <td>336951</td>\n",
       "      <td>Assoc-acdm</td>\n",
       "      <td>12</td>\n",
       "      <td>Married-civ-spouse</td>\n",
       "      <td>Protective-serv</td>\n",
       "      <td>Husband</td>\n",
       "      <td>White</td>\n",
       "      <td>Male</td>\n",
       "      <td>0</td>\n",
       "      <td>0</td>\n",
       "      <td>40</td>\n",
       "      <td>United-States</td>\n",
       "      <td>&gt;50K</td>\n",
       "    </tr>\n",
       "    <tr>\n",
       "      <th>2</th>\n",
       "      <td>44</td>\n",
       "      <td>Private</td>\n",
       "      <td>160323</td>\n",
       "      <td>Some-college</td>\n",
       "      <td>10</td>\n",
       "      <td>Married-civ-spouse</td>\n",
       "      <td>Machine-op-inspct</td>\n",
       "      <td>Husband</td>\n",
       "      <td>Black</td>\n",
       "      <td>Male</td>\n",
       "      <td>7688</td>\n",
       "      <td>0</td>\n",
       "      <td>40</td>\n",
       "      <td>United-States</td>\n",
       "      <td>&gt;50K</td>\n",
       "    </tr>\n",
       "    <tr>\n",
       "      <th>3</th>\n",
       "      <td>18</td>\n",
       "      <td>?</td>\n",
       "      <td>103497</td>\n",
       "      <td>Some-college</td>\n",
       "      <td>10</td>\n",
       "      <td>Never-married</td>\n",
       "      <td>?</td>\n",
       "      <td>Own-child</td>\n",
       "      <td>White</td>\n",
       "      <td>Female</td>\n",
       "      <td>0</td>\n",
       "      <td>0</td>\n",
       "      <td>30</td>\n",
       "      <td>United-States</td>\n",
       "      <td>&lt;=50K</td>\n",
       "    </tr>\n",
       "    <tr>\n",
       "      <th>4</th>\n",
       "      <td>34</td>\n",
       "      <td>Private</td>\n",
       "      <td>198693</td>\n",
       "      <td>10th</td>\n",
       "      <td>6</td>\n",
       "      <td>Never-married</td>\n",
       "      <td>Other-service</td>\n",
       "      <td>Not-in-family</td>\n",
       "      <td>White</td>\n",
       "      <td>Male</td>\n",
       "      <td>0</td>\n",
       "      <td>0</td>\n",
       "      <td>30</td>\n",
       "      <td>United-States</td>\n",
       "      <td>&lt;=50K</td>\n",
       "    </tr>\n",
       "  </tbody>\n",
       "</table>\n",
       "</div>"
      ],
      "text/plain": [
       "   age   workclass  fnlwgt      education  education_num       marital_status  \\\n",
       "0   38     Private   89814        HS-grad              9   Married-civ-spouse   \n",
       "1   28   Local-gov  336951     Assoc-acdm             12   Married-civ-spouse   \n",
       "2   44     Private  160323   Some-college             10   Married-civ-spouse   \n",
       "3   18           ?  103497   Some-college             10        Never-married   \n",
       "4   34     Private  198693           10th              6        Never-married   \n",
       "\n",
       "           occupation    relationship    race      sex  capital_gain  \\\n",
       "0     Farming-fishing         Husband   White     Male             0   \n",
       "1     Protective-serv         Husband   White     Male             0   \n",
       "2   Machine-op-inspct         Husband   Black     Male          7688   \n",
       "3                   ?       Own-child   White   Female             0   \n",
       "4       Other-service   Not-in-family   White     Male             0   \n",
       "\n",
       "   capital_loss  hours_per_week  native_country wage_class  \n",
       "0             0              50   United-States      <=50K  \n",
       "1             0              40   United-States       >50K  \n",
       "2             0              40   United-States       >50K  \n",
       "3             0              30   United-States      <=50K  \n",
       "4             0              30   United-States      <=50K  "
      ]
     },
     "execution_count": 51,
     "metadata": {},
     "output_type": "execute_result"
    }
   ],
   "source": [
    "# looking at the test data before converting categorical columns to numerical ones\n",
    "X_test.head()"
   ]
  },
  {
   "cell_type": "code",
   "execution_count": null,
   "metadata": {},
   "outputs": [],
   "source": [
    "# Mapping the categorical values against the corresponding numeric values for the respective columns for test dataset\n",
    "X_test['sex'] = X_test['sex'].map(dict_sex)\n",
    "X_test['education'] = X_test['education'].map(dict_education)\n",
    "X_test['wage_class'] = X_test['wage_class'].map(dict_wage_class)\n",
    "X_test['native_country'] = X_test['native_country'].map(dict_native_country)\n",
    "X_test['race'] = X_test['race'].map(dict_race)\n",
    "X_test['occupation']=X_test['occupation'].map(dict_occupation)\n",
    "X_test['marital_status'] = X_test['marital_status'].map(dict_marital_status)\n",
    "X_test['workclass'] = X_test['workclass'].map(dict_workclass)\n",
    "X_test['relationship'] = X_test['relationship'].map(dict_relationship)"
   ]
  },
  {
   "cell_type": "code",
   "execution_count": null,
   "metadata": {},
   "outputs": [
    {
     "data": {
      "application/vnd.microsoft.datawrangler.viewer.v0+json": {
       "columns": [
        {
         "name": "index",
         "rawType": "int64",
         "type": "integer"
        },
        {
         "name": "age",
         "rawType": "int64",
         "type": "integer"
        },
        {
         "name": "workclass",
         "rawType": "int64",
         "type": "integer"
        },
        {
         "name": "fnlwgt",
         "rawType": "int64",
         "type": "integer"
        },
        {
         "name": "education",
         "rawType": "int64",
         "type": "integer"
        },
        {
         "name": "education_num",
         "rawType": "int64",
         "type": "integer"
        },
        {
         "name": "marital_status",
         "rawType": "int64",
         "type": "integer"
        },
        {
         "name": "occupation",
         "rawType": "int64",
         "type": "integer"
        },
        {
         "name": "relationship",
         "rawType": "int64",
         "type": "integer"
        },
        {
         "name": "race",
         "rawType": "int64",
         "type": "integer"
        },
        {
         "name": "sex",
         "rawType": "int64",
         "type": "integer"
        },
        {
         "name": "capital_gain",
         "rawType": "int64",
         "type": "integer"
        },
        {
         "name": "capital_loss",
         "rawType": "int64",
         "type": "integer"
        },
        {
         "name": "hours_per_week",
         "rawType": "int64",
         "type": "integer"
        },
        {
         "name": "native_country",
         "rawType": "int64",
         "type": "integer"
        },
        {
         "name": "wage_class",
         "rawType": "int64",
         "type": "integer"
        }
       ],
       "conversionMethod": "pd.DataFrame",
       "ref": "f6536d78-dc34-40ba-bd1e-971e4260a376",
       "rows": [
        [
         "0",
         "38",
         "1",
         "89814",
         "1",
         "9",
         "0",
         "8",
         "0",
         "0",
         "0",
         "0",
         "0",
         "50",
         "0",
         "0"
        ],
        [
         "1",
         "28",
         "4",
         "336951",
         "6",
         "12",
         "0",
         "12",
         "0",
         "0",
         "0",
         "0",
         "0",
         "40",
         "0",
         "1"
        ],
        [
         "2",
         "44",
         "1",
         "160323",
         "5",
         "10",
         "0",
         "9",
         "0",
         "1",
         "0",
         "7688",
         "0",
         "40",
         "0",
         "1"
        ],
        [
         "3",
         "18",
         "5",
         "103497",
         "5",
         "10",
         "3",
         "11",
         "3",
         "0",
         "1",
         "0",
         "0",
         "30",
         "0",
         "0"
        ],
        [
         "4",
         "34",
         "1",
         "198693",
         "12",
         "6",
         "3",
         "3",
         "1",
         "0",
         "0",
         "0",
         "0",
         "30",
         "0",
         "0"
        ]
       ],
       "shape": {
        "columns": 15,
        "rows": 5
       }
      },
      "text/html": [
       "<div>\n",
       "<style scoped>\n",
       "    .dataframe tbody tr th:only-of-type {\n",
       "        vertical-align: middle;\n",
       "    }\n",
       "\n",
       "    .dataframe tbody tr th {\n",
       "        vertical-align: top;\n",
       "    }\n",
       "\n",
       "    .dataframe thead th {\n",
       "        text-align: right;\n",
       "    }\n",
       "</style>\n",
       "<table border=\"1\" class=\"dataframe\">\n",
       "  <thead>\n",
       "    <tr style=\"text-align: right;\">\n",
       "      <th></th>\n",
       "      <th>age</th>\n",
       "      <th>workclass</th>\n",
       "      <th>fnlwgt</th>\n",
       "      <th>education</th>\n",
       "      <th>education_num</th>\n",
       "      <th>marital_status</th>\n",
       "      <th>occupation</th>\n",
       "      <th>relationship</th>\n",
       "      <th>race</th>\n",
       "      <th>sex</th>\n",
       "      <th>capital_gain</th>\n",
       "      <th>capital_loss</th>\n",
       "      <th>hours_per_week</th>\n",
       "      <th>native_country</th>\n",
       "      <th>wage_class</th>\n",
       "    </tr>\n",
       "  </thead>\n",
       "  <tbody>\n",
       "    <tr>\n",
       "      <th>0</th>\n",
       "      <td>38</td>\n",
       "      <td>1</td>\n",
       "      <td>89814</td>\n",
       "      <td>1</td>\n",
       "      <td>9</td>\n",
       "      <td>0</td>\n",
       "      <td>8</td>\n",
       "      <td>0</td>\n",
       "      <td>0</td>\n",
       "      <td>0</td>\n",
       "      <td>0</td>\n",
       "      <td>0</td>\n",
       "      <td>50</td>\n",
       "      <td>0</td>\n",
       "      <td>0</td>\n",
       "    </tr>\n",
       "    <tr>\n",
       "      <th>1</th>\n",
       "      <td>28</td>\n",
       "      <td>4</td>\n",
       "      <td>336951</td>\n",
       "      <td>6</td>\n",
       "      <td>12</td>\n",
       "      <td>0</td>\n",
       "      <td>12</td>\n",
       "      <td>0</td>\n",
       "      <td>0</td>\n",
       "      <td>0</td>\n",
       "      <td>0</td>\n",
       "      <td>0</td>\n",
       "      <td>40</td>\n",
       "      <td>0</td>\n",
       "      <td>1</td>\n",
       "    </tr>\n",
       "    <tr>\n",
       "      <th>2</th>\n",
       "      <td>44</td>\n",
       "      <td>1</td>\n",
       "      <td>160323</td>\n",
       "      <td>5</td>\n",
       "      <td>10</td>\n",
       "      <td>0</td>\n",
       "      <td>9</td>\n",
       "      <td>0</td>\n",
       "      <td>1</td>\n",
       "      <td>0</td>\n",
       "      <td>7688</td>\n",
       "      <td>0</td>\n",
       "      <td>40</td>\n",
       "      <td>0</td>\n",
       "      <td>1</td>\n",
       "    </tr>\n",
       "    <tr>\n",
       "      <th>3</th>\n",
       "      <td>18</td>\n",
       "      <td>5</td>\n",
       "      <td>103497</td>\n",
       "      <td>5</td>\n",
       "      <td>10</td>\n",
       "      <td>3</td>\n",
       "      <td>11</td>\n",
       "      <td>3</td>\n",
       "      <td>0</td>\n",
       "      <td>1</td>\n",
       "      <td>0</td>\n",
       "      <td>0</td>\n",
       "      <td>30</td>\n",
       "      <td>0</td>\n",
       "      <td>0</td>\n",
       "    </tr>\n",
       "    <tr>\n",
       "      <th>4</th>\n",
       "      <td>34</td>\n",
       "      <td>1</td>\n",
       "      <td>198693</td>\n",
       "      <td>12</td>\n",
       "      <td>6</td>\n",
       "      <td>3</td>\n",
       "      <td>3</td>\n",
       "      <td>1</td>\n",
       "      <td>0</td>\n",
       "      <td>0</td>\n",
       "      <td>0</td>\n",
       "      <td>0</td>\n",
       "      <td>30</td>\n",
       "      <td>0</td>\n",
       "      <td>0</td>\n",
       "    </tr>\n",
       "  </tbody>\n",
       "</table>\n",
       "</div>"
      ],
      "text/plain": [
       "   age  workclass  fnlwgt  education  education_num  marital_status  \\\n",
       "0   38          1   89814          1              9               0   \n",
       "1   28          4  336951          6             12               0   \n",
       "2   44          1  160323          5             10               0   \n",
       "3   18          5  103497          5             10               3   \n",
       "4   34          1  198693         12              6               3   \n",
       "\n",
       "   occupation  relationship  race  sex  capital_gain  capital_loss  \\\n",
       "0           8             0     0    0             0             0   \n",
       "1          12             0     0    0             0             0   \n",
       "2           9             0     1    0          7688             0   \n",
       "3          11             3     0    1             0             0   \n",
       "4           3             1     0    0             0             0   \n",
       "\n",
       "   hours_per_week  native_country  wage_class  \n",
       "0              50               0           0  \n",
       "1              40               0           1  \n",
       "2              40               0           1  \n",
       "3              30               0           0  \n",
       "4              30               0           0  "
      ]
     },
     "execution_count": 53,
     "metadata": {},
     "output_type": "execute_result"
    }
   ],
   "source": [
    "# looking at the test data after converting categorical columns to numerical ones\n",
    "X_test.head()"
   ]
  },
  {
   "cell_type": "code",
   "execution_count": null,
   "metadata": {},
   "outputs": [
    {
     "data": {
      "text/plain": [
       "{' <=50K': 0, ' >50K': 1}"
      ]
     },
     "execution_count": 54,
     "metadata": {},
     "output_type": "execute_result"
    }
   ],
   "source": [
    "dict_wage_class"
   ]
  },
  {
   "cell_type": "code",
   "execution_count": null,
   "metadata": {},
   "outputs": [
    {
     "data": {
      "application/vnd.microsoft.datawrangler.viewer.v0+json": {
       "columns": [
        {
         "name": "index",
         "rawType": "object",
         "type": "string"
        },
        {
         "name": "age",
         "rawType": "float64",
         "type": "float"
        },
        {
         "name": "workclass",
         "rawType": "float64",
         "type": "float"
        },
        {
         "name": "fnlwgt",
         "rawType": "float64",
         "type": "float"
        },
        {
         "name": "education",
         "rawType": "float64",
         "type": "float"
        },
        {
         "name": "education_num",
         "rawType": "float64",
         "type": "float"
        },
        {
         "name": "marital_status",
         "rawType": "float64",
         "type": "float"
        },
        {
         "name": "occupation",
         "rawType": "float64",
         "type": "float"
        },
        {
         "name": "relationship",
         "rawType": "float64",
         "type": "float"
        },
        {
         "name": "race",
         "rawType": "float64",
         "type": "float"
        },
        {
         "name": "sex",
         "rawType": "float64",
         "type": "float"
        },
        {
         "name": "capital_gain",
         "rawType": "float64",
         "type": "float"
        },
        {
         "name": "capital_loss",
         "rawType": "float64",
         "type": "float"
        },
        {
         "name": "hours_per_week",
         "rawType": "float64",
         "type": "float"
        },
        {
         "name": "native_country",
         "rawType": "float64",
         "type": "float"
        },
        {
         "name": "wage_class",
         "rawType": "float64",
         "type": "float"
        }
       ],
       "conversionMethod": "pd.DataFrame",
       "ref": "f8aa6637-f6c2-4bb1-b48a-8c0721e90f13",
       "rows": [
        [
         "count",
         "16280.0",
         "16280.0",
         "16280.0",
         "16280.0",
         "16280.0",
         "16280.0",
         "16280.0",
         "16280.0",
         "16280.0",
         "16280.0",
         "16280.0",
         "16280.0",
         "16280.0",
         "16280.0",
         "16280.0"
        ],
        [
         "mean",
         "38.768304668304665",
         "1.6292997542997543",
         "189433.38255528256",
         "3.387039312039312",
         "10.073095823095823",
         "1.4833538083538083",
         "4.791216216216216",
         "1.393181818181818",
         "0.21726044226044225",
         "0.33298525798525797",
         "1081.9715601965602",
         "87.9046683046683",
         "40.392260442260444",
         "1.2412162162162161",
         "0.23624078624078623"
        ],
        [
         "std",
         "13.849191794073358",
         "1.5099201834708373",
         "105717.74891525942",
         "3.4408132189239713",
         "2.567511152590223",
         "1.6334599678084858",
         "3.3755219640734837",
         "1.534424750375795",
         "0.6222204519197992",
         "0.47129578787342574",
         "7584.164159816526",
         "403.1170778642484",
         "12.479715157975747",
         "4.942060914870952",
         "0.4247848406287348"
        ],
        [
         "min",
         "17.0",
         "0.0",
         "13492.0",
         "0.0",
         "1.0",
         "0.0",
         "0.0",
         "0.0",
         "0.0",
         "0.0",
         "0.0",
         "0.0",
         "1.0",
         "0.0",
         "0.0"
        ],
        [
         "25%",
         "28.0",
         "1.0",
         "116716.25",
         "1.0",
         "9.0",
         "0.0",
         "2.0",
         "0.0",
         "0.0",
         "0.0",
         "0.0",
         "0.0",
         "40.0",
         "0.0",
         "0.0"
        ],
        [
         "50%",
         "37.0",
         "1.0",
         "177829.5",
         "2.0",
         "10.0",
         "1.0",
         "4.0",
         "1.0",
         "0.0",
         "0.0",
         "0.0",
         "0.0",
         "40.0",
         "0.0",
         "0.0"
        ],
        [
         "75%",
         "48.0",
         "1.0",
         "238384.0",
         "5.0",
         "12.0",
         "3.0",
         "7.0",
         "3.0",
         "0.0",
         "1.0",
         "0.0",
         "0.0",
         "45.0",
         "0.0",
         "0.0"
        ],
        [
         "max",
         "90.0",
         "8.0",
         "1490400.0",
         "15.0",
         "16.0",
         "6.0",
         "14.0",
         "5.0",
         "4.0",
         "1.0",
         "99999.0",
         "3770.0",
         "99.0",
         "40.0",
         "1.0"
        ]
       ],
       "shape": {
        "columns": 15,
        "rows": 8
       }
      },
      "text/html": [
       "<div>\n",
       "<style scoped>\n",
       "    .dataframe tbody tr th:only-of-type {\n",
       "        vertical-align: middle;\n",
       "    }\n",
       "\n",
       "    .dataframe tbody tr th {\n",
       "        vertical-align: top;\n",
       "    }\n",
       "\n",
       "    .dataframe thead th {\n",
       "        text-align: right;\n",
       "    }\n",
       "</style>\n",
       "<table border=\"1\" class=\"dataframe\">\n",
       "  <thead>\n",
       "    <tr style=\"text-align: right;\">\n",
       "      <th></th>\n",
       "      <th>age</th>\n",
       "      <th>workclass</th>\n",
       "      <th>fnlwgt</th>\n",
       "      <th>education</th>\n",
       "      <th>education_num</th>\n",
       "      <th>marital_status</th>\n",
       "      <th>occupation</th>\n",
       "      <th>relationship</th>\n",
       "      <th>race</th>\n",
       "      <th>sex</th>\n",
       "      <th>capital_gain</th>\n",
       "      <th>capital_loss</th>\n",
       "      <th>hours_per_week</th>\n",
       "      <th>native_country</th>\n",
       "      <th>wage_class</th>\n",
       "    </tr>\n",
       "  </thead>\n",
       "  <tbody>\n",
       "    <tr>\n",
       "      <th>count</th>\n",
       "      <td>16280.000000</td>\n",
       "      <td>16280.00000</td>\n",
       "      <td>1.628000e+04</td>\n",
       "      <td>16280.000000</td>\n",
       "      <td>16280.000000</td>\n",
       "      <td>16280.000000</td>\n",
       "      <td>16280.000000</td>\n",
       "      <td>16280.000000</td>\n",
       "      <td>16280.00000</td>\n",
       "      <td>16280.000000</td>\n",
       "      <td>16280.00000</td>\n",
       "      <td>16280.000000</td>\n",
       "      <td>16280.000000</td>\n",
       "      <td>16280.000000</td>\n",
       "      <td>16280.000000</td>\n",
       "    </tr>\n",
       "    <tr>\n",
       "      <th>mean</th>\n",
       "      <td>38.768305</td>\n",
       "      <td>1.62930</td>\n",
       "      <td>1.894334e+05</td>\n",
       "      <td>3.387039</td>\n",
       "      <td>10.073096</td>\n",
       "      <td>1.483354</td>\n",
       "      <td>4.791216</td>\n",
       "      <td>1.393182</td>\n",
       "      <td>0.21726</td>\n",
       "      <td>0.332985</td>\n",
       "      <td>1081.97156</td>\n",
       "      <td>87.904668</td>\n",
       "      <td>40.392260</td>\n",
       "      <td>1.241216</td>\n",
       "      <td>0.236241</td>\n",
       "    </tr>\n",
       "    <tr>\n",
       "      <th>std</th>\n",
       "      <td>13.849192</td>\n",
       "      <td>1.50992</td>\n",
       "      <td>1.057177e+05</td>\n",
       "      <td>3.440813</td>\n",
       "      <td>2.567511</td>\n",
       "      <td>1.633460</td>\n",
       "      <td>3.375522</td>\n",
       "      <td>1.534425</td>\n",
       "      <td>0.62222</td>\n",
       "      <td>0.471296</td>\n",
       "      <td>7584.16416</td>\n",
       "      <td>403.117078</td>\n",
       "      <td>12.479715</td>\n",
       "      <td>4.942061</td>\n",
       "      <td>0.424785</td>\n",
       "    </tr>\n",
       "    <tr>\n",
       "      <th>min</th>\n",
       "      <td>17.000000</td>\n",
       "      <td>0.00000</td>\n",
       "      <td>1.349200e+04</td>\n",
       "      <td>0.000000</td>\n",
       "      <td>1.000000</td>\n",
       "      <td>0.000000</td>\n",
       "      <td>0.000000</td>\n",
       "      <td>0.000000</td>\n",
       "      <td>0.00000</td>\n",
       "      <td>0.000000</td>\n",
       "      <td>0.00000</td>\n",
       "      <td>0.000000</td>\n",
       "      <td>1.000000</td>\n",
       "      <td>0.000000</td>\n",
       "      <td>0.000000</td>\n",
       "    </tr>\n",
       "    <tr>\n",
       "      <th>25%</th>\n",
       "      <td>28.000000</td>\n",
       "      <td>1.00000</td>\n",
       "      <td>1.167162e+05</td>\n",
       "      <td>1.000000</td>\n",
       "      <td>9.000000</td>\n",
       "      <td>0.000000</td>\n",
       "      <td>2.000000</td>\n",
       "      <td>0.000000</td>\n",
       "      <td>0.00000</td>\n",
       "      <td>0.000000</td>\n",
       "      <td>0.00000</td>\n",
       "      <td>0.000000</td>\n",
       "      <td>40.000000</td>\n",
       "      <td>0.000000</td>\n",
       "      <td>0.000000</td>\n",
       "    </tr>\n",
       "    <tr>\n",
       "      <th>50%</th>\n",
       "      <td>37.000000</td>\n",
       "      <td>1.00000</td>\n",
       "      <td>1.778295e+05</td>\n",
       "      <td>2.000000</td>\n",
       "      <td>10.000000</td>\n",
       "      <td>1.000000</td>\n",
       "      <td>4.000000</td>\n",
       "      <td>1.000000</td>\n",
       "      <td>0.00000</td>\n",
       "      <td>0.000000</td>\n",
       "      <td>0.00000</td>\n",
       "      <td>0.000000</td>\n",
       "      <td>40.000000</td>\n",
       "      <td>0.000000</td>\n",
       "      <td>0.000000</td>\n",
       "    </tr>\n",
       "    <tr>\n",
       "      <th>75%</th>\n",
       "      <td>48.000000</td>\n",
       "      <td>1.00000</td>\n",
       "      <td>2.383840e+05</td>\n",
       "      <td>5.000000</td>\n",
       "      <td>12.000000</td>\n",
       "      <td>3.000000</td>\n",
       "      <td>7.000000</td>\n",
       "      <td>3.000000</td>\n",
       "      <td>0.00000</td>\n",
       "      <td>1.000000</td>\n",
       "      <td>0.00000</td>\n",
       "      <td>0.000000</td>\n",
       "      <td>45.000000</td>\n",
       "      <td>0.000000</td>\n",
       "      <td>0.000000</td>\n",
       "    </tr>\n",
       "    <tr>\n",
       "      <th>max</th>\n",
       "      <td>90.000000</td>\n",
       "      <td>8.00000</td>\n",
       "      <td>1.490400e+06</td>\n",
       "      <td>15.000000</td>\n",
       "      <td>16.000000</td>\n",
       "      <td>6.000000</td>\n",
       "      <td>14.000000</td>\n",
       "      <td>5.000000</td>\n",
       "      <td>4.00000</td>\n",
       "      <td>1.000000</td>\n",
       "      <td>99999.00000</td>\n",
       "      <td>3770.000000</td>\n",
       "      <td>99.000000</td>\n",
       "      <td>40.000000</td>\n",
       "      <td>1.000000</td>\n",
       "    </tr>\n",
       "  </tbody>\n",
       "</table>\n",
       "</div>"
      ],
      "text/plain": [
       "                age    workclass        fnlwgt     education  education_num  \\\n",
       "count  16280.000000  16280.00000  1.628000e+04  16280.000000   16280.000000   \n",
       "mean      38.768305      1.62930  1.894334e+05      3.387039      10.073096   \n",
       "std       13.849192      1.50992  1.057177e+05      3.440813       2.567511   \n",
       "min       17.000000      0.00000  1.349200e+04      0.000000       1.000000   \n",
       "25%       28.000000      1.00000  1.167162e+05      1.000000       9.000000   \n",
       "50%       37.000000      1.00000  1.778295e+05      2.000000      10.000000   \n",
       "75%       48.000000      1.00000  2.383840e+05      5.000000      12.000000   \n",
       "max       90.000000      8.00000  1.490400e+06     15.000000      16.000000   \n",
       "\n",
       "       marital_status    occupation  relationship         race           sex  \\\n",
       "count    16280.000000  16280.000000  16280.000000  16280.00000  16280.000000   \n",
       "mean         1.483354      4.791216      1.393182      0.21726      0.332985   \n",
       "std          1.633460      3.375522      1.534425      0.62222      0.471296   \n",
       "min          0.000000      0.000000      0.000000      0.00000      0.000000   \n",
       "25%          0.000000      2.000000      0.000000      0.00000      0.000000   \n",
       "50%          1.000000      4.000000      1.000000      0.00000      0.000000   \n",
       "75%          3.000000      7.000000      3.000000      0.00000      1.000000   \n",
       "max          6.000000     14.000000      5.000000      4.00000      1.000000   \n",
       "\n",
       "       capital_gain  capital_loss  hours_per_week  native_country  \\\n",
       "count   16280.00000  16280.000000    16280.000000    16280.000000   \n",
       "mean     1081.97156     87.904668       40.392260        1.241216   \n",
       "std      7584.16416    403.117078       12.479715        4.942061   \n",
       "min         0.00000      0.000000        1.000000        0.000000   \n",
       "25%         0.00000      0.000000       40.000000        0.000000   \n",
       "50%         0.00000      0.000000       40.000000        0.000000   \n",
       "75%         0.00000      0.000000       45.000000        0.000000   \n",
       "max     99999.00000   3770.000000       99.000000       40.000000   \n",
       "\n",
       "         wage_class  \n",
       "count  16280.000000  \n",
       "mean       0.236241  \n",
       "std        0.424785  \n",
       "min        0.000000  \n",
       "25%        0.000000  \n",
       "50%        0.000000  \n",
       "75%        0.000000  \n",
       "max        1.000000  "
      ]
     },
     "execution_count": 55,
     "metadata": {},
     "output_type": "execute_result"
    }
   ],
   "source": [
    "X_test.describe()  #Generate descriptive statistics that summarize the central tendency,dispersion and shape of a dataset's distribution, excluding ``NaN`` values."
   ]
  },
  {
   "cell_type": "code",
   "execution_count": null,
   "metadata": {},
   "outputs": [
    {
     "name": "stdout",
     "output_type": "stream",
     "text": [
      "Train wage_class unique values: [0 1]\n",
      "Test wage_class unique values: [0 1]\n"
     ]
    }
   ],
   "source": [
    "#checking the missing values\n",
    "print(\"Train wage_class unique values:\", X_train.wage_class.unique())\n",
    "print(\"Test wage_class unique values:\", X_test.wage_class.unique())"
   ]
  },
  {
   "cell_type": "code",
   "execution_count": null,
   "metadata": {},
   "outputs": [
    {
     "name": "stderr",
     "output_type": "stream",
     "text": [
      "c:\\ProgramData\\Anaconda3\\lib\\site-packages\\seaborn\\_decorators.py:36: FutureWarning: Pass the following variable as a keyword arg: x. From version 0.12, the only valid positional argument will be `data`, and passing other arguments without an explicit keyword will result in an error or misinterpretation.\n",
      "  warnings.warn(\n"
     ]
    },
    {
     "data": {
      "text/plain": [
       "<AxesSubplot:xlabel='sex', ylabel='count'>"
      ]
     },
     "execution_count": 57,
     "metadata": {},
     "output_type": "execute_result"
    },
    {
     "data": {
      "image/png": "[encoded data removed]",
      "text/plain": [
       "<Figure size 432x288 with 1 Axes>"
      ]
     },
     "metadata": {
      "needs_background": "light"
     },
     "output_type": "display_data"
    }
   ],
   "source": [
    "# Annual Income Data Analysis using Visualization\n",
    "import seaborn as sns\n",
    "import matplotlib.pyplot as plt\n",
    "plt.figure(figsize=(40,20))\n",
    "sns.set_style(\"whitegrid\")\n",
    "%matplotlib inline\n",
    "sns.countplot(\"sex\",data=train_set,hue =\"wage_class\")  "
   ]
  },
  {
   "cell_type": "code",
   "execution_count": null,
   "metadata": {},
   "outputs": [
    {
     "name": "stderr",
     "output_type": "stream",
     "text": [
      "c:\\ProgramData\\Anaconda3\\lib\\site-packages\\seaborn\\_decorators.py:36: FutureWarning: Pass the following variable as a keyword arg: x. From version 0.12, the only valid positional argument will be `data`, and passing other arguments without an explicit keyword will result in an error or misinterpretation.\n",
      "  warnings.warn(\n"
     ]
    },
    {
     "data": {
      "image/png": "[encoded data removed]",
      "text/plain": [
       "<Figure size 432x288 with 1 Axes>"
      ]
     },
     "metadata": {
      "needs_background": "light"
     },
     "output_type": "display_data"
    }
   ],
   "source": [
    "g = sns.countplot('workclass',data=train_set,hue='wage_class') # a countplot based on the workclass column\n",
    "g.set_xticklabels(g.get_xticklabels(), rotation = 90, fontsize = 15)\n",
    "plt.show()"
   ]
  },
  {
   "cell_type": "code",
   "execution_count": null,
   "metadata": {},
   "outputs": [
    {
     "name": "stderr",
     "output_type": "stream",
     "text": [
      "c:\\ProgramData\\Anaconda3\\lib\\site-packages\\seaborn\\_decorators.py:36: FutureWarning: Pass the following variable as a keyword arg: x. From version 0.12, the only valid positional argument will be `data`, and passing other arguments without an explicit keyword will result in an error or misinterpretation.\n",
      "  warnings.warn(\n"
     ]
    },
    {
     "data": {
      "image/png": "[encoded data removed]",
      "text/plain": [
       "<Figure size 432x288 with 1 Axes>"
      ]
     },
     "metadata": {
      "needs_background": "light"
     },
     "output_type": "display_data"
    }
   ],
   "source": [
    "g = sns.countplot('education',data=train_set,hue='wage_class') # a countplot based on the Education column\n",
    "g.set_xticklabels(g.get_xticklabels(), rotation = 90, fontsize = 12)\n",
    "plt.show()"
   ]
  },
  {
   "cell_type": "code",
   "execution_count": null,
   "metadata": {},
   "outputs": [
    {
     "name": "stderr",
     "output_type": "stream",
     "text": [
      "c:\\ProgramData\\Anaconda3\\lib\\site-packages\\seaborn\\_decorators.py:36: FutureWarning: Pass the following variable as a keyword arg: x. From version 0.12, the only valid positional argument will be `data`, and passing other arguments without an explicit keyword will result in an error or misinterpretation.\n",
      "  warnings.warn(\n"
     ]
    },
    {
     "data": {
      "image/png": "[encoded data removed]",
      "text/plain": [
       "<Figure size 432x288 with 1 Axes>"
      ]
     },
     "metadata": {
      "needs_background": "light"
     },
     "output_type": "display_data"
    }
   ],
   "source": [
    "g = sns.countplot('wage_class',data=train_set) # a countplot based on the wage class column\n",
    "g.set_xticklabels(g.get_xticklabels(), rotation = 45, fontsize = 12)\n",
    "plt.show()"
   ]
  },
  {
   "cell_type": "code",
   "execution_count": null,
   "metadata": {},
   "outputs": [
    {
     "data": {
      "image/png": "[encoded data removed]",
      "text/plain": [
       "<Figure size 1080x1080 with 6 Axes>"
      ]
     },
     "metadata": {
      "needs_background": "light"
     },
     "output_type": "display_data"
    }
   ],
   "source": [
    "pd.DataFrame.hist(train_set,figsize = [15,15])\n",
    "plt.show()"
   ]
  }
 ],
 "metadata": {
  "kernelspec": {
   "display_name": "base",
   "language": "python",
   "name": "python3"
  },
  "language_info": {
   "codemirror_mode": {
    "name": "ipython",
    "version": 3
   },
   "file_extension": ".py",
   "mimetype": "text/x-python",
   "name": "python",
   "nbconvert_exporter": "python",
   "pygments_lexer": "ipython3",
   "version": "3.9.12"
  }
 },
 "nbformat": 4,
 "nbformat_minor": 2
}
