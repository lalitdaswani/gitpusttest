{
 "cells": [
  {
   "cell_type": "code",
   "execution_count": 1,
   "id": "17b11484",
   "metadata": {},
   "outputs": [],
   "source": [
    "a1=list()"
   ]
  },
  {
   "cell_type": "code",
   "execution_count": 2,
   "id": "7cf7c642",
   "metadata": {},
   "outputs": [
    {
     "data": {
      "text/plain": [
       "list"
      ]
     },
     "execution_count": 2,
     "metadata": {},
     "output_type": "execute_result"
    }
   ],
   "source": [
    "type(a1)"
   ]
  },
  {
   "cell_type": "code",
   "execution_count": 8,
   "id": "315079bc",
   "metadata": {},
   "outputs": [],
   "source": [
    "a1=[]"
   ]
  },
  {
   "cell_type": "code",
   "execution_count": 9,
   "id": "ab82d101",
   "metadata": {},
   "outputs": [
    {
     "data": {
      "text/plain": [
       "list"
      ]
     },
     "execution_count": 9,
     "metadata": {},
     "output_type": "execute_result"
    }
   ],
   "source": [
    "type(a1)"
   ]
  },
  {
   "cell_type": "code",
   "execution_count": 6,
   "id": "e2cf26ba",
   "metadata": {},
   "outputs": [],
   "source": [
    "a=4+6j"
   ]
  },
  {
   "cell_type": "code",
   "execution_count": 4,
   "id": "29c20bb0",
   "metadata": {},
   "outputs": [
    {
     "data": {
      "text/plain": [
       "complex"
      ]
     },
     "execution_count": 4,
     "metadata": {},
     "output_type": "execute_result"
    }
   ],
   "source": [
    "type(a)"
   ]
  },
  {
   "cell_type": "code",
   "execution_count": 7,
   "id": "f27f6463",
   "metadata": {},
   "outputs": [
    {
     "ename": "SyntaxError",
     "evalue": "invalid syntax (2179783300.py, line 1)",
     "output_type": "error",
     "traceback": [
      "\u001b[1;36m  Input \u001b[1;32mIn [7]\u001b[1;36m\u001b[0m\n\u001b[1;33m    a=4+6k\u001b[0m\n\u001b[1;37m         ^\u001b[0m\n\u001b[1;31mSyntaxError\u001b[0m\u001b[1;31m:\u001b[0m invalid syntax\n"
     ]
    }
   ],
   "source": [
    "a=4+6k"
   ]
  },
  {
   "cell_type": "code",
   "execution_count": 12,
   "id": "ff3442f3",
   "metadata": {},
   "outputs": [],
   "source": [
    "l=[123,\"abc0\",True,[\"a\",\"b\",1],2.3]"
   ]
  },
  {
   "cell_type": "code",
   "execution_count": 14,
   "id": "53bdcd50",
   "metadata": {},
   "outputs": [
    {
     "data": {
      "text/plain": [
       "list"
      ]
     },
     "execution_count": 14,
     "metadata": {},
     "output_type": "execute_result"
    }
   ],
   "source": [
    "type(l)"
   ]
  },
  {
   "cell_type": "code",
   "execution_count": 17,
   "id": "ced98571",
   "metadata": {},
   "outputs": [
    {
     "name": "stdout",
     "output_type": "stream",
     "text": [
      "<class 'int'>\n",
      "<class 'str'>\n",
      "<class 'bool'>\n",
      "<class 'list'>\n",
      "<class 'float'>\n"
     ]
    }
   ],
   "source": [
    "for i in l:\n",
    "    print(type(i))"
   ]
  },
  {
   "cell_type": "code",
   "execution_count": 21,
   "id": "6ba56020",
   "metadata": {},
   "outputs": [
    {
     "data": {
      "text/plain": [
       "['a', 'b', 1]"
      ]
     },
     "execution_count": 21,
     "metadata": {},
     "output_type": "execute_result"
    }
   ],
   "source": [
    "l[3]"
   ]
  },
  {
   "cell_type": "code",
   "execution_count": 22,
   "id": "d33986ad",
   "metadata": {},
   "outputs": [
    {
     "name": "stdout",
     "output_type": "stream",
     "text": [
      "<class 'str'>\n",
      "<class 'str'>\n",
      "<class 'int'>\n"
     ]
    }
   ],
   "source": [
    "for i in l :\n",
    "    if type(i) == list :\n",
    "        for j in i :\n",
    "            print(type(j))\n",
    "        "
   ]
  },
  {
   "cell_type": "code",
   "execution_count": 26,
   "id": "e0c67af3",
   "metadata": {},
   "outputs": [
    {
     "name": "stdout",
     "output_type": "stream",
     "text": [
      "1\n",
      "<class 'int'>\n"
     ]
    }
   ],
   "source": [
    "for i in l:\n",
    "    \n",
    "    \n",
    "    \n",
    "    if type(i) == list :\n",
    "        n= 0\n",
    "        for j in i :\n",
    "            \n",
    "            if type(j)== int:\n",
    "                n= n+j\n",
    "        print(n)\n",
    "        print(type(j))"
   ]
  },
  {
   "cell_type": "code",
   "execution_count": 30,
   "id": "c714e531",
   "metadata": {},
   "outputs": [
    {
     "data": {
      "text/plain": [
       "[123, 'abc0']"
      ]
     },
     "execution_count": 30,
     "metadata": {},
     "output_type": "execute_result"
    }
   ],
   "source": [
    "l[0:2]"
   ]
  },
  {
   "cell_type": "code",
   "execution_count": 32,
   "id": "d40a010f",
   "metadata": {},
   "outputs": [
    {
     "data": {
      "text/plain": [
       "list"
      ]
     },
     "execution_count": 32,
     "metadata": {},
     "output_type": "execute_result"
    }
   ],
   "source": [
    "type(l[0:2])  #[] makes whole list"
   ]
  },
  {
   "cell_type": "code",
   "execution_count": 33,
   "id": "5a542c02",
   "metadata": {},
   "outputs": [],
   "source": [
    "c='abc\"d  '"
   ]
  },
  {
   "cell_type": "code",
   "execution_count": 34,
   "id": "9d6fa0ed",
   "metadata": {},
   "outputs": [
    {
     "data": {
      "text/plain": [
       "'abc\"d  '"
      ]
     },
     "execution_count": 34,
     "metadata": {},
     "output_type": "execute_result"
    }
   ],
   "source": [
    "c"
   ]
  },
  {
   "cell_type": "code",
   "execution_count": 36,
   "id": "2eebab01",
   "metadata": {},
   "outputs": [],
   "source": [
    "c= \"abc'd\""
   ]
  },
  {
   "cell_type": "code",
   "execution_count": 37,
   "id": "a3b59dbb",
   "metadata": {},
   "outputs": [
    {
     "data": {
      "text/plain": [
       "\"abc'd\""
      ]
     },
     "execution_count": 37,
     "metadata": {},
     "output_type": "execute_result"
    }
   ],
   "source": [
    "c"
   ]
  },
  {
   "cell_type": "code",
   "execution_count": 38,
   "id": "eb5b5180",
   "metadata": {},
   "outputs": [
    {
     "data": {
      "text/plain": [
       "'b'"
      ]
     },
     "execution_count": 38,
     "metadata": {},
     "output_type": "execute_result"
    }
   ],
   "source": [
    "c[1]"
   ]
  },
  {
   "cell_type": "code",
   "execution_count": 39,
   "id": "8fa2f5ef",
   "metadata": {},
   "outputs": [
    {
     "data": {
      "text/plain": [
       "'a'"
      ]
     },
     "execution_count": 39,
     "metadata": {},
     "output_type": "execute_result"
    }
   ],
   "source": [
    "c[0]"
   ]
  },
  {
   "cell_type": "code",
   "execution_count": 40,
   "id": "d10ad121",
   "metadata": {},
   "outputs": [
    {
     "data": {
      "text/plain": [
       "\"abc'\""
      ]
     },
     "execution_count": 40,
     "metadata": {},
     "output_type": "execute_result"
    }
   ],
   "source": [
    "c[0:4]"
   ]
  },
  {
   "cell_type": "code",
   "execution_count": 45,
   "id": "83a2850f",
   "metadata": {},
   "outputs": [
    {
     "data": {
      "text/plain": [
       "\"'\""
      ]
     },
     "execution_count": 45,
     "metadata": {},
     "output_type": "execute_result"
    }
   ],
   "source": [
    "c[3:-1]"
   ]
  },
  {
   "cell_type": "code",
   "execution_count": 46,
   "id": "360fded9",
   "metadata": {},
   "outputs": [
    {
     "data": {
      "text/plain": [
       "\"abc'\""
      ]
     },
     "execution_count": 46,
     "metadata": {},
     "output_type": "execute_result"
    }
   ],
   "source": [
    "c[0:-1]"
   ]
  },
  {
   "cell_type": "code",
   "execution_count": 47,
   "id": "a54a707a",
   "metadata": {},
   "outputs": [
    {
     "data": {
      "text/plain": [
       "\"bc'\""
      ]
     },
     "execution_count": 47,
     "metadata": {},
     "output_type": "execute_result"
    }
   ],
   "source": [
    "c[1:-1] # start 1 selekar reverse -1 wala chhodkar beech ka data"
   ]
  },
  {
   "cell_type": "code",
   "execution_count": 49,
   "id": "7506c4e3",
   "metadata": {},
   "outputs": [
    {
     "data": {
      "text/plain": [
       "'ab'"
      ]
     },
     "execution_count": 49,
     "metadata": {},
     "output_type": "execute_result"
    }
   ],
   "source": [
    "c[0:-3]"
   ]
  },
  {
   "cell_type": "code",
   "execution_count": 2,
   "id": "1fc97c2c",
   "metadata": {},
   "outputs": [],
   "source": [
    "l = \"abcd456\""
   ]
  },
  {
   "cell_type": "code",
   "execution_count": 3,
   "id": "7c99b92e",
   "metadata": {},
   "outputs": [
    {
     "data": {
      "text/plain": [
       "'654d'"
      ]
     },
     "execution_count": 3,
     "metadata": {},
     "output_type": "execute_result"
    }
   ],
   "source": [
    "l[-1:-5:-1]"
   ]
  },
  {
   "cell_type": "code",
   "execution_count": 4,
   "id": "24302b2d",
   "metadata": {},
   "outputs": [
    {
     "data": {
      "text/plain": [
       "'bcd'"
      ]
     },
     "execution_count": 4,
     "metadata": {},
     "output_type": "execute_result"
    }
   ],
   "source": [
    "l[1:4]"
   ]
  },
  {
   "cell_type": "code",
   "execution_count": 5,
   "id": "623e51da",
   "metadata": {},
   "outputs": [
    {
     "name": "stdout",
     "output_type": "stream",
     "text": [
      "a b c d 4 5 6 "
     ]
    }
   ],
   "source": [
    "for i in l:\n",
    "    print (i,end=\" \")"
   ]
  },
  {
   "cell_type": "code",
   "execution_count": 6,
   "id": "26d4f02a",
   "metadata": {},
   "outputs": [
    {
     "name": "stdout",
     "output_type": "stream",
     "text": [
      "a b c d 4 5 6 "
     ]
    }
   ],
   "source": [
    "for i in  range (len(l)):\n",
    "    print(l[i],end=\" \")\n",
    "    "
   ]
  },
  {
   "cell_type": "code",
   "execution_count": 9,
   "id": "ae92fa7a",
   "metadata": {},
   "outputs": [
    {
     "data": {
      "text/plain": [
       "'45'"
      ]
     },
     "execution_count": 9,
     "metadata": {},
     "output_type": "execute_result"
    }
   ],
   "source": [
    "l[-3:-1:1]"
   ]
  },
  {
   "cell_type": "code",
   "execution_count": 12,
   "id": "71b5d46c",
   "metadata": {},
   "outputs": [
    {
     "data": {
      "text/plain": [
       "'4dc'"
      ]
     },
     "execution_count": 12,
     "metadata": {},
     "output_type": "execute_result"
    }
   ],
   "source": [
    "l[-3:1:-1]"
   ]
  },
  {
   "cell_type": "code",
   "execution_count": 13,
   "id": "0e78c7e1",
   "metadata": {},
   "outputs": [
    {
     "data": {
      "text/plain": [
       "'654dcba'"
      ]
     },
     "execution_count": 13,
     "metadata": {},
     "output_type": "execute_result"
    }
   ],
   "source": [
    "l[::-1]"
   ]
  },
  {
   "cell_type": "code",
   "execution_count": 14,
   "id": "25e2a7d6",
   "metadata": {},
   "outputs": [
    {
     "data": {
      "text/plain": [
       "str"
      ]
     },
     "execution_count": 14,
     "metadata": {},
     "output_type": "execute_result"
    }
   ],
   "source": [
    "type(l)"
   ]
  },
  {
   "cell_type": "code",
   "execution_count": 15,
   "id": "48289e2a",
   "metadata": {},
   "outputs": [
    {
     "ename": "TypeError",
     "evalue": "'str' object does not support item assignment",
     "output_type": "error",
     "traceback": [
      "\u001b[1;31m---------------------------------------------------------------------------\u001b[0m",
      "\u001b[1;31mTypeError\u001b[0m                                 Traceback (most recent call last)",
      "Input \u001b[1;32mIn [15]\u001b[0m, in \u001b[0;36m<cell line: 1>\u001b[1;34m()\u001b[0m\n\u001b[1;32m----> 1\u001b[0m l[\u001b[38;5;241m0\u001b[39m]\u001b[38;5;241m=\u001b[39m\u001b[38;5;124m\"\u001b[39m\u001b[38;5;124mww\u001b[39m\u001b[38;5;124m\"\u001b[39m\n",
      "\u001b[1;31mTypeError\u001b[0m: 'str' object does not support item assignment"
     ]
    }
   ],
   "source": [
    "l[0]=\"ww\""
   ]
  },
  {
   "cell_type": "code",
   "execution_count": 19,
   "id": "458357f1",
   "metadata": {},
   "outputs": [],
   "source": [
    "#if l = list then\n",
    "#string is a immutable object but list is a mutable object\n",
    "l= [\"a\",1,2,3,\"wer\"]"
   ]
  },
  {
   "cell_type": "code",
   "execution_count": 20,
   "id": "f8d60dd9",
   "metadata": {},
   "outputs": [],
   "source": [
    "l[0]=\"lalit\""
   ]
  },
  {
   "cell_type": "code",
   "execution_count": 21,
   "id": "c048af9b",
   "metadata": {},
   "outputs": [
    {
     "data": {
      "text/plain": [
       "['lalit', 1, 2, 3, 'wer']"
      ]
     },
     "execution_count": 21,
     "metadata": {},
     "output_type": "execute_result"
    }
   ],
   "source": [
    "l"
   ]
  },
  {
   "cell_type": "code",
   "execution_count": 22,
   "id": "1c8a8bf0",
   "metadata": {},
   "outputs": [
    {
     "data": {
      "text/plain": [
       "'lalit'"
      ]
     },
     "execution_count": 22,
     "metadata": {},
     "output_type": "execute_result"
    }
   ],
   "source": [
    "\"lal\" + \"it\""
   ]
  },
  {
   "cell_type": "code",
   "execution_count": 23,
   "id": "f8521a31",
   "metadata": {},
   "outputs": [
    {
     "ename": "TypeError",
     "evalue": "can only concatenate str (not \"int\") to str",
     "output_type": "error",
     "traceback": [
      "\u001b[1;31m---------------------------------------------------------------------------\u001b[0m",
      "\u001b[1;31mTypeError\u001b[0m                                 Traceback (most recent call last)",
      "Input \u001b[1;32mIn [23]\u001b[0m, in \u001b[0;36m<cell line: 1>\u001b[1;34m()\u001b[0m\n\u001b[1;32m----> 1\u001b[0m \u001b[38;5;124;43m\"\u001b[39;49m\u001b[38;5;124;43mlal\u001b[39;49m\u001b[38;5;124;43m\"\u001b[39;49m\u001b[38;5;241;43m+\u001b[39;49m\u001b[38;5;241;43m3\u001b[39;49m\n",
      "\u001b[1;31mTypeError\u001b[0m: can only concatenate str (not \"int\") to str"
     ]
    }
   ],
   "source": [
    "\"lal\"+3"
   ]
  },
  {
   "cell_type": "code",
   "execution_count": 24,
   "id": "30272a53",
   "metadata": {},
   "outputs": [
    {
     "data": {
      "text/plain": [
       "'lal3'"
      ]
     },
     "execution_count": 24,
     "metadata": {},
     "output_type": "execute_result"
    }
   ],
   "source": [
    "\"lal\" +\"3\""
   ]
  },
  {
   "cell_type": "code",
   "execution_count": 25,
   "id": "4d0f594d",
   "metadata": {},
   "outputs": [
    {
     "data": {
      "text/plain": [
       "'lal3'"
      ]
     },
     "execution_count": 25,
     "metadata": {},
     "output_type": "execute_result"
    }
   ],
   "source": [
    "\"lal\"+str(3)"
   ]
  },
  {
   "cell_type": "code",
   "execution_count": 26,
   "id": "4dc6eccd",
   "metadata": {},
   "outputs": [
    {
     "ename": "TypeError",
     "evalue": "can only concatenate str (not \"list\") to str",
     "output_type": "error",
     "traceback": [
      "\u001b[1;31m---------------------------------------------------------------------------\u001b[0m",
      "\u001b[1;31mTypeError\u001b[0m                                 Traceback (most recent call last)",
      "Input \u001b[1;32mIn [26]\u001b[0m, in \u001b[0;36m<cell line: 1>\u001b[1;34m()\u001b[0m\n\u001b[1;32m----> 1\u001b[0m \u001b[38;5;124;43m\"\u001b[39;49m\u001b[38;5;124;43mlal\u001b[39;49m\u001b[38;5;124;43m\"\u001b[39;49m\u001b[43m \u001b[49m\u001b[38;5;241;43m+\u001b[39;49m\u001b[43m[\u001b[49m\u001b[38;5;124;43m\"\u001b[39;49m\u001b[38;5;124;43mabc\u001b[39;49m\u001b[38;5;124;43m\"\u001b[39;49m\u001b[43m]\u001b[49m\n",
      "\u001b[1;31mTypeError\u001b[0m: can only concatenate str (not \"list\") to str"
     ]
    }
   ],
   "source": [
    "\"lal\" +[\"abc\"]"
   ]
  },
  {
   "cell_type": "code",
   "execution_count": 27,
   "id": "11ba00d0",
   "metadata": {},
   "outputs": [
    {
     "data": {
      "text/plain": [
       "'lalit lalit '"
      ]
     },
     "execution_count": 27,
     "metadata": {},
     "output_type": "execute_result"
    }
   ],
   "source": [
    "\"lalit \" *2"
   ]
  },
  {
   "cell_type": "code",
   "execution_count": 33,
   "id": "ab4cd5cf",
   "metadata": {},
   "outputs": [
    {
     "data": {
      "text/plain": [
       "['lalit', 1, 2, 3, 'wer']"
      ]
     },
     "execution_count": 33,
     "metadata": {},
     "output_type": "execute_result"
    }
   ],
   "source": [
    "l"
   ]
  },
  {
   "cell_type": "code",
   "execution_count": 35,
   "id": "7124ee2c",
   "metadata": {},
   "outputs": [
    {
     "ename": "AttributeError",
     "evalue": "'list' object has no attribute 'find'",
     "output_type": "error",
     "traceback": [
      "\u001b[1;31m---------------------------------------------------------------------------\u001b[0m",
      "\u001b[1;31mAttributeError\u001b[0m                            Traceback (most recent call last)",
      "Input \u001b[1;32mIn [35]\u001b[0m, in \u001b[0;36m<cell line: 1>\u001b[1;34m()\u001b[0m\n\u001b[1;32m----> 1\u001b[0m \u001b[43ml\u001b[49m\u001b[38;5;241;43m.\u001b[39;49m\u001b[43mfind\u001b[49m(\u001b[38;5;124m\"\u001b[39m\u001b[38;5;124mt\u001b[39m\u001b[38;5;124m\"\u001b[39m)\n",
      "\u001b[1;31mAttributeError\u001b[0m: 'list' object has no attribute 'find'"
     ]
    }
   ],
   "source": [
    "l.find(\"t\")"
   ]
  },
  {
   "cell_type": "code",
   "execution_count": 36,
   "id": "5d1ec027",
   "metadata": {},
   "outputs": [],
   "source": [
    "a=\"my name is sanjay\""
   ]
  },
  {
   "cell_type": "code",
   "execution_count": 38,
   "id": "3716fb31",
   "metadata": {},
   "outputs": [
    {
     "data": {
      "text/plain": [
       "1"
      ]
     },
     "execution_count": 38,
     "metadata": {},
     "output_type": "execute_result"
    }
   ],
   "source": [
    "a.find(\"y\")"
   ]
  },
  {
   "cell_type": "code",
   "execution_count": 41,
   "id": "24dfab18",
   "metadata": {},
   "outputs": [
    {
     "data": {
      "text/plain": [
       "3"
      ]
     },
     "execution_count": 41,
     "metadata": {},
     "output_type": "execute_result"
    }
   ],
   "source": [
    "a.find(\"name\")"
   ]
  },
  {
   "cell_type": "code",
   "execution_count": 44,
   "id": "90ffff27",
   "metadata": {},
   "outputs": [
    {
     "name": "stdout",
     "output_type": "stream",
     "text": [
      "3\n",
      "4\n",
      "5\n",
      "6\n"
     ]
    }
   ],
   "source": [
    "b= a.find(\"name\")\n",
    "for i in range(len(\"name\")) :\n",
    "    print(b+i)\n",
    "    "
   ]
  },
  {
   "cell_type": "code",
   "execution_count": 48,
   "id": "8b075124",
   "metadata": {},
   "outputs": [
    {
     "data": {
      "text/plain": [
       "1"
      ]
     },
     "execution_count": 48,
     "metadata": {},
     "output_type": "execute_result"
    }
   ],
   "source": [
    "a.count(\"my\")"
   ]
  },
  {
   "cell_type": "code",
   "execution_count": 49,
   "id": "7378efa3",
   "metadata": {},
   "outputs": [
    {
     "data": {
      "text/plain": [
       "['my', 'name', 'is', 'sanjay']"
      ]
     },
     "execution_count": 49,
     "metadata": {},
     "output_type": "execute_result"
    }
   ],
   "source": [
    "a.split()"
   ]
  },
  {
   "cell_type": "code",
   "execution_count": 83,
   "id": "45f890fd",
   "metadata": {},
   "outputs": [],
   "source": [
    "o=\"my Na,me is san,jay\""
   ]
  },
  {
   "cell_type": "code",
   "execution_count": 84,
   "id": "0033ade9",
   "metadata": {},
   "outputs": [
    {
     "data": {
      "text/plain": [
       "['my Na', 'me is san', 'jay']"
      ]
     },
     "execution_count": 84,
     "metadata": {},
     "output_type": "execute_result"
    }
   ],
   "source": [
    "o.split(\",\")"
   ]
  },
  {
   "cell_type": "code",
   "execution_count": 85,
   "id": "165cdf95",
   "metadata": {},
   "outputs": [
    {
     "data": {
      "text/plain": [
       "['my', 'Na,me', 'is', 'san,jay']"
      ]
     },
     "execution_count": 85,
     "metadata": {},
     "output_type": "execute_result"
    }
   ],
   "source": [
    "o.split()"
   ]
  },
  {
   "cell_type": "code",
   "execution_count": 86,
   "id": "ad080375",
   "metadata": {},
   "outputs": [
    {
     "data": {
      "text/plain": [
       "['m', ' Na,me is san,ja', '']"
      ]
     },
     "execution_count": 86,
     "metadata": {},
     "output_type": "execute_result"
    }
   ],
   "source": [
    "o.split(\"y\")"
   ]
  },
  {
   "cell_type": "code",
   "execution_count": 87,
   "id": "ac5a5bd5",
   "metadata": {},
   "outputs": [
    {
     "data": {
      "text/plain": [
       "list"
      ]
     },
     "execution_count": 87,
     "metadata": {},
     "output_type": "execute_result"
    }
   ],
   "source": [
    "type(o.split())"
   ]
  },
  {
   "cell_type": "code",
   "execution_count": 88,
   "id": "9a935d12",
   "metadata": {},
   "outputs": [
    {
     "data": {
      "text/plain": [
       "'MY nA,ME IS SAN,JAY'"
      ]
     },
     "execution_count": 88,
     "metadata": {},
     "output_type": "execute_result"
    }
   ],
   "source": [
    "o.swapcase()"
   ]
  },
  {
   "cell_type": "code",
   "execution_count": 90,
   "id": "c84ba5e8",
   "metadata": {},
   "outputs": [
    {
     "data": {
      "text/plain": [
       "'my Name is sanjay'"
      ]
     },
     "execution_count": 90,
     "metadata": {},
     "output_type": "execute_result"
    }
   ],
   "source": [
    "\"\".join(o.split(\",\"))"
   ]
  },
  {
   "cell_type": "code",
   "execution_count": 92,
   "id": "bf87b89b",
   "metadata": {},
   "outputs": [
    {
     "data": {
      "text/plain": [
       "'m y   N a , m e   i s   s a n , j a y'"
      ]
     },
     "execution_count": 92,
     "metadata": {},
     "output_type": "execute_result"
    }
   ],
   "source": [
    "\" \".join(o)"
   ]
  },
  {
   "cell_type": "code",
   "execution_count": 93,
   "id": "849beb64",
   "metadata": {},
   "outputs": [
    {
     "data": {
      "text/plain": [
       "'my Na me is san jay'"
      ]
     },
     "execution_count": 93,
     "metadata": {},
     "output_type": "execute_result"
    }
   ],
   "source": [
    "\" \".join(o.split(\",\"))"
   ]
  },
  {
   "cell_type": "code",
   "execution_count": 95,
   "id": "a858a582",
   "metadata": {},
   "outputs": [
    {
     "data": {
      "text/plain": [
       "['y',\n",
       " 'a',\n",
       " 'j',\n",
       " ',',\n",
       " 'n',\n",
       " 'a',\n",
       " 's',\n",
       " ' ',\n",
       " 's',\n",
       " 'i',\n",
       " ' ',\n",
       " 'e',\n",
       " 'm',\n",
       " ',',\n",
       " 'a',\n",
       " 'N',\n",
       " ' ',\n",
       " 'y',\n",
       " 'm']"
      ]
     },
     "execution_count": 95,
     "metadata": {},
     "output_type": "execute_result"
    }
   ],
   "source": [
    "list(reversed(o))"
   ]
  },
  {
   "cell_type": "code",
   "execution_count": 97,
   "id": "779040cb",
   "metadata": {},
   "outputs": [
    {
     "data": {
      "text/plain": [
       "<reversed at 0x2a0a2ed0490>"
      ]
     },
     "execution_count": 97,
     "metadata": {},
     "output_type": "execute_result"
    }
   ],
   "source": [
    "reversed(o)"
   ]
  },
  {
   "cell_type": "code",
   "execution_count": 99,
   "id": "4fdf93c2",
   "metadata": {},
   "outputs": [
    {
     "name": "stdout",
     "output_type": "stream",
     "text": [
      "y\n",
      "a\n",
      "j\n",
      ",\n",
      "n\n",
      "a\n",
      "s\n",
      " \n",
      "s\n",
      "i\n",
      " \n",
      "e\n",
      "m\n",
      ",\n",
      "a\n",
      "N\n",
      " \n",
      "y\n",
      "m\n"
     ]
    }
   ],
   "source": [
    "for i in reversed(o):\n",
    "    print(i)"
   ]
  },
  {
   "cell_type": "code",
   "execution_count": 100,
   "id": "1a559691",
   "metadata": {},
   "outputs": [],
   "source": [
    "k= \"     a   b   c     \""
   ]
  },
  {
   "cell_type": "code",
   "execution_count": 102,
   "id": "c5d37c28",
   "metadata": {},
   "outputs": [
    {
     "data": {
      "text/plain": [
       "'a   b   c'"
      ]
     },
     "execution_count": 102,
     "metadata": {},
     "output_type": "execute_result"
    }
   ],
   "source": [
    "k.strip() #is like trim"
   ]
  },
  {
   "cell_type": "code",
   "execution_count": 103,
   "id": "bb9ce4d5",
   "metadata": {},
   "outputs": [
    {
     "data": {
      "text/plain": [
       "'     a   b   c'"
      ]
     },
     "execution_count": 103,
     "metadata": {},
     "output_type": "execute_result"
    }
   ],
   "source": [
    "k.rstrip()"
   ]
  },
  {
   "cell_type": "code",
   "execution_count": 106,
   "id": "e7f189c1",
   "metadata": {},
   "outputs": [
    {
     "data": {
      "text/plain": [
       "'a   b   c     '"
      ]
     },
     "execution_count": 106,
     "metadata": {},
     "output_type": "execute_result"
    }
   ],
   "source": [
    "k.lstrip()"
   ]
  },
  {
   "cell_type": "code",
   "execution_count": 12,
   "id": "a72ba3cd",
   "metadata": {},
   "outputs": [],
   "source": [
    "k=\"greetings from ineuron\"\n",
    "#string is ammutable"
   ]
  },
  {
   "cell_type": "code",
   "execution_count": 13,
   "id": "ac32e2f9",
   "metadata": {},
   "outputs": [
    {
     "data": {
      "text/plain": [
       "'hreetinhs from ineuron'"
      ]
     },
     "execution_count": 13,
     "metadata": {},
     "output_type": "execute_result"
    }
   ],
   "source": [
    "k.replace(\"g\",\"h\")"
   ]
  },
  {
   "cell_type": "code",
   "execution_count": 14,
   "id": "933d0251",
   "metadata": {},
   "outputs": [
    {
     "data": {
      "text/plain": [
       "'greetings from ineuron'"
      ]
     },
     "execution_count": 14,
     "metadata": {},
     "output_type": "execute_result"
    }
   ],
   "source": [
    "k\n",
    "#beacause string is immmutable"
   ]
  },
  {
   "cell_type": "code",
   "execution_count": 15,
   "id": "7f126062",
   "metadata": {},
   "outputs": [],
   "source": [
    "k= k.replace(\"g\",\"h\")"
   ]
  },
  {
   "cell_type": "code",
   "execution_count": 17,
   "id": "b385cac3",
   "metadata": {},
   "outputs": [
    {
     "data": {
      "text/plain": [
       "'hreetinhs from ineuron'"
      ]
     },
     "execution_count": 17,
     "metadata": {},
     "output_type": "execute_result"
    }
   ],
   "source": [
    "k"
   ]
  },
  {
   "cell_type": "code",
   "execution_count": 18,
   "id": "afc0af1d",
   "metadata": {},
   "outputs": [
    {
     "data": {
      "text/plain": [
       "'r'"
      ]
     },
     "execution_count": 18,
     "metadata": {},
     "output_type": "execute_result"
    }
   ],
   "source": [
    "k[1]"
   ]
  },
  {
   "cell_type": "code",
   "execution_count": 19,
   "id": "9a688721",
   "metadata": {},
   "outputs": [
    {
     "ename": "TypeError",
     "evalue": "'str' object does not support item assignment",
     "output_type": "error",
     "traceback": [
      "\u001b[1;31m---------------------------------------------------------------------------\u001b[0m",
      "\u001b[1;31mTypeError\u001b[0m                                 Traceback (most recent call last)",
      "Input \u001b[1;32mIn [19]\u001b[0m, in \u001b[0;36m<cell line: 1>\u001b[1;34m()\u001b[0m\n\u001b[1;32m----> 1\u001b[0m k[\u001b[38;5;241m1\u001b[39m]\u001b[38;5;241m=\u001b[39m\u001b[38;5;124m\"\u001b[39m\u001b[38;5;124mx\u001b[39m\u001b[38;5;124m\"\u001b[39m\n",
      "\u001b[1;31mTypeError\u001b[0m: 'str' object does not support item assignment"
     ]
    }
   ],
   "source": [
    "k[1]=\"x\""
   ]
  },
  {
   "cell_type": "code",
   "execution_count": 17,
   "id": "63c83f2e",
   "metadata": {},
   "outputs": [],
   "source": [
    "n=\"sudh\""
   ]
  },
  {
   "cell_type": "code",
   "execution_count": 24,
   "id": "aa3cc427",
   "metadata": {},
   "outputs": [
    {
     "data": {
      "text/plain": [
       "'jsudhj'"
      ]
     },
     "execution_count": 24,
     "metadata": {},
     "output_type": "execute_result"
    }
   ],
   "source": [
    "n.center(6,'j')"
   ]
  },
  {
   "cell_type": "code",
   "execution_count": 25,
   "id": "8b089cad",
   "metadata": {},
   "outputs": [
    {
     "data": {
      "text/plain": [
       "'jsudh'"
      ]
     },
     "execution_count": 25,
     "metadata": {},
     "output_type": "execute_result"
    }
   ],
   "source": [
    "n.center(5,'j')"
   ]
  },
  {
   "cell_type": "code",
   "execution_count": null,
   "id": "a0f4a348",
   "metadata": {},
   "outputs": [],
   "source": []
  },
  {
   "cell_type": "code",
   "execution_count": 38,
   "id": "3a8d3e3e",
   "metadata": {},
   "outputs": [],
   "source": [
    "n=\"lali\\tit\"\n",
    "#expand tabs \\t is used."
   ]
  },
  {
   "cell_type": "code",
   "execution_count": 39,
   "id": "52231ffc",
   "metadata": {},
   "outputs": [
    {
     "data": {
      "text/plain": [
       "'lali\\tit'"
      ]
     },
     "execution_count": 39,
     "metadata": {},
     "output_type": "execute_result"
    }
   ],
   "source": [
    "n"
   ]
  },
  {
   "cell_type": "code",
   "execution_count": 40,
   "id": "512c69af",
   "metadata": {},
   "outputs": [
    {
     "data": {
      "text/plain": [
       "'lali    it'"
      ]
     },
     "execution_count": 40,
     "metadata": {},
     "output_type": "execute_result"
    }
   ],
   "source": [
    "n.expandtabs()"
   ]
  },
  {
   "cell_type": "code",
   "execution_count": 2,
   "id": "3cba4450",
   "metadata": {},
   "outputs": [],
   "source": [
    "k=\"we all are a Part of full stack\""
   ]
  },
  {
   "cell_type": "code",
   "execution_count": 3,
   "id": "b0a2f78e",
   "metadata": {},
   "outputs": [
    {
     "data": {
      "text/plain": [
       "'we all are a part of full stack'"
      ]
     },
     "execution_count": 3,
     "metadata": {},
     "output_type": "execute_result"
    }
   ],
   "source": [
    "k.lower()"
   ]
  },
  {
   "cell_type": "code",
   "execution_count": 4,
   "id": "d0835e8c",
   "metadata": {},
   "outputs": [
    {
     "name": "stdout",
     "output_type": "stream",
     "text": [
      "the count of 'a' is 5\n"
     ]
    }
   ],
   "source": [
    "c=k.count(\"a\")\n",
    "print(\"the count of 'a' is \" + str(c))"
   ]
  },
  {
   "cell_type": "code",
   "execution_count": 5,
   "id": "0b17653f",
   "metadata": {},
   "outputs": [
    {
     "name": "stdout",
     "output_type": "stream",
     "text": [
      "3\n",
      "7\n",
      "11\n",
      "14\n",
      "28\n"
     ]
    }
   ],
   "source": [
    "#to find all location of \"a\"\n",
    "for i in range(len(k)):\n",
    "    if k[i]==\"a\":\n",
    "        print(i)"
   ]
  },
  {
   "cell_type": "code",
   "execution_count": null,
   "id": "4a38e8b0",
   "metadata": {},
   "outputs": [],
   "source": []
  },
  {
   "cell_type": "code",
   "execution_count": 8,
   "id": "baacdb94",
   "metadata": {},
   "outputs": [],
   "source": [
    "k= k.replace(\"a\",\"ineuron\")"
   ]
  },
  {
   "cell_type": "code",
   "execution_count": 9,
   "id": "14f6355c",
   "metadata": {},
   "outputs": [
    {
     "name": "stdout",
     "output_type": "stream",
     "text": [
      "['we', 'ineuronll', 'ineuronre', 'ineuron', 'Pineuronrt', 'of', 'full', 'stineuronck']\n"
     ]
    }
   ],
   "source": [
    "e = k.split()\n",
    "print(e)"
   ]
  },
  {
   "cell_type": "code",
   "execution_count": 10,
   "id": "fae04bd7",
   "metadata": {},
   "outputs": [],
   "source": [
    "s=\"lalit\""
   ]
  },
  {
   "cell_type": "code",
   "execution_count": 11,
   "id": "56d0f614",
   "metadata": {},
   "outputs": [
    {
     "data": {
      "text/plain": [
       "False"
      ]
     },
     "execution_count": 11,
     "metadata": {},
     "output_type": "execute_result"
    }
   ],
   "source": [
    "s.isupper()"
   ]
  },
  {
   "cell_type": "code",
   "execution_count": 12,
   "id": "5c848eba",
   "metadata": {},
   "outputs": [],
   "source": [
    "s=\"1234\""
   ]
  },
  {
   "cell_type": "code",
   "execution_count": 13,
   "id": "b6a1caa2",
   "metadata": {},
   "outputs": [
    {
     "data": {
      "text/plain": [
       "True"
      ]
     },
     "execution_count": 13,
     "metadata": {},
     "output_type": "execute_result"
    }
   ],
   "source": [
    "s.isdigit()"
   ]
  },
  {
   "cell_type": "code",
   "execution_count": 14,
   "id": "cd3532ee",
   "metadata": {},
   "outputs": [],
   "source": [
    "s=\"Lalit\""
   ]
  },
  {
   "cell_type": "code",
   "execution_count": 15,
   "id": "d8d3f7e7",
   "metadata": {},
   "outputs": [
    {
     "data": {
      "text/plain": [
       "True"
      ]
     },
     "execution_count": 15,
     "metadata": {},
     "output_type": "execute_result"
    }
   ],
   "source": [
    "s.istitle()"
   ]
  },
  {
   "cell_type": "code",
   "execution_count": 16,
   "id": "08ddf5b0",
   "metadata": {},
   "outputs": [],
   "source": [
    "s=\"lalit\""
   ]
  },
  {
   "cell_type": "code",
   "execution_count": 17,
   "id": "7c793efc",
   "metadata": {},
   "outputs": [
    {
     "data": {
      "text/plain": [
       "False"
      ]
     },
     "execution_count": 17,
     "metadata": {},
     "output_type": "execute_result"
    }
   ],
   "source": [
    "s.istitle()"
   ]
  },
  {
   "cell_type": "code",
   "execution_count": 18,
   "id": "6f48bb38",
   "metadata": {},
   "outputs": [],
   "source": [
    "#len fucction creation\n",
    "s=\"my name is sooraj\""
   ]
  },
  {
   "cell_type": "code",
   "execution_count": 21,
   "id": "c32ec47d",
   "metadata": {},
   "outputs": [
    {
     "name": "stdout",
     "output_type": "stream",
     "text": [
      "17\n"
     ]
    }
   ],
   "source": [
    "count =0\n",
    "for i in s:\n",
    "    \n",
    "    count= count+1\n",
    "print(count)\n"
   ]
  },
  {
   "cell_type": "code",
   "execution_count": 22,
   "id": "a46012b3",
   "metadata": {},
   "outputs": [
    {
     "data": {
      "text/plain": [
       "17"
      ]
     },
     "execution_count": 22,
     "metadata": {},
     "output_type": "execute_result"
    }
   ],
   "source": [
    "len(s)"
   ]
  },
  {
   "cell_type": "code",
   "execution_count": 23,
   "id": "0ece703f",
   "metadata": {},
   "outputs": [
    {
     "name": "stdout",
     "output_type": "stream",
     "text": [
      "m\n",
      "y\n",
      " \n",
      "n\n",
      "a\n",
      "m\n",
      "e\n",
      " \n",
      "i\n",
      "s\n",
      " \n",
      "s\n",
      "o\n",
      "o\n",
      "r\n",
      "a\n",
      "j\n"
     ]
    }
   ],
   "source": [
    "for i in range(len(s)):\n",
    "    print(s[i])"
   ]
  },
  {
   "cell_type": "code",
   "execution_count": 24,
   "id": "18493188",
   "metadata": {},
   "outputs": [
    {
     "name": "stdout",
     "output_type": "stream",
     "text": [
      "m\n",
      "j\n",
      "a\n",
      "r\n",
      "o\n",
      "o\n",
      "s\n",
      " \n",
      "s\n",
      "i\n",
      " \n",
      "e\n",
      "m\n",
      "a\n",
      "n\n",
      " \n",
      "y\n"
     ]
    }
   ],
   "source": [
    "#not correct only -i\n",
    "for i in range(len(s)):\n",
    "    print(s[-i])"
   ]
  },
  {
   "cell_type": "code",
   "execution_count": 28,
   "id": "4160c7ba",
   "metadata": {},
   "outputs": [
    {
     "name": "stdout",
     "output_type": "stream",
     "text": [
      "j\n",
      "a\n",
      "r\n",
      "o\n",
      "o\n",
      "s\n",
      " \n",
      "s\n",
      "i\n",
      " \n",
      "e\n",
      "m\n",
      "a\n",
      "n\n",
      " \n",
      "y\n",
      "m\n"
     ]
    }
   ],
   "source": [
    "\n",
    "\n",
    "for i in range(1,len(s)+1):\n",
    "    print(s[-i])"
   ]
  },
  {
   "cell_type": "code",
   "execution_count": 31,
   "id": "6e9d0573",
   "metadata": {},
   "outputs": [
    {
     "name": "stdout",
     "output_type": "stream",
     "text": [
      "j\n",
      "a\n",
      "r\n",
      "o\n",
      "o\n",
      "s\n",
      " \n",
      "s\n",
      "i\n",
      " \n",
      "e\n",
      "m\n",
      "a\n",
      "n\n",
      " \n",
      "y\n",
      "m\n"
     ]
    }
   ],
   "source": [
    "#\n",
    "s=\"my name is sooraj\"\n",
    "ch = len(s)-1\n",
    "while ch>=0  :\n",
    "    print(s[ch])\n",
    "    ch= ch-1"
   ]
  },
  {
   "cell_type": "code",
   "execution_count": 35,
   "id": "11a203a6",
   "metadata": {},
   "outputs": [
    {
     "name": "stdout",
     "output_type": "stream",
     "text": [
      "i is a vowel\n",
      "n is  not a vowel\n",
      "e is a vowel\n",
      "u is a vowel\n",
      "r is  not a vowel\n",
      "o is a vowel\n",
      "n is  not a vowel\n"
     ]
    }
   ],
   "source": [
    "name = \"ineuron\"\n",
    "vowel = \"aeiou\"\n",
    "for i in name:\n",
    "    \n",
    "    if i in vowel :\n",
    "        print(\"{} is a vowel\".format(i))\n",
    "    \n",
    "    \n",
    "    else  :\n",
    "              \n",
    "              print(\"{} is  not a vowel\".format(i))\n",
    "        "
   ]
  },
  {
   "cell_type": "code",
   "execution_count": 37,
   "id": "d27498ad",
   "metadata": {},
   "outputs": [
    {
     "name": "stdout",
     "output_type": "stream",
     "text": [
      "i is a vowel\n",
      "n is  not a vowel\n",
      "e is a vowel\n",
      "u is a vowel\n",
      "r is  not a vowel\n",
      "o is a vowel\n",
      "n is  not a vowel\n"
     ]
    }
   ],
   "source": [
    "name = \"ineuron\"\n",
    "vowel = \"aeiou\"\n",
    "for i in name:\n",
    "    \n",
    "    if i in vowel :\n",
    "        print(i +\" is a vowel\")\n",
    "    \n",
    "    \n",
    "    else  :\n",
    "              \n",
    "              print(\"{} is  not a vowel\".format(i))"
   ]
  },
  {
   "cell_type": "code",
   "execution_count": 3,
   "id": "ad6aa34e",
   "metadata": {},
   "outputs": [
    {
     "data": {
      "text/plain": [
       "'lalit is good person'"
      ]
     },
     "execution_count": 3,
     "metadata": {},
     "output_type": "execute_result"
    }
   ],
   "source": [
    "\"{} is good person\".format(\"lalit\")"
   ]
  },
  {
   "cell_type": "code",
   "execution_count": 12,
   "id": "8d8a9547",
   "metadata": {},
   "outputs": [
    {
     "name": "stdout",
     "output_type": "stream",
     "text": [
      "\"lalit\"\n",
      "\"manoj\"\n"
     ]
    }
   ],
   "source": [
    "a= input()\n",
    "b= input()"
   ]
  },
  {
   "cell_type": "code",
   "execution_count": 14,
   "id": "55b34665",
   "metadata": {},
   "outputs": [
    {
     "data": {
      "text/plain": [
       "'\"lalit\" is a good but \"manoj\" is a bad guy'"
      ]
     },
     "execution_count": 14,
     "metadata": {},
     "output_type": "execute_result"
    }
   ],
   "source": [
    " \"{} is a good but {} is a bad guy\".format(a,b)"
   ]
  },
  {
   "cell_type": "code",
   "execution_count": 3,
   "id": "ae5eaaf9",
   "metadata": {},
   "outputs": [
    {
     "ename": "KeyboardInterrupt",
     "evalue": "Interrupted by user",
     "output_type": "error",
     "traceback": [
      "\u001b[1;31m---------------------------------------------------------------------------\u001b[0m",
      "\u001b[1;31mKeyboardInterrupt\u001b[0m                         Traceback (most recent call last)",
      "Input \u001b[1;32mIn [3]\u001b[0m, in \u001b[0;36m<cell line: 1>\u001b[1;34m()\u001b[0m\n\u001b[1;32m----> 1\u001b[0m s\u001b[38;5;241m=\u001b[39m \u001b[38;5;28;43minput\u001b[39;49m\u001b[43m(\u001b[49m\u001b[38;5;124;43m\"\u001b[39;49m\u001b[38;5;124;43mpu value\u001b[39;49m\u001b[38;5;124;43m\"\u001b[39;49m\u001b[43m)\u001b[49m\n\u001b[0;32m      2\u001b[0m s1\u001b[38;5;241m=\u001b[39m s[::\u001b[38;5;241m-\u001b[39m\u001b[38;5;241m1\u001b[39m]\n\u001b[0;32m      3\u001b[0m \u001b[38;5;28;01mif\u001b[39;00m s\u001b[38;5;241m==\u001b[39ms1 :\n",
      "File \u001b[1;32m~\\anacondaa\\lib\\site-packages\\ipykernel\\kernelbase.py:1075\u001b[0m, in \u001b[0;36mKernel.raw_input\u001b[1;34m(self, prompt)\u001b[0m\n\u001b[0;32m   1071\u001b[0m \u001b[38;5;28;01mif\u001b[39;00m \u001b[38;5;129;01mnot\u001b[39;00m \u001b[38;5;28mself\u001b[39m\u001b[38;5;241m.\u001b[39m_allow_stdin:\n\u001b[0;32m   1072\u001b[0m     \u001b[38;5;28;01mraise\u001b[39;00m StdinNotImplementedError(\n\u001b[0;32m   1073\u001b[0m         \u001b[38;5;124m\"\u001b[39m\u001b[38;5;124mraw_input was called, but this frontend does not support input requests.\u001b[39m\u001b[38;5;124m\"\u001b[39m\n\u001b[0;32m   1074\u001b[0m     )\n\u001b[1;32m-> 1075\u001b[0m \u001b[38;5;28;01mreturn\u001b[39;00m \u001b[38;5;28;43mself\u001b[39;49m\u001b[38;5;241;43m.\u001b[39;49m\u001b[43m_input_request\u001b[49m\u001b[43m(\u001b[49m\n\u001b[0;32m   1076\u001b[0m \u001b[43m    \u001b[49m\u001b[38;5;28;43mstr\u001b[39;49m\u001b[43m(\u001b[49m\u001b[43mprompt\u001b[49m\u001b[43m)\u001b[49m\u001b[43m,\u001b[49m\n\u001b[0;32m   1077\u001b[0m \u001b[43m    \u001b[49m\u001b[38;5;28;43mself\u001b[39;49m\u001b[38;5;241;43m.\u001b[39;49m\u001b[43m_parent_ident\u001b[49m\u001b[43m[\u001b[49m\u001b[38;5;124;43m\"\u001b[39;49m\u001b[38;5;124;43mshell\u001b[39;49m\u001b[38;5;124;43m\"\u001b[39;49m\u001b[43m]\u001b[49m\u001b[43m,\u001b[49m\n\u001b[0;32m   1078\u001b[0m \u001b[43m    \u001b[49m\u001b[38;5;28;43mself\u001b[39;49m\u001b[38;5;241;43m.\u001b[39;49m\u001b[43mget_parent\u001b[49m\u001b[43m(\u001b[49m\u001b[38;5;124;43m\"\u001b[39;49m\u001b[38;5;124;43mshell\u001b[39;49m\u001b[38;5;124;43m\"\u001b[39;49m\u001b[43m)\u001b[49m\u001b[43m,\u001b[49m\n\u001b[0;32m   1079\u001b[0m \u001b[43m    \u001b[49m\u001b[43mpassword\u001b[49m\u001b[38;5;241;43m=\u001b[39;49m\u001b[38;5;28;43;01mFalse\u001b[39;49;00m\u001b[43m,\u001b[49m\n\u001b[0;32m   1080\u001b[0m \u001b[43m\u001b[49m\u001b[43m)\u001b[49m\n",
      "File \u001b[1;32m~\\anacondaa\\lib\\site-packages\\ipykernel\\kernelbase.py:1120\u001b[0m, in \u001b[0;36mKernel._input_request\u001b[1;34m(self, prompt, ident, parent, password)\u001b[0m\n\u001b[0;32m   1117\u001b[0m             \u001b[38;5;28;01mbreak\u001b[39;00m\n\u001b[0;32m   1118\u001b[0m \u001b[38;5;28;01mexcept\u001b[39;00m \u001b[38;5;167;01mKeyboardInterrupt\u001b[39;00m:\n\u001b[0;32m   1119\u001b[0m     \u001b[38;5;66;03m# re-raise KeyboardInterrupt, to truncate traceback\u001b[39;00m\n\u001b[1;32m-> 1120\u001b[0m     \u001b[38;5;28;01mraise\u001b[39;00m \u001b[38;5;167;01mKeyboardInterrupt\u001b[39;00m(\u001b[38;5;124m\"\u001b[39m\u001b[38;5;124mInterrupted by user\u001b[39m\u001b[38;5;124m\"\u001b[39m) \u001b[38;5;28;01mfrom\u001b[39;00m \u001b[38;5;28mNone\u001b[39m\n\u001b[0;32m   1121\u001b[0m \u001b[38;5;28;01mexcept\u001b[39;00m \u001b[38;5;167;01mException\u001b[39;00m:\n\u001b[0;32m   1122\u001b[0m     \u001b[38;5;28mself\u001b[39m\u001b[38;5;241m.\u001b[39mlog\u001b[38;5;241m.\u001b[39mwarning(\u001b[38;5;124m\"\u001b[39m\u001b[38;5;124mInvalid Message:\u001b[39m\u001b[38;5;124m\"\u001b[39m, exc_info\u001b[38;5;241m=\u001b[39m\u001b[38;5;28;01mTrue\u001b[39;00m)\n",
      "\u001b[1;31mKeyboardInterrupt\u001b[0m: Interrupted by user"
     ]
    }
   ],
   "source": [
    "s= input(\"pu value\")\n",
    "s1= s[::-1]\n",
    "if s==s1 :\n",
    "    \n",
    "    \n",
    "        \n",
    "        \n",
    "    print(\"same\")\n",
    "        \n",
    "else:\n",
    "    \n",
    "        \n",
    "    print(\"not same\")"
   ]
  },
  {
   "cell_type": "code",
   "execution_count": 4,
   "id": "4f920221",
   "metadata": {},
   "outputs": [],
   "source": [
    "l= [\"sudh\",34,35,36,[48,49]]"
   ]
  },
  {
   "cell_type": "code",
   "execution_count": 5,
   "id": "14eda3c4",
   "metadata": {},
   "outputs": [
    {
     "data": {
      "text/plain": [
       "[36, 35, 34]"
      ]
     },
     "execution_count": 5,
     "metadata": {},
     "output_type": "execute_result"
    }
   ],
   "source": [
    "l[3:0:-1]"
   ]
  },
  {
   "cell_type": "code",
   "execution_count": 7,
   "id": "07591796",
   "metadata": {},
   "outputs": [],
   "source": [
    "s=\"sudh\""
   ]
  },
  {
   "cell_type": "code",
   "execution_count": 9,
   "id": "4e9aff8c",
   "metadata": {},
   "outputs": [
    {
     "data": {
      "text/plain": [
       "\"['sudh', 34, 35, 36, [48, 49]]sudh\""
      ]
     },
     "execution_count": 9,
     "metadata": {},
     "output_type": "execute_result"
    }
   ],
   "source": [
    "str(l)+s"
   ]
  },
  {
   "cell_type": "code",
   "execution_count": 13,
   "id": "f0af48a2",
   "metadata": {},
   "outputs": [
    {
     "data": {
      "text/plain": [
       "True"
      ]
     },
     "execution_count": 13,
     "metadata": {},
     "output_type": "execute_result"
    }
   ],
   "source": [
    "#checking anything .\n",
    "\n",
    "\"sudh\"in l"
   ]
  },
  {
   "cell_type": "code",
   "execution_count": 14,
   "id": "b51a433f",
   "metadata": {},
   "outputs": [
    {
     "data": {
      "text/plain": [
       "False"
      ]
     },
     "execution_count": 14,
     "metadata": {},
     "output_type": "execute_result"
    }
   ],
   "source": [
    "\"k\" in s"
   ]
  },
  {
   "cell_type": "code",
   "execution_count": 16,
   "id": "d3d9e7f7",
   "metadata": {},
   "outputs": [
    {
     "name": "stdout",
     "output_type": "stream",
     "text": [
      "not\n",
      "not\n",
      "not\n",
      "not\n",
      "[48, 49]  this is list \n"
     ]
    }
   ],
   "source": [
    "for i in l:\n",
    "    if type(i) ==list:\n",
    "        print(i,\" this is list \")\n",
    "    else:\n",
    "        print(\"not\")"
   ]
  },
  {
   "cell_type": "code",
   "execution_count": 18,
   "id": "532dd606",
   "metadata": {},
   "outputs": [],
   "source": [
    "l= [\"a\",\"b\"]\n",
    "k=[\"d\",\"e\"]"
   ]
  },
  {
   "cell_type": "code",
   "execution_count": 19,
   "id": "b2935c8b",
   "metadata": {},
   "outputs": [
    {
     "data": {
      "text/plain": [
       "['a', 'b', 'd', 'e']"
      ]
     },
     "execution_count": 19,
     "metadata": {},
     "output_type": "execute_result"
    }
   ],
   "source": [
    "l+k"
   ]
  },
  {
   "cell_type": "code",
   "execution_count": 22,
   "id": "43a6c070",
   "metadata": {},
   "outputs": [
    {
     "data": {
      "text/plain": [
       "['a', 'b', 'a', 'b']"
      ]
     },
     "execution_count": 22,
     "metadata": {},
     "output_type": "execute_result"
    }
   ],
   "source": [
    "l*2"
   ]
  },
  {
   "cell_type": "code",
   "execution_count": 23,
   "id": "b426c3d7",
   "metadata": {},
   "outputs": [
    {
     "data": {
      "text/plain": [
       "True"
      ]
     },
     "execution_count": 23,
     "metadata": {},
     "output_type": "execute_result"
    }
   ],
   "source": [
    "\"a\" in l"
   ]
  },
  {
   "cell_type": "code",
   "execution_count": 24,
   "id": "a46b0628",
   "metadata": {},
   "outputs": [],
   "source": [
    "h=[3,4,5]"
   ]
  },
  {
   "cell_type": "code",
   "execution_count": 25,
   "id": "26ef26df",
   "metadata": {},
   "outputs": [
    {
     "data": {
      "text/plain": [
       "5"
      ]
     },
     "execution_count": 25,
     "metadata": {},
     "output_type": "execute_result"
    }
   ],
   "source": [
    "max(h)"
   ]
  },
  {
   "cell_type": "code",
   "execution_count": 26,
   "id": "84e2007f",
   "metadata": {},
   "outputs": [
    {
     "data": {
      "text/plain": [
       "'b'"
      ]
     },
     "execution_count": 26,
     "metadata": {},
     "output_type": "execute_result"
    }
   ],
   "source": [
    "max(l)"
   ]
  },
  {
   "cell_type": "code",
   "execution_count": 2,
   "id": "107e63e0",
   "metadata": {},
   "outputs": [
    {
     "data": {
      "text/plain": [
       "'f'"
      ]
     },
     "execution_count": 2,
     "metadata": {},
     "output_type": "execute_result"
    }
   ],
   "source": [
    "min([\"fs\",\"f\"])"
   ]
  },
  {
   "cell_type": "code",
   "execution_count": 3,
   "id": "c4f71668",
   "metadata": {},
   "outputs": [],
   "source": [
    "l=[1,2,3]\n",
    "l.append(6+6j)"
   ]
  },
  {
   "cell_type": "code",
   "execution_count": 4,
   "id": "3208f39c",
   "metadata": {},
   "outputs": [
    {
     "data": {
      "text/plain": [
       "[1, 2, 3, (6+6j)]"
      ]
     },
     "execution_count": 4,
     "metadata": {},
     "output_type": "execute_result"
    }
   ],
   "source": [
    "l"
   ]
  },
  {
   "cell_type": "code",
   "execution_count": 5,
   "id": "0c43ad6a",
   "metadata": {},
   "outputs": [],
   "source": [
    "l=[1,2,3]\n",
    "l.append([2,3])"
   ]
  },
  {
   "cell_type": "code",
   "execution_count": 6,
   "id": "89056730",
   "metadata": {},
   "outputs": [
    {
     "data": {
      "text/plain": [
       "[1, 2, 3, [2, 3]]"
      ]
     },
     "execution_count": 6,
     "metadata": {},
     "output_type": "execute_result"
    }
   ],
   "source": [
    "l"
   ]
  },
  {
   "cell_type": "code",
   "execution_count": 7,
   "id": "433ec15f",
   "metadata": {},
   "outputs": [
    {
     "data": {
      "text/plain": [
       "[1, 2, 3, 'sudh']"
      ]
     },
     "execution_count": 7,
     "metadata": {},
     "output_type": "execute_result"
    }
   ],
   "source": [
    "l=[1,2,3]\n",
    "l + [\"sudh\"]"
   ]
  },
  {
   "cell_type": "code",
   "execution_count": 10,
   "id": "59288f69",
   "metadata": {},
   "outputs": [],
   "source": [
    "l=[\"a\",\"b\",\"c\"]\n",
    "l.insert(2,\"lalit\")"
   ]
  },
  {
   "cell_type": "code",
   "execution_count": 11,
   "id": "4bafe34d",
   "metadata": {},
   "outputs": [
    {
     "data": {
      "text/plain": [
       "['a', 'b', 'lalit', 'c']"
      ]
     },
     "execution_count": 11,
     "metadata": {},
     "output_type": "execute_result"
    }
   ],
   "source": [
    "l"
   ]
  },
  {
   "cell_type": "code",
   "execution_count": 12,
   "id": "5c9060f8",
   "metadata": {},
   "outputs": [],
   "source": [
    "#-1 pe adjustment means -1 se pehle\n",
    "l.insert(-1,\"my\")\n"
   ]
  },
  {
   "cell_type": "code",
   "execution_count": 13,
   "id": "115ba198",
   "metadata": {},
   "outputs": [
    {
     "data": {
      "text/plain": [
       "['a', 'b', 'lalit', 'my', 'c']"
      ]
     },
     "execution_count": 13,
     "metadata": {},
     "output_type": "execute_result"
    }
   ],
   "source": [
    "l"
   ]
  },
  {
   "cell_type": "code",
   "execution_count": 15,
   "id": "eee34526",
   "metadata": {},
   "outputs": [
    {
     "data": {
      "text/plain": [
       "1"
      ]
     },
     "execution_count": 15,
     "metadata": {},
     "output_type": "execute_result"
    }
   ],
   "source": [
    "l.count(\"b\")"
   ]
  },
  {
   "cell_type": "code",
   "execution_count": 18,
   "id": "5aef056a",
   "metadata": {},
   "outputs": [],
   "source": [
    "#will work for string only,extending the list, it only works in iterable\n",
    "l.extend(\"kumar\")"
   ]
  },
  {
   "cell_type": "code",
   "execution_count": 22,
   "id": "b76abcec",
   "metadata": {},
   "outputs": [],
   "source": [
    "a= \"abcd\""
   ]
  },
  {
   "cell_type": "code",
   "execution_count": 35,
   "id": "1c0ed159",
   "metadata": {},
   "outputs": [
    {
     "data": {
      "text/plain": [
       "['a',\n",
       " 'b',\n",
       " 'lalit',\n",
       " 'my',\n",
       " 'c',\n",
       " 'k',\n",
       " 'u',\n",
       " 'm',\n",
       " 'a',\n",
       " 'r',\n",
       " 'k',\n",
       " 'u',\n",
       " 'm',\n",
       " 'a',\n",
       " 'r']"
      ]
     },
     "execution_count": 35,
     "metadata": {},
     "output_type": "execute_result"
    }
   ],
   "source": [
    "l"
   ]
  },
  {
   "cell_type": "code",
   "execution_count": 24,
   "id": "a3415942",
   "metadata": {},
   "outputs": [
    {
     "data": {
      "text/plain": [
       "['a', 'b', 'c', 'd']"
      ]
     },
     "execution_count": 24,
     "metadata": {},
     "output_type": "execute_result"
    }
   ],
   "source": [
    "list(a)"
   ]
  },
  {
   "cell_type": "code",
   "execution_count": 32,
   "id": "a672975d",
   "metadata": {},
   "outputs": [],
   "source": [
    "a=[\"k\",\"m\",\"n\"]"
   ]
  },
  {
   "cell_type": "code",
   "execution_count": 33,
   "id": "6f34e5bf",
   "metadata": {},
   "outputs": [],
   "source": [
    "a.extend([\"abcd\"])"
   ]
  },
  {
   "cell_type": "code",
   "execution_count": 34,
   "id": "543f72fa",
   "metadata": {},
   "outputs": [
    {
     "data": {
      "text/plain": [
       "['k', 'm', 'n', 'abcd']"
      ]
     },
     "execution_count": 34,
     "metadata": {},
     "output_type": "execute_result"
    }
   ],
   "source": [
    "a"
   ]
  },
  {
   "cell_type": "code",
   "execution_count": 38,
   "id": "90fe9962",
   "metadata": {},
   "outputs": [],
   "source": [
    "a=[10,1,3,4,1,2,1]"
   ]
  },
  {
   "cell_type": "code",
   "execution_count": 39,
   "id": "861e22b6",
   "metadata": {},
   "outputs": [
    {
     "data": {
      "text/plain": [
       "1"
      ]
     },
     "execution_count": 39,
     "metadata": {},
     "output_type": "execute_result"
    }
   ],
   "source": [
    "a.index(1)"
   ]
  },
  {
   "cell_type": "code",
   "execution_count": 40,
   "id": "3057621d",
   "metadata": {},
   "outputs": [
    {
     "data": {
      "text/plain": [
       "10"
      ]
     },
     "execution_count": 40,
     "metadata": {},
     "output_type": "execute_result"
    }
   ],
   "source": [
    "a.pop(0)"
   ]
  },
  {
   "cell_type": "code",
   "execution_count": 41,
   "id": "f4d23ff2",
   "metadata": {},
   "outputs": [
    {
     "data": {
      "text/plain": [
       "[1, 3, 4, 1, 2, 1]"
      ]
     },
     "execution_count": 41,
     "metadata": {},
     "output_type": "execute_result"
    }
   ],
   "source": [
    "a"
   ]
  },
  {
   "cell_type": "code",
   "execution_count": 42,
   "id": "3096856a",
   "metadata": {},
   "outputs": [],
   "source": [
    "a.remove(4)"
   ]
  },
  {
   "cell_type": "code",
   "execution_count": 44,
   "id": "702bf020",
   "metadata": {},
   "outputs": [
    {
     "data": {
      "text/plain": [
       "[1, 3, 1, 2, 1]"
      ]
     },
     "execution_count": 44,
     "metadata": {},
     "output_type": "execute_result"
    }
   ],
   "source": [
    "a"
   ]
  },
  {
   "cell_type": "code",
   "execution_count": 45,
   "id": "afdf2f18",
   "metadata": {},
   "outputs": [],
   "source": [
    "a.reverse()"
   ]
  },
  {
   "cell_type": "code",
   "execution_count": 46,
   "id": "57f268dc",
   "metadata": {},
   "outputs": [
    {
     "data": {
      "text/plain": [
       "[1, 2, 1, 3, 1]"
      ]
     },
     "execution_count": 46,
     "metadata": {},
     "output_type": "execute_result"
    }
   ],
   "source": [
    "a"
   ]
  },
  {
   "cell_type": "code",
   "execution_count": 48,
   "id": "c4d1b45b",
   "metadata": {},
   "outputs": [],
   "source": [
    "a.sort()"
   ]
  },
  {
   "cell_type": "code",
   "execution_count": 49,
   "id": "4c88dc9f",
   "metadata": {},
   "outputs": [
    {
     "data": {
      "text/plain": [
       "[1, 1, 1, 2, 3]"
      ]
     },
     "execution_count": 49,
     "metadata": {},
     "output_type": "execute_result"
    }
   ],
   "source": [
    "a"
   ]
  },
  {
   "cell_type": "code",
   "execution_count": 50,
   "id": "9ee6e672",
   "metadata": {},
   "outputs": [],
   "source": [
    "l=[[1,2,3],[11,12,'b','b','b'],[21,'t',223],[4,5,6],[7,8,9],'demo',12.5]"
   ]
  },
  {
   "cell_type": "code",
   "execution_count": 60,
   "id": "d8443c2f",
   "metadata": {},
   "outputs": [],
   "source": [
    "for i in range(len(l)):\n",
    "    if type(l[i])==str:\n",
    "        print(i)\n",
    "        l.pop(i)\n",
    "           "
   ]
  },
  {
   "cell_type": "code",
   "execution_count": 61,
   "id": "839c80cf",
   "metadata": {},
   "outputs": [
    {
     "data": {
      "text/plain": [
       "[[1, 2, 3],\n",
       " [11, 12, 'b', 'b', 'b'],\n",
       " [21, 't', 223],\n",
       " [4, 5, 6],\n",
       " [7, 8, 9],\n",
       " 12.5]"
      ]
     },
     "execution_count": 61,
     "metadata": {},
     "output_type": "execute_result"
    }
   ],
   "source": [
    "l\n",
    "            "
   ]
  },
  {
   "cell_type": "code",
   "execution_count": 62,
   "id": "0ddd72df",
   "metadata": {},
   "outputs": [],
   "source": [
    "l=[[1,2,3],[11,12,'b','b','b'],[21,'t',223],[4,5,6],[7,8,9],'demo',12.5]"
   ]
  },
  {
   "cell_type": "code",
   "execution_count": 63,
   "id": "c7d06c11",
   "metadata": {},
   "outputs": [
    {
     "ename": "SyntaxError",
     "evalue": "invalid syntax (2173715397.py, line 2)",
     "output_type": "error",
     "traceback": [
      "\u001b[1;36m  Input \u001b[1;32mIn [63]\u001b[1;36m\u001b[0m\n\u001b[1;33m    how to find index in nested list if it contains string and how to print and after print indexes of that how we can remove them from nested list\u001b[0m\n\u001b[1;37m        ^\u001b[0m\n\u001b[1;31mSyntaxError\u001b[0m\u001b[1;31m:\u001b[0m invalid syntax\n"
     ]
    }
   ],
   "source": [
    "l=[[1,2,3],[11,12,'b','b','b'],[21,'t',223],[4,5,6],[7,8,9],'demo',12.5]\n",
    "how to find index in nested list if it contains string and how to print and after print indexes of that how we can remove them from nested list"
   ]
  },
  {
   "cell_type": "code",
   "execution_count": 69,
   "id": "8a6d7604",
   "metadata": {},
   "outputs": [
    {
     "name": "stdout",
     "output_type": "stream",
     "text": [
      "2\n",
      "2\n",
      "3\n",
      "[2, 2, 3]\n"
     ]
    }
   ],
   "source": [
    "#how to make list of collecting input\n",
    "l=[]\n",
    "for i in range(3):\n",
    "    l.append(int(input()))\n",
    "print(l)"
   ]
  },
  {
   "cell_type": "code",
   "execution_count": 2,
   "id": "e3758883",
   "metadata": {},
   "outputs": [
    {
     "name": "stdout",
     "output_type": "stream",
     "text": [
      "w\n"
     ]
    },
    {
     "data": {
      "text/plain": [
       "'w'"
      ]
     },
     "execution_count": 2,
     "metadata": {},
     "output_type": "execute_result"
    }
   ],
   "source": [
    "input()"
   ]
  },
  {
   "cell_type": "code",
   "execution_count": 11,
   "id": "581141ea",
   "metadata": {},
   "outputs": [
    {
     "name": "stdout",
     "output_type": "stream",
     "text": [
      "index of string b is : 2\n",
      "index of string b is : 3\n",
      "index of string b is : 4\n",
      "index of string t is : 1\n",
      "list after removal of string from nested list is\r",
      " [[1, 2, 3], [11, 12], [21, 223], [4, 5, 6], [7, 8, 9], 'demo', 12.5] n\n"
     ]
    }
   ],
   "source": [
    "#how to find index in nested list if it contains string and how to print and after print indexes of that how we can remove them from nested list\n",
    "l=[[1,2,3],[11,12,'b','b','b'],[21,'t',223],[4,5,6],[7,8,9],'demo',12.5]\n",
    "\n",
    "for i in l:\n",
    "    if type(i)==list:\n",
    "        j=0\n",
    "        while j<len(i):\n",
    "            if type(i[j]) is str:\n",
    "                print(\"index of string {} is :\".format(i[j]),j)\n",
    "            j=j+1\n",
    "        j=0\n",
    "        \n",
    "        while j<len(i):\n",
    "            if type(i[j])==str:\n",
    "                i.remove(i[j])\n",
    "                continue\n",
    "            j=j+1\n",
    "            \n",
    "print(\"list after removal of string from nested list is\\r\",l,\"n\")\n",
    "     \n",
    "            \n",
    "            \n",
    "    "
   ]
  },
  {
   "cell_type": "code",
   "execution_count": 12,
   "id": "1e9cf810",
   "metadata": {},
   "outputs": [
    {
     "name": "stdout",
     "output_type": "stream",
     "text": [
      "Index of string 'b' is: 2\n",
      "Index of string 'b' is: 3\n",
      "Index of string 'b' is: 4\n",
      "Index of string 't' is: 1\n",
      "List after removal of strings from nested list is: [[1, 2, 3], [11, 12], [21, 223], [4, 5, 6], [7, 8, 9], 'demo', 12.5]\n"
     ]
    }
   ],
   "source": [
    "#by chat gpt\n",
    "l = [[1, 2, 3], [11, 12, 'b', 'b', 'b'], [21, 't', 223], [4, 5, 6], [7, 8, 9], 'demo', 12.5]\n",
    "\n",
    "for i in l:\n",
    "    if type(i) == list:\n",
    "        j = 0\n",
    "        while j < len(i):\n",
    "            if type(i[j]) is str:\n",
    "                print(\"Index of string '{}' is:\".format(i[j]), j)\n",
    "            j += 1\n",
    "        \n",
    "        j = 0\n",
    "        while j < len(i):\n",
    "            if type(i[j]) == str:\n",
    "                i.remove(i[j])\n",
    "            else:\n",
    "                j += 1\n",
    "\n",
    "print(\"List after removal of strings from nested list is:\", l)"
   ]
  },
  {
   "cell_type": "code",
   "execution_count": 23,
   "id": "37dbe9a1",
   "metadata": {},
   "outputs": [
    {
     "name": "stdout",
     "output_type": "stream",
     "text": [
      "index of string b is : 2\n",
      "index of string b is : 3\n"
     ]
    },
    {
     "ename": "IndexError",
     "evalue": "list index out of range",
     "output_type": "error",
     "traceback": [
      "\u001b[1;31m---------------------------------------------------------------------------\u001b[0m",
      "\u001b[1;31mIndexError\u001b[0m                                Traceback (most recent call last)",
      "Input \u001b[1;32mIn [23]\u001b[0m, in \u001b[0;36m<cell line: 2>\u001b[1;34m()\u001b[0m\n\u001b[0;32m      3\u001b[0m \u001b[38;5;28;01mif\u001b[39;00m \u001b[38;5;28mtype\u001b[39m(i)\u001b[38;5;241m==\u001b[39m\u001b[38;5;28mlist\u001b[39m:\n\u001b[0;32m      4\u001b[0m     \u001b[38;5;28;01mfor\u001b[39;00m j \u001b[38;5;129;01min\u001b[39;00m \u001b[38;5;28mrange\u001b[39m(\u001b[38;5;28mlen\u001b[39m(i)): \u001b[38;5;66;03m#j will become index\u001b[39;00m\n\u001b[1;32m----> 5\u001b[0m         \u001b[38;5;28;01mif\u001b[39;00m \u001b[38;5;28mtype\u001b[39m(\u001b[43mi\u001b[49m\u001b[43m[\u001b[49m\u001b[43mj\u001b[49m\u001b[43m]\u001b[49m)\u001b[38;5;241m==\u001b[39m\u001b[38;5;28mstr\u001b[39m:\n\u001b[0;32m      6\u001b[0m             \u001b[38;5;28mprint\u001b[39m(\u001b[38;5;124m\"\u001b[39m\u001b[38;5;124mindex of string \u001b[39m\u001b[38;5;132;01m{}\u001b[39;00m\u001b[38;5;124m is :\u001b[39m\u001b[38;5;124m\"\u001b[39m\u001b[38;5;241m.\u001b[39mformat(i[j]),j)\n\u001b[0;32m      8\u001b[0m             i\u001b[38;5;241m.\u001b[39mremove(i[j])\n",
      "\u001b[1;31mIndexError\u001b[0m: list index out of range"
     ]
    }
   ],
   "source": [
    "l = [[1, 2, 3], [11, 12, 'b', 'b', 'b'], [21, 't', 223], [4, 5, 6], [7, 8, 9], 'demo', 12.5]\n",
    "for i in l:\n",
    "    if type(i)==list:\n",
    "        for j in range(len(i)): #j will become index\n",
    "            if type(i[j])==str:\n",
    "                print(\"index of string {} is :\".format(i[j]),j)\n",
    "                \n",
    "                i.remove(i[j])\n",
    "\n",
    "                "
   ]
  },
  {
   "cell_type": "code",
   "execution_count": 24,
   "id": "5629a3ce",
   "metadata": {},
   "outputs": [
    {
     "name": "stdout",
     "output_type": "stream",
     "text": [
      "Index of string 'b' is: 2\n",
      "Index of string 't' is: 1\n",
      "List after removal of strings from nested lists: [[1, 2, 3], [11, 12], [21, 223], [4, 5, 6], [7, 8, 9], 'demo', 12.5]\n"
     ]
    }
   ],
   "source": [
    "for i in l:\n",
    "    if type(i) == list:  # Check if the element is a list\n",
    "        for j in range(len(i) - 1, -1, -1):  # Loop in reverse order\n",
    "            if type(i[j]) == str:  # Check if the current element is a string\n",
    "                print(\"Index of string '{}' is: {}\".format(i[j], j))\n",
    "                i.remove(i[j])  # Remove the string element\n",
    "\n",
    "print(\"List after removal of strings from nested lists:\", l)"
   ]
  },
  {
   "cell_type": "code",
   "execution_count": 4,
   "id": "f790823a",
   "metadata": {},
   "outputs": [
    {
     "name": "stdout",
     "output_type": "stream",
     "text": [
      "['s', 'u', 'd', 'h', 'j']\n"
     ]
    }
   ],
   "source": [
    "a=[]\n",
    "l=\"sudhj\"\n",
    "\n",
    "for i in l:\n",
    "    a.append(i)\n",
    "print(a)    "
   ]
  },
  {
   "cell_type": "code",
   "execution_count": 5,
   "id": "466eb64b",
   "metadata": {},
   "outputs": [
    {
     "data": {
      "text/plain": [
       "['s', 'u', 'd', 'h', 'j']"
      ]
     },
     "execution_count": 5,
     "metadata": {},
     "output_type": "execute_result"
    }
   ],
   "source": [
    "#comprehension operation\n",
    "[i for i in l]"
   ]
  },
  {
   "cell_type": "code",
   "execution_count": 9,
   "id": "3abad6a4",
   "metadata": {},
   "outputs": [
    {
     "data": {
      "text/plain": [
       "['s', 'u', 'd', 'h', 'j']"
      ]
     },
     "execution_count": 9,
     "metadata": {},
     "output_type": "execute_result"
    }
   ],
   "source": [
    "[i for i in \"sudhj\"]"
   ]
  },
  {
   "cell_type": "code",
   "execution_count": 10,
   "id": "7844319e",
   "metadata": {},
   "outputs": [
    {
     "data": {
      "text/plain": [
       "[['s'], ['u'], ['d'], ['h'], ['j']]"
      ]
     },
     "execution_count": 10,
     "metadata": {},
     "output_type": "execute_result"
    }
   ],
   "source": [
    "#creating list for list\n",
    "[[i] for i in \"sudhj\"]"
   ]
  },
  {
   "cell_type": "code",
   "execution_count": 6,
   "id": "21dbea99",
   "metadata": {},
   "outputs": [],
   "source": [
    "l=[]\n",
    "for i in range(10):\n",
    "    if i%2==0: #this is for rmainder\n",
    "        \n",
    "        l.append(i)#iske saath print nahi aayega\n",
    "        \n",
    "        \n"
   ]
  },
  {
   "cell_type": "code",
   "execution_count": 7,
   "id": "d994b005",
   "metadata": {},
   "outputs": [
    {
     "data": {
      "text/plain": [
       "[0, 2, 4, 6, 8]"
      ]
     },
     "execution_count": 7,
     "metadata": {},
     "output_type": "execute_result"
    }
   ],
   "source": [
    "l"
   ]
  },
  {
   "cell_type": "code",
   "execution_count": 11,
   "id": "1eab6c8a",
   "metadata": {},
   "outputs": [
    {
     "data": {
      "text/plain": [
       "[0, 2, 4, 6, 8]"
      ]
     },
     "execution_count": 11,
     "metadata": {},
     "output_type": "execute_result"
    }
   ],
   "source": [
    "[ i for i in range(10) if i %2==0]"
   ]
  },
  {
   "cell_type": "code",
   "execution_count": 3,
   "id": "93c2189e",
   "metadata": {},
   "outputs": [],
   "source": [
    "l=[]\n",
    "for i in range(10):\n",
    "    \n",
    "    if i % 2 != 0 :\n",
    "        l.append(\"odd\")\n",
    "    else :\n",
    "        l.append(\"even\")"
   ]
  },
  {
   "cell_type": "code",
   "execution_count": 4,
   "id": "30652e07",
   "metadata": {},
   "outputs": [
    {
     "data": {
      "text/plain": [
       "['even', 'odd', 'even', 'odd', 'even', 'odd', 'even', 'odd', 'even', 'odd']"
      ]
     },
     "execution_count": 4,
     "metadata": {},
     "output_type": "execute_result"
    }
   ],
   "source": [
    "l"
   ]
  },
  {
   "cell_type": "code",
   "execution_count": 5,
   "id": "87dda815",
   "metadata": {},
   "outputs": [
    {
     "data": {
      "text/plain": [
       "['even', 'odd', 'even', 'odd', 'even', 'odd', 'even', 'odd', 'even', 'odd']"
      ]
     },
     "execution_count": 5,
     "metadata": {},
     "output_type": "execute_result"
    }
   ],
   "source": [
    "[\"odd\" if i % 2 !=0 else \"even\"  for i in range(10)]"
   ]
  },
  {
   "cell_type": "code",
   "execution_count": 7,
   "id": "30c97766",
   "metadata": {},
   "outputs": [
    {
     "data": {
      "text/plain": [
       "[[0, 1, 2], [0, 1, 2], [0, 1, 2]]"
      ]
     },
     "execution_count": 7,
     "metadata": {},
     "output_type": "execute_result"
    }
   ],
   "source": [
    "mat=[]\n",
    "for i in range(3):\n",
    "    mat.append([])\n",
    "    for j in range(3):\n",
    "        mat[i].append(j)#mat[i] is like s[i]\n",
    "mat"
   ]
  },
  {
   "cell_type": "code",
   "execution_count": 9,
   "id": "9d85189e",
   "metadata": {},
   "outputs": [
    {
     "data": {
      "text/plain": [
       "[[0, 1, 2], [0, 1, 2], [0, 1, 2]]"
      ]
     },
     "execution_count": 9,
     "metadata": {},
     "output_type": "execute_result"
    }
   ],
   "source": [
    "[[ j for j in range(3)]for i in range(3)]   #j for j means using index "
   ]
  },
  {
   "cell_type": "code",
   "execution_count": 10,
   "id": "f17b1666",
   "metadata": {},
   "outputs": [
    {
     "data": {
      "text/plain": [
       "[0, 1, 2, 3, 4, 5, 6, 7]"
      ]
     },
     "execution_count": 10,
     "metadata": {},
     "output_type": "execute_result"
    }
   ],
   "source": [
    "[ i for i in range(8)]"
   ]
  },
  {
   "cell_type": "code",
   "execution_count": 11,
   "id": "0243b2b9",
   "metadata": {},
   "outputs": [
    {
     "data": {
      "text/plain": [
       "[0, 6]"
      ]
     },
     "execution_count": 11,
     "metadata": {},
     "output_type": "execute_result"
    }
   ],
   "source": [
    "#multiple  joint condition case\n",
    "[i for i in range(7) if i % 2 ==0 if i % 3 ==0]"
   ]
  },
  {
   "cell_type": "code",
   "execution_count": 12,
   "id": "19806310",
   "metadata": {},
   "outputs": [
    {
     "data": {
      "text/plain": [
       "[0, 6]"
      ]
     },
     "execution_count": 12,
     "metadata": {},
     "output_type": "execute_result"
    }
   ],
   "source": [
    "l=[]  \n",
    "for i in range(7):\n",
    "    if i % 2==0:\n",
    "        if i % 3==0 :\n",
    "            l. append(i)\n",
    "l"
   ]
  },
  {
   "cell_type": "code",
   "execution_count": 14,
   "id": "9088c2e7",
   "metadata": {},
   "outputs": [
    {
     "data": {
      "text/plain": [
       "['test', 'yes', 'no', 'test', 'test', 'test', 'test', 'test']"
      ]
     },
     "execution_count": 14,
     "metadata": {},
     "output_type": "execute_result"
    }
   ],
   "source": [
    "[ \"yes\" if i==1 else \"no\" if i ==2 else \"test\" for i in range(8)]"
   ]
  },
  {
   "cell_type": "code",
   "execution_count": 17,
   "id": "69c17b95",
   "metadata": {},
   "outputs": [
    {
     "data": {
      "text/plain": [
       "['test', 'yes', 'no', 'test', 'test', 'test', 'test', 'test']"
      ]
     },
     "execution_count": 17,
     "metadata": {},
     "output_type": "execute_result"
    }
   ],
   "source": [
    "l=[]\n",
    "for i in range(8):\n",
    "    if i ==1:\n",
    "        l.append(\"yes\")\n",
    "    elif i==2 :\n",
    "        l.append(\"no\")\n",
    "    else :\n",
    "        l.append(\"test\")\n",
    "        \n",
    "        \n",
    "l"
   ]
  },
  {
   "cell_type": "code",
   "execution_count": null,
   "id": "c2f1b5f5",
   "metadata": {},
   "outputs": [],
   "source": []
  }
 ],
 "metadata": {
  "kernelspec": {
   "display_name": "Python 3 (ipykernel)",
   "language": "python",
   "name": "python3"
  },
  "language_info": {
   "codemirror_mode": {
    "name": "ipython",
    "version": 3
   },
   "file_extension": ".py",
   "mimetype": "text/x-python",
   "name": "python",
   "nbconvert_exporter": "python",
   "pygments_lexer": "ipython3",
   "version": "3.9.12"
  }
 },
 "nbformat": 4,
 "nbformat_minor": 5
}
