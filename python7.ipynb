{
 "cells": [
  {
   "cell_type": "code",
   "execution_count": 2,
   "id": "64e9af96",
   "metadata": {},
   "outputs": [],
   "source": [
    "import math"
   ]
  },
  {
   "cell_type": "code",
   "execution_count": 3,
   "id": "6a55a0fb",
   "metadata": {},
   "outputs": [
    {
     "data": {
      "text/plain": [
       "2.0"
      ]
     },
     "execution_count": 3,
     "metadata": {},
     "output_type": "execute_result"
    }
   ],
   "source": [
    "math.sqrt(4)"
   ]
  },
  {
   "cell_type": "code",
   "execution_count": 5,
   "id": "fee6baa2",
   "metadata": {},
   "outputs": [],
   "source": [
    "#or,\n",
    "from math import sqrt"
   ]
  },
  {
   "cell_type": "code",
   "execution_count": 6,
   "id": "17702da9",
   "metadata": {},
   "outputs": [
    {
     "data": {
      "text/plain": [
       "2.0"
      ]
     },
     "execution_count": 6,
     "metadata": {},
     "output_type": "execute_result"
    }
   ],
   "source": [
    "sqrt(4)"
   ]
  },
  {
   "cell_type": "code",
   "execution_count": 7,
   "id": "86ce600a",
   "metadata": {},
   "outputs": [],
   "source": [
    "#best\n",
    "from math import *"
   ]
  },
  {
   "cell_type": "code",
   "execution_count": 8,
   "id": "1c343124",
   "metadata": {},
   "outputs": [
    {
     "data": {
      "text/plain": [
       "0.9092974268256817"
      ]
     },
     "execution_count": 8,
     "metadata": {},
     "output_type": "execute_result"
    }
   ],
   "source": [
    "sin(2)"
   ]
  },
  {
   "cell_type": "code",
   "execution_count": 13,
   "id": "c232da90",
   "metadata": {},
   "outputs": [
    {
     "data": {
      "text/plain": [
       "'C:\\\\Users\\\\lalit'"
      ]
     },
     "execution_count": 13,
     "metadata": {},
     "output_type": "execute_result"
    }
   ],
   "source": [
    "pwd()"
   ]
  },
  {
   "cell_type": "code",
   "execution_count": 1,
   "id": "c5cacf03",
   "metadata": {},
   "outputs": [
    {
     "name": "stdout",
     "output_type": "stream",
     "text": [
      "this is my firstvere mod\n"
     ]
    }
   ],
   "source": [
    "#after creating file manually in cwd and jupiter lalit.py as text file -- creating modules\n",
    "import lalit"
   ]
  },
  {
   "cell_type": "code",
   "execution_count": 3,
   "id": "e74ec3f0",
   "metadata": {},
   "outputs": [],
   "source": [
    "#again can't reload drectly\n",
    "import lalit"
   ]
  },
  {
   "cell_type": "code",
   "execution_count": 5,
   "id": "ad323e1a",
   "metadata": {},
   "outputs": [
    {
     "name": "stdout",
     "output_type": "stream",
     "text": [
      "this is my firstvere mod\n"
     ]
    },
    {
     "data": {
      "text/plain": [
       "<module 'lalit' from 'C:\\\\Users\\\\lalit\\\\lalit.py'>"
      ]
     },
     "execution_count": 5,
     "metadata": {},
     "output_type": "execute_result"
    }
   ],
   "source": [
    "# by this way can reload\n",
    "import imp\n",
    "imp.reload(lalit)"
   ]
  },
  {
   "cell_type": "code",
   "execution_count": 1,
   "id": "99fcb495",
   "metadata": {},
   "outputs": [],
   "source": [
    "#will create another module addition directly  in kupyter home first\n",
    "import addition"
   ]
  },
  {
   "cell_type": "code",
   "execution_count": 2,
   "id": "38689a5d",
   "metadata": {},
   "outputs": [
    {
     "data": {
      "text/plain": [
       "9"
      ]
     },
     "execution_count": 2,
     "metadata": {},
     "output_type": "execute_result"
    }
   ],
   "source": [
    "addition.addition1(4,5)"
   ]
  },
  {
   "cell_type": "code",
   "execution_count": 4,
   "id": "f30bcc55",
   "metadata": {},
   "outputs": [],
   "source": [
    "#after creating test6 file-module\n",
    "import test6"
   ]
  },
  {
   "cell_type": "code",
   "execution_count": 5,
   "id": "8f29aa69",
   "metadata": {},
   "outputs": [
    {
     "data": {
      "text/plain": [
       "'this is my class'"
      ]
     },
     "execution_count": 5,
     "metadata": {},
     "output_type": "execute_result"
    }
   ],
   "source": [
    "test6.msg1()"
   ]
  },
  {
   "cell_type": "code",
   "execution_count": 6,
   "id": "93b8e275",
   "metadata": {},
   "outputs": [],
   "source": [
    "#to import single function from module\n",
    "from test6 import msg1"
   ]
  },
  {
   "cell_type": "code",
   "execution_count": 7,
   "id": "97a9695e",
   "metadata": {},
   "outputs": [
    {
     "data": {
      "text/plain": [
       "'this is my class'"
      ]
     },
     "execution_count": 7,
     "metadata": {},
     "output_type": "execute_result"
    }
   ],
   "source": [
    "msg1()"
   ]
  },
  {
   "cell_type": "code",
   "execution_count": 8,
   "id": "9036e6b7",
   "metadata": {},
   "outputs": [],
   "source": [
    "#folder under folder then create text files(.py) and jupyter file with py files (ye inner folder me hi banega)\n",
    "#phir iske baad sabse wale k andar bhi ek aur jupyter file banegi  to call modukle jupyter file .\n"
   ]
  },
  {
   "cell_type": "code",
   "execution_count": 1,
   "id": "b4e645ca",
   "metadata": {},
   "outputs": [],
   "source": [
    "#PRACTICE TEST FILE FOLDER."
   ]
  },
  {
   "cell_type": "code",
   "execution_count": 9,
   "id": "0d81a2f3",
   "metadata": {},
   "outputs": [],
   "source": [
    "#EXCEPTIONAL; HANDLING. onbly of runn time error\n"
   ]
  },
  {
   "cell_type": "code",
   "execution_count": 10,
   "id": "370c24cc",
   "metadata": {},
   "outputs": [
    {
     "ename": "FileNotFoundError",
     "evalue": "[Errno 2] No such file or directory: 'TEST.txt'",
     "output_type": "error",
     "traceback": [
      "\u001b[1;31m---------------------------------------------------------------------------\u001b[0m",
      "\u001b[1;31mFileNotFoundError\u001b[0m                         Traceback (most recent call last)",
      "Input \u001b[1;32mIn [10]\u001b[0m, in \u001b[0;36m<cell line: 1>\u001b[1;34m()\u001b[0m\n\u001b[1;32m----> 1\u001b[0m F\u001b[38;5;241m=\u001b[39m\u001b[38;5;28;43mopen\u001b[39;49m\u001b[43m(\u001b[49m\u001b[38;5;124;43m\"\u001b[39;49m\u001b[38;5;124;43mTEST.txt\u001b[39;49m\u001b[38;5;124;43m\"\u001b[39;49m\u001b[43m,\u001b[49m\u001b[38;5;124;43m\"\u001b[39;49m\u001b[38;5;124;43mr\u001b[39;49m\u001b[38;5;124;43m\"\u001b[39;49m\u001b[43m)\u001b[49m\n",
      "\u001b[1;31mFileNotFoundError\u001b[0m: [Errno 2] No such file or directory: 'TEST.txt'"
     ]
    }
   ],
   "source": [
    "F=open(\"TEST.txt\",\"r\")"
   ]
  },
  {
   "cell_type": "code",
   "execution_count": 8,
   "id": "51e66a63",
   "metadata": {},
   "outputs": [],
   "source": [
    "try:\n",
    "    F=open(\"TEST.txt\",\"r\")\n",
    "except:pass"
   ]
  },
  {
   "cell_type": "code",
   "execution_count": 2,
   "id": "6d7d4e9d",
   "metadata": {},
   "outputs": [
    {
     "name": "stdout",
     "output_type": "stream",
     "text": [
      "an rror occ\n"
     ]
    }
   ],
   "source": [
    "    try:\n",
    "        a=5/0\n",
    "    except:\n",
    "        \n",
    "        print(\"an rror occ\")\n",
    "        \n",
    "    \n",
    "    "
   ]
  },
  {
   "cell_type": "code",
   "execution_count": 1,
   "id": "9fa93b26",
   "metadata": {},
   "outputs": [
    {
     "ename": "ZeroDivisionError",
     "evalue": "division by zero",
     "output_type": "error",
     "traceback": [
      "\u001b[1;31m---------------------------------------------------------------------------\u001b[0m",
      "\u001b[1;31mZeroDivisionError\u001b[0m                         Traceback (most recent call last)",
      "Input \u001b[1;32mIn [1]\u001b[0m, in \u001b[0;36m<cell line: 2>\u001b[1;34m()\u001b[0m\n\u001b[0;32m      1\u001b[0m \u001b[38;5;66;03m#IOError  io walo k case mein natural error dega\u001b[39;00m\n\u001b[0;32m      2\u001b[0m \u001b[38;5;28;01mtry\u001b[39;00m :\n\u001b[1;32m----> 3\u001b[0m     a\u001b[38;5;241m=\u001b[39m\u001b[38;5;241;43m5\u001b[39;49m\u001b[38;5;241;43m/\u001b[39;49m\u001b[38;5;241;43m0\u001b[39;49m\n\u001b[0;32m      4\u001b[0m \u001b[38;5;28;01mexcept\u001b[39;00m \u001b[38;5;167;01mIOError\u001b[39;00m:\n\u001b[0;32m      5\u001b[0m     \u001b[38;5;28mprint\u001b[39m(\u001b[38;5;124m\"\u001b[39m\u001b[38;5;124mreeor occured\u001b[39m\u001b[38;5;124m\"\u001b[39m)\n",
      "\u001b[1;31mZeroDivisionError\u001b[0m: division by zero"
     ]
    }
   ],
   "source": [
    "#IOError  io walo k case mein natural error dega\n",
    "try :\n",
    "    a=5/0\n",
    "except IOError:\n",
    "    print(\"reeor occured\")"
   ]
  },
  {
   "cell_type": "code",
   "execution_count": 12,
   "id": "aef0a480",
   "metadata": {},
   "outputs": [
    {
     "name": "stdout",
     "output_type": "stream",
     "text": [
      "reeor occured\n"
     ]
    }
   ],
   "source": [
    "#isme io ki wajah se nahi tha isliye our error came\n",
    "try :\n",
    "    a=open(\"test.txt\",\"r\")\n",
    "except IOError:\n",
    "    print(\"reeor occured\")"
   ]
  },
  {
   "cell_type": "code",
   "execution_count": 2,
   "id": "9008fd0a",
   "metadata": {},
   "outputs": [
    {
     "name": "stdout",
     "output_type": "stream",
     "text": [
      "reeor occured\n"
     ]
    }
   ],
   "source": [
    "try :\n",
    "    a=5/0\n",
    "except ArithmeticError:\n",
    "    print(\"reeor occured\")"
   ]
  },
  {
   "cell_type": "code",
   "execution_count": 6,
   "id": "796a4d1c",
   "metadata": {},
   "outputs": [
    {
     "name": "stdout",
     "output_type": "stream",
     "text": [
      "ok\n"
     ]
    }
   ],
   "source": [
    "#both except statement and below that print statement  used for errors., but  except kisi type k error ko ignore karne k liye use hota hai\n",
    "try:\n",
    "    a=5/4\n",
    "except ArithmeticError as e:\n",
    "    print(\"some error\",e)\n",
    "else:\n",
    "    print(\"ok\")"
   ]
  },
  {
   "cell_type": "code",
   "execution_count": 8,
   "id": "571dbaf5",
   "metadata": {},
   "outputs": [
    {
     "name": "stdout",
     "output_type": "stream",
     "text": [
      "ok\n"
     ]
    },
    {
     "ename": "FileNotFoundError",
     "evalue": "[Errno 2] No such file or directory: 'test.txt'",
     "output_type": "error",
     "traceback": [
      "\u001b[1;31m---------------------------------------------------------------------------\u001b[0m",
      "\u001b[1;31mFileNotFoundError\u001b[0m                         Traceback (most recent call last)",
      "Input \u001b[1;32mIn [8]\u001b[0m, in \u001b[0;36m<cell line: 1>\u001b[1;34m()\u001b[0m\n\u001b[0;32m      5\u001b[0m \u001b[38;5;28;01melse\u001b[39;00m:\n\u001b[0;32m      6\u001b[0m     \u001b[38;5;28mprint\u001b[39m(\u001b[38;5;124m\"\u001b[39m\u001b[38;5;124mok\u001b[39m\u001b[38;5;124m\"\u001b[39m)\n\u001b[1;32m----> 8\u001b[0m     f\u001b[38;5;241m=\u001b[39m\u001b[38;5;28;43mopen\u001b[39;49m\u001b[43m(\u001b[49m\u001b[38;5;124;43m\"\u001b[39;49m\u001b[38;5;124;43mtest.txt\u001b[39;49m\u001b[38;5;124;43m\"\u001b[39;49m\u001b[43m,\u001b[49m\u001b[38;5;124;43m\"\u001b[39;49m\u001b[38;5;124;43mr\u001b[39;49m\u001b[38;5;124;43m\"\u001b[39;49m\u001b[43m)\u001b[49m\n",
      "\u001b[1;31mFileNotFoundError\u001b[0m: [Errno 2] No such file or directory: 'test.txt'"
     ]
    }
   ],
   "source": [
    "try:\n",
    "    a=5/4\n",
    "except ArithmeticError as e:\n",
    "    print(\"some error\",e)\n",
    "else:\n",
    "    print(\"ok\")\n",
    "  \n",
    "    f=open(\"test.txt\",\"r\")"
   ]
  },
  {
   "cell_type": "code",
   "execution_count": 9,
   "id": "a94ab000",
   "metadata": {},
   "outputs": [
    {
     "name": "stdout",
     "output_type": "stream",
     "text": [
      "ok\n",
      "file openeing error h\n"
     ]
    }
   ],
   "source": [
    "try:\n",
    "    a=5/4\n",
    "except ArithmeticError as e:\n",
    "    print(\"some error\",e)\n",
    "else:\n",
    "    print(\"ok\")\n",
    "    try:\n",
    "        \n",
    "        \n",
    "  \n",
    "        f=open(\"test.txt\",\"r\")\n",
    "    except:\n",
    "        print(\"file openeing error h\")"
   ]
  },
  {
   "cell_type": "code",
   "execution_count": 11,
   "id": "2f0b9cfa",
   "metadata": {},
   "outputs": [
    {
     "name": "stdout",
     "output_type": "stream",
     "text": [
      "put value for a1\n",
      "put value for b0\n",
      "some error division by zero\n"
     ]
    }
   ],
   "source": [
    "\n",
    "\n",
    "try:\n",
    "    a=int(input(\"put value for a\"))\n",
    "    b=int(input(\"put value for b\"))\n",
    "    c=a/b\n",
    "except ArithmeticError as e:\n",
    "    print(\"some error\",e)\n",
    "else:\n",
    "    print(\"ok\")\n",
    "    try:\n",
    "        \n",
    "        \n",
    "  \n",
    "        f=open(\"test.txt\",\"r\")\n",
    "    except:\n",
    "        print(\"file openeing error h\")"
   ]
  },
  {
   "cell_type": "code",
   "execution_count": 12,
   "id": "96ee6c4e",
   "metadata": {},
   "outputs": [
    {
     "ename": "IndexError",
     "evalue": "list index out of range",
     "output_type": "error",
     "traceback": [
      "\u001b[1;31m---------------------------------------------------------------------------\u001b[0m",
      "\u001b[1;31mIndexError\u001b[0m                                Traceback (most recent call last)",
      "Input \u001b[1;32mIn [12]\u001b[0m, in \u001b[0;36m<cell line: 2>\u001b[1;34m()\u001b[0m\n\u001b[0;32m      1\u001b[0m l\u001b[38;5;241m=\u001b[39m[\u001b[38;5;241m4\u001b[39m,\u001b[38;5;241m5\u001b[39m,\u001b[38;5;241m6\u001b[39m,\u001b[38;5;241m7\u001b[39m,\u001b[38;5;241m8\u001b[39m]\n\u001b[1;32m----> 2\u001b[0m \u001b[43ml\u001b[49m\u001b[43m[\u001b[49m\u001b[38;5;241;43m1000\u001b[39;49m\u001b[43m]\u001b[49m\n\u001b[0;32m      3\u001b[0m t\u001b[38;5;241m=\u001b[39m(\u001b[38;5;241m1\u001b[39m,\u001b[38;5;241m2\u001b[39m,\u001b[38;5;241m3\u001b[39m,\u001b[38;5;241m4\u001b[39m)\n\u001b[0;32m      4\u001b[0m \u001b[38;5;28mprint\u001b[39m(t)\n",
      "\u001b[1;31mIndexError\u001b[0m: list index out of range"
     ]
    }
   ],
   "source": [
    "l=[4,5,6,7,8]\n",
    "l[1000]\n",
    "t=(1,2,3,4)\n",
    "print(t)"
   ]
  },
  {
   "cell_type": "code",
   "execution_count": 15,
   "id": "1c7cb23b",
   "metadata": {},
   "outputs": [
    {
     "name": "stdout",
     "output_type": "stream",
     "text": [
      "error hai\n",
      "(1, 2, 3, 4)\n"
     ]
    }
   ],
   "source": [
    "l=[4,5,6,7,8]\n",
    "try:\n",
    "    \n",
    "    \n",
    "    l[1000]\n",
    "except:\n",
    "    print(\"error hai\")\n",
    "    \n",
    "t=(1,2,3,4)\n",
    "print(t)"
   ]
  },
  {
   "cell_type": "code",
   "execution_count": 16,
   "id": "6a448c59",
   "metadata": {},
   "outputs": [
    {
     "name": "stdout",
     "output_type": "stream",
     "text": [
      "(1, 2, 3, 4)\n"
     ]
    }
   ],
   "source": [
    "l=[4,5,6,7,8]\n",
    "try:\n",
    "    \n",
    "    \n",
    "    l[1000]\n",
    "except:\n",
    "    pass\n",
    "    \n",
    "t=(1,2,3,4)\n",
    "print(t)"
   ]
  },
  {
   "cell_type": "code",
   "execution_count": 18,
   "id": "66e724a8",
   "metadata": {},
   "outputs": [
    {
     "data": {
      "text/plain": [
       "3"
      ]
     },
     "execution_count": 18,
     "metadata": {},
     "output_type": "execute_result"
    }
   ],
   "source": [
    "t[2]"
   ]
  },
  {
   "cell_type": "code",
   "execution_count": 22,
   "id": "08828b9d",
   "metadata": {},
   "outputs": [],
   "source": [
    "t=(4,5,6,7)"
   ]
  },
  {
   "cell_type": "code",
   "execution_count": 23,
   "id": "2a821477",
   "metadata": {},
   "outputs": [
    {
     "data": {
      "text/plain": [
       "list[4, 5, 6, 7]"
      ]
     },
     "execution_count": 23,
     "metadata": {},
     "output_type": "execute_result"
    }
   ],
   "source": [
    "list[t]4"
   ]
  },
  {
   "cell_type": "code",
   "execution_count": 25,
   "id": "6c603b1d",
   "metadata": {},
   "outputs": [],
   "source": [
    "#oops/scripting\n",
    "# class measn classification of real life entity.\n",
    "#objects are the variables of class.\n",
    "class car:\n",
    "    pass\n",
    "    "
   ]
  },
  {
   "cell_type": "code",
   "execution_count": 27,
   "id": "fc53c9f2",
   "metadata": {},
   "outputs": [],
   "source": [
    "#ye object bna audi\n",
    "audi= car()"
   ]
  },
  {
   "cell_type": "code",
   "execution_count": 28,
   "id": "1f5a0a49",
   "metadata": {},
   "outputs": [],
   "source": [
    "audi.mileage= 23\n",
    "audi.year =2022"
   ]
  },
  {
   "cell_type": "code",
   "execution_count": 29,
   "id": "e6ad52e1",
   "metadata": {},
   "outputs": [
    {
     "data": {
      "text/plain": [
       "23"
      ]
     },
     "execution_count": 29,
     "metadata": {},
     "output_type": "execute_result"
    }
   ],
   "source": [
    "audi.mileage"
   ]
  },
  {
   "cell_type": "code",
   "execution_count": 30,
   "id": "5a9c60a9",
   "metadata": {},
   "outputs": [],
   "source": [
    "nano= car()"
   ]
  },
  {
   "cell_type": "code",
   "execution_count": 31,
   "id": "0a972e97",
   "metadata": {},
   "outputs": [],
   "source": [
    "nano.mileage= 34\n",
    "nano.year =2024"
   ]
  },
  {
   "cell_type": "code",
   "execution_count": 37,
   "id": "188f6289",
   "metadata": {},
   "outputs": [],
   "source": [
    "#to avaoid muliple writing\n",
    "#self is a pointer, it can be anything\n",
    "class car:\n",
    "    def __init__(self,mileage,year):\n",
    "    \n",
    "        self.mileage= mileage\n",
    "        self.year =year"
   ]
  },
  {
   "cell_type": "code",
   "execution_count": 38,
   "id": "3c945cc2",
   "metadata": {},
   "outputs": [],
   "source": [
    "audi= car(32,2023)"
   ]
  },
  {
   "cell_type": "code",
   "execution_count": 39,
   "id": "0acea0fd",
   "metadata": {},
   "outputs": [
    {
     "data": {
      "text/plain": [
       "32"
      ]
     },
     "execution_count": 39,
     "metadata": {},
     "output_type": "execute_result"
    }
   ],
   "source": [
    "audi.mileage"
   ]
  },
  {
   "cell_type": "code",
   "execution_count": 41,
   "id": "ccb78c27",
   "metadata": {},
   "outputs": [],
   "source": [
    "class car:\n",
    "    def __init__(self,m,y):\n",
    "        \n",
    "        self.mileage =m\n",
    "        self.year =y"
   ]
  },
  {
   "cell_type": "code",
   "execution_count": 42,
   "id": "014c25f9",
   "metadata": {},
   "outputs": [],
   "source": [
    "audi= car(44,2021)"
   ]
  },
  {
   "cell_type": "code",
   "execution_count": 43,
   "id": "a6aabcfb",
   "metadata": {},
   "outputs": [
    {
     "ename": "AttributeError",
     "evalue": "'car' object has no attribute 'm'",
     "output_type": "error",
     "traceback": [
      "\u001b[1;31m---------------------------------------------------------------------------\u001b[0m",
      "\u001b[1;31mAttributeError\u001b[0m                            Traceback (most recent call last)",
      "Input \u001b[1;32mIn [43]\u001b[0m, in \u001b[0;36m<cell line: 1>\u001b[1;34m()\u001b[0m\n\u001b[1;32m----> 1\u001b[0m \u001b[43maudi\u001b[49m\u001b[38;5;241;43m.\u001b[39;49m\u001b[43mm\u001b[49m\n",
      "\u001b[1;31mAttributeError\u001b[0m: 'car' object has no attribute 'm'"
     ]
    }
   ],
   "source": [
    "audi.m"
   ]
  },
  {
   "cell_type": "code",
   "execution_count": 44,
   "id": "9ca34da9",
   "metadata": {},
   "outputs": [
    {
     "data": {
      "text/plain": [
       "44"
      ]
     },
     "execution_count": 44,
     "metadata": {},
     "output_type": "execute_result"
    }
   ],
   "source": [
    "audi.mileage"
   ]
  },
  {
   "cell_type": "code",
   "execution_count": 7,
   "id": "13de7786",
   "metadata": {},
   "outputs": [],
   "source": [
    "#niche self .year liya kyki a sirf pointer tha.,\n",
    "#cuurent year ko fill karna padega function use k time\n",
    "class car:\n",
    "    def __init__(a,m,y):\n",
    "        \n",
    "        \n",
    "        a.mileage =m\n",
    "        a.year =y\n",
    "        \n",
    "    def age(self,current_year):\n",
    "        return(current_year-self.year)\n",
    "    def mileagefind(self):\n",
    "        print(\"my mileage has \",self.mileage)"
   ]
  },
  {
   "cell_type": "code",
   "execution_count": 8,
   "id": "21e27dc2",
   "metadata": {},
   "outputs": [],
   "source": [
    "nano1 =car(12,2020)"
   ]
  },
  {
   "cell_type": "code",
   "execution_count": 9,
   "id": "d36e6287",
   "metadata": {},
   "outputs": [
    {
     "data": {
      "text/plain": [
       "12"
      ]
     },
     "execution_count": 9,
     "metadata": {},
     "output_type": "execute_result"
    }
   ],
   "source": [
    "nano1.mileage"
   ]
  },
  {
   "cell_type": "code",
   "execution_count": 10,
   "id": "313dae91",
   "metadata": {},
   "outputs": [
    {
     "data": {
      "text/plain": [
       "4"
      ]
     },
     "execution_count": 10,
     "metadata": {},
     "output_type": "execute_result"
    }
   ],
   "source": [
    "#2024 c.yr input h\n",
    "nano1.age(2024)"
   ]
  },
  {
   "cell_type": "code",
   "execution_count": 11,
   "id": "2d4a2eae",
   "metadata": {},
   "outputs": [
    {
     "name": "stdout",
     "output_type": "stream",
     "text": [
      "my mileage has  12\n"
     ]
    }
   ],
   "source": [
    "nano1.mileagefind()"
   ]
  },
  {
   "cell_type": "code",
   "execution_count": 18,
   "id": "7c902ce7",
   "metadata": {},
   "outputs": [],
   "source": [
    "#when want to using comment for object use __str__, using pointer in __str__ is also important even not using it.\n",
    "class car:\n",
    "    def __init__(a,m,y):\n",
    "        \n",
    "        \n",
    "        a.mileage =m\n",
    "        a.year =y\n",
    "        \n",
    "    def age(self,current_year):\n",
    "        return(current_year-self.year)\n",
    "    def mileagefind(self):\n",
    "        print(\"my mileage has \",self.mileage)\n",
    "        \n",
    "    def __str__(c):\n",
    "        return(\"this is my car\")"
   ]
  },
  {
   "cell_type": "code",
   "execution_count": 19,
   "id": "37eba2b6",
   "metadata": {},
   "outputs": [],
   "source": [
    "nano=car(22,2023)"
   ]
  },
  {
   "cell_type": "code",
   "execution_count": 20,
   "id": "67d84119",
   "metadata": {},
   "outputs": [
    {
     "name": "stdout",
     "output_type": "stream",
     "text": [
      "this is my car\n"
     ]
    }
   ],
   "source": [
    "#used __str__ to call remarks for object\n",
    "print(nano)"
   ]
  },
  {
   "cell_type": "code",
   "execution_count": null,
   "id": "2b02908f",
   "metadata": {},
   "outputs": [],
   "source": []
  },
  {
   "cell_type": "code",
   "execution_count": 20,
   "id": "d8428503",
   "metadata": {},
   "outputs": [],
   "source": [
    "class students:\n",
    "    def __init__(self,name,rollno,joining_date,current_topic):\n",
    "        self.name=name\n",
    "        self.rollno= rollno\n",
    "        self.joining_date =joining_date\n",
    "        self.current_topic =current_topic\n",
    "        \n",
    "    def crt_topic(self):\n",
    "            print(\"curret topic is\",self.current_topic)\n",
    "    \n",
    "    def str_rollno(self):\n",
    "        \n",
    "        \n",
    "        if type(self.rollno)==str:\n",
    "            print(\"donothing\")\n",
    "        \n",
    "        else:\n",
    "            return str(self.rollno)\n",
    "        \n",
    "    def duration(self,current_yr):\n",
    "        print(\"duration of joining is \", current_yr- self.joining_date)\n",
    "        \n",
    "        \n",
    "    def __str__(self):\n",
    "        \n",
    "        return(\"this is comments\")\n",
    "    \n",
    "    def name_par(self):\n",
    "        if type(i) ==list:\n",
    "            \n",
    "            \n",
    "            for i in self.name: \n",
    "                \n",
    "                print(\"name of student is\",i)\n",
    "            else :\n",
    "                print(\"name is not of list type\")\n",
    "        \n",
    "              "
   ]
  },
  {
   "cell_type": "code",
   "execution_count": 21,
   "id": "225d34d7",
   "metadata": {},
   "outputs": [],
   "source": [
    "srini=students(\"srini\",123,2012,\"oops\")"
   ]
  },
  {
   "cell_type": "code",
   "execution_count": 22,
   "id": "ac6292d6",
   "metadata": {},
   "outputs": [
    {
     "name": "stdout",
     "output_type": "stream",
     "text": [
      "duration of joining is  12\n"
     ]
    }
   ],
   "source": [
    "srini.duration(2024)"
   ]
  },
  {
   "cell_type": "code",
   "execution_count": 23,
   "id": "2f057824",
   "metadata": {},
   "outputs": [
    {
     "data": {
      "text/plain": [
       "'123'"
      ]
     },
     "execution_count": 23,
     "metadata": {},
     "output_type": "execute_result"
    }
   ],
   "source": [
    "srini.str_rollno()"
   ]
  },
  {
   "cell_type": "code",
   "execution_count": 24,
   "id": "122264be",
   "metadata": {},
   "outputs": [
    {
     "name": "stdout",
     "output_type": "stream",
     "text": [
      "this is comments\n"
     ]
    }
   ],
   "source": [
    "print(srini )                                                                                                                                                                                                                                                                                                                                                                                                                                                                                                                                                                                                                                                                                                                                                                                                                                                                                                                                                                                                                                                                                                                                                                                                                                                                                                                                                                                                                                                                                                                                                                                                                                                                                                                                                                                                               "
   ]
  },
  {
   "cell_type": "code",
   "execution_count": 26,
   "id": "da1d0cfc",
   "metadata": {},
   "outputs": [
    {
     "data": {
      "text/plain": [
       "'srini'"
      ]
     },
     "execution_count": 26,
     "metadata": {},
     "output_type": "execute_result"
    }
   ],
   "source": [
    "srini.name"
   ]
  },
  {
   "cell_type": "code",
   "execution_count": 42,
   "id": "5eec2c26",
   "metadata": {},
   "outputs": [],
   "source": [
    "#  _potested,   __private\n",
    "class test:\n",
    "    def __init__(self,a,b,c,d):\n",
    "        self._a=a\n",
    "        self.b=b\n",
    "        self.c=c\n",
    "        self.d=d\n",
    "        \n",
    "    def test_custome(self,v):\n",
    "        return v-self._a\n",
    "    \n",
    "    def __str__(self):\n",
    "        return (\"this is my test code for abstraction\")\n",
    "    \n",
    "        \n",
    "    "
   ]
  },
  {
   "cell_type": "code",
   "execution_count": 43,
   "id": "22ccda0f",
   "metadata": {},
   "outputs": [],
   "source": [
    "o= test(4,5,6,7)"
   ]
  },
  {
   "cell_type": "code",
   "execution_count": 44,
   "id": "aae74927",
   "metadata": {},
   "outputs": [
    {
     "data": {
      "text/plain": [
       "3"
      ]
     },
     "execution_count": 44,
     "metadata": {},
     "output_type": "execute_result"
    }
   ],
   "source": [
    "o.test_custome(7)"
   ]
  },
  {
   "cell_type": "code",
   "execution_count": 45,
   "id": "6234c355",
   "metadata": {},
   "outputs": [
    {
     "name": "stdout",
     "output_type": "stream",
     "text": [
      "this is my test code for abstraction\n"
     ]
    }
   ],
   "source": [
    "print(o)"
   ]
  },
  {
   "cell_type": "code",
   "execution_count": 41,
   "id": "6e9570be",
   "metadata": {},
   "outputs": [
    {
     "data": {
      "text/plain": [
       "4"
      ]
     },
     "execution_count": 41,
     "metadata": {},
     "output_type": "execute_result"
    }
   ],
   "source": [
    "o._a"
   ]
  },
  {
   "cell_type": "code",
   "execution_count": 55,
   "id": "3a1b439d",
   "metadata": {},
   "outputs": [],
   "source": [
    "#  _potested,   __private\n",
    "class test:\n",
    "    def __init__(self,a,b,c,d):\n",
    "        self.__a=a\n",
    "        self.b=b\n",
    "        self.c=c\n",
    "        self.d=d\n",
    "        \n",
    "    def test_custome(self,v):\n",
    "        return v-self.__a\n",
    "    \n",
    "    \n",
    "    def __str__(self):\n",
    "        return (\"this is my test code for abstraction\")"
   ]
  },
  {
   "cell_type": "code",
   "execution_count": 58,
   "id": "6e6eada0",
   "metadata": {},
   "outputs": [],
   "source": [
    "o=test(4,5,6,7)"
   ]
  },
  {
   "cell_type": "code",
   "execution_count": 59,
   "id": "46c60239",
   "metadata": {},
   "outputs": [
    {
     "data": {
      "text/plain": [
       "3"
      ]
     },
     "execution_count": 59,
     "metadata": {},
     "output_type": "execute_result"
    }
   ],
   "source": [
    "o.test_custome(7)"
   ]
  },
  {
   "cell_type": "code",
   "execution_count": 60,
   "id": "5a5b0697",
   "metadata": {},
   "outputs": [
    {
     "ename": "AttributeError",
     "evalue": "'test' object has no attribute '__a'",
     "output_type": "error",
     "traceback": [
      "\u001b[1;31m---------------------------------------------------------------------------\u001b[0m",
      "\u001b[1;31mAttributeError\u001b[0m                            Traceback (most recent call last)",
      "Input \u001b[1;32mIn [60]\u001b[0m, in \u001b[0;36m<cell line: 2>\u001b[1;34m()\u001b[0m\n\u001b[0;32m      1\u001b[0m \u001b[38;5;66;03m#beacause a is private now, it work within class only\u001b[39;00m\n\u001b[1;32m----> 2\u001b[0m \u001b[43mo\u001b[49m\u001b[38;5;241;43m.\u001b[39;49m\u001b[43m__a\u001b[49m\n",
      "\u001b[1;31mAttributeError\u001b[0m: 'test' object has no attribute '__a'"
     ]
    }
   ],
   "source": [
    "#beacause a is private now, it work within class only\n",
    "o.__a"
   ]
  },
  {
   "cell_type": "code",
   "execution_count": 62,
   "id": "a74cf0dd",
   "metadata": {},
   "outputs": [
    {
     "data": {
      "text/plain": [
       "4"
      ]
     },
     "execution_count": 62,
     "metadata": {},
     "output_type": "execute_result"
    }
   ],
   "source": [
    "#private calling with class only\n",
    "o._test__a"
   ]
  },
  {
   "cell_type": "code",
   "execution_count": 68,
   "id": "6cb6c554",
   "metadata": {},
   "outputs": [],
   "source": [
    "#inheritence case\n",
    "class test1(test):\n",
    "    def __init__(self,j,*args):\n",
    "        super(test1,self).__init__(*args)\n",
    "        self.j=j"
   ]
  },
  {
   "cell_type": "code",
   "execution_count": 69,
   "id": "ace9b816",
   "metadata": {},
   "outputs": [],
   "source": [
    "m=test1(4,5,6,7,8)"
   ]
  },
  {
   "cell_type": "code",
   "execution_count": 74,
   "id": "713d7746",
   "metadata": {},
   "outputs": [
    {
     "data": {
      "text/plain": [
       "5"
      ]
     },
     "execution_count": 74,
     "metadata": {},
     "output_type": "execute_result"
    }
   ],
   "source": [
    "m._test__a"
   ]
  },
  {
   "cell_type": "code",
   "execution_count": 75,
   "id": "281d67d2",
   "metadata": {},
   "outputs": [
    {
     "data": {
      "text/plain": [
       "4"
      ]
     },
     "execution_count": 75,
     "metadata": {},
     "output_type": "execute_result"
    }
   ],
   "source": [
    "m.j"
   ]
  },
  {
   "cell_type": "code",
   "execution_count": 76,
   "id": "fa16bc5c",
   "metadata": {},
   "outputs": [
    {
     "data": {
      "text/plain": [
       "3"
      ]
     },
     "execution_count": 76,
     "metadata": {},
     "output_type": "execute_result"
    }
   ],
   "source": [
    "m.test_custome(8)"
   ]
  },
  {
   "cell_type": "code",
   "execution_count": 78,
   "id": "77e15fd0",
   "metadata": {},
   "outputs": [],
   "source": [
    "\n",
    "#craete a class test and test1\n",
    "#inherit test and test1  into test2\n",
    "#function a in test\n",
    "#function a in test1\n",
    "#test2  should inherit  function a from test and test1 both.\n"
   ]
  },
  {
   "cell_type": "code",
   "execution_count": 81,
   "id": "bdf15add",
   "metadata": {},
   "outputs": [
    {
     "name": "stdout",
     "output_type": "stream",
     "text": [
      "ineuron company was established in2018\n"
     ]
    }
   ],
   "source": [
    "# .format k baad wala o aur 1 decide karta hai\n",
    "class ineuron:\n",
    "    company_website =\"wwww.\"\n",
    "    name= 'ineuron'\n",
    "    \n",
    "    \n",
    "    \n",
    "    def contact_details(self):\n",
    "        print(\"contact us at\", self.company_website)\n",
    "        \n",
    "    \n",
    "class datascience(ineuron):\n",
    "    def __init__(self):\n",
    "        self.year_of_establoshment = 2018\n",
    "    \n",
    "    def est_details(self):\n",
    "        print('{0} company was established in{1}'. format(self.name ,self.year_of_establoshment))\n",
    "        \n",
    "ds= datascience()\n",
    "ds.est_details()\n",
    "    \n"
   ]
  },
  {
   "cell_type": "code",
   "execution_count": 92,
   "id": "00fa96c3",
   "metadata": {},
   "outputs": [
    {
     "name": "stdout",
     "output_type": "stream",
     "text": [
      "multi_task\n",
      "name : ineuron\n"
     ]
    }
   ],
   "source": [
    "#isme inuron class upar se use kiya hai\n",
    "class os:\n",
    "    multi_task = True\n",
    "    os_name = \"windows k\"\n",
    "    \n",
    "class windows(os,ineuron):\n",
    "    def __init__(self):\n",
    "        if self.multi_task is True:\n",
    "            print(\"multi_task\")\n",
    "        print(\"name : {}\" .format(self.name))\n",
    "        \n",
    "w=windows()\n",
    "#or windows= windows()\n",
    "        "
   ]
  },
  {
   "cell_type": "code",
   "execution_count": 94,
   "id": "2ae7e0d3",
   "metadata": {},
   "outputs": [
    {
     "name": "stdout",
     "output_type": "stream",
     "text": [
      "multi_task\n",
      "name : sudh\n"
     ]
    }
   ],
   "source": [
    "#now using name also (os pehle tha toh name os se dhundha)\n",
    "class os:\n",
    "    multi_task = True\n",
    "    os_name = \"windows k\"\n",
    "    name= \"sudh\"\n",
    "    \n",
    "class windows(os,ineuron):\n",
    "    def __init__(self):\n",
    "        if self.multi_task is True:\n",
    "            print(\"multi_task\")\n",
    "        print(\"name : {}\" .format(self.name))\n",
    "        \n",
    "w=windows()\n",
    "#or windows= windows()"
   ]
  },
  {
   "cell_type": "code",
   "execution_count": 96,
   "id": "d9ce8e85",
   "metadata": {},
   "outputs": [
    {
     "name": "stdout",
     "output_type": "stream",
     "text": [
      "multi_task\n",
      "name : ineuron\n"
     ]
    }
   ],
   "source": [
    "#ab os baad m h toh name ineuron se dhundega, kyuki name dono jgaah h\n",
    "class os:\n",
    "    multi_task = True\n",
    "    os_name = \"windows k\"\n",
    "    name= \"sudh\"\n",
    "    \n",
    "class windows(ineuron,os):\n",
    "    def __init__(self):\n",
    "        if self.multi_task is True:\n",
    "            print(\"multi_task\")\n",
    "        print(\"name : {}\" .format(self.name))\n",
    "        \n",
    "w=windows()\n",
    "#or windows= windows()"
   ]
  },
  {
   "cell_type": "code",
   "execution_count": 7,
   "id": "27a8efd3",
   "metadata": {},
   "outputs": [
    {
     "name": "stdout",
     "output_type": "stream",
     "text": [
      "the company raja offers total 12 course\n"
     ]
    }
   ],
   "source": [
    "#fromat mein pointer init wala k  wajah se use hua hai\n",
    "class ineuron:\n",
    "    num_of_courses = 12\n",
    "    \n",
    "class datascience(ineuron):\n",
    "    course_type =\"impdata science\"\n",
    "\n",
    "    \n",
    "class ai(datascience):\n",
    "    def __init__(self):\n",
    "        self.company = \"raja\"\n",
    "        print(\"the company {0} offers total {1} course\" . format(self.company,self.num_of_courses))\n",
    "        \n",
    "d= ai()\n",
    "    "
   ]
  },
  {
   "cell_type": "code",
   "execution_count": 8,
   "id": "00afbb03",
   "metadata": {},
   "outputs": [
    {
     "ename": "NameError",
     "evalue": "name 'num_of_courses' is not defined",
     "output_type": "error",
     "traceback": [
      "\u001b[1;31m---------------------------------------------------------------------------\u001b[0m",
      "\u001b[1;31mNameError\u001b[0m                                 Traceback (most recent call last)",
      "Input \u001b[1;32mIn [8]\u001b[0m, in \u001b[0;36m<cell line: 8>\u001b[1;34m()\u001b[0m\n\u001b[0;32m      4\u001b[0m \u001b[38;5;28;01mclass\u001b[39;00m \u001b[38;5;21;01mdatascience\u001b[39;00m(ineuron):\n\u001b[0;32m      5\u001b[0m     course_type \u001b[38;5;241m=\u001b[39m\u001b[38;5;124m\"\u001b[39m\u001b[38;5;124mimpdata science\u001b[39m\u001b[38;5;124m\"\u001b[39m\n\u001b[1;32m----> 8\u001b[0m \u001b[38;5;28;01mclass\u001b[39;00m \u001b[38;5;21;01mai\u001b[39;00m(datascience):\n\u001b[0;32m     10\u001b[0m     company \u001b[38;5;241m=\u001b[39m \u001b[38;5;124m\"\u001b[39m\u001b[38;5;124mraja\u001b[39m\u001b[38;5;124m\"\u001b[39m\n\u001b[0;32m     11\u001b[0m     \u001b[38;5;28mprint\u001b[39m(\u001b[38;5;124m\"\u001b[39m\u001b[38;5;124mthe company \u001b[39m\u001b[38;5;132;01m{0}\u001b[39;00m\u001b[38;5;124m offers total \u001b[39m\u001b[38;5;132;01m{1}\u001b[39;00m\u001b[38;5;124m course\u001b[39m\u001b[38;5;124m\"\u001b[39m \u001b[38;5;241m.\u001b[39m \u001b[38;5;28mformat\u001b[39m(company,num_of_courses))\n",
      "Input \u001b[1;32mIn [8]\u001b[0m, in \u001b[0;36mai\u001b[1;34m()\u001b[0m\n\u001b[0;32m      8\u001b[0m \u001b[38;5;28;01mclass\u001b[39;00m \u001b[38;5;21;01mai\u001b[39;00m(datascience):\n\u001b[0;32m     10\u001b[0m     company \u001b[38;5;241m=\u001b[39m \u001b[38;5;124m\"\u001b[39m\u001b[38;5;124mraja\u001b[39m\u001b[38;5;124m\"\u001b[39m\n\u001b[1;32m---> 11\u001b[0m     \u001b[38;5;28mprint\u001b[39m(\u001b[38;5;124m\"\u001b[39m\u001b[38;5;124mthe company \u001b[39m\u001b[38;5;132;01m{0}\u001b[39;00m\u001b[38;5;124m offers total \u001b[39m\u001b[38;5;132;01m{1}\u001b[39;00m\u001b[38;5;124m course\u001b[39m\u001b[38;5;124m\"\u001b[39m \u001b[38;5;241m.\u001b[39m \u001b[38;5;28mformat\u001b[39m(company,\u001b[43mnum_of_courses\u001b[49m))\n",
      "\u001b[1;31mNameError\u001b[0m: name 'num_of_courses' is not defined"
     ]
    }
   ],
   "source": [
    "class ineuron:\n",
    "    num_of_courses = 12\n",
    "    \n",
    "class datascience(ineuron):\n",
    "    course_type =\"impdata science\"\n",
    "\n",
    "    \n",
    "class ai(datascience):\n",
    "    \n",
    "    company = \"raja\"\n",
    "    print(\"the company {0} offers total {1} course\" . format(company,num_of_courses))\n",
    "        \n",
    "d= ai()"
   ]
  },
  {
   "cell_type": "code",
   "execution_count": 9,
   "id": "ce877ca8",
   "metadata": {},
   "outputs": [
    {
     "name": "stdout",
     "output_type": "stream",
     "text": [
      "The company raja offers total 12 courses\n"
     ]
    }
   ],
   "source": [
    "class ineuron:\n",
    "    num_of_courses = 12  # Class variable\n",
    "\n",
    "class datascience(ineuron):\n",
    "    course_type = \"impdata science\"  # Class variable\n",
    "\n",
    "class ai(datascience):\n",
    "    company = \"raja\"  # Class variable\n",
    "    \n",
    "    def __init__(self):\n",
    "        # Now accessing the class variables inside the constructor format works only init\n",
    "        print(\"The company {0} offers total {1} courses\".format(self.company, self.num_of_courses))\n",
    "\n",
    "# Create an instance of the ai class\n",
    "d = ai()\n"
   ]
  },
  {
   "cell_type": "code",
   "execution_count": 13,
   "id": "ac4f245f",
   "metadata": {},
   "outputs": [
    {
     "name": "stdout",
     "output_type": "stream",
     "text": [
      "raja\n",
      "12\n"
     ]
    }
   ],
   "source": [
    "class ineuron:\n",
    "    num_of_courses = 12  # Class variable\n",
    "\n",
    "class datascience(ineuron):\n",
    "    course_type = \"impdata science\"  # Class variable\n",
    "\n",
    "class ai(datascience):\n",
    "    company = \"raja\"  # Class variable\n",
    "    \n",
    "\n",
    "# Create an instance of the ai class\n",
    "d = ai()\n",
    "print(d.company)\n",
    "print(d.num_of_courses)"
   ]
  },
  {
   "cell_type": "code",
   "execution_count": 14,
   "id": "fa9e76b6",
   "metadata": {},
   "outputs": [
    {
     "name": "stdout",
     "output_type": "stream",
     "text": [
      "raja\n",
      "12\n"
     ]
    }
   ],
   "source": [
    "class ineuron:\n",
    "    num_of_courses = 12  # Class variable\n",
    "\n",
    "class datascience(ineuron):\n",
    "    course_type = \"impdata science\"  # Class variable\n",
    "\n",
    "class ai(datascience):\n",
    "    company = \"raja\"  # Class variable\n",
    "    \n",
    "\n",
    "\n",
    "\n",
    "print(ai.company)\n",
    "print(ai.num_of_courses)"
   ]
  },
  {
   "cell_type": "code",
   "execution_count": 15,
   "id": "81a0ba7f",
   "metadata": {},
   "outputs": [],
   "source": [
    "#encaptulation"
   ]
  },
  {
   "cell_type": "code",
   "execution_count": 39,
   "id": "7081b8cd",
   "metadata": {},
   "outputs": [],
   "source": [
    "class test :\n",
    "    def __init__(self,a,b,c):\n",
    "        self.a=a\n",
    "        self.b =b\n",
    "        self.c= c\n",
    "    \n",
    "    def __str__(self):\n",
    "        return \"this is the return of class\"\n",
    "    \n",
    "    \n",
    "class test1  :\n",
    "    \n",
    "    def __init__(self,a,b,c) :\n",
    "        self.a =a\n",
    "        self.b =b\n",
    "        self.c =c\n",
    "        \n",
    "    def __str__(self):\n",
    "        return \"this is the reurn of class1\"\n",
    "    \n",
    "class test2:\n",
    "    def __init__(self,a,b,c) :\n",
    "        self.a =a\n",
    "        self.b =b\n",
    "        self.c =c\n",
    "        \n",
    "    def __str__(self):\n",
    "        return \"this is the reurn of class2\"\n",
    "\n",
    "    \n",
    "    \n",
    "class final:\n",
    "    \n",
    "        \n",
    "        \n",
    "    def  __init__(self,x,y,z) :\n",
    "        \n",
    "        \n",
    "            \n",
    "        self.x =x\n",
    "        self.y =y\n",
    "        self.z =z\n",
    "        \n",
    "    def __str__(self):\n",
    "        \n",
    "        return  str(self.x)+\" -\" +str(self.y)+\"- \"+str(self.z)\n",
    "    \n",
    "    \n",
    "    \n",
    "    "
   ]
  },
  {
   "cell_type": "code",
   "execution_count": 40,
   "id": "cd824864",
   "metadata": {},
   "outputs": [],
   "source": [
    "t= test(4,5,6)\n",
    "t1 =test1(3,4,5)\n",
    "t2 =test2(5,6,7)\n",
    "f= final(t,t1,t2)"
   ]
  },
  {
   "cell_type": "code",
   "execution_count": 41,
   "id": "84e11140",
   "metadata": {},
   "outputs": [
    {
     "name": "stdout",
     "output_type": "stream",
     "text": [
      "this is the return of class -this is the reurn of class1- this is the reurn of class2\n"
     ]
    }
   ],
   "source": [
    "print(f)"
   ]
  },
  {
   "cell_type": "code",
   "execution_count": null,
   "id": "df9d51b5",
   "metadata": {},
   "outputs": [],
   "source": []
  }
 ],
 "metadata": {
  "kernelspec": {
   "display_name": "Python 3 (ipykernel)",
   "language": "python",
   "name": "python3"
  },
  "language_info": {
   "codemirror_mode": {
    "name": "ipython",
    "version": 3
   },
   "file_extension": ".py",
   "mimetype": "text/x-python",
   "name": "python",
   "nbconvert_exporter": "python",
   "pygments_lexer": "ipython3",
   "version": "3.9.12"
  }
 },
 "nbformat": 4,
 "nbformat_minor": 5
}
