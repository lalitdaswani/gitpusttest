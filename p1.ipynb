{
 "cells": [
  {
   "cell_type": "code",
   "execution_count": 2,
   "id": "7157737f",
   "metadata": {},
   "outputs": [],
   "source": [
    "#LALIT"
   ]
  },
  {
   "cell_type": "code",
   "execution_count": 3,
   "id": "613941f4",
   "metadata": {},
   "outputs": [
    {
     "data": {
      "text/plain": [
       "'L\\nA\\nA\\nA\\nAD\\nER\\nRT\\nY\\nU\\nI\\nO\\nP\\n'"
      ]
     },
     "execution_count": 3,
     "metadata": {},
     "output_type": "execute_result"
    }
   ],
   "source": [
    "\"\"L\n",
    "A\n",
    "A\n",
    "A\n",
    "AD\n",
    "ER\n",
    "RT\n",
    "Y\n",
    "U\n",
    "I\n",
    "O\n",
    "P\n"
   ]
  },
  {
   "cell_type": "code",
   "execution_count": 4,
   "id": "f154107b",
   "metadata": {},
   "outputs": [
    {
     "name": "stdout",
     "output_type": "stream",
     "text": [
      "L\n",
      "A\n",
      "A\n",
      "A\n",
      "AD\n",
      "ER\n",
      "RT\n",
      "Y\n",
      "U\n",
      "I\n",
      "O\n",
      "P\n",
      "\n"
     ]
    }
   ],
   "source": [
    "\n"
   ]
  },
  {
   "cell_type": "code",
   "execution_count": 8,
   "id": "88cd63bb",
   "metadata": {},
   "outputs": [
    {
     "ename": "SyntaxError",
     "evalue": "EOL while scanning string literal (2765064288.py, line 1)",
     "output_type": "error",
     "traceback": [
      "\u001b[1;36m  Input \u001b[1;32mIn [8]\u001b[1;36m\u001b[0m\n\u001b[1;33m    print(\"L\u001b[0m\n\u001b[1;37m            ^\u001b[0m\n\u001b[1;31mSyntaxError\u001b[0m\u001b[1;31m:\u001b[0m EOL while scanning string literal\n"
     ]
    }
   ],
   "source": [
    "print(\"L\n",
    "A\n",
    "A\n",
    "A\n",
    "AD\n",
    "ER\n",
    "RT\n",
    "Y\n",
    "U\n",
    "I\n",
    "O\n",
    "P\n",
    "\")"
   ]
  },
  {
   "cell_type": "code",
   "execution_count": 10,
   "id": "be50cf8b",
   "metadata": {},
   "outputs": [
    {
     "name": "stdout",
     "output_type": "stream",
     "text": [
      "l\n",
      "a\n",
      "lait\n"
     ]
    }
   ],
   "source": [
    "print(\"l\\na\\nlait\")"
   ]
  },
  {
   "cell_type": "code",
   "execution_count": 11,
   "id": "45cd2982",
   "metadata": {},
   "outputs": [],
   "source": [
    "a=\"lalit\""
   ]
  },
  {
   "cell_type": "code",
   "execution_count": 12,
   "id": "205740cc",
   "metadata": {},
   "outputs": [
    {
     "data": {
      "text/plain": [
       "str"
      ]
     },
     "execution_count": 12,
     "metadata": {},
     "output_type": "execute_result"
    }
   ],
   "source": [
    "type(a)"
   ]
  },
  {
   "cell_type": "code",
   "execution_count": 13,
   "id": "f570a17a",
   "metadata": {},
   "outputs": [
    {
     "data": {
      "text/plain": [
       "'lalit'"
      ]
     },
     "execution_count": 13,
     "metadata": {},
     "output_type": "execute_result"
    }
   ],
   "source": [
    "a"
   ]
  },
  {
   "cell_type": "code",
   "execution_count": 14,
   "id": "94720cc4",
   "metadata": {},
   "outputs": [
    {
     "name": "stdout",
     "output_type": "stream",
     "text": [
      "lalit\n"
     ]
    }
   ],
   "source": [
    "print(a)"
   ]
  },
  {
   "cell_type": "code",
   "execution_count": 15,
   "id": "52ad08c8",
   "metadata": {},
   "outputs": [],
   "source": [
    "b= \"sachin\""
   ]
  },
  {
   "cell_type": "code",
   "execution_count": 17,
   "id": "485c3ad4",
   "metadata": {},
   "outputs": [
    {
     "name": "stdout",
     "output_type": "stream",
     "text": [
      "lalit sachin raju\n"
     ]
    }
   ],
   "source": [
    "print(a,b,\"raju\")"
   ]
  },
  {
   "cell_type": "code",
   "execution_count": 18,
   "id": "d5096e23",
   "metadata": {},
   "outputs": [
    {
     "data": {
      "text/plain": [
       "('lalit', 'sachin')"
      ]
     },
     "execution_count": 18,
     "metadata": {},
     "output_type": "execute_result"
    }
   ],
   "source": [
    "a,b"
   ]
  },
  {
   "cell_type": "code",
   "execution_count": 19,
   "id": "778e8d11",
   "metadata": {},
   "outputs": [],
   "source": [
    "a,b,c = 1,3,\"op\""
   ]
  },
  {
   "cell_type": "code",
   "execution_count": 22,
   "id": "54f26624",
   "metadata": {},
   "outputs": [
    {
     "name": "stdout",
     "output_type": "stream",
     "text": [
      "1 3 op\n"
     ]
    }
   ],
   "source": [
    "print(a,b,c)"
   ]
  },
  {
   "cell_type": "code",
   "execution_count": 23,
   "id": "3c36aaf1",
   "metadata": {},
   "outputs": [
    {
     "data": {
      "text/plain": [
       "'op'"
      ]
     },
     "execution_count": 23,
     "metadata": {},
     "output_type": "execute_result"
    }
   ],
   "source": [
    "c"
   ]
  },
  {
   "cell_type": "code",
   "execution_count": 27,
   "id": "9b8aeac5",
   "metadata": {},
   "outputs": [],
   "source": [
    "c= '\"op\"'"
   ]
  },
  {
   "cell_type": "code",
   "execution_count": 28,
   "id": "8197d16d",
   "metadata": {},
   "outputs": [
    {
     "data": {
      "text/plain": [
       "'\"op\"'"
      ]
     },
     "execution_count": 28,
     "metadata": {},
     "output_type": "execute_result"
    }
   ],
   "source": [
    "c"
   ]
  },
  {
   "cell_type": "code",
   "execution_count": 29,
   "id": "4405614d",
   "metadata": {},
   "outputs": [],
   "source": [
    "b2 =\"iu\""
   ]
  },
  {
   "cell_type": "code",
   "execution_count": 30,
   "id": "2e0cd00f",
   "metadata": {},
   "outputs": [
    {
     "data": {
      "text/plain": [
       "'iu'"
      ]
     },
     "execution_count": 30,
     "metadata": {},
     "output_type": "execute_result"
    }
   ],
   "source": [
    "b2"
   ]
  },
  {
   "cell_type": "code",
   "execution_count": 31,
   "id": "899a90c1",
   "metadata": {},
   "outputs": [
    {
     "ename": "SyntaxError",
     "evalue": "invalid syntax (2029117928.py, line 1)",
     "output_type": "error",
     "traceback": [
      "\u001b[1;36m  Input \u001b[1;32mIn [31]\u001b[1;36m\u001b[0m\n\u001b[1;33m    2b=\"iu\"\u001b[0m\n\u001b[1;37m     ^\u001b[0m\n\u001b[1;31mSyntaxError\u001b[0m\u001b[1;31m:\u001b[0m invalid syntax\n"
     ]
    }
   ],
   "source": [
    "2b=\"iu\""
   ]
  },
  {
   "cell_type": "code",
   "execution_count": 32,
   "id": "203997cd",
   "metadata": {},
   "outputs": [],
   "source": [
    "a=1.1"
   ]
  },
  {
   "cell_type": "code",
   "execution_count": 33,
   "id": "2718bd8e",
   "metadata": {},
   "outputs": [
    {
     "data": {
      "text/plain": [
       "float"
      ]
     },
     "execution_count": 33,
     "metadata": {},
     "output_type": "execute_result"
    }
   ],
   "source": [
    "type(a)"
   ]
  },
  {
   "cell_type": "code",
   "execution_count": 36,
   "id": "9f2d7860",
   "metadata": {},
   "outputs": [
    {
     "ename": "NameError",
     "evalue": "name 'true' is not defined",
     "output_type": "error",
     "traceback": [
      "\u001b[1;31m---------------------------------------------------------------------------\u001b[0m",
      "\u001b[1;31mNameError\u001b[0m                                 Traceback (most recent call last)",
      "Input \u001b[1;32mIn [36]\u001b[0m, in \u001b[0;36m<cell line: 1>\u001b[1;34m()\u001b[0m\n\u001b[1;32m----> 1\u001b[0m a\u001b[38;5;241m=\u001b[39m \u001b[43mtrue\u001b[49m\n",
      "\u001b[1;31mNameError\u001b[0m: name 'true' is not defined"
     ]
    }
   ],
   "source": [
    "a= true"
   ]
  },
  {
   "cell_type": "code",
   "execution_count": null,
   "id": "89f635c1",
   "metadata": {},
   "outputs": [],
   "source": [
    "type(a)"
   ]
  },
  {
   "cell_type": "code",
   "execution_count": 37,
   "id": "2adb6a43",
   "metadata": {},
   "outputs": [],
   "source": [
    "t=45+6j"
   ]
  },
  {
   "cell_type": "code",
   "execution_count": 38,
   "id": "8cfe5e13",
   "metadata": {},
   "outputs": [
    {
     "data": {
      "text/plain": [
       "complex"
      ]
     },
     "execution_count": 38,
     "metadata": {},
     "output_type": "execute_result"
    }
   ],
   "source": [
    "type(t)"
   ]
  },
  {
   "cell_type": "code",
   "execution_count": 39,
   "id": "6279e864",
   "metadata": {},
   "outputs": [
    {
     "data": {
      "text/plain": [
       "45.0"
      ]
     },
     "execution_count": 39,
     "metadata": {},
     "output_type": "execute_result"
    }
   ],
   "source": [
    "t.real "
   ]
  },
  {
   "cell_type": "code",
   "execution_count": 41,
   "id": "91f70c59",
   "metadata": {},
   "outputs": [
    {
     "data": {
      "text/plain": [
       "6.0"
      ]
     },
     "execution_count": 41,
     "metadata": {},
     "output_type": "execute_result"
    }
   ],
   "source": [
    "t.imag"
   ]
  },
  {
   "cell_type": "code",
   "execution_count": 42,
   "id": "160011fe",
   "metadata": {},
   "outputs": [
    {
     "ename": "SyntaxError",
     "evalue": "invalid syntax (2012903594.py, line 1)",
     "output_type": "error",
     "traceback": [
      "\u001b[1;36m  Input \u001b[1;32mIn [42]\u001b[1;36m\u001b[0m\n\u001b[1;33m    t=45+6i\u001b[0m\n\u001b[1;37m          ^\u001b[0m\n\u001b[1;31mSyntaxError\u001b[0m\u001b[1;31m:\u001b[0m invalid syntax\n"
     ]
    }
   ],
   "source": [
    "t=45+6i"
   ]
  },
  {
   "cell_type": "code",
   "execution_count": 43,
   "id": "d0ee2c5c",
   "metadata": {},
   "outputs": [],
   "source": [
    "#only j can be used for complex"
   ]
  },
  {
   "cell_type": "code",
   "execution_count": 45,
   "id": "edca4d09",
   "metadata": {},
   "outputs": [
    {
     "ename": "TypeError",
     "evalue": "unsupported operand type(s) for +: 'int' and 'str'",
     "output_type": "error",
     "traceback": [
      "\u001b[1;31m---------------------------------------------------------------------------\u001b[0m",
      "\u001b[1;31mTypeError\u001b[0m                                 Traceback (most recent call last)",
      "Input \u001b[1;32mIn [45]\u001b[0m, in \u001b[0;36m<cell line: 1>\u001b[1;34m()\u001b[0m\n\u001b[1;32m----> 1\u001b[0m \u001b[38;5;241;43m1\u001b[39;49m\u001b[38;5;241;43m+\u001b[39;49m\u001b[38;5;124;43m\"\u001b[39;49m\u001b[38;5;124;43msudh\u001b[39;49m\u001b[38;5;124;43m\"\u001b[39;49m\n",
      "\u001b[1;31mTypeError\u001b[0m: unsupported operand type(s) for +: 'int' and 'str'"
     ]
    }
   ],
   "source": [
    "\n",
    "1+\"sudh\""
   ]
  },
  {
   "cell_type": "code",
   "execution_count": 46,
   "id": "2bff37bd",
   "metadata": {},
   "outputs": [
    {
     "data": {
      "text/plain": [
       "'1sudh'"
      ]
     },
     "execution_count": 46,
     "metadata": {},
     "output_type": "execute_result"
    }
   ],
   "source": [
    "\"1\"+\"sudh\""
   ]
  },
  {
   "cell_type": "code",
   "execution_count": 47,
   "id": "81c2119c",
   "metadata": {},
   "outputs": [
    {
     "data": {
      "text/plain": [
       "'lalitlalit'"
      ]
     },
     "execution_count": 47,
     "metadata": {},
     "output_type": "execute_result"
    }
   ],
   "source": [
    "\"lalit\"*2\n"
   ]
  },
  {
   "cell_type": "code",
   "execution_count": null,
   "id": "fcbd274e",
   "metadata": {},
   "outputs": [],
   "source": [
    "k=26j\n"
   ]
  },
  {
   "cell_type": "code",
   "execution_count": null,
   "id": "e1f39e33",
   "metadata": {},
   "outputs": [],
   "source": [
    "int(k)"
   ]
  },
  {
   "cell_type": "code",
   "execution_count": null,
   "id": "e3cc0084",
   "metadata": {},
   "outputs": [],
   "source": [
    "a= 10"
   ]
  },
  {
   "cell_type": "code",
   "execution_count": 2,
   "id": "d609219b",
   "metadata": {},
   "outputs": [
    {
     "name": "stdout",
     "output_type": "stream",
     "text": [
      "\"raja\"\n"
     ]
    }
   ],
   "source": [
    "a= input()"
   ]
  },
  {
   "cell_type": "code",
   "execution_count": 3,
   "id": "46f21647",
   "metadata": {},
   "outputs": [
    {
     "data": {
      "text/plain": [
       "'\"raja\"'"
      ]
     },
     "execution_count": 3,
     "metadata": {},
     "output_type": "execute_result"
    }
   ],
   "source": [
    "a"
   ]
  },
  {
   "cell_type": "code",
   "execution_count": 29,
   "id": "b9dc27ec",
   "metadata": {},
   "outputs": [
    {
     "name": "stdout",
     "output_type": "stream",
     "text": [
      "this my house no24\n",
      "this is my house no.27\n"
     ]
    }
   ],
   "source": [
    "b=int(input(\"this my house no\"))\n",
    "c=int(input(\"this is my house no.\"))\n",
    "\n"
   ]
  },
  {
   "cell_type": "code",
   "execution_count": 30,
   "id": "37773765",
   "metadata": {},
   "outputs": [
    {
     "data": {
      "text/plain": [
       "24"
      ]
     },
     "execution_count": 30,
     "metadata": {},
     "output_type": "execute_result"
    }
   ],
   "source": [
    "b"
   ]
  },
  {
   "cell_type": "code",
   "execution_count": 31,
   "id": "f23e364a",
   "metadata": {},
   "outputs": [
    {
     "data": {
      "text/plain": [
       "27"
      ]
     },
     "execution_count": 31,
     "metadata": {},
     "output_type": "execute_result"
    }
   ],
   "source": [
    "c"
   ]
  },
  {
   "cell_type": "code",
   "execution_count": 32,
   "id": "0bd39431",
   "metadata": {},
   "outputs": [],
   "source": [
    "d=b/c"
   ]
  },
  {
   "cell_type": "code",
   "execution_count": 33,
   "id": "fdbf9388",
   "metadata": {},
   "outputs": [
    {
     "data": {
      "text/plain": [
       "0.8888888888888888"
      ]
     },
     "execution_count": 33,
     "metadata": {},
     "output_type": "execute_result"
    }
   ],
   "source": [
    "d"
   ]
  },
  {
   "cell_type": "code",
   "execution_count": 38,
   "id": "efca9c75",
   "metadata": {},
   "outputs": [],
   "source": [
    "e1=d+5j"
   ]
  },
  {
   "cell_type": "code",
   "execution_count": 39,
   "id": "6aa36d7b",
   "metadata": {},
   "outputs": [
    {
     "data": {
      "text/plain": [
       "(0.8888888888888888+5j)"
      ]
     },
     "execution_count": 39,
     "metadata": {},
     "output_type": "execute_result"
    }
   ],
   "source": [
    "e1"
   ]
  },
  {
   "cell_type": "code",
   "execution_count": 40,
   "id": "ca95c017",
   "metadata": {},
   "outputs": [
    {
     "ename": "TypeError",
     "evalue": "unsupported operand type(s) for +: 'complex' and 'str'",
     "output_type": "error",
     "traceback": [
      "\u001b[1;31m---------------------------------------------------------------------------\u001b[0m",
      "\u001b[1;31mTypeError\u001b[0m                                 Traceback (most recent call last)",
      "Input \u001b[1;32mIn [40]\u001b[0m, in \u001b[0;36m<cell line: 1>\u001b[1;34m()\u001b[0m\n\u001b[1;32m----> 1\u001b[0m \u001b[43me1\u001b[49m\u001b[38;5;241;43m+\u001b[39;49m\u001b[38;5;124;43m\"\u001b[39;49m\u001b[38;5;124;43mlalit\u001b[39;49m\u001b[38;5;124;43m\"\u001b[39;49m\n",
      "\u001b[1;31mTypeError\u001b[0m: unsupported operand type(s) for +: 'complex' and 'str'"
     ]
    }
   ],
   "source": [
    "e1+\"lalit\""
   ]
  },
  {
   "cell_type": "code",
   "execution_count": 41,
   "id": "0dd417d4",
   "metadata": {},
   "outputs": [
    {
     "data": {
      "text/plain": [
       "'(0.8888888888888888+5j)lalit'"
      ]
     },
     "execution_count": 41,
     "metadata": {},
     "output_type": "execute_result"
    }
   ],
   "source": [
    "str(e1)+\"lalit\""
   ]
  },
  {
   "cell_type": "code",
   "execution_count": 49,
   "id": "6341355f",
   "metadata": {},
   "outputs": [
    {
     "name": "stdout",
     "output_type": "stream",
     "text": [
      "my real age23\n",
      "i am ok\n"
     ]
    }
   ],
   "source": [
    "a= int(input(\"my real age\"))\n",
    "if a<30 :\n",
    "    print(\"i am ok\")"
   ]
  },
  {
   "cell_type": "code",
   "execution_count": 50,
   "id": "bb6a5f8f",
   "metadata": {},
   "outputs": [
    {
     "name": "stdout",
     "output_type": "stream",
     "text": [
      "my real age40\n",
      "i am ok\n"
     ]
    }
   ],
   "source": [
    "a= int(input(\"my real age\"))\n",
    "if a<30 :\n",
    "    pass\n",
    "print(\"i am ok\")\n",
    "    "
   ]
  },
  {
   "cell_type": "code",
   "execution_count": 57,
   "id": "926afc94",
   "metadata": {},
   "outputs": [
    {
     "name": "stdout",
     "output_type": "stream",
     "text": [
      "my no.10\n",
      "not eligible\n"
     ]
    }
   ],
   "source": [
    "a=int(input(\"my no.\"))\n",
    "if a>30 :\n",
    "    print(\"eligible\")\n",
    "elif a>20:\n",
    "    print(\"soon eligible\")\n",
    "\n",
    "else:\n",
    "    print(\"not eligible\")\n"
   ]
  },
  {
   "cell_type": "code",
   "execution_count": 62,
   "id": "7ff40990",
   "metadata": {},
   "outputs": [
    {
     "name": "stdout",
     "output_type": "stream",
     "text": [
      "salary200\n",
      "bike\n"
     ]
    }
   ],
   "source": [
    "#previous failed condition and not continue previous comments\n",
    "a= int(input(\"salary\"))\n",
    "if a <100 :\n",
    "    print(\"saving\")\n",
    "elif a<500 :\n",
    "    print(\"bike\")\n",
    "elif a <1000 :\n",
    "    print(\"car\")\n",
    "else :\n",
    "    print(\"helipcopter\")"
   ]
  },
  {
   "cell_type": "code",
   "execution_count": 66,
   "id": "8ac7a886",
   "metadata": {},
   "outputs": [
    {
     "name": "stdout",
     "output_type": "stream",
     "text": [
      "salatry150\n",
      "rehne de\n"
     ]
    }
   ],
   "source": [
    "#previous passed condition  and need all previous comments also\n",
    "a=int(input(\"salatry\"))\n",
    "if a>1000:\n",
    "    print(\"good\")\n",
    "    if a>2000 :\n",
    "        print(\"bike buy\")\n",
    "        if true :\n",
    "            print(\"go ahead\")\n",
    "    elif a>3000 :\n",
    "        print(\"maruti\")\n",
    "    elif a>4000:\n",
    "        print(\"honda\")\n",
    "    else :\n",
    "        print(\"will rent\")\n",
    "elif a>500 :\n",
    "    print(\"bike\")\n",
    "elif a>200:\n",
    "    print(\"scooter\")\n",
    "    \n",
    "else:\n",
    "    print(\"rehne de\")\n",
    "\n",
    "   \n",
    "    \n"
   ]
  },
  {
   "cell_type": "code",
   "execution_count": null,
   "id": "05dfad5a",
   "metadata": {},
   "outputs": [],
   "source": []
  }
 ],
 "metadata": {
  "kernelspec": {
   "display_name": "Python 3 (ipykernel)",
   "language": "python",
   "name": "python3"
  },
  "language_info": {
   "codemirror_mode": {
    "name": "ipython",
    "version": 3
   },
   "file_extension": ".py",
   "mimetype": "text/x-python",
   "name": "python",
   "nbconvert_exporter": "python",
   "pygments_lexer": "ipython3",
   "version": "3.9.12"
  }
 },
 "nbformat": 4,
 "nbformat_minor": 5
}
