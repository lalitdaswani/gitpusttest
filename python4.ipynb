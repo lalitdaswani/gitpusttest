{
 "cells": [
  {
   "cell_type": "code",
   "execution_count": 98,
   "id": "24b5e60a",
   "metadata": {},
   "outputs": [
    {
     "data": {
      "text/plain": [
       "tuple"
      ]
     },
     "execution_count": 98,
     "metadata": {},
     "output_type": "execute_result"
    }
   ],
   "source": [
    "l=()\n",
    "type(l)"
   ]
  },
  {
   "cell_type": "code",
   "execution_count": 99,
   "id": "7179f5c2",
   "metadata": {},
   "outputs": [],
   "source": [
    "l=(\"a\",\"b\",\"c\")\n",
    "k=[\"a\",\"b\",\"c\"]"
   ]
  },
  {
   "cell_type": "code",
   "execution_count": 100,
   "id": "34439b21",
   "metadata": {},
   "outputs": [
    {
     "data": {
      "text/plain": [
       "'a'"
      ]
     },
     "execution_count": 100,
     "metadata": {},
     "output_type": "execute_result"
    }
   ],
   "source": [
    "l[0]"
   ]
  },
  {
   "cell_type": "code",
   "execution_count": 101,
   "id": "3f428ed4",
   "metadata": {},
   "outputs": [
    {
     "data": {
      "text/plain": [
       "'a'"
      ]
     },
     "execution_count": 101,
     "metadata": {},
     "output_type": "execute_result"
    }
   ],
   "source": [
    "k[0]"
   ]
  },
  {
   "cell_type": "code",
   "execution_count": 102,
   "id": "d3b3fca6",
   "metadata": {},
   "outputs": [
    {
     "data": {
      "text/plain": [
       "tuple"
      ]
     },
     "execution_count": 102,
     "metadata": {},
     "output_type": "execute_result"
    }
   ],
   "source": [
    "type(l)\n"
   ]
  },
  {
   "cell_type": "code",
   "execution_count": 103,
   "id": "559d5850",
   "metadata": {},
   "outputs": [
    {
     "data": {
      "text/plain": [
       "list"
      ]
     },
     "execution_count": 103,
     "metadata": {},
     "output_type": "execute_result"
    }
   ],
   "source": [
    "type(k)"
   ]
  },
  {
   "cell_type": "code",
   "execution_count": 104,
   "id": "9e489051",
   "metadata": {},
   "outputs": [
    {
     "data": {
      "text/plain": [
       "('a', 'b')"
      ]
     },
     "execution_count": 104,
     "metadata": {},
     "output_type": "execute_result"
    }
   ],
   "source": [
    "l[0:2]"
   ]
  },
  {
   "cell_type": "code",
   "execution_count": 105,
   "id": "c15d387e",
   "metadata": {},
   "outputs": [
    {
     "ename": "TypeError",
     "evalue": "'tuple' object does not support item assignment",
     "output_type": "error",
     "traceback": [
      "\u001b[1;31m---------------------------------------------------------------------------\u001b[0m",
      "\u001b[1;31mTypeError\u001b[0m                                 Traceback (most recent call last)",
      "Input \u001b[1;32mIn [105]\u001b[0m, in \u001b[0;36m<cell line: 2>\u001b[1;34m()\u001b[0m\n\u001b[0;32m      1\u001b[0m \u001b[38;5;66;03m#tuple is  notmutable\u001b[39;00m\n\u001b[1;32m----> 2\u001b[0m l[\u001b[38;5;241m0\u001b[39m]\u001b[38;5;241m=\u001b[39m\u001b[38;5;124m\"\u001b[39m\u001b[38;5;124msachin\u001b[39m\u001b[38;5;124m\"\u001b[39m\n",
      "\u001b[1;31mTypeError\u001b[0m: 'tuple' object does not support item assignment"
     ]
    }
   ],
   "source": [
    "#tuple is  notmutable\n",
    "l[0]=\"sachin\""
   ]
  },
  {
   "cell_type": "code",
   "execution_count": 106,
   "id": "acff7e52",
   "metadata": {},
   "outputs": [],
   "source": [
    "#list is mutable\n",
    "k[0]=\"sachin\""
   ]
  },
  {
   "cell_type": "code",
   "execution_count": 107,
   "id": "aba2269f",
   "metadata": {},
   "outputs": [
    {
     "data": {
      "text/plain": [
       "['sachin', 'b', 'c']"
      ]
     },
     "execution_count": 107,
     "metadata": {},
     "output_type": "execute_result"
    }
   ],
   "source": [
    "k"
   ]
  },
  {
   "cell_type": "code",
   "execution_count": 108,
   "id": "12e62b13",
   "metadata": {},
   "outputs": [
    {
     "data": {
      "text/plain": [
       "('a', 'b', 'c')"
      ]
     },
     "execution_count": 108,
     "metadata": {},
     "output_type": "execute_result"
    }
   ],
   "source": [
    "l"
   ]
  },
  {
   "cell_type": "code",
   "execution_count": 109,
   "id": "89bb99b4",
   "metadata": {},
   "outputs": [],
   "source": [
    "m=(\"ad\",\"ef\",\"gh\")"
   ]
  },
  {
   "cell_type": "code",
   "execution_count": 110,
   "id": "6d05fc39",
   "metadata": {},
   "outputs": [
    {
     "data": {
      "text/plain": [
       "tuple"
      ]
     },
     "execution_count": 110,
     "metadata": {},
     "output_type": "execute_result"
    }
   ],
   "source": [
    "type(m)"
   ]
  },
  {
   "cell_type": "code",
   "execution_count": 111,
   "id": "5a83cfeb",
   "metadata": {},
   "outputs": [
    {
     "data": {
      "text/plain": [
       "('ad', 'ef', 'gh', 'a', 'b', 'c')"
      ]
     },
     "execution_count": 111,
     "metadata": {},
     "output_type": "execute_result"
    }
   ],
   "source": [
    "# but appending is possible in tuple\n",
    "m +l"
   ]
  },
  {
   "cell_type": "code",
   "execution_count": 112,
   "id": "c0818ebc",
   "metadata": {},
   "outputs": [
    {
     "data": {
      "text/plain": [
       "('a', 'b', 'c', 'a', 'b', 'c')"
      ]
     },
     "execution_count": 112,
     "metadata": {},
     "output_type": "execute_result"
    }
   ],
   "source": [
    "l*2"
   ]
  },
  {
   "cell_type": "code",
   "execution_count": 113,
   "id": "dc003a92",
   "metadata": {},
   "outputs": [
    {
     "data": {
      "text/plain": [
       "True"
      ]
     },
     "execution_count": 113,
     "metadata": {},
     "output_type": "execute_result"
    }
   ],
   "source": [
    "\"a\" in l"
   ]
  },
  {
   "cell_type": "code",
   "execution_count": 114,
   "id": "131567aa",
   "metadata": {},
   "outputs": [],
   "source": [
    "n=(2,6,8)"
   ]
  },
  {
   "cell_type": "code",
   "execution_count": 115,
   "id": "506b1e08",
   "metadata": {},
   "outputs": [
    {
     "data": {
      "text/plain": [
       "8"
      ]
     },
     "execution_count": 115,
     "metadata": {},
     "output_type": "execute_result"
    }
   ],
   "source": [
    "max(n)"
   ]
  },
  {
   "cell_type": "code",
   "execution_count": 116,
   "id": "7dd3c0e9",
   "metadata": {},
   "outputs": [
    {
     "data": {
      "text/plain": [
       "2"
      ]
     },
     "execution_count": 116,
     "metadata": {},
     "output_type": "execute_result"
    }
   ],
   "source": [
    "#only two features in tuples count and index\n",
    "n.index(8)"
   ]
  },
  {
   "cell_type": "code",
   "execution_count": 117,
   "id": "db589367",
   "metadata": {},
   "outputs": [
    {
     "data": {
      "text/plain": [
       "('ad', 'ef', 'gh')"
      ]
     },
     "execution_count": 117,
     "metadata": {},
     "output_type": "execute_result"
    }
   ],
   "source": [
    "m"
   ]
  },
  {
   "cell_type": "code",
   "execution_count": 118,
   "id": "6a64b27d",
   "metadata": {},
   "outputs": [
    {
     "ename": "AttributeError",
     "evalue": "'tuple' object has no attribute 'insert'",
     "output_type": "error",
     "traceback": [
      "\u001b[1;31m---------------------------------------------------------------------------\u001b[0m",
      "\u001b[1;31mAttributeError\u001b[0m                            Traceback (most recent call last)",
      "Input \u001b[1;32mIn [118]\u001b[0m, in \u001b[0;36m<cell line: 1>\u001b[1;34m()\u001b[0m\n\u001b[1;32m----> 1\u001b[0m \u001b[43mm\u001b[49m\u001b[38;5;241;43m.\u001b[39;49m\u001b[43minsert\u001b[49m(\u001b[38;5;241m2\u001b[39m,\u001b[38;5;124m\"\u001b[39m\u001b[38;5;124mraja\u001b[39m\u001b[38;5;124m\"\u001b[39m)\n",
      "\u001b[1;31mAttributeError\u001b[0m: 'tuple' object has no attribute 'insert'"
     ]
    }
   ],
   "source": [
    "m.insert(2,\"raja\")"
   ]
  },
  {
   "cell_type": "code",
   "execution_count": 119,
   "id": "1c9b760a",
   "metadata": {},
   "outputs": [],
   "source": [
    "#pehle tuple ko hi list bnake inserr\n",
    "o=list(m)"
   ]
  },
  {
   "cell_type": "code",
   "execution_count": 155,
   "id": "ceffcd31",
   "metadata": {},
   "outputs": [
    {
     "data": {
      "text/plain": [
       "('ad', 'ef', 'manmohan', 'gh')"
      ]
     },
     "execution_count": 155,
     "metadata": {},
     "output_type": "execute_result"
    }
   ],
   "source": [
    "o"
   ]
  },
  {
   "cell_type": "code",
   "execution_count": 156,
   "id": "aa300265",
   "metadata": {},
   "outputs": [
    {
     "ename": "AttributeError",
     "evalue": "'tuple' object has no attribute 'insert'",
     "output_type": "error",
     "traceback": [
      "\u001b[1;31m---------------------------------------------------------------------------\u001b[0m",
      "\u001b[1;31mAttributeError\u001b[0m                            Traceback (most recent call last)",
      "Input \u001b[1;32mIn [156]\u001b[0m, in \u001b[0;36m<cell line: 1>\u001b[1;34m()\u001b[0m\n\u001b[1;32m----> 1\u001b[0m \u001b[43mo\u001b[49m\u001b[38;5;241;43m.\u001b[39;49m\u001b[43minsert\u001b[49m(\u001b[38;5;241m2\u001b[39m,\u001b[38;5;124m\"\u001b[39m\u001b[38;5;124mmanmohan\u001b[39m\u001b[38;5;124m\"\u001b[39m)\n",
      "\u001b[1;31mAttributeError\u001b[0m: 'tuple' object has no attribute 'insert'"
     ]
    }
   ],
   "source": [
    "o.insert(2,\"manmohan\")"
   ]
  },
  {
   "cell_type": "code",
   "execution_count": null,
   "id": "17e57985",
   "metadata": {},
   "outputs": [],
   "source": [
    "o"
   ]
  },
  {
   "cell_type": "code",
   "execution_count": null,
   "id": "e5fb41ca",
   "metadata": {},
   "outputs": [],
   "source": [
    "#phir wpaas tuple bna lo\n",
    "o=tuple(o)"
   ]
  },
  {
   "cell_type": "code",
   "execution_count": null,
   "id": "51a100b8",
   "metadata": {},
   "outputs": [],
   "source": [
    "o"
   ]
  },
  {
   "cell_type": "code",
   "execution_count": 157,
   "id": "e029aca5",
   "metadata": {},
   "outputs": [],
   "source": [
    "t=((3,4,5,6,7),(\"adv\",24,34),(\"453\",54),1,2,3,[4,5,6,7])"
   ]
  },
  {
   "cell_type": "code",
   "execution_count": 158,
   "id": "a5e3da36",
   "metadata": {},
   "outputs": [
    {
     "data": {
      "text/plain": [
       "[4, 5, 6, 7]"
      ]
     },
     "execution_count": 158,
     "metadata": {},
     "output_type": "execute_result"
    }
   ],
   "source": [
    "t[6]"
   ]
  },
  {
   "cell_type": "code",
   "execution_count": 159,
   "id": "b1bf6fe8",
   "metadata": {},
   "outputs": [
    {
     "data": {
      "text/plain": [
       "'453'"
      ]
     },
     "execution_count": 159,
     "metadata": {},
     "output_type": "execute_result"
    }
   ],
   "source": [
    "t[2][0]"
   ]
  },
  {
   "cell_type": "code",
   "execution_count": 160,
   "id": "06f3dc25",
   "metadata": {},
   "outputs": [
    {
     "data": {
      "text/plain": [
       "('ad', 'ef', 'manmohan', 'gh')"
      ]
     },
     "execution_count": 160,
     "metadata": {},
     "output_type": "execute_result"
    }
   ],
   "source": [
    "o"
   ]
  },
  {
   "cell_type": "code",
   "execution_count": 161,
   "id": "b4259e7e",
   "metadata": {},
   "outputs": [
    {
     "ename": "NameError",
     "evalue": "name 'o1' is not defined",
     "output_type": "error",
     "traceback": [
      "\u001b[1;31m---------------------------------------------------------------------------\u001b[0m",
      "\u001b[1;31mNameError\u001b[0m                                 Traceback (most recent call last)",
      "Input \u001b[1;32mIn [161]\u001b[0m, in \u001b[0;36m<cell line: 1>\u001b[1;34m()\u001b[0m\n\u001b[1;32m----> 1\u001b[0m \u001b[38;5;28;01mdel\u001b[39;00m(o1)\n",
      "\u001b[1;31mNameError\u001b[0m: name 'o1' is not defined"
     ]
    }
   ],
   "source": [
    "del(o1)"
   ]
  },
  {
   "cell_type": "code",
   "execution_count": null,
   "id": "286f3a87",
   "metadata": {},
   "outputs": [],
   "source": [
    "#pop and remove for lis.\n",
    "#del for tuples"
   ]
  },
  {
   "cell_type": "code",
   "execution_count": 162,
   "id": "73e22caf",
   "metadata": {},
   "outputs": [],
   "source": [
    "l=[2,3,4,5,\"sudh\",\"Sudh\",\"lalit\",\"lalit\"]"
   ]
  },
  {
   "cell_type": "code",
   "execution_count": 163,
   "id": "735c520f",
   "metadata": {},
   "outputs": [
    {
     "data": {
      "text/plain": [
       "{2, 3, 4, 5, 'Sudh', 'lalit', 'sudh'}"
      ]
     },
     "execution_count": 163,
     "metadata": {},
     "output_type": "execute_result"
    }
   ],
   "source": [
    "#set remove exact duplicates only.\n",
    "l=set(l)\n",
    "l"
   ]
  },
  {
   "cell_type": "code",
   "execution_count": 164,
   "id": "3cf6fbc4",
   "metadata": {},
   "outputs": [
    {
     "ename": "TypeError",
     "evalue": "'set' object is not subscriptable",
     "output_type": "error",
     "traceback": [
      "\u001b[1;31m---------------------------------------------------------------------------\u001b[0m",
      "\u001b[1;31mTypeError\u001b[0m                                 Traceback (most recent call last)",
      "Input \u001b[1;32mIn [164]\u001b[0m, in \u001b[0;36m<cell line: 2>\u001b[1;34m()\u001b[0m\n\u001b[0;32m      1\u001b[0m \u001b[38;5;66;03m#set doesn't for for indexing\u001b[39;00m\n\u001b[1;32m----> 2\u001b[0m \u001b[43ml\u001b[49m\u001b[43m[\u001b[49m\u001b[38;5;241;43m0\u001b[39;49m\u001b[43m]\u001b[49m\n",
      "\u001b[1;31mTypeError\u001b[0m: 'set' object is not subscriptable"
     ]
    }
   ],
   "source": [
    "#set doesn't for for indexing\n",
    "l[0]\n"
   ]
  },
  {
   "cell_type": "code",
   "execution_count": null,
   "id": "0894fba4",
   "metadata": {},
   "outputs": [],
   "source": [
    "for i in l:\n",
    "    print(i)\n",
    "    #will give result unordered"
   ]
  },
  {
   "cell_type": "code",
   "execution_count": 165,
   "id": "e1345c7a",
   "metadata": {},
   "outputs": [],
   "source": [
    "l.add(\"raja\")"
   ]
  },
  {
   "cell_type": "code",
   "execution_count": 168,
   "id": "734fb6cc",
   "metadata": {},
   "outputs": [
    {
     "data": {
      "text/plain": [
       "{2, 3, 4, 5, 'Sudh', 'lalit', 'raja', 'sudh'}"
      ]
     },
     "execution_count": 168,
     "metadata": {},
     "output_type": "execute_result"
    }
   ],
   "source": [
    "l"
   ]
  },
  {
   "cell_type": "code",
   "execution_count": 169,
   "id": "936c43a1",
   "metadata": {},
   "outputs": [
    {
     "ename": "TypeError",
     "evalue": "'builtin_function_or_method' object is not subscriptable",
     "output_type": "error",
     "traceback": [
      "\u001b[1;31m---------------------------------------------------------------------------\u001b[0m",
      "\u001b[1;31mTypeError\u001b[0m                                 Traceback (most recent call last)",
      "Input \u001b[1;32mIn [169]\u001b[0m, in \u001b[0;36m<cell line: 2>\u001b[1;34m()\u001b[0m\n\u001b[0;32m      1\u001b[0m \u001b[38;5;66;03m#can't add list data to set\u001b[39;00m\n\u001b[1;32m----> 2\u001b[0m \u001b[43ml\u001b[49m\u001b[38;5;241;43m.\u001b[39;49m\u001b[43madd\u001b[49m\u001b[43m[\u001b[49m\u001b[38;5;241;43m3\u001b[39;49m\u001b[43m,\u001b[49m\u001b[38;5;241;43m5\u001b[39;49m\u001b[43m,\u001b[49m\u001b[38;5;241;43m7\u001b[39;49m\u001b[43m]\u001b[49m\n",
      "\u001b[1;31mTypeError\u001b[0m: 'builtin_function_or_method' object is not subscriptable"
     ]
    }
   ],
   "source": [
    "#can't add list data to set\n",
    "l.add[3,5,7]"
   ]
  },
  {
   "cell_type": "code",
   "execution_count": 172,
   "id": "fde9fd32",
   "metadata": {},
   "outputs": [],
   "source": [
    "m=[1,2,3,[4,5,7]]"
   ]
  },
  {
   "cell_type": "markdown",
   "id": "b119a329",
   "metadata": {},
   "source": [
    "m = set(m)"
   ]
  },
  {
   "cell_type": "code",
   "execution_count": 175,
   "id": "49b1144a",
   "metadata": {},
   "outputs": [
    {
     "ename": "TypeError",
     "evalue": "unhashable type: 'list'",
     "output_type": "error",
     "traceback": [
      "\u001b[1;31m---------------------------------------------------------------------------\u001b[0m",
      "\u001b[1;31mTypeError\u001b[0m                                 Traceback (most recent call last)",
      "Input \u001b[1;32mIn [175]\u001b[0m, in \u001b[0;36m<cell line: 2>\u001b[1;34m()\u001b[0m\n\u001b[0;32m      1\u001b[0m \u001b[38;5;66;03m#canverting set also don't work in nested list case\u001b[39;00m\n\u001b[1;32m----> 2\u001b[0m m \u001b[38;5;241m=\u001b[39m \u001b[38;5;28;43mset\u001b[39;49m\u001b[43m(\u001b[49m\u001b[43mm\u001b[49m\u001b[43m)\u001b[49m\n\u001b[0;32m      3\u001b[0m m\n",
      "\u001b[1;31mTypeError\u001b[0m: unhashable type: 'list'"
     ]
    }
   ],
   "source": [
    "#canverting set also don't work in nested list case\n",
    "m = set(m)\n",
    "m"
   ]
  },
  {
   "cell_type": "code",
   "execution_count": 176,
   "id": "44c47de6",
   "metadata": {},
   "outputs": [],
   "source": [
    "l.remove(\"sudh\")"
   ]
  },
  {
   "cell_type": "code",
   "execution_count": 177,
   "id": "dd605583",
   "metadata": {},
   "outputs": [
    {
     "data": {
      "text/plain": [
       "{2, 3, 4, 5, 'Sudh', 'lalit', 'raja'}"
      ]
     },
     "execution_count": 177,
     "metadata": {},
     "output_type": "execute_result"
    }
   ],
   "source": [
    "l"
   ]
  },
  {
   "cell_type": "code",
   "execution_count": 178,
   "id": "88d6a50f",
   "metadata": {},
   "outputs": [],
   "source": [
    "m=[\"w\",\"q\",7,89,10]"
   ]
  },
  {
   "cell_type": "code",
   "execution_count": 180,
   "id": "77d58a6b",
   "metadata": {},
   "outputs": [
    {
     "data": {
      "text/plain": [
       "{10, 7, 89, 'q', 'w'}"
      ]
     },
     "execution_count": 180,
     "metadata": {},
     "output_type": "execute_result"
    }
   ],
   "source": [
    "m=set(m)\n",
    "\n",
    "m"
   ]
  },
  {
   "cell_type": "code",
   "execution_count": 183,
   "id": "12be1128",
   "metadata": {},
   "outputs": [
    {
     "ename": "TypeError",
     "evalue": "unsupported operand type(s) for +: 'set' and 'set'",
     "output_type": "error",
     "traceback": [
      "\u001b[1;31m---------------------------------------------------------------------------\u001b[0m",
      "\u001b[1;31mTypeError\u001b[0m                                 Traceback (most recent call last)",
      "Input \u001b[1;32mIn [183]\u001b[0m, in \u001b[0;36m<cell line: 2>\u001b[1;34m()\u001b[0m\n\u001b[0;32m      1\u001b[0m \u001b[38;5;66;03m#addition/multiplication not allowed in sets\u001b[39;00m\n\u001b[1;32m----> 2\u001b[0m \u001b[43ml\u001b[49m\u001b[38;5;241;43m+\u001b[39;49m\u001b[43mm\u001b[49m\n",
      "\u001b[1;31mTypeError\u001b[0m: unsupported operand type(s) for +: 'set' and 'set'"
     ]
    }
   ],
   "source": [
    "#addition/multiplication not allowed in sets\n",
    "l+m"
   ]
  },
  {
   "cell_type": "code",
   "execution_count": 184,
   "id": "24e5d1bc",
   "metadata": {},
   "outputs": [
    {
     "ename": "TypeError",
     "evalue": "unsupported operand type(s) for *: 'set' and 'int'",
     "output_type": "error",
     "traceback": [
      "\u001b[1;31m---------------------------------------------------------------------------\u001b[0m",
      "\u001b[1;31mTypeError\u001b[0m                                 Traceback (most recent call last)",
      "Input \u001b[1;32mIn [184]\u001b[0m, in \u001b[0;36m<cell line: 1>\u001b[1;34m()\u001b[0m\n\u001b[1;32m----> 1\u001b[0m \u001b[43mm\u001b[49m\u001b[38;5;241;43m*\u001b[39;49m\u001b[38;5;241;43m2\u001b[39;49m\n",
      "\u001b[1;31mTypeError\u001b[0m: unsupported operand type(s) for *: 'set' and 'int'"
     ]
    }
   ],
   "source": [
    "m*2"
   ]
  },
  {
   "cell_type": "code",
   "execution_count": 203,
   "id": "f85ee16d",
   "metadata": {},
   "outputs": [
    {
     "data": {
      "text/plain": [
       "[2, 3, 4, 5, 'raja', 'Sudh', 'lalit']"
      ]
     },
     "execution_count": 203,
     "metadata": {},
     "output_type": "execute_result"
    }
   ],
   "source": [
    "l1=list(l)\n",
    "l1"
   ]
  },
  {
   "cell_type": "code",
   "execution_count": 204,
   "id": "40fa125e",
   "metadata": {},
   "outputs": [],
   "source": [
    "l1.append(3)"
   ]
  },
  {
   "cell_type": "code",
   "execution_count": 205,
   "id": "5ec22d70",
   "metadata": {},
   "outputs": [
    {
     "data": {
      "text/plain": [
       "[2, 3, 4, 5, 'raja', 'Sudh', 'lalit', 3]"
      ]
     },
     "execution_count": 205,
     "metadata": {},
     "output_type": "execute_result"
    }
   ],
   "source": [
    "l1"
   ]
  },
  {
   "cell_type": "code",
   "execution_count": 206,
   "id": "ea7d9767",
   "metadata": {},
   "outputs": [
    {
     "data": {
      "text/plain": [
       "{2, 3, 4, 5, 'Sudh', 'lalit', 'raja'}"
      ]
     },
     "execution_count": 206,
     "metadata": {},
     "output_type": "execute_result"
    }
   ],
   "source": [
    "set(l1)"
   ]
  },
  {
   "cell_type": "code",
   "execution_count": 209,
   "id": "d3dd0b80",
   "metadata": {},
   "outputs": [],
   "source": [
    "x={\"name\": \"lal\",\"class\":5,\"name\":\"sanjay\"}"
   ]
  },
  {
   "cell_type": "code",
   "execution_count": 214,
   "id": "3a41803c",
   "metadata": {},
   "outputs": [
    {
     "data": {
      "text/plain": [
       "'sanjay'"
      ]
     },
     "execution_count": 214,
     "metadata": {},
     "output_type": "execute_result"
    }
   ],
   "source": [
    "#latest value gets update in dict.\n",
    "x[\"name\"]"
   ]
  },
  {
   "cell_type": "code",
   "execution_count": 216,
   "id": "9ed3ac96",
   "metadata": {},
   "outputs": [
    {
     "ename": "SyntaxError",
     "evalue": "invalid syntax (4111122388.py, line 2)",
     "output_type": "error",
     "traceback": [
      "\u001b[1;36m  Input \u001b[1;32mIn [216]\u001b[1;36m\u001b[0m\n\u001b[1;33m    x1={\"name\": \"lal\",\"class\":5,\"name\":\"sanjay\",%age = 23}\u001b[0m\n\u001b[1;37m                                                ^\u001b[0m\n\u001b[1;31mSyntaxError\u001b[0m\u001b[1;31m:\u001b[0m invalid syntax\n"
     ]
    }
   ],
   "source": [
    "#% thgese don' work in dict\n",
    "x1={\"name\": \"lal\",\"class\":5,\"name\":\"sanjay\",%age = 23}"
   ]
  },
  {
   "cell_type": "code",
   "execution_count": 227,
   "id": "ff2c166f",
   "metadata": {},
   "outputs": [],
   "source": [
    "x1={\"name\": \"lal\",\"class\":5,\"name\":\"sanjay\",\"classes\":[3,4,5,6]}"
   ]
  },
  {
   "cell_type": "code",
   "execution_count": 228,
   "id": "58a93acc",
   "metadata": {},
   "outputs": [
    {
     "data": {
      "text/plain": [
       "dict"
      ]
     },
     "execution_count": 228,
     "metadata": {},
     "output_type": "execute_result"
    }
   ],
   "source": [
    "type(x1)"
   ]
  },
  {
   "cell_type": "code",
   "execution_count": 231,
   "id": "257eda6e",
   "metadata": {},
   "outputs": [
    {
     "data": {
      "text/plain": [
       "6"
      ]
     },
     "execution_count": 231,
     "metadata": {},
     "output_type": "execute_result"
    }
   ],
   "source": [
    "x1[\"classes\"][3]"
   ]
  },
  {
   "cell_type": "code",
   "execution_count": 233,
   "id": "3e84aeed",
   "metadata": {},
   "outputs": [],
   "source": [
    "x2={\"name\":{\"k1\":\"veer\",\"k4\":[345,534]}}\n"
   ]
  },
  {
   "cell_type": "code",
   "execution_count": 235,
   "id": "e5b01e28",
   "metadata": {},
   "outputs": [
    {
     "data": {
      "text/plain": [
       "345"
      ]
     },
     "execution_count": 235,
     "metadata": {},
     "output_type": "execute_result"
    }
   ],
   "source": [
    "x2[\"name\"][\"k4\"][0]"
   ]
  },
  {
   "cell_type": "code",
   "execution_count": 237,
   "id": "b7a1a777",
   "metadata": {},
   "outputs": [
    {
     "ename": "TypeError",
     "evalue": "unsupported operand type(s) for +: 'dict' and 'dict'",
     "output_type": "error",
     "traceback": [
      "\u001b[1;31m---------------------------------------------------------------------------\u001b[0m",
      "\u001b[1;31mTypeError\u001b[0m                                 Traceback (most recent call last)",
      "Input \u001b[1;32mIn [237]\u001b[0m, in \u001b[0;36m<cell line: 2>\u001b[1;34m()\u001b[0m\n\u001b[0;32m      1\u001b[0m \u001b[38;5;66;03m#dict don't add\u001b[39;00m\n\u001b[1;32m----> 2\u001b[0m \u001b[43mx1\u001b[49m\u001b[38;5;241;43m+\u001b[39;49m\u001b[43mx2\u001b[49m\n",
      "\u001b[1;31mTypeError\u001b[0m: unsupported operand type(s) for +: 'dict' and 'dict'"
     ]
    }
   ],
   "source": [
    "#dict don't add\n",
    "x1+x2"
   ]
  },
  {
   "cell_type": "code",
   "execution_count": 240,
   "id": "68cc6f49",
   "metadata": {},
   "outputs": [],
   "source": [
    "#dict is also mutable\n",
    "x2[\"name\"][\"k4\"]= \"raju\""
   ]
  },
  {
   "cell_type": "code",
   "execution_count": 241,
   "id": "2678f76f",
   "metadata": {},
   "outputs": [
    {
     "data": {
      "text/plain": [
       "{'name': {'k1': 'veer', 'k4': 'raju'}}"
      ]
     },
     "execution_count": 241,
     "metadata": {},
     "output_type": "execute_result"
    }
   ],
   "source": [
    "x2"
   ]
  },
  {
   "cell_type": "code",
   "execution_count": 263,
   "id": "ec893f36",
   "metadata": {},
   "outputs": [],
   "source": [
    "x2[\"name\"][\"k4\"]= 200"
   ]
  },
  {
   "cell_type": "code",
   "execution_count": 274,
   "id": "911a447c",
   "metadata": {},
   "outputs": [],
   "source": [
    "# x2[\"name\"][\"k4\"]-=10\n",
    "# or\n",
    "x2[\"name\"][\"k4\"]=  x2[\"name\"][\"k4\"]-10"
   ]
  },
  {
   "cell_type": "code",
   "execution_count": 292,
   "id": "9df015a7",
   "metadata": {},
   "outputs": [
    {
     "data": {
      "text/plain": [
       "{'name': {'k1': 'veer', 'k4': 160}}"
      ]
     },
     "execution_count": 292,
     "metadata": {},
     "output_type": "execute_result"
    }
   ],
   "source": [
    "x2"
   ]
  },
  {
   "cell_type": "code",
   "execution_count": 293,
   "id": "b46d406a",
   "metadata": {},
   "outputs": [
    {
     "data": {
      "text/plain": [
       "dict_keys(['name'])"
      ]
     },
     "execution_count": 293,
     "metadata": {},
     "output_type": "execute_result"
    }
   ],
   "source": [
    "x2.keys()"
   ]
  },
  {
   "cell_type": "code",
   "execution_count": 294,
   "id": "0cb81f2b",
   "metadata": {},
   "outputs": [
    {
     "data": {
      "text/plain": [
       "False"
      ]
     },
     "execution_count": 294,
     "metadata": {},
     "output_type": "execute_result"
    }
   ],
   "source": [
    "\"k4\" in x2.values()"
   ]
  },
  {
   "cell_type": "code",
   "execution_count": 295,
   "id": "1cb784d7",
   "metadata": {},
   "outputs": [],
   "source": [
    "#to check k4 as key in the dixct or bnot\n",
    "def find_key(d, key):\n",
    "    if key in d:\n",
    "        return True\n",
    "    for value in d.values():\n",
    "        if isinstance(value, dict):  # If value is a dictionary, search recursively\n",
    "            if find_key(value, key):\n",
    "                return True\n",
    "    return False"
   ]
  },
  {
   "cell_type": "code",
   "execution_count": 296,
   "id": "dfc1cd7f",
   "metadata": {},
   "outputs": [
    {
     "data": {
      "text/plain": [
       "True"
      ]
     },
     "execution_count": 296,
     "metadata": {},
     "output_type": "execute_result"
    }
   ],
   "source": [
    "find_key(x2,\"k4\")"
   ]
  },
  {
   "cell_type": "code",
   "execution_count": 297,
   "id": "c1a77e19",
   "metadata": {},
   "outputs": [
    {
     "name": "stdout",
     "output_type": "stream",
     "text": [
      "name\n"
     ]
    }
   ],
   "source": [
    "# iterate only over keys\n",
    "for i in x2 :\n",
    "    print(i)"
   ]
  },
  {
   "cell_type": "code",
   "execution_count": 298,
   "id": "19f62a4f",
   "metadata": {},
   "outputs": [
    {
     "name": "stdout",
     "output_type": "stream",
     "text": [
      "{'k1': 'veer', 'k4': 160}\n"
     ]
    }
   ],
   "source": [
    "#to iterate over values\n",
    "for i in x2.keys():\n",
    "    print(x2[i])"
   ]
  },
  {
   "cell_type": "code",
   "execution_count": 299,
   "id": "24ee4bd7",
   "metadata": {},
   "outputs": [],
   "source": [
    "x2 = {\"name\":{\"k1\":\"wer\",\"k4\":[345,534,62]},\n",
    "     \"age\":348,\n",
    "     True: {45,54,454},\n",
    "     \"key\": False,\n",
    "     34554:(45,45,45,45),\n",
    "     \"_sfs\":[35,45,454]}"
   ]
  },
  {
   "cell_type": "code",
   "execution_count": 300,
   "id": "8d7ddec4",
   "metadata": {},
   "outputs": [
    {
     "data": {
      "text/plain": [
       "dict_keys(['name', 'age', True, 'key', 34554, '_sfs'])"
      ]
     },
     "execution_count": 300,
     "metadata": {},
     "output_type": "execute_result"
    }
   ],
   "source": [
    "x2.keys()"
   ]
  },
  {
   "cell_type": "code",
   "execution_count": 303,
   "id": "da89380b",
   "metadata": {},
   "outputs": [
    {
     "name": "stdout",
     "output_type": "stream",
     "text": [
      "<class 'dict'>\n",
      "<class 'int'>\n",
      "<class 'set'>\n",
      "<class 'bool'>\n",
      "<class 'tuple'>\n",
      "<class 'list'>\n"
     ]
    }
   ],
   "source": [
    "#iterate over values\n",
    "for i in x2.keys():\n",
    "    print(type(x2[i]))"
   ]
  },
  {
   "cell_type": "code",
   "execution_count": 305,
   "id": "733119e7",
   "metadata": {},
   "outputs": [
    {
     "data": {
      "text/plain": [
       "dict_items([('name', {'k1': 'wer', 'k4': [345, 534, 62]}), ('age', 348), (True, {54, 45, 454}), ('key', False), (34554, (45, 45, 45, 45)), ('_sfs', [35, 45, 454])])"
      ]
     },
     "execution_count": 305,
     "metadata": {},
     "output_type": "execute_result"
    }
   ],
   "source": [
    "#all will come under tuples\n",
    "x2.items()"
   ]
  },
  {
   "cell_type": "code",
   "execution_count": 308,
   "id": "61bd5c1b",
   "metadata": {},
   "outputs": [
    {
     "name": "stdout",
     "output_type": "stream",
     "text": [
      "name\n",
      "age\n",
      "True\n",
      "key\n",
      "34554\n",
      "_sfs\n"
     ]
    }
   ],
   "source": [
    "  # in this keys finding\n",
    "    for i in x2.items():\n",
    "        print(i[0])"
   ]
  },
  {
   "cell_type": "code",
   "execution_count": 309,
   "id": "7347e568",
   "metadata": {
    "scrolled": true
   },
   "outputs": [
    {
     "name": "stdout",
     "output_type": "stream",
     "text": [
      "{'k1': 'wer', 'k4': [345, 534, 62]}\n",
      "348\n",
      "{54, 45, 454}\n",
      "False\n",
      "(45, 45, 45, 45)\n",
      "[35, 45, 454]\n"
     ]
    }
   ],
   "source": [
    "#in this case value finding\n",
    "for i in x2.items():\n",
    "    print(i[1])"
   ]
  },
  {
   "cell_type": "code",
   "execution_count": 311,
   "id": "f7c769a1",
   "metadata": {},
   "outputs": [
    {
     "data": {
      "text/plain": [
       "6"
      ]
     },
     "execution_count": 311,
     "metadata": {},
     "output_type": "execute_result"
    }
   ],
   "source": [
    "len(x2)"
   ]
  },
  {
   "cell_type": "code",
   "execution_count": 312,
   "id": "38560e8b",
   "metadata": {},
   "outputs": [
    {
     "data": {
      "text/plain": [
       "{'name': {'k1': 'wer', 'k4': [345, 534, 62]},\n",
       " 'age': 348,\n",
       " True: {45, 54, 454},\n",
       " 'key': False,\n",
       " 34554: (45, 45, 45, 45),\n",
       " '_sfs': [35, 45, 454]}"
      ]
     },
     "execution_count": 312,
     "metadata": {},
     "output_type": "execute_result"
    }
   ],
   "source": [
    "x2"
   ]
  },
  {
   "cell_type": "code",
   "execution_count": 313,
   "id": "d95c51ad",
   "metadata": {},
   "outputs": [
    {
     "data": {
      "text/plain": [
       "348"
      ]
     },
     "execution_count": 313,
     "metadata": {},
     "output_type": "execute_result"
    }
   ],
   "source": [
    "x2['age']"
   ]
  },
  {
   "cell_type": "code",
   "execution_count": 314,
   "id": "bae25638",
   "metadata": {},
   "outputs": [
    {
     "name": "stdout",
     "output_type": "stream",
     "text": [
      "my name is sanjay\n"
     ]
    }
   ],
   "source": [
    "a1=input()"
   ]
  },
  {
   "cell_type": "code",
   "execution_count": 315,
   "id": "4079ee3a",
   "metadata": {},
   "outputs": [
    {
     "data": {
      "text/plain": [
       "'my name is sanjay'"
      ]
     },
     "execution_count": 315,
     "metadata": {},
     "output_type": "execute_result"
    }
   ],
   "source": [
    "a1"
   ]
  },
  {
   "cell_type": "code",
   "execution_count": 316,
   "id": "088ca9f8",
   "metadata": {},
   "outputs": [
    {
     "data": {
      "text/plain": [
       "str"
      ]
     },
     "execution_count": 316,
     "metadata": {},
     "output_type": "execute_result"
    }
   ],
   "source": [
    "type(a1)"
   ]
  },
  {
   "cell_type": "code",
   "execution_count": 322,
   "id": "474af567",
   "metadata": {},
   "outputs": [],
   "source": [
    "dat_lis = a1.split(\" \")"
   ]
  },
  {
   "cell_type": "code",
   "execution_count": 323,
   "id": "a3ce0798",
   "metadata": {},
   "outputs": [
    {
     "data": {
      "text/plain": [
       "['my', 'name', 'is', 'sanjay']"
      ]
     },
     "execution_count": 323,
     "metadata": {},
     "output_type": "execute_result"
    }
   ],
   "source": [
    "dat_lis"
   ]
  },
  {
   "cell_type": "code",
   "execution_count": 345,
   "id": "b86f4bb2",
   "metadata": {},
   "outputs": [],
   "source": [
    "d= {\"company\":\"ineuron\",\"course\":\"full stack\",\"year\":2021}"
   ]
  },
  {
   "cell_type": "code",
   "execution_count": 346,
   "id": "4769f985",
   "metadata": {},
   "outputs": [
    {
     "name": "stdout",
     "output_type": "stream",
     "text": [
      "ineuron\n",
      "full stack\n",
      "2021\n"
     ]
    }
   ],
   "source": [
    "for i in d.keys():\n",
    "    print(d[i])"
   ]
  },
  {
   "cell_type": "code",
   "execution_count": 347,
   "id": "aaac423f",
   "metadata": {},
   "outputs": [
    {
     "name": "stdout",
     "output_type": "stream",
     "text": [
      "print a key : company ; valuewise , ineuron\n",
      "print a key : course ; valuewise , full stack\n",
      "print a key : year ; valuewise , 2021\n"
     ]
    }
   ],
   "source": [
    "for i in d.keys():\n",
    "    print(\"print a key :\",i,\";\",\"valuewise\",\",\"\n",
    "          ,d[i])"
   ]
  },
  {
   "cell_type": "code",
   "execution_count": 352,
   "id": "51a488ec",
   "metadata": {},
   "outputs": [],
   "source": [
    "for i in d:\n",
    "    if i==\"year\":\n",
    "        if d[i] > 2021:\n",
    "            print(d[i])\n",
    "        else:\n",
    "            d[i]=2022"
   ]
  },
  {
   "cell_type": "code",
   "execution_count": 353,
   "id": "7207f480",
   "metadata": {},
   "outputs": [
    {
     "data": {
      "text/plain": [
       "{'company': 'ineuron', 'course': 'full stack', 'year': 2022}"
      ]
     },
     "execution_count": 353,
     "metadata": {},
     "output_type": "execute_result"
    }
   ],
   "source": [
    "d"
   ]
  },
  {
   "cell_type": "code",
   "execution_count": 354,
   "id": "e3feba48",
   "metadata": {},
   "outputs": [],
   "source": [
    "#to assighn keys value twice\n",
    "d={}\n",
    "for i in range(10):\n",
    "    d[i]= i*i"
   ]
  },
  {
   "cell_type": "code",
   "execution_count": 355,
   "id": "1b55b8b8",
   "metadata": {},
   "outputs": [
    {
     "data": {
      "text/plain": [
       "{0: 0, 1: 1, 2: 4, 3: 9, 4: 16, 5: 25, 6: 36, 7: 49, 8: 64, 9: 81}"
      ]
     },
     "execution_count": 355,
     "metadata": {},
     "output_type": "execute_result"
    }
   ],
   "source": [
    "d"
   ]
  },
  {
   "cell_type": "code",
   "execution_count": 357,
   "id": "bd2ebd95",
   "metadata": {},
   "outputs": [
    {
     "data": {
      "text/plain": [
       "{0: 0, 3: 9, 6: 36, 9: 81}"
      ]
     },
     "execution_count": 357,
     "metadata": {},
     "output_type": "execute_result"
    }
   ],
   "source": [
    "{i:i*i for i in range(0,10,3)}"
   ]
  },
  {
   "cell_type": "code",
   "execution_count": null,
   "id": "348f223b",
   "metadata": {},
   "outputs": [],
   "source": []
  }
 ],
 "metadata": {
  "kernelspec": {
   "display_name": "Python 3 (ipykernel)",
   "language": "python",
   "name": "python3"
  },
  "language_info": {
   "codemirror_mode": {
    "name": "ipython",
    "version": 3
   },
   "file_extension": ".py",
   "mimetype": "text/x-python",
   "name": "python",
   "nbconvert_exporter": "python",
   "pygments_lexer": "ipython3",
   "version": "3.9.12"
  }
 },
 "nbformat": 4,
 "nbformat_minor": 5
}
