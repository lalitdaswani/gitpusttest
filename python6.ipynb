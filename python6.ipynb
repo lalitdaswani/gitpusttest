{
 "cells": [
  {
   "cell_type": "code",
   "execution_count": 1,
   "id": "f9e5d3fe",
   "metadata": {},
   "outputs": [],
   "source": [
    "import logging as lg"
   ]
  },
  {
   "cell_type": "code",
   "execution_count": 2,
   "id": "f7466c22",
   "metadata": {},
   "outputs": [],
   "source": [
    "import os"
   ]
  },
  {
   "cell_type": "code",
   "execution_count": 3,
   "id": "3d5d1d2f",
   "metadata": {},
   "outputs": [
    {
     "ename": "FileExistsError",
     "evalue": "[WinError 183] Cannot create a file when that file already exists: 'logging'",
     "output_type": "error",
     "traceback": [
      "\u001b[1;31m---------------------------------------------------------------------------\u001b[0m",
      "\u001b[1;31mFileExistsError\u001b[0m                           Traceback (most recent call last)",
      "Input \u001b[1;32mIn [3]\u001b[0m, in \u001b[0;36m<cell line: 1>\u001b[1;34m()\u001b[0m\n\u001b[1;32m----> 1\u001b[0m \u001b[43mos\u001b[49m\u001b[38;5;241;43m.\u001b[39;49m\u001b[43mmkdir\u001b[49m\u001b[43m(\u001b[49m\u001b[38;5;124;43m\"\u001b[39;49m\u001b[38;5;124;43mlogging\u001b[39;49m\u001b[38;5;124;43m\"\u001b[39;49m\u001b[43m)\u001b[49m\n",
      "\u001b[1;31mFileExistsError\u001b[0m: [WinError 183] Cannot create a file when that file already exists: 'logging'"
     ]
    }
   ],
   "source": [
    "os.mkdir(\"logging\")"
   ]
  },
  {
   "cell_type": "code",
   "execution_count": 8,
   "id": "4c94e64a",
   "metadata": {},
   "outputs": [],
   "source": [
    "os.chdir(os.getcwd()+\"/\"+\"logging\")"
   ]
  },
  {
   "cell_type": "code",
   "execution_count": 9,
   "id": "dddd7e1f",
   "metadata": {},
   "outputs": [
    {
     "data": {
      "text/plain": [
       "'C:\\\\Users\\\\lalit\\\\logging'"
      ]
     },
     "execution_count": 9,
     "metadata": {},
     "output_type": "execute_result"
    }
   ],
   "source": [
    "pwd()"
   ]
  },
  {
   "cell_type": "code",
   "execution_count": 10,
   "id": "b6c4d5dc",
   "metadata": {},
   "outputs": [],
   "source": [
    "#debug,info,warning,error,critical"
   ]
  },
  {
   "cell_type": "code",
   "execution_count": 11,
   "id": "2f0f409e",
   "metadata": {},
   "outputs": [],
   "source": [
    "\n",
    "lg.basicConfig(filename=\"C:\\\\Users\\\\lalit\\\\logging\\\\test.log\",level=lg.ERROR,format=\"%(asctime)s %(message)s\")"
   ]
  },
  {
   "cell_type": "code",
   "execution_count": 12,
   "id": "e1d0c386",
   "metadata": {},
   "outputs": [
    {
     "data": {
      "text/plain": [
       "'C:\\\\Users\\\\lalit\\\\logging'"
      ]
     },
     "execution_count": 12,
     "metadata": {},
     "output_type": "execute_result"
    }
   ],
   "source": [
    "pwd()"
   ]
  },
  {
   "cell_type": "code",
   "execution_count": 13,
   "id": "a8f97b18",
   "metadata": {},
   "outputs": [],
   "source": [
    "lg.info(\"i am going to start my program\")"
   ]
  },
  {
   "cell_type": "code",
   "execution_count": 14,
   "id": "970ebc65",
   "metadata": {},
   "outputs": [],
   "source": [
    "lg.warning(\"this is my first warning\")"
   ]
  },
  {
   "cell_type": "code",
   "execution_count": 15,
   "id": "788bd7d4",
   "metadata": {},
   "outputs": [],
   "source": [
    "lg.error(\"don't do this way\")"
   ]
  },
  {
   "cell_type": "code",
   "execution_count": 16,
   "id": "85fdb36b",
   "metadata": {},
   "outputs": [],
   "source": [
    "#Exception ka e capital\n",
    "def test(a,b):\n",
    "    \n",
    "    try:\n",
    "        lg.info(str(a)+str(b))\n",
    "        div = a/b\n",
    "        return div\n",
    "    except Exception as e :\n",
    "        print(\"checking times\")\n",
    "        lg.error(\"error has occured\")\n",
    "        lg.exception(str(e))"
   ]
  },
  {
   "cell_type": "code",
   "execution_count": 21,
   "id": "f267f0ff",
   "metadata": {},
   "outputs": [
    {
     "name": "stdout",
     "output_type": "stream",
     "text": [
      "checking times\n"
     ]
    }
   ],
   "source": [
    "test(4,0)"
   ]
  },
  {
   "cell_type": "code",
   "execution_count": 2,
   "id": "94e5ce8e",
   "metadata": {},
   "outputs": [
    {
     "ename": "NameError",
     "evalue": "name 'lg' is not defined",
     "output_type": "error",
     "traceback": [
      "\u001b[1;31m---------------------------------------------------------------------------\u001b[0m",
      "\u001b[1;31mNameError\u001b[0m                                 Traceback (most recent call last)",
      "Input \u001b[1;32mIn [2]\u001b[0m, in \u001b[0;36m<cell line: 1>\u001b[1;34m()\u001b[0m\n\u001b[1;32m----> 1\u001b[0m \u001b[43mlg\u001b[49m\u001b[38;5;241m.\u001b[39mshutdown()\n",
      "\u001b[1;31mNameError\u001b[0m: name 'lg' is not defined"
     ]
    }
   ],
   "source": [
    "lg.shutdown()"
   ]
  },
  {
   "cell_type": "code",
   "execution_count": 5,
   "id": "69fc6f37",
   "metadata": {},
   "outputs": [],
   "source": [
    "import logging\n",
    "logging.basicConfig(filename='C:\\\\Users\\\\lalit\\\\logging\\\\test2.log',level=logging.INFO)\n",
    "logging.debug(\"to dubug\")\n",
    "logging.info(\"info regarding all\")\n",
    "logging.error(\"this is regarding error\")"
   ]
  },
  {
   "cell_type": "code",
   "execution_count": 2,
   "id": "2f50eee5",
   "metadata": {},
   "outputs": [],
   "source": [
    "#can use this to delete the original file otherwise will show duplicate user\n",
    "#logging.shutdown()"
   ]
  },
  {
   "cell_type": "code",
   "execution_count": 1,
   "id": "9e2e62a2",
   "metadata": {},
   "outputs": [
    {
     "data": {
      "text/plain": [
       "'C:\\\\Users\\\\lalit'"
      ]
     },
     "execution_count": 1,
     "metadata": {},
     "output_type": "execute_result"
    }
   ],
   "source": [
    "pwd()"
   ]
  },
  {
   "cell_type": "code",
   "execution_count": 2,
   "id": "36c56ee1",
   "metadata": {},
   "outputs": [
    {
     "name": "stdout",
     "output_type": "stream",
     "text": [
      "INFO:root:this is my addition function\n",
      "INFO:root:1\n",
      "INFO:root:2\n",
      "INFO:root:3\n",
      "INFO:root:4\n",
      "INFO:root:info regarding all\n",
      "ERROR:root:this is regarding error\n",
      "INFO:root:this is my addition function\n",
      "INFO:root:1\n",
      "INFO:root:2\n",
      "INFO:root:3\n",
      "INFO:root:4\n",
      "INFO:root:this is my addition function\n",
      "INFO:root:1\n",
      "INFO:root:2\n",
      "INFO:root:3\n",
      "INFO:root:4\n",
      "\n"
     ]
    }
   ],
   "source": [
    "import logging as lg\n",
    "lg.basicConfig(filename='C:\\\\Users\\\\lalit\\\\logging\\\\test1.log',level =lg.INFO)\n",
    "def addition(*args):\n",
    "    lg.info(\"this is my addition function\")\n",
    "    sum1=0\n",
    "    for i in args:\n",
    "        \n",
    "        \n",
    "        lg.info(str(i))\n",
    "        sum1=sum1+i\n",
    "    return sum1\n",
    "\n",
    "\n",
    "f=open(\"test1.log\",\"r\")\n",
    "print(f.read())"
   ]
  },
  {
   "cell_type": "code",
   "execution_count": 3,
   "id": "97d6373a",
   "metadata": {},
   "outputs": [
    {
     "data": {
      "text/plain": [
       "10"
      ]
     },
     "execution_count": 3,
     "metadata": {},
     "output_type": "execute_result"
    }
   ],
   "source": [
    "addition(1,2,3,4)"
   ]
  },
  {
   "cell_type": "code",
   "execution_count": 4,
   "id": "4382b62b",
   "metadata": {},
   "outputs": [],
   "source": [
    "lg.shutdown()"
   ]
  },
  {
   "cell_type": "code",
   "execution_count": 5,
   "id": "ec8a0a44",
   "metadata": {},
   "outputs": [
    {
     "data": {
      "text/plain": [
       "'C:\\\\Users\\\\lalit'"
      ]
     },
     "execution_count": 5,
     "metadata": {},
     "output_type": "execute_result"
    }
   ],
   "source": [
    "pwd()"
   ]
  },
  {
   "cell_type": "code",
   "execution_count": 6,
   "id": "2d1c2aed",
   "metadata": {},
   "outputs": [
    {
     "name": "stdout",
     "output_type": "stream",
     "text": [
      "2024-10-05 17:46:00,547 -inside sum function\n",
      "2024-10-05 17:46:00,547 -user inputs(1, 2, 3, 4, 5)\n",
      "2024-10-05 17:46:02,481 -inside sum function\n",
      "2024-10-05 17:46:02,481 -user inputs(1, 2, 3, 4, 5)\n",
      "2024-10-05 17:46:05,959 -inside sum function\n",
      "2024-10-05 17:46:05,959 -user inputs(1, 2, 3, 4, 5)\n",
      "2024-10-05 17:48:16,702 -inside sum function\n",
      "2024-10-05 17:48:16,702 -user inputs(1, 2, 3, 4, 5)\n",
      "2024-10-05 17:48:39,923 -inside sum function\n",
      "2024-10-05 17:48:39,923 -user inputs(1, 2, 3, 4, 5)\n",
      "2024-10-05 17:49:12,455 -inside sum function\n",
      "2024-10-05 17:49:12,455 -user inputs(1, 2, 3, 4, 5)\n",
      "\n"
     ]
    }
   ],
   "source": [
    "#by another way\n",
    "import logging\n",
    "import os\n",
    "logging.basicConfig(filename='C:\\\\Users\\\\lalit\\\\logging\\\\app.log',level = logging.INFO,format='%(asctime)s -%(message)s')\n",
    "\n",
    "\n",
    "def log_sum(*args):\n",
    "    logging.info('inside sum function')\n",
    "    logging.info('user inputs'+str(args))\n",
    "    return sum(args)\n",
    "\n",
    "log_sum(1,2,3,4,5)\n",
    "if(os.path.exists('logging\\\\app.log')):\n",
    "    \n",
    "\n",
    "    f=open(\"logging\\\\app.log\",\"r+\")\n",
    "    print(f.read())\n"
   ]
  },
  {
   "cell_type": "code",
   "execution_count": 7,
   "id": "bca76cb7",
   "metadata": {},
   "outputs": [],
   "source": [
    "logging.shutdown()"
   ]
  },
  {
   "cell_type": "code",
   "execution_count": 2,
   "id": "ed3a6a12",
   "metadata": {},
   "outputs": [
    {
     "name": "stdout",
     "output_type": "stream",
     "text": [
      "2 3 4 5\n"
     ]
    },
    {
     "data": {
      "text/plain": [
       "14"
      ]
     },
     "execution_count": 2,
     "metadata": {},
     "output_type": "execute_result"
    }
   ],
   "source": [
    "#another way\n",
    "import logging as lg\n",
    "lg.basicConfig(filename=\"logging\\\\tes3.log\",level = lg.INFO)\n",
    "\n",
    "def suming():\n",
    "    lg.info(\"this is sTARTING\")\n",
    "    s = list(map(int,input().split()))\n",
    "    lg.info('user has entered: '+ str(s))\n",
    "    return sum(s)\n",
    "suming()\n",
    "    "
   ]
  },
  {
   "cell_type": "code",
   "execution_count": 9,
   "id": "19bf828c",
   "metadata": {
    "scrolled": true
   },
   "outputs": [
    {
     "ename": "NameError",
     "evalue": "name 'lg' is not defined",
     "output_type": "error",
     "traceback": [
      "\u001b[1;31m---------------------------------------------------------------------------\u001b[0m",
      "\u001b[1;31mNameError\u001b[0m                                 Traceback (most recent call last)",
      "Input \u001b[1;32mIn [9]\u001b[0m, in \u001b[0;36m<cell line: 1>\u001b[1;34m()\u001b[0m\n\u001b[1;32m----> 1\u001b[0m \u001b[43mlg\u001b[49m\u001b[38;5;241m.\u001b[39mshutdown()\n",
      "\u001b[1;31mNameError\u001b[0m: name 'lg' is not defined"
     ]
    }
   ],
   "source": [
    "lg.shutdown()"
   ]
  },
  {
   "cell_type": "code",
   "execution_count": 1,
   "id": "aeb48b59",
   "metadata": {},
   "outputs": [],
   "source": [
    "\n",
    "import logging\n",
    "logging.basicConfig(filename='logging\\\\tes6.log',level =logging.DEBUG,format = '%(asctime)s %(levelname)s %(message)s')\n"
   ]
  },
  {
   "cell_type": "code",
   "execution_count": 2,
   "id": "21c203a3",
   "metadata": {},
   "outputs": [],
   "source": [
    "#for reading\n",
    "console_log= logging.StreamHandler()\n",
    "console_log.setLevel(logging.INFO)"
   ]
  },
  {
   "cell_type": "code",
   "execution_count": 5,
   "id": "14af597b",
   "metadata": {},
   "outputs": [],
   "source": [
    "#to chsnge foemat in console\n",
    "format= logging.Formatter('%(asctime)s %(levelname)s %(message)s')"
   ]
  },
  {
   "cell_type": "code",
   "execution_count": 6,
   "id": "a8102a5c",
   "metadata": {},
   "outputs": [],
   "source": [
    "console_log.setFormatter(format)"
   ]
  },
  {
   "cell_type": "code",
   "execution_count": 7,
   "id": "3cc27a18",
   "metadata": {},
   "outputs": [],
   "source": [
    "logging.getLogger().addHandler(console_log)\n"
   ]
  },
  {
   "cell_type": "code",
   "execution_count": 8,
   "id": "14f37f80",
   "metadata": {},
   "outputs": [
    {
     "name": "stderr",
     "output_type": "stream",
     "text": [
      "2024-10-06 15:42:49,932 INFO this is my first clss\n"
     ]
    }
   ],
   "source": [
    "logging.info(\"this is my first clss\")"
   ]
  },
  {
   "cell_type": "code",
   "execution_count": 9,
   "id": "26fb63ba",
   "metadata": {},
   "outputs": [],
   "source": [
    "#logger1 in info area1 me jayegi aur logger2 ki alg., basically to separte users\n",
    "logger1= logging.getLogger('logger1.area1')\n",
    "logger2 = logging.getLogger('logger2.area2')"
   ]
  },
  {
   "cell_type": "code",
   "execution_count": 10,
   "id": "e381909d",
   "metadata": {},
   "outputs": [
    {
     "name": "stderr",
     "output_type": "stream",
     "text": [
      "2024-10-06 15:43:24,252 INFO this for log1\n",
      "2024-10-06 15:43:24,253 INFO this is for log2\n"
     ]
    }
   ],
   "source": [
    "logger1.info(\"this for log1\")\n",
    "logger2.info(\"this is for log2\")\n",
    "logger2.debug(\"this is debug for log2\")"
   ]
  },
  {
   "cell_type": "code",
   "execution_count": 12,
   "id": "84570307",
   "metadata": {},
   "outputs": [
    {
     "name": "stderr",
     "output_type": "stream",
     "text": [
      "2024-10-06 15:43:52,085 INFO This is my first class\n",
      "2024-10-06 15:43:52,085 INFO This is my first class\n",
      "2024-10-06 15:43:52,085 INFO This is my first class\n"
     ]
    }
   ],
   "source": [
    "#cOMPLILED COORECTED\n",
    "import logging\n",
    "\n",
    "# Configuring logging to log to a file\n",
    "logging.basicConfig(filename='logging\\\\tes6.log', level=logging.DEBUG, format='%(asctime)s %(levelname)s %(message)s')\n",
    "\n",
    "# Creating a StreamHandler for logging to the console\n",
    "console_log = logging.StreamHandler()\n",
    "console_log.setLevel(logging.INFO)\n",
    "\n",
    "# Setting the format for the console log handler\n",
    "formatter = logging.Formatter('%(asctime)s %(levelname)s %(message)s')\n",
    "console_log.setFormatter(formatter)\n",
    "\n",
    "# Adding the console handler to the root logger\n",
    "logging.getLogger().addHandler(console_log)\n",
    "\n",
    "# Example log message\n",
    "logging.info(\"This is my first class\")\n"
   ]
  },
  {
   "cell_type": "code",
   "execution_count": 15,
   "id": "1e641e74",
   "metadata": {},
   "outputs": [],
   "source": [
    "def  testdebug():\n",
    "    l=[]\n",
    "    for i in range(10):\n",
    "        l.append(i)\n",
    "        print(\"we haev appended the data\")\n",
    "    return l"
   ]
  },
  {
   "cell_type": "code",
   "execution_count": 18,
   "id": "c2598965",
   "metadata": {},
   "outputs": [
    {
     "name": "stdout",
     "output_type": "stream",
     "text": [
      "we haev appended the data\n",
      "we haev appended the data\n",
      "we haev appended the data\n",
      "we haev appended the data\n",
      "we haev appended the data\n",
      "we haev appended the data\n",
      "we haev appended the data\n",
      "we haev appended the data\n",
      "we haev appended the data\n",
      "we haev appended the data\n"
     ]
    },
    {
     "data": {
      "text/plain": [
       "[0, 1, 2, 3, 4, 5, 6, 7, 8, 9]"
      ]
     },
     "execution_count": 18,
     "metadata": {},
     "output_type": "execute_result"
    }
   ],
   "source": [
    "testdebug()"
   ]
  },
  {
   "cell_type": "code",
   "execution_count": 20,
   "id": "190073b2",
   "metadata": {},
   "outputs": [
    {
     "name": "stdout",
     "output_type": "stream",
     "text": [
      "Collecting ipdb\n",
      "  Downloading ipdb-0.13.13-py3-none-any.whl (12 kB)\n",
      "Requirement already satisfied: ipython>=7.31.1 in c:\\users\\lalit\\anacondaa\\lib\\site-packages (from ipdb) (8.2.0)\n",
      "Requirement already satisfied: tomli in c:\\users\\lalit\\anacondaa\\lib\\site-packages (from ipdb) (1.2.2)\n",
      "Requirement already satisfied: decorator in c:\\users\\lalit\\anacondaa\\lib\\site-packages (from ipdb) (5.1.1)\n",
      "Requirement already satisfied: colorama in c:\\users\\lalit\\anacondaa\\lib\\site-packages (from ipython>=7.31.1->ipdb) (0.4.4)\n",
      "Requirement already satisfied: pickleshare in c:\\users\\lalit\\anacondaa\\lib\\site-packages (from ipython>=7.31.1->ipdb) (0.7.5)\n",
      "Requirement already satisfied: pygments>=2.4.0 in c:\\users\\lalit\\anacondaa\\lib\\site-packages (from ipython>=7.31.1->ipdb) (2.11.2)\n",
      "Requirement already satisfied: setuptools>=18.5 in c:\\users\\lalit\\anacondaa\\lib\\site-packages (from ipython>=7.31.1->ipdb) (61.2.0)\n",
      "Requirement already satisfied: stack-data in c:\\users\\lalit\\anacondaa\\lib\\site-packages (from ipython>=7.31.1->ipdb) (0.2.0)\n",
      "Requirement already satisfied: jedi>=0.16 in c:\\users\\lalit\\anacondaa\\lib\\site-packages (from ipython>=7.31.1->ipdb) (0.18.1)\n",
      "Requirement already satisfied: matplotlib-inline in c:\\users\\lalit\\anacondaa\\lib\\site-packages (from ipython>=7.31.1->ipdb) (0.1.2)\n",
      "Requirement already satisfied: traitlets>=5 in c:\\users\\lalit\\anacondaa\\lib\\site-packages (from ipython>=7.31.1->ipdb) (5.1.1)\n",
      "Requirement already satisfied: prompt-toolkit!=3.0.0,!=3.0.1,<3.1.0,>=2.0.0 in c:\\users\\lalit\\anacondaa\\lib\\site-packages (from ipython>=7.31.1->ipdb) (3.0.20)\n",
      "Requirement already satisfied: backcall in c:\\users\\lalit\\anacondaa\\lib\\site-packages (from ipython>=7.31.1->ipdb) (0.2.0)\n",
      "Requirement already satisfied: parso<0.9.0,>=0.8.0 in c:\\users\\lalit\\anacondaa\\lib\\site-packages (from jedi>=0.16->ipython>=7.31.1->ipdb) (0.8.3)\n",
      "Requirement already satisfied: wcwidth in c:\\users\\lalit\\anacondaa\\lib\\site-packages (from prompt-toolkit!=3.0.0,!=3.0.1,<3.1.0,>=2.0.0->ipython>=7.31.1->ipdb) (0.2.5)\n",
      "Requirement already satisfied: asttokens in c:\\users\\lalit\\anacondaa\\lib\\site-packages (from stack-data->ipython>=7.31.1->ipdb) (2.0.5)\n",
      "Requirement already satisfied: pure-eval in c:\\users\\lalit\\anacondaa\\lib\\site-packages (from stack-data->ipython>=7.31.1->ipdb) (0.2.2)\n",
      "Requirement already satisfied: executing in c:\\users\\lalit\\anacondaa\\lib\\site-packages (from stack-data->ipython>=7.31.1->ipdb) (0.8.3)\n",
      "Requirement already satisfied: six in c:\\users\\lalit\\anacondaa\\lib\\site-packages (from asttokens->stack-data->ipython>=7.31.1->ipdb) (1.16.0)\n",
      "Installing collected packages: ipdb\n",
      "Successfully installed ipdb-0.13.13\n"
     ]
    }
   ],
   "source": [
    "#conda otr pip\n",
    "!pip install ipdb"
   ]
  },
  {
   "cell_type": "code",
   "execution_count": 21,
   "id": "0b9d3302",
   "metadata": {},
   "outputs": [],
   "source": [
    "#!pip install --user ipdb for some winbdows machine showing error"
   ]
  },
  {
   "cell_type": "code",
   "execution_count": 22,
   "id": "8661e381",
   "metadata": {},
   "outputs": [],
   "source": [
    "import ipdb"
   ]
  },
  {
   "cell_type": "code",
   "execution_count": 23,
   "id": "3df1155c",
   "metadata": {},
   "outputs": [],
   "source": [
    "def  testdebug():\n",
    "    ipdb.set_trace()\n",
    "    l=[]\n",
    "    \n",
    "    for i in range(10):\n",
    "        l.append(i)\n",
    "        print(\"we haev appended the data\")\n",
    "    return l"
   ]
  },
  {
   "cell_type": "code",
   "execution_count": null,
   "id": "6bf523bc",
   "metadata": {},
   "outputs": [
    {
     "name": "stdout",
     "output_type": "stream",
     "text": [
      "> \u001b[1;32mc:\\users\\lalit\\appdata\\local\\temp\\ipykernel_14328\\3790228311.py\u001b[0m(3)\u001b[0;36mtestdebug\u001b[1;34m()\u001b[0m\n",
      "\n",
      "ipdb> h\n",
      "\n",
      "Documented commands (type help <topic>):\n",
      "========================================\n",
      "EOF    commands   enable    ll        pp       s                until \n",
      "a      condition  exit      longlist  psource  skip_hidden      up    \n",
      "alias  cont       h         n         q        skip_predicates  w     \n",
      "args   context    help      next      quit     source           whatis\n",
      "b      continue   ignore    p         r        step             where \n",
      "break  d          interact  pdef      restart  tbreak         \n",
      "bt     debug      j         pdoc      return   u              \n",
      "c      disable    jump      pfile     retval   unalias        \n",
      "cl     display    l         pinfo     run      undisplay      \n",
      "clear  down       list      pinfo2    rv       unt            \n",
      "\n",
      "Miscellaneous help topics:\n",
      "==========================\n",
      "exec  pdb\n",
      "\n",
      "ipdb> n\n",
      "> \u001b[1;32mc:\\users\\lalit\\appdata\\local\\temp\\ipykernel_14328\\3790228311.py\u001b[0m(5)\u001b[0;36mtestdebug\u001b[1;34m()\u001b[0m\n",
      "\n",
      "ipdb> n\n",
      "> \u001b[1;32mc:\\users\\lalit\\appdata\\local\\temp\\ipykernel_14328\\3790228311.py\u001b[0m(6)\u001b[0;36mtestdebug\u001b[1;34m()\u001b[0m\n",
      "\n",
      "ipdb> n\n",
      "> \u001b[1;32mc:\\users\\lalit\\appdata\\local\\temp\\ipykernel_14328\\3790228311.py\u001b[0m(7)\u001b[0;36mtestdebug\u001b[1;34m()\u001b[0m\n",
      "\n",
      "ipdb> n\n",
      "we haev appended the data\n",
      "> \u001b[1;32mc:\\users\\lalit\\appdata\\local\\temp\\ipykernel_14328\\3790228311.py\u001b[0m(5)\u001b[0;36mtestdebug\u001b[1;34m()\u001b[0m\n",
      "\n",
      "ipdb> nn\n",
      "*** NameError: name 'nn' is not defined\n",
      "ipdb> n\n",
      "> \u001b[1;32mc:\\users\\lalit\\appdata\\local\\temp\\ipykernel_14328\\3790228311.py\u001b[0m(6)\u001b[0;36mtestdebug\u001b[1;34m()\u001b[0m\n",
      "\n",
      "ipdb> n\n",
      "> \u001b[1;32mc:\\users\\lalit\\appdata\\local\\temp\\ipykernel_14328\\3790228311.py\u001b[0m(7)\u001b[0;36mtestdebug\u001b[1;34m()\u001b[0m\n",
      "\n",
      "ipdb> n\n",
      "we haev appended the data\n",
      "> \u001b[1;32mc:\\users\\lalit\\appdata\\local\\temp\\ipykernel_14328\\3790228311.py\u001b[0m(5)\u001b[0;36mtestdebug\u001b[1;34m()\u001b[0m\n",
      "\n",
      "ipdb> n\n",
      "> \u001b[1;32mc:\\users\\lalit\\appdata\\local\\temp\\ipykernel_14328\\3790228311.py\u001b[0m(6)\u001b[0;36mtestdebug\u001b[1;34m()\u001b[0m\n",
      "\n",
      "ipdb> n\n",
      "> \u001b[1;32mc:\\users\\lalit\\appdata\\local\\temp\\ipykernel_14328\\3790228311.py\u001b[0m(7)\u001b[0;36mtestdebug\u001b[1;34m()\u001b[0m\n",
      "\n",
      "ipdb> n\n",
      "we haev appended the data\n",
      "> \u001b[1;32mc:\\users\\lalit\\appdata\\local\\temp\\ipykernel_14328\\3790228311.py\u001b[0m(5)\u001b[0;36mtestdebug\u001b[1;34m()\u001b[0m\n",
      "\n",
      "ipdb> n\n",
      "> \u001b[1;32mc:\\users\\lalit\\appdata\\local\\temp\\ipykernel_14328\\3790228311.py\u001b[0m(6)\u001b[0;36mtestdebug\u001b[1;34m()\u001b[0m\n",
      "\n",
      "ipdb> n\n",
      "> \u001b[1;32mc:\\users\\lalit\\appdata\\local\\temp\\ipykernel_14328\\3790228311.py\u001b[0m(7)\u001b[0;36mtestdebug\u001b[1;34m()\u001b[0m\n",
      "\n",
      "ipdb> n\n",
      "we haev appended the data\n",
      "> \u001b[1;32mc:\\users\\lalit\\appdata\\local\\temp\\ipykernel_14328\\3790228311.py\u001b[0m(5)\u001b[0;36mtestdebug\u001b[1;34m()\u001b[0m\n",
      "\n",
      "ipdb> n\n",
      "> \u001b[1;32mc:\\users\\lalit\\appdata\\local\\temp\\ipykernel_14328\\3790228311.py\u001b[0m(6)\u001b[0;36mtestdebug\u001b[1;34m()\u001b[0m\n",
      "\n",
      "ipdb> n\n",
      "> \u001b[1;32mc:\\users\\lalit\\appdata\\local\\temp\\ipykernel_14328\\3790228311.py\u001b[0m(7)\u001b[0;36mtestdebug\u001b[1;34m()\u001b[0m\n",
      "\n",
      "ipdb> n\n",
      "we haev appended the data\n",
      "> \u001b[1;32mc:\\users\\lalit\\appdata\\local\\temp\\ipykernel_14328\\3790228311.py\u001b[0m(5)\u001b[0;36mtestdebug\u001b[1;34m()\u001b[0m\n",
      "\n",
      "ipdb> n\n",
      "> \u001b[1;32mc:\\users\\lalit\\appdata\\local\\temp\\ipykernel_14328\\3790228311.py\u001b[0m(6)\u001b[0;36mtestdebug\u001b[1;34m()\u001b[0m\n",
      "\n",
      "ipdb> nn\n",
      "*** NameError: name 'nn' is not defined\n",
      "ipdb> n\n",
      "> \u001b[1;32mc:\\users\\lalit\\appdata\\local\\temp\\ipykernel_14328\\3790228311.py\u001b[0m(7)\u001b[0;36mtestdebug\u001b[1;34m()\u001b[0m\n",
      "\n",
      "ipdb> n\n",
      "we haev appended the data\n",
      "> \u001b[1;32mc:\\users\\lalit\\appdata\\local\\temp\\ipykernel_14328\\3790228311.py\u001b[0m(5)\u001b[0;36mtestdebug\u001b[1;34m()\u001b[0m\n",
      "\n",
      "ipdb> n\n",
      "> \u001b[1;32mc:\\users\\lalit\\appdata\\local\\temp\\ipykernel_14328\\3790228311.py\u001b[0m(6)\u001b[0;36mtestdebug\u001b[1;34m()\u001b[0m\n",
      "\n",
      "ipdb> nn\n",
      "*** NameError: name 'nn' is not defined\n",
      "ipdb> n\n",
      "> \u001b[1;32mc:\\users\\lalit\\appdata\\local\\temp\\ipykernel_14328\\3790228311.py\u001b[0m(7)\u001b[0;36mtestdebug\u001b[1;34m()\u001b[0m\n",
      "\n",
      "ipdb> n\n",
      "we haev appended the data\n",
      "> \u001b[1;32mc:\\users\\lalit\\appdata\\local\\temp\\ipykernel_14328\\3790228311.py\u001b[0m(5)\u001b[0;36mtestdebug\u001b[1;34m()\u001b[0m\n",
      "\n"
     ]
    }
   ],
   "source": [
    "testdebug()"
   ]
  },
  {
   "cell_type": "code",
   "execution_count": null,
   "id": "c2cc6467",
   "metadata": {},
   "outputs": [],
   "source": []
  }
 ],
 "metadata": {
  "kernelspec": {
   "display_name": "Python 3 (ipykernel)",
   "language": "python",
   "name": "python3"
  },
  "language_info": {
   "codemirror_mode": {
    "name": "ipython",
    "version": 3
   },
   "file_extension": ".py",
   "mimetype": "text/x-python",
   "name": "python",
   "nbconvert_exporter": "python",
   "pygments_lexer": "ipython3",
   "version": "3.9.12"
  }
 },
 "nbformat": 4,
 "nbformat_minor": 5
}
