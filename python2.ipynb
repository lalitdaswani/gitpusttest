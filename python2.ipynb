
{
 "cells": [
  {
   "cell_type": "code",
   "execution_count": 7,
   "id": "65ee7706",
   "metadata": {},
   "outputs": [
    {
     "name": "stdout",
     "output_type": "stream",
     "text": [
      "amounnt t1 20\n",
      "ok\n"
     ]
    }
   ],
   "source": [
    "a= int(input(\"amounnt t1 \"))\n",
    "       \n",
    "if a==20 :\n",
    "    \n",
    "       \n",
    "    print(\"ok\")\n",
    "     "
   ]
  },
  {
   "cell_type": "code",
   "execution_count": 8,
   "id": "3f481f67",
   "metadata": {},
   "outputs": [
    {
     "data": {
      "text/plain": [
       "True"
      ]
     },
     "execution_count": 8,
     "metadata": {},
     "output_type": "execute_result"
    }
   ],
   "source": [
    "a==20"
   ]
  },
  {
   "cell_type": "code",
   "execution_count": 13,
   "id": "a3db602f",
   "metadata": {},
   "outputs": [
    {
     "name": "stdout",
     "output_type": "stream",
     "text": [
      "ok\n",
      "fine\n"
     ]
    }
   ],
   "source": [
    "#both conditions passed\n",
    "a=10\n",
    "if a>2:\n",
    "    print(\"ok\")\n",
    "    if a>5 :\n",
    "        print(\"fine\")"
   ]
  },
  {
   "cell_type": "code",
   "execution_count": 18,
   "id": "f36a5ea1",
   "metadata": {},
   "outputs": [
    {
     "name": "stdout",
     "output_type": "stream",
     "text": [
      "GOOD\n"
     ]
    }
   ],
   "source": [
    "#identation change 1\n",
    "a=10\n",
    "if a>10 :\n",
    "    print(\"FINE\")\n",
    "if a >5 :\n",
    "    print(\"GOOD\")"
   ]
  },
  {
   "cell_type": "code",
   "execution_count": null,
   "id": "f966365c",
   "metadata": {},
   "outputs": [],
   "source": [
    "#identation change 2\n",
    "a=10\n",
    "if a>10 :\n",
    "    print(\"FINE\")\n",
    "    if a >5 :\n",
    "        print(\"GOOD\")"
   ]
  },
  {
   "cell_type": "code",
   "execution_count": null,
   "id": "fd1fa2a5",
   "metadata": {},
   "outputs": [],
   "source": [
    "a = int(input())\n",
    "count = 1\n",
    "while a < 100:\n",
    "    print(\"oooo\")\n",
    "    count = count + 1\n",
    "    if count == 5:\n",
    "        break\n",
    "   \n",
    "        "
   ]
  },
  {
   "cell_type": "code",
   "execution_count": null,
   "id": "6cd7ef44",
   "metadata": {},
   "outputs": [],
   "source": [
    "\n",
    "count = 1\n",
    "a = int(input())  # Takes an integer input from the user\n",
    "while a < 100:\n",
    "    print(\"oooo\")\n",
    "    count = count + 1\n",
    "    if count == 5:\n",
    "        print(\"my fifth\")\n",
    "   "
   ]
  },
  {
   "cell_type": "code",
   "execution_count": 3,
   "id": "3cd92950",
   "metadata": {},
   "outputs": [
    {
     "name": "stdout",
     "output_type": "stream",
     "text": [
      "1\n",
      "2\n",
      "3\n",
      "4\n",
      "no\n"
     ]
    }
   ],
   "source": [
    "notes= 5\n",
    "i=1\n",
    "while i < notes :\n",
    "    print(i)\n",
    "    i+=1\n",
    "    \n",
    "else:\n",
    "    print(\"no\")\n"
   ]
  },
  {
   "cell_type": "code",
   "execution_count": 2,
   "id": "1688d12c",
   "metadata": {},
   "outputs": [
    {
     "name": "stdout",
     "output_type": "stream",
     "text": [
      "1\n",
      "2\n",
      "3\n",
      "4\n",
      "no\n"
     ]
    }
   ],
   "source": [
    "notes = 5\n",
    "i = 1\n",
    "while i < notes:\n",
    "    print(i)\n",
    "    i += 1\n",
    "else:\n",
    "    print(\"no\")"
   ]
  },
  {
   "cell_type": "code",
   "execution_count": 5,
   "id": "7d9bab81",
   "metadata": {},
   "outputs": [
    {
     "name": "stdout",
     "output_type": "stream",
     "text": [
      "1\n",
      "2\n",
      "3\n",
      "4\n",
      "5\n",
      "no10rs available\n"
     ]
    }
   ],
   "source": [
    "notes =5\n",
    "i= 1\n",
    "j=1\n",
    "while i < notes :\n",
    "        print(i)\n",
    "        i = i+1\n",
    "        \n",
    "else :\n",
    "    \n",
    "    while j < 2 :\n",
    "        print(i)\n",
    "        j=j+1\n",
    "        print(\"no10rs available\")\n",
    "    \n",
    "    \n",
    "        \n",
    "    "
   ]
  },
  {
   "cell_type": "code",
   "execution_count": 6,
   "id": "9c6f42ca",
   "metadata": {},
   "outputs": [],
   "source": [
    "s=\"sudh\""
   ]
  },
  {
   "cell_type": "code",
   "execution_count": 7,
   "id": "45f1915f",
   "metadata": {},
   "outputs": [
    {
     "data": {
      "text/plain": [
       "'s'"
      ]
     },
     "execution_count": 7,
     "metadata": {},
     "output_type": "execute_result"
    }
   ],
   "source": [
    "s[0]"
   ]
  },
  {
   "cell_type": "code",
   "execution_count": 8,
   "id": "8c999770",
   "metadata": {},
   "outputs": [
    {
     "data": {
      "text/plain": [
       "'h'"
      ]
     },
     "execution_count": 8,
     "metadata": {},
     "output_type": "execute_result"
    }
   ],
   "source": [
    "s[3]"
   ]
  },
  {
   "cell_type": "code",
   "execution_count": 2,
   "id": "ff575994",
   "metadata": {},
   "outputs": [],
   "source": [
    "s=\"my name is akshay\""
   ]
  },
  {
   "cell_type": "code",
   "execution_count": 3,
   "id": "182e63e1",
   "metadata": {},
   "outputs": [
    {
     "data": {
      "text/plain": [
       "'name is'"
      ]
     },
     "execution_count": 3,
     "metadata": {},
     "output_type": "execute_result"
    }
   ],
   "source": [
    "s[3:10]"
   ]
  },
  {
   "cell_type": "code",
   "execution_count": 4,
   "id": "529eefd5",
   "metadata": {},
   "outputs": [
    {
     "data": {
      "text/plain": [
       "'nm s'"
      ]
     },
     "execution_count": 4,
     "metadata": {},
     "output_type": "execute_result"
    }
   ],
   "source": [
    "s[3:10:2]"
   ]
  },
  {
   "cell_type": "code",
   "execution_count": 5,
   "id": "479712da",
   "metadata": {},
   "outputs": [
    {
     "data": {
      "text/plain": [
       "'an '"
      ]
     },
     "execution_count": 5,
     "metadata": {},
     "output_type": "execute_result"
    }
   ],
   "source": [
    "s[4:1:-1]"
   ]
  },
  {
   "cell_type": "code",
   "execution_count": 6,
   "id": "9900c204",
   "metadata": {},
   "outputs": [
    {
     "ename": "NameError",
     "evalue": "name 'S' is not defined",
     "output_type": "error",
     "traceback": [
      "\u001b[1;31m---------------------------------------------------------------------------\u001b[0m",
      "\u001b[1;31mNameError\u001b[0m                                 Traceback (most recent call last)",
      "Input \u001b[1;32mIn [6]\u001b[0m, in \u001b[0;36m<cell line: 1>\u001b[1;34m()\u001b[0m\n\u001b[1;32m----> 1\u001b[0m \u001b[43mS\u001b[49m[::\u001b[38;5;241m-\u001b[39m\u001b[38;5;241m1\u001b[39m]\n",
      "\u001b[1;31mNameError\u001b[0m: name 'S' is not defined"
     ]
    }
   ],
   "source": [
    "S[::-1]"
   ]
  },
  {
   "cell_type": "code",
   "execution_count": 7,
   "id": "aabb34fa",
   "metadata": {},
   "outputs": [
    {
     "data": {
      "text/plain": [
       "'yahska si eman ym'"
      ]
     },
     "execution_count": 7,
     "metadata": {},
     "output_type": "execute_result"
    }
   ],
   "source": [
    "s[::-1]"
   ]
  },
  {
   "cell_type": "code",
   "execution_count": 13,
   "id": "3f4efdde",
   "metadata": {},
   "outputs": [
    {
     "data": {
      "text/plain": [
       "'e is a'"
      ]
     },
     "execution_count": 13,
     "metadata": {},
     "output_type": "execute_result"
    }
   ],
   "source": [
    "s[6:-5]"
   ]
  },
  {
   "cell_type": "code",
   "execution_count": 9,
   "id": "de65864b",
   "metadata": {},
   "outputs": [
    {
     "data": {
      "text/plain": [
       "'name is aksh'"
      ]
     },
     "execution_count": 9,
     "metadata": {},
     "output_type": "execute_result"
    }
   ],
   "source": [
    "s[3:-2]"
   ]
  },
  {
   "cell_type": "code",
   "execution_count": 22,
   "id": "d27dfdd0",
   "metadata": {},
   "outputs": [
    {
     "data": {
      "text/plain": [
       "'y'"
      ]
     },
     "execution_count": 22,
     "metadata": {},
     "output_type": "execute_result"
    }
   ],
   "source": [
    "s[3:-1]"
   ]
  },
  {
   "cell_type": "code",
   "execution_count": 16,
   "id": "36ae6334",
   "metadata": {},
   "outputs": [
    {
     "name": "stdout",
     "output_type": "stream",
     "text": [
      "m\n",
      "y\n",
      " \n",
      "n\n",
      "a\n",
      "m\n",
      "e\n",
      " \n",
      "i\n",
      "s\n",
      " \n",
      "a\n",
      "k\n",
      "s\n",
      "h\n",
      "a\n",
      "y\n"
     ]
    }
   ],
   "source": [
    " for j in s:\n",
    "        print(j)"
   ]
  },
  {
   "cell_type": "code",
   "execution_count": 19,
   "id": "1471158e",
   "metadata": {},
   "outputs": [
    {
     "name": "stdout",
     "output_type": "stream",
     "text": [
      "m\n",
      "y\n",
      " \n",
      "n\n",
      "a\n",
      "m\n",
      "e\n",
      " \n",
      "i\n",
      "got s\n",
      "s\n",
      " \n",
      "a\n",
      "k\n",
      "got s\n",
      "s\n",
      "h\n",
      "a\n",
      "y\n"
     ]
    }
   ],
   "source": [
    "for i in s:\n",
    "    \n",
    "    if i==\"s\":\n",
    "        print(\"got s\")\n",
    "    print(i)        \n",
    "        "
   ]
  },
  {
   "cell_type": "code",
   "execution_count": 27,
   "id": "706a8a2f",
   "metadata": {},
   "outputs": [
    {
     "name": "stdout",
     "output_type": "stream",
     "text": [
      "m\n",
      "y\n",
      " \n",
      "n\n",
      "a\n",
      "m\n",
      "e\n",
      " \n",
      "i\n",
      "s\n",
      " \n",
      "a\n",
      "k\n",
      "s\n",
      "h\n",
      "a\n",
      "y\n",
      "ok\n",
      "game over\n"
     ]
    }
   ],
   "source": [
    "for i  in s :\n",
    "    print (i)\n",
    "#else works when for loop exaust\n",
    "else :\n",
    "    if i==\"y\" :\n",
    "        print(\"ok\")\n",
    "    print(\"game over\")"
   ]
  },
  {
   "cell_type": "code",
   "execution_count": 29,
   "id": "cd370102",
   "metadata": {},
   "outputs": [
    {
     "name": "stdout",
     "output_type": "stream",
     "text": [
      "m\n",
      "y\n",
      " \n",
      "n\n",
      "a\n",
      "m\n",
      "e\n",
      " \n",
      "i\n"
     ]
    }
   ],
   "source": [
    "for i  in s :\n",
    "    if i== \"s\":\n",
    "        break\n",
    "    print (i)\n",
    "#else works when for loop exaust\n",
    "else :\n",
    "    if i==\"y\" :\n",
    "        print(\"ok\") # it works for last character onl;y\n",
    "    print(\"game over\")"
   ]
  },
  {
   "cell_type": "code",
   "execution_count": 14,
   "id": "1d84f1c2",
   "metadata": {},
   "outputs": [],
   "source": [
    "s = \"lalyt\""
   ]
  },
  {
   "cell_type": "code",
   "execution_count": 17,
   "id": "fa916377",
   "metadata": {},
   "outputs": [
    {
     "name": "stdout",
     "output_type": "stream",
     "text": [
      "game over\n"
     ]
    }
   ],
   "source": [
    "for i  in s :\n",
    "    \n",
    "    if i== \"s\":\n",
    "    \n",
    "        break\n",
    "        print (i)# this will work only when above relatred condition will pass\n",
    "#else works when for loop exaust\n",
    "else :\n",
    "    \n",
    "    if i==\"y\" :\n",
    "        \n",
    "        print(\"ok\") # it works for last character onl;y\n",
    "        \n",
    "    print(\"game over\")"
   ]
  },
  {
   "cell_type": "code",
   "execution_count": 21,
   "id": "5fac2eda",
   "metadata": {},
   "outputs": [
    {
     "name": "stdout",
     "output_type": "stream",
     "text": [
      "l\n",
      "a\n",
      "l\n",
      "y\n",
      "t\n",
      "ok\n",
      "game over\n"
     ]
    }
   ],
   "source": [
    "for i  in s :\n",
    "    \n",
    "    if i== \"s\":\n",
    "    \n",
    "        break\n",
    "    print (i)# this will work only when above relatred condition will pass\n",
    "#else works when for loop exaust\n",
    "else :\n",
    "    \n",
    "    if i==\"t\" :\n",
    "        \n",
    "        print(\"ok\") # it works for last character onl;y\n",
    "        \n",
    "    print(\"game over\")"
   ]
  },
  {
   "cell_type": "code",
   "execution_count": 27,
   "id": "e833c051",
   "metadata": {},
   "outputs": [],
   "source": [
    "s= \"ineuron\"\n",
    "ss= \"\"\n",
    "for i in range(len(s)):\n",
    "    if s[i]==\"n\" :\n",
    "        continue\n",
    "    else:\n",
    "        ss= ss+s[i]\n",
    "     \n",
    "    "
   ]
  },
  {
   "cell_type": "code",
   "execution_count": 28,
   "id": "437e9686",
   "metadata": {},
   "outputs": [
    {
     "data": {
      "text/plain": [
       "'ieuro'"
      ]
     },
     "execution_count": 28,
     "metadata": {},
     "output_type": "execute_result"
    }
   ],
   "source": [
    "ss"
   ]
  },
  {
   "cell_type": "code",
   "execution_count": 29,
   "id": "9c4e530b",
   "metadata": {},
   "outputs": [],
   "source": [
    "s= \"ineuron\"\n",
    "ss= \"\"\n",
    "for i in range(len(s)):\n",
    "    if s[i]==\"n\" :\n",
    "        break\n",
    "    else:\n",
    "        ss= ss+s[i]"
   ]
  },
  {
   "cell_type": "code",
   "execution_count": 30,
   "id": "0248078d",
   "metadata": {},
   "outputs": [
    {
     "data": {
      "text/plain": [
       "'i'"
      ]
     },
     "execution_count": 30,
     "metadata": {},
     "output_type": "execute_result"
    }
   ],
   "source": [
    "ss"
   ]
  },
  {
   "cell_type": "code",
   "execution_count": 45,
   "id": "098230b0",
   "metadata": {},
   "outputs": [
    {
     "name": "stdout",
     "output_type": "stream",
     "text": [
      "+ \n",
      "+ + \n",
      "+ + + \n",
      "+ + + + \n",
      "+ + + + + \n",
      "+ + + + + + \n",
      "+ + + + + + + \n"
     ]
    }
   ],
   "source": [
    "n = 7\n",
    "for i in range(0,n) :\n",
    "    for j in range(0,i+1) :\n",
    "        print(\"+ \",end=\"\")\n",
    "    print()"
   ]
  },
  {
   "cell_type": "code",
   "execution_count": 42,
   "id": "98831003",
   "metadata": {},
   "outputs": [
    {
     "data": {
      "text/plain": [
       "range(0, 9)"
      ]
     },
     "execution_count": 42,
     "metadata": {},
     "output_type": "execute_result"
    }
   ],
   "source": [
    "range(0,9)"
   ]
  },
  {
   "cell_type": "code",
   "execution_count": 46,
   "id": "7c4ca978",
   "metadata": {},
   "outputs": [
    {
     "name": "stdout",
     "output_type": "stream",
     "text": [
      "+ \n",
      "\n",
      "+ + \n",
      "\n",
      "+ + + \n",
      "\n",
      "+ + + + \n",
      "\n",
      "+ + + + + \n",
      "\n",
      "+ + + + + + \n",
      "\n",
      "+ + + + + + + \n",
      "\n"
     ]
    }
   ],
   "source": [
    "n = 7\n",
    "for i in range(0,n) :\n",
    "    for j in range(0,i+1) :\n",
    "        print(\"+ \",end=\"\")\n",
    "    print(\"\\n\")"
   ]
  },
  {
   "cell_type": "code",
   "execution_count": 52,
   "id": "8853d1e4",
   "metadata": {},
   "outputs": [
    {
     "name": "stdout",
     "output_type": "stream",
     "text": [
      "+ \r\n",
      "+ + \r\n",
      "+ + + \r\n",
      "+ + + + \r\n",
      "+ + + + + \r\n",
      "+ + + + + + \r\n",
      "+ + + + + + + \r\n"
     ]
    }
   ],
   "source": [
    "n = 7\n",
    "for i in range(0,n) :\n",
    "    for j in range(0,i+1) :\n",
    "        print(\"+ \",end=\"\")\n",
    "    print(\"\\r\") #not better way7"
   ]
  },
  {
   "cell_type": "code",
   "execution_count": 51,
   "id": "4491abe6",
   "metadata": {},
   "outputs": [
    {
     "name": "stdout",
     "output_type": "stream",
     "text": [
      "enter the no.7\n",
      "*************\n",
      " ***********\n",
      "  *********\n",
      "   *******\n",
      "    *****\n",
      "     ***\n",
      "      *\n"
     ]
    }
   ],
   "source": [
    "n= int(input(\"enter the no.\"))\n",
    "\n",
    "for i in range(n,0,-1):\n",
    "    for j in range(n-i):\n",
    "        print(\" \",end=\"\")\n",
    "    \n",
    "    for j in range(2*i-1):\n",
    "        print(\"*\",end=\"\")\n",
    "    print()\n",
    "    "
   ]
  },
  {
   "cell_type": "code",
   "execution_count": 30,
   "id": "aa53870e",
   "metadata": {},
   "outputs": [
    {
     "name": "stdout",
     "output_type": "stream",
     "text": [
      "     * * * * * * \n",
      "      * * * * * \n",
      "       * * * * \n",
      "        * * * \n",
      "         * * \n",
      "          * \n"
     ]
    }
   ],
   "source": [
    "n=5\n",
    "m=2+n-2\n",
    "for i in range (n,-1,-1):\n",
    "    for j in range(m,0,-1):\n",
    "        print(end= \" \")\n",
    "    m = m+1\n",
    "    for j in range(0,i+1):\n",
    "        print(\"*\",end = \" \")\n",
    "    print()"
   ]
  },
  {
   "cell_type": "code",
   "execution_count": 3,
   "id": "9c2db812",
   "metadata": {},
   "outputs": [
    {
     "name": "stdout",
     "output_type": "stream",
     "text": [
      "0 1 2 "
     ]
    }
   ],
   "source": [
    "for i   in range(3):\n",
    "    \n",
    "    print(i,end=\" \"\n",
    "         )\n",
    "    "
   ]
  },
  {
   "cell_type": "code",
   "execution_count": 23,
   "id": "9e714ac4",
   "metadata": {},
   "outputs": [
    {
     "name": "stdout",
     "output_type": "stream",
     "text": [
      "* * * * * * * * * * * * * \n",
      "  * * * * * * * * * * * \n",
      "    * * * * * * * * * \n",
      "      * * * * * * * \n",
      "        * * * * * \n",
      "          * * * \n",
      "            * \n"
     ]
    }
   ],
   "source": [
    "#good way\n",
    "n =7\n",
    "for  i in range(n,0,-1) :\n",
    "    \n",
    "        \n",
    "    for j in range(7-i):       #sapce counting (0,1,2,3,4,5,6,7) accounting to range of rows\n",
    "    #for j in range(n-i) :   \n",
    "        print(\" \",end=\" \")\n",
    "    \n",
    "    for j in range(2*i-1) :\n",
    "        print(\"*\", end=\" \")\n",
    "    \n",
    "    \n",
    "    \n",
    "    \n",
    "    print()"
   ]
  },
  {
   "cell_type": "code",
   "execution_count": 24,
   "id": "58c4d679",
   "metadata": {},
   "outputs": [
    {
     "name": "stdout",
     "output_type": "stream",
     "text": [
      "******"
     ]
    }
   ],
   "source": [
    "for  i  in range(6):\n",
    "    \n",
    "    print(\"*\",end=\"\")"
   ]
  },
  {
   "cell_type": "code",
   "execution_count": 25,
   "id": "f54e81b5",
   "metadata": {},
   "outputs": [
    {
     "name": "stdout",
     "output_type": "stream",
     "text": [
      "      0\n",
      "\n",
      "     1\n",
      "\n",
      "    2\n",
      "\n",
      "   3\n",
      "\n",
      "  4\n",
      "\n",
      " 5\n",
      "\n"
     ]
    }
   ],
   "source": [
    "for i in range(6):\n",
    "    for j in range(6-i):\n",
    "        print(\" \",end=\"\")\n",
    "    print(i)\n",
    "    print()"
   ]
  },
  {
   "cell_type": "code",
   "execution_count": 26,
   "id": "55067e26",
   "metadata": {},
   "outputs": [
    {
     "name": "stdout",
     "output_type": "stream",
     "text": [
      "        * * * * * * \n",
      "         * * * * * \n",
      "          * * * * \n",
      "           * * * \n",
      "            * * \n",
      "             * \n"
     ]
    }
   ],
   "source": [
    "n= 5\n",
    "m= 2*n-2\n",
    "for i in range(n,-1,-1): #kyuki n= 5 h toh 6line bnane k liye chahiye.\n",
    "    \n",
    "    for j in range(m,0,-1):  # ye sab inner loop ka matlab i= 5,4,3,2,1,0 k andar ghatna hogi. yha i nahi liya na isliya apne app space nahi badega range 8 hi rahega\n",
    "        print(end= \" \")\n",
    "    m=m+1  #space badane lioye  kiya\n",
    "    for j in range (i+1):\n",
    "        print(\"*\",end=\" \")\n",
    "    print()"
   ]
  },
  {
   "cell_type": "code",
   "execution_count": 27,
   "id": "b052a122",
   "metadata": {},
   "outputs": [
    {
     "data": {
      "text/plain": [
       "<function print>"
      ]
     },
     "execution_count": 27,
     "metadata": {},
     "output_type": "execute_result"
    }
   ],
   "source": [
    "print"
   ]
  },
  {
   "cell_type": "code",
   "execution_count": 39,
   "id": "3d2b04de",
   "metadata": {},
   "outputs": [
    {
     "name": "stdout",
     "output_type": "stream",
     "text": [
      "         * \n",
      "        * * \n",
      "       * * * \n",
      "      * * * * \n",
      "     * * * * * \n",
      "    * * * * * * \n",
      "   * * * * * * * \n",
      "  * * * * * * * * \n",
      " * * * * * * * * * \n"
     ]
    }
   ],
   "source": [
    "n=9\n",
    "i=0\n",
    "while i < n :\n",
    "    print( ' '*(n-i) + \"* \" *(i+1)) #n-i se ginti nahi aati balki no. of times repeatatin noiklta h jese n-i neg m aaye toh bhi print hopga\n",
    "    i+=1"
   ]
  },
  {
   "cell_type": "code",
   "execution_count": 43,
   "id": "783410b8",
   "metadata": {},
   "outputs": [
    {
     "name": "stdout",
     "output_type": "stream",
     "text": [
      "    *\n",
      "   ***\n",
      "  *****\n",
      " *******\n",
      "*********\n"
     ]
    }
   ],
   "source": [
    "i =1\n",
    "k=1\n",
    "while i <=5:\n",
    "    b=1\n",
    "    while b <=5-i:\n",
    "        print(' ',end=\"\")\n",
    "        b=b+1\n",
    "    \n",
    "    \n",
    "    j=1\n",
    "    while j <=k :\n",
    "        print('*',end=\"\")\n",
    "        j=j+1\n",
    "    print()\n",
    "    \n",
    "    \n",
    "    k=k+2\n",
    "    i=i+1\n",
    "    "
   ]
  },
  {
   "cell_type": "code",
   "execution_count": 46,
   "id": "6ee6fa56",
   "metadata": {},
   "outputs": [
    {
     "name": "stdout",
     "output_type": "stream",
     "text": [
      "    \n",
      "   **\n",
      "  ****\n",
      " ******\n",
      "********\n"
     ]
    }
   ],
   "source": [
    "i =1\n",
    "k=1\n",
    "while i <=5:\n",
    "    b=1\n",
    "    while b <=5-i:\n",
    "        print(' ',end=\"\")\n",
    "        b=b+1\n",
    "    \n",
    "    \n",
    "    j=1\n",
    "    while j < k :\n",
    "        print('*',end=\"\")\n",
    "        j=j+1\n",
    "    print()\n",
    "    \n",
    "    \n",
    "    k=k+2\n",
    "    i=i+1"
   ]
  },
  {
   "cell_type": "code",
   "execution_count": 54,
   "id": "83118321",
   "metadata": {},
   "outputs": [
    {
     "name": "stdout",
     "output_type": "stream",
     "text": [
      "enter no. of rows7\n",
      "      *\n",
      "     ***\n",
      "    *****\n",
      "   *******\n",
      "  *********\n",
      " ***********\n",
      "*************\n"
     ]
    }
   ],
   "source": [
    "u=int(input(\"enter no. of rows\"))\n",
    "\n",
    "r= 0\n",
    "while (r <u ) :\n",
    "    \n",
    "    r+=1\n",
    "    s = u-r\n",
    "    \n",
    "    sc= 0\n",
    "    while ( sc<s ):\n",
    "        print(\" \",end ='')\n",
    "        sc+=1\n",
    "        \n",
    "        \n",
    "    ns = 2*r-1\n",
    "    while (ns >0) :\n",
    "        print(\"*\",end=\"\")\n",
    "        ns-=1\n",
    "        \n",
    "    print()\n",
    "    \n",
    "\n",
    "\n",
    "    \n",
    "    "
   ]
  },
  {
   "cell_type": "code",
   "execution_count": 60,
   "id": "793a7403",
   "metadata": {},
   "outputs": [
    {
     "name": "stdout",
     "output_type": "stream",
     "text": [
      "      *\n",
      "     ***\n",
      "    *****\n",
      "   *******\n",
      "  *********\n",
      " ***********\n",
      "*************\n"
     ]
    }
   ],
   "source": [
    "n=7\n",
    "r= 0\n",
    "while (r <u ) :\n",
    "    \n",
    "    r+=1\n",
    "    s = u-r\n",
    "    \n",
    "    sc= 0\n",
    "    while ( sc<s ):\n",
    "        print(\" \",end ='')\n",
    "        sc+=1\n",
    "        \n",
    "        \n",
    "    ns = 2*r-1\n",
    "    while (ns >0) :\n",
    "        print(\"*\",end=\"\")\n",
    "        ns-=1\n",
    "        \n",
    "    print()"
   ]
  },
  {
   "cell_type": "code",
   "execution_count": 61,
   "id": "784c9b4d",
   "metadata": {},
   "outputs": [
    {
     "data": {
      "text/plain": [
       "list"
      ]
     },
     "execution_count": 61,
     "metadata": {},
     "output_type": "execute_result"
    }
   ],
   "source": [
    "list\n"
   ]
  },
  {
   "cell_type": "code",
   "execution_count": 62,
   "id": "30167ce1",
   "metadata": {},
   "outputs": [],
   "source": [
    "l= [\"a\",12,\"wer\"]"
   ]
  },
  {
   "cell_type": "code",
   "execution_count": 63,
   "id": "f57b622b",
   "metadata": {},
   "outputs": [
    {
     "data": {
      "text/plain": [
       "['a', 12, 'wer']"
      ]
     },
     "execution_count": 63,
     "metadata": {},
     "output_type": "execute_result"
    }
   ],
   "source": [
    "l"
   ]
  },
  {
   "cell_type": "code",
   "execution_count": 64,
   "id": "b7590d40",
   "metadata": {},
   "outputs": [
    {
     "data": {
      "text/plain": [
       "'wer'"
      ]
     },
     "execution_count": 64,
     "metadata": {},
     "output_type": "execute_result"
    }
   ],
   "source": [
    "l[2]"
   ]
  },
  {
   "cell_type": "code",
   "execution_count": 68,
   "id": "bfe7a9ac",
   "metadata": {},
   "outputs": [
    {
     "data": {
      "text/plain": [
       "int"
      ]
     },
     "execution_count": 68,
     "metadata": {},
     "output_type": "execute_result"
    }
   ],
   "source": [
    "type(l[1])"
   ]
  },
  {
   "cell_type": "code",
   "execution_count": 70,
   "id": "88397e5a",
   "metadata": {},
   "outputs": [],
   "source": [
    "a1=list()\n"
   ]
  },
  {
   "cell_type": "code",
   "execution_count": 71,
   "id": "3739c173",
   "metadata": {},
   "outputs": [
    {
     "data": {
      "text/plain": [
       "list"
      ]
     },
     "execution_count": 71,
     "metadata": {},
     "output_type": "execute_result"
    }
   ],
   "source": [
    "type(a1)"
   ]
  },
  {
   "cell_type": "code",
   "execution_count": null,
   "id": "41898272",
   "metadata": {},
   "outputs": [],
   "source": []
  }
 ],
 "metadata": {
  "kernelspec": {
   "display_name": "Python 3 (ipykernel)",
   "language": "python",
   "name": "python3"
  },
  "language_info": {
   "codemirror_mode": {
    "name": "ipython",
    "version": 3
   },
   "file_extension": ".py",
   "mimetype": "text/x-python",
   "name": "python",
   "nbconvert_exporter": "python",
   "pygments_lexer": "ipython3",
   "version": "3.9.12"
  }
 },
 "nbformat": 4,
 "nbformat_minor": 5
}
