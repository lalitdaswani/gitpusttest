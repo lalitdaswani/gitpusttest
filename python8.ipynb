{
 "cells": [
  {
   "cell_type": "code",
   "execution_count": 14,
   "id": "29b9d8a6",
   "metadata": {},
   "outputs": [
    {
     "name": "stdout",
     "output_type": "stream",
     "text": [
      "tyres:  \n",
      " \\ tbranch :pirelli\n",
      " \tbelted-bias :True\n",
      "\toptimal pressue :2.1\n",
      "engine :  \n",
      "\tfuel type :diesel\n",
      "\tnoise level :3\n",
      "<__main__.body object at 0x000002AFAFA72E50>\n"
     ]
    }
   ],
   "source": [
    "#encaptulation\n",
    "class tyres :\n",
    "    def __init__(self,branch,belted_bias,opt_pressure):\n",
    "        self.branch= branch\n",
    "        self.belted_bias =belted_bias\n",
    "        self.opt_pressure =opt_pressure\n",
    "        \n",
    "    def __str__(self):\n",
    "        return (\"tyres:  \\n \\ tbranch :\" +self.branch +\n",
    "               \"\\n \\tbelted-bias :\"  + str(self.belted_bias) +\n",
    "                \"\\n\\toptimal pressue :\" + str(self.opt_pressure))\n",
    "    \n",
    "class engine :\n",
    "    def __init__(self,fuel_type,noise_level):\n",
    "        self.fuel_type = fuel_type\n",
    "        self.noise_level =noise_level\n",
    "        \n",
    "    def __str__(self):\n",
    "        return(\"engine :  \\n\\tfuel type :\" + self.fuel_type +\n",
    "              \"\\n\\tnoise level :\" +str(self.noise_level) )\n",
    "    \n",
    "class body :\n",
    "    def __init__(self,size):\n",
    "        self.size =size\n",
    "        \n",
    "class car:\n",
    "    def __init__(self,tyres,engine,body):\n",
    "        self.tyres =tyres\n",
    "        self.engine = engine\n",
    "        self.body = body\n",
    "        \n",
    "    def __str__(self):\n",
    "        return str(self.tyres) +\"\\n\" + str(self.engine) +\"\\n\" + str(self.body)\n",
    "    \n",
    "        \n",
    "\n",
    "        \n",
    "t= tyres(\"pirelli\",True,2.1)\n",
    "e= engine(\"diesel\",3)\n",
    "b= body(\"medium\")\n",
    "#actual mein hum car ko hi print kar rahe hai , actual me object ko print karne k liye str statement req hotri hai\n",
    "c = car(t,e,b)\n",
    "print(c)\n",
    "                "
   ]
  },
  {
   "cell_type": "code",
   "execution_count": 23,
   "id": "e6b0203c",
   "metadata": {},
   "outputs": [
    {
     "name": "stdout",
     "output_type": "stream",
     "text": [
      "10\n"
     ]
    }
   ],
   "source": [
    "#inheritence\n",
    "class parent:\n",
    "    a=10\n",
    "    b=40\n",
    "    def __init__(self, parents_a,parents_b):\n",
    "        parents_a =parents_a\n",
    "        parents_b= parents_b\n",
    "        \n",
    "        \n",
    "class child(parent):\n",
    "#or, even by\n",
    "#class child:\n",
    "    \n",
    "   # print(parents_a)iske liye ya toh self bhi use karo parent mein ya phir init ke bahar ka kuch use karo independent like a.\n",
    "\n",
    "        \n",
    "    print(parent.a)\n",
    "    \n",
    "\n",
    "    "
   ]
  },
  {
   "cell_type": "code",
   "execution_count": 29,
   "id": "a79bd3ec",
   "metadata": {},
   "outputs": [
    {
     "name": "stdout",
     "output_type": "stream",
     "text": [
      "20\n"
     ]
    }
   ],
   "source": [
    "#inheritence\n",
    "class parent:\n",
    "    a=10\n",
    "    b=40\n",
    "    def __init__(self, parents_a,parents_b):\n",
    "        self.parents_a =parents_a\n",
    "        self.parents_b= parents_b\n",
    "        \n",
    "        \n",
    "class child(parent):\n",
    "    #child mein paren ka init value laane k liye super ka use \n",
    "    def __init__(self,*args):\n",
    "        super(child,self).__init__(*args)\n",
    "\n",
    "\n",
    "c=child(20,50)\n",
    "print(c.parents_a)\n",
    "\n",
    "    "
   ]
  },
  {
   "cell_type": "code",
   "execution_count": 6,
   "id": "bcb7469a",
   "metadata": {},
   "outputs": [
    {
     "name": "stdout",
     "output_type": "stream",
     "text": [
      "kudr is a lavailka born in 1954 .\n"
     ]
    }
   ],
   "source": [
    "#%s: Used to insert a string into a formatted string. In this case, you use %s to insert the dog's name and breed because they are strings.\n",
    "#%d: Used to insert an integer. You use %d for year_of_birth because it's an integer.\n",
    " #alternatively can use f string   \n",
    "class dog:\n",
    "    def __init__(self,name,year_of_birth,breed):\n",
    "        self._name =  name\n",
    "        self._year_of_birth = year_of_birth\n",
    "        self._breed=breed\n",
    "    def __str__(self):\n",
    "        return \"%s is a %s born in %d .\" %(self._name,self._breed,self._year_of_birth)\n",
    "kudrajavka =dog (\"kudr\",1954,\"lavailka\")\n",
    "print(kudrajavka)"
   ]
  },
  {
   "cell_type": "code",
   "execution_count": 7,
   "id": "86165c0b",
   "metadata": {},
   "outputs": [
    {
     "data": {
      "text/plain": [
       "'lavailka'"
      ]
     },
     "execution_count": 7,
     "metadata": {},
     "output_type": "execute_result"
    }
   ],
   "source": [
    "kudrajavka._breed"
   ]
  },
  {
   "cell_type": "code",
   "execution_count": 8,
   "id": "121337b2",
   "metadata": {},
   "outputs": [],
   "source": [
    "class student :\n",
    "    \n",
    "    def __init__(self,name,student_id,school_name,address):\n",
    "        self.name =name\n",
    "        self.student_id =student_id\n",
    "        self.school_name =school_name\n",
    "        self.address= address\n",
    "    def __str__(self):\n",
    "        return str(self.name)+ \" \" +str(self.student_id)+\" \"+str(self.school_name)+\" \"+str(self.address)"
   ]
  },
  {
   "cell_type": "code",
   "execution_count": 9,
   "id": "ee579dd2",
   "metadata": {},
   "outputs": [],
   "source": [
    "stu =student(\"lal\",123,\"kkd\",\"eyiegd\")"
   ]
  },
  {
   "cell_type": "code",
   "execution_count": 10,
   "id": "c8041380",
   "metadata": {},
   "outputs": [
    {
     "name": "stdout",
     "output_type": "stream",
     "text": [
      "lal 123 kkd eyiegd\n"
     ]
    }
   ],
   "source": [
    "print(stu)"
   ]
  },
  {
   "cell_type": "code",
   "execution_count": 11,
   "id": "b8d0ead7",
   "metadata": {},
   "outputs": [],
   "source": [
    "#students k andar ka( use karenge, object can also be used as content)\n",
    "dod = student(kudrajavka,\"kud\",\"akjd\",\"ffff\")"
   ]
  },
  {
   "cell_type": "code",
   "execution_count": 12,
   "id": "299ce46f",
   "metadata": {},
   "outputs": [
    {
     "name": "stdout",
     "output_type": "stream",
     "text": [
      "kudr is a lavailka born in 1954 . kud akjd ffff\n"
     ]
    }
   ],
   "source": [
    "print(dod)"
   ]
  },
  {
   "cell_type": "code",
   "execution_count": 35,
   "id": "064341fa",
   "metadata": {},
   "outputs": [],
   "source": [
    "class bonusdistribution:\n",
    "    def __init__(self, employee_id, employee_rating):\n",
    "        self.employee_id = employee_id\n",
    "        self.empRating = employee_rating\n",
    "        self.__bonusforratingA = \"70%\"\n",
    "        self.__bonusforratingB = \"60%\"\n",
    "        self.__bonusforratingC = \"50%\"\n",
    "        self.__bonusforratingD = \"30%\"\n",
    "        self.__bonusForRatingForRest = \"no bonus\"\n",
    "    \n",
    "    def bonusCalculator(self):\n",
    "        if self.empRating == \"A\":\n",
    "            bonus = self.__bonusforratingA  # Corrected to double underscore\n",
    "            msg = \"Bonus for this employee is: \" + bonus\n",
    "            return msg\n",
    "        elif self.empRating == \"B\":\n",
    "            bonus = self.__bonusforratingB\n",
    "            msg = \"Bonus for this employee is: \" + bonus\n",
    "            return msg\n",
    "        elif self.empRating == \"C\":\n",
    "            bonus = self.__bonusforratingC\n",
    "            msg = \"Bonus for this employee is: \" + bonus\n",
    "            return msg\n",
    "        elif self.empRating == \"D\":\n",
    "            bonus = self.__bonusforratingD\n",
    "            msg = \"Bonus for this employee is: \" + bonus\n",
    "            return msg\n",
    "        else:\n",
    "            bonus = self.__bonusForRatingForRest\n",
    "            msg = \"Bonus for this employee is: \" + bonus\n",
    "            return msg\n",
    "    \n",
    "    def __changevariable(self, value):\n",
    "        self.__bonusforratingB = value  # This works for changing bonus for rating B\n",
    "\n",
    "\n",
    "\n",
    "        "
   ]
  },
  {
   "cell_type": "code",
   "execution_count": 36,
   "id": "efc101ec",
   "metadata": {},
   "outputs": [],
   "source": [
    "#BONUSDISTRIBUTION KA CONTENT ID, RATING\n",
    "emp1 = bonusdistribution(1232,\"B\")\n",
    "emp2 =  bonusdistribution(1342,\"A\")\n",
    "emp3 = bonusdistribution(1031,\"E\")"
   ]
  },
  {
   "cell_type": "code",
   "execution_count": 37,
   "id": "dc229118",
   "metadata": {
    "scrolled": true
   },
   "outputs": [
    {
     "data": {
      "text/plain": [
       "'Bonus for this employee is: no bonus'"
      ]
     },
     "execution_count": 37,
     "metadata": {},
     "output_type": "execute_result"
    }
   ],
   "source": [
    "#object.function se function call hota hai\n",
    "emp3.bonusCalculator()"
   ]
  },
  {
   "cell_type": "code",
   "execution_count": 38,
   "id": "4f2f437c",
   "metadata": {},
   "outputs": [
    {
     "data": {
      "text/plain": [
       "'Bonus for this employee is: 60%'"
      ]
     },
     "execution_count": 38,
     "metadata": {},
     "output_type": "execute_result"
    }
   ],
   "source": [
    "emp1.bonusCalculator()"
   ]
  },
  {
   "cell_type": "code",
   "execution_count": 39,
   "id": "429d55ea",
   "metadata": {},
   "outputs": [],
   "source": [
    "#can't be overwrite like this a private  class variable\n",
    "emp1.bonusforratingB=\"90%\""
   ]
  },
  {
   "cell_type": "code",
   "execution_count": 40,
   "id": "7e25886a",
   "metadata": {},
   "outputs": [
    {
     "data": {
      "text/plain": [
       "'Bonus for this employee is: 60%'"
      ]
     },
     "execution_count": 40,
     "metadata": {},
     "output_type": "execute_result"
    }
   ],
   "source": [
    "emp1.bonusCalculator()"
   ]
  },
  {
   "cell_type": "code",
   "execution_count": 41,
   "id": "22b73263",
   "metadata": {},
   "outputs": [],
   "source": [
    "#to change due to privet but not advisable as per python docs this way instead change it by function\n",
    "emp1._bonusdistribution__bonusforratingB=\"90%\""
   ]
  },
  {
   "cell_type": "code",
   "execution_count": 42,
   "id": "92f3700c",
   "metadata": {},
   "outputs": [
    {
     "data": {
      "text/plain": [
       "'Bonus for this employee is: 90%'"
      ]
     },
     "execution_count": 42,
     "metadata": {},
     "output_type": "execute_result"
    }
   ],
   "source": [
    "emp1.bonusCalculator()"
   ]
  },
  {
   "cell_type": "code",
   "execution_count": 45,
   "id": "7ae37725",
   "metadata": {},
   "outputs": [],
   "source": [
    "#by fuunction variable chnage ye sirf isi objectemp1 k liye change karega chahe kahi aur bhi __bonusforratingB  use ho emp1 k karan\n",
    "#function private tha isliye\n",
    "emp1._bonusdistribution__changevariable(\"25%\")"
   ]
  },
  {
   "cell_type": "code",
   "execution_count": 46,
   "id": "5650366b",
   "metadata": {},
   "outputs": [
    {
     "data": {
      "text/plain": [
       "'Bonus for this employee is: 25%'"
      ]
     },
     "execution_count": 46,
     "metadata": {},
     "output_type": "execute_result"
    }
   ],
   "source": [
    "emp1.bonusCalculator()"
   ]
  },
  {
   "cell_type": "code",
   "execution_count": 47,
   "id": "9813ea79",
   "metadata": {},
   "outputs": [],
   "source": [
    "class multiplynumeric:\n",
    "    def __init__(self,a):\n",
    "        self.a =a\n",
    "        "
   ]
  },
  {
   "cell_type": "code",
   "execution_count": 48,
   "id": "2ea03b8f",
   "metadata": {},
   "outputs": [],
   "source": [
    "mul =multiplynumeric(4)"
   ]
  },
  {
   "cell_type": "code",
   "execution_count": 49,
   "id": "bfbc2b9f",
   "metadata": {},
   "outputs": [],
   "source": [
    "mul1 =multiplynumeric(8)"
   ]
  },
  {
   "cell_type": "code",
   "execution_count": 50,
   "id": "e0fc84d3",
   "metadata": {},
   "outputs": [
    {
     "data": {
      "text/plain": [
       "32"
      ]
     },
     "execution_count": 50,
     "metadata": {},
     "output_type": "execute_result"
    }
   ],
   "source": [
    "mul.a *mul1.a"
   ]
  },
  {
   "cell_type": "code",
   "execution_count": 51,
   "id": "b801b618",
   "metadata": {},
   "outputs": [],
   "source": [
    "#by using function alos called operator overloading operation\n",
    "#__str__ is for string overloading\n",
    "#__mul__ if for operator overloading\n",
    "class multiplynumeric:\n",
    "    def __init__(self,a):\n",
    "        self.a =a\n",
    "        \n",
    "    def __mul__(self,other):\n",
    "        \n",
    "        return self.a + other.a"
   ]
  },
  {
   "cell_type": "code",
   "execution_count": 52,
   "id": "6e98abf7",
   "metadata": {},
   "outputs": [],
   "source": [
    "kul2 =multiplynumeric(20)"
   ]
  },
  {
   "cell_type": "code",
   "execution_count": 53,
   "id": "0935134c",
   "metadata": {},
   "outputs": [],
   "source": [
    "kul3 =multiplynumeric(8)"
   ]
  },
  {
   "cell_type": "code",
   "execution_count": 54,
   "id": "6092fbe9",
   "metadata": {},
   "outputs": [
    {
     "data": {
      "text/plain": [
       "28"
      ]
     },
     "execution_count": 54,
     "metadata": {},
     "output_type": "execute_result"
    }
   ],
   "source": [
    "#but still it is adding\n",
    "kul2 * kul3"
   ]
  },
  {
   "cell_type": "code",
   "execution_count": 65,
   "id": "609e02bf",
   "metadata": {},
   "outputs": [],
   "source": [
    "def test(a,b):\n",
    "    return a+b"
   ]
  },
  {
   "cell_type": "code",
   "execution_count": 67,
   "id": "ac78e814",
   "metadata": {},
   "outputs": [
    {
     "name": "stdout",
     "output_type": "stream",
     "text": [
      "11\n",
      "lalit daswani\n",
      "[1, 2, 3, 4, 5, 6]\n"
     ]
    }
   ],
   "source": [
    "#polymorphism\n",
    "print(test(5,6))\n",
    "print(test(\"lalit \",\"daswani\"))\n",
    "print(test([1,2,3],[4,5,6]))           "
   ]
  },
  {
   "cell_type": "code",
   "execution_count": null,
   "id": "29d5ec62",
   "metadata": {},
   "outputs": [],
   "source": []
  },
  {
   "cell_type": "code",
   "execution_count": 68,
   "id": "b55e3c25",
   "metadata": {},
   "outputs": [],
   "source": [
    "class ineuron:\n",
    "    def msg(self):\n",
    "        print(\"this is the message for ineuron\")\n",
    "        \n",
    "class xyz:\n",
    "    def msg(self):\n",
    "        print(\"this is for xyz\")\n",
    "        \n",
    "        \n"
   ]
  },
  {
   "cell_type": "code",
   "execution_count": 69,
   "id": "c301c910",
   "metadata": {},
   "outputs": [],
   "source": [
    "def test(notes):\n",
    "    notes.msg()"
   ]
  },
  {
   "cell_type": "code",
   "execution_count": 70,
   "id": "79997c7a",
   "metadata": {},
   "outputs": [],
   "source": [
    "i=ineuron()\n",
    "x= xyz()"
   ]
  },
  {
   "cell_type": "code",
   "execution_count": 61,
   "id": "82ab846f",
   "metadata": {},
   "outputs": [
    {
     "name": "stdout",
     "output_type": "stream",
     "text": [
      "this is the message for ineuron\n"
     ]
    }
   ],
   "source": [
    "#example of polymorphism\n",
    "test(i)"
   ]
  },
  {
   "cell_type": "code",
   "execution_count": null,
   "id": "e7b4b4af",
   "metadata": {},
   "outputs": [],
   "source": []
  },
  {
   "cell_type": "code",
   "execution_count": null,
   "id": "9322fd6c",
   "metadata": {},
   "outputs": [],
   "source": []
  }
 ],
 "metadata": {
  "kernelspec": {
   "display_name": "Python 3 (ipykernel)",
   "language": "python",
   "name": "python3"
  },
  "language_info": {
   "codemirror_mode": {
    "name": "ipython",
    "version": 3
   },
   "file_extension": ".py",
   "mimetype": "text/x-python",
   "name": "python",
   "nbconvert_exporter": "python",
   "pygments_lexer": "ipython3",
   "version": "3.9.12"
  }
 },
 "nbformat": 4,
 "nbformat_minor": 5
}
